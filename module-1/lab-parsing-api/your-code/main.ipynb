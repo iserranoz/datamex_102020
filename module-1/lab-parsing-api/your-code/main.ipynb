{
 "cells": [
  {
   "cell_type": "markdown",
   "metadata": {},
   "source": [
    "# Challenge: Promotions\n",
    "\n",
    "In this challenge, you'll develop codes to parse and analyze data returned from another API on Zalando such as [Promos homme (Men's Promotions)\n",
    "](https://www.zalando.fr/promo-homme/) or [Promos femme (Women's Promotions)](https://www.zalando.fr/promo-femme/). The workflow is almost the same as in the guided lesson but you'll work with different data."
   ]
  },
  {
   "cell_type": "markdown",
   "metadata": {},
   "source": [
    "## Obtaining the link\n",
    "\n",
    "Wrote your codes in the cell below to obtain the data from the API endpoint you choose. A recap of the workflow:\n",
    "\n",
    "1. Examine the webpages and choose one that you want to work with.\n",
    "\n",
    "1. Use Google Chrome's DevTools to inspect the XHR network requests. Find out the API endpoint that serves data to the webpage.\n",
    "\n",
    "1. Test the API endpoint in the browser to verify its data.\n",
    "\n",
    "1. Change the page number offset of the API URL to test if it's working."
   ]
  },
  {
   "cell_type": "code",
   "execution_count": null,
   "metadata": {},
   "outputs": [],
   "source": []
  },
  {
   "cell_type": "code",
   "execution_count": null,
   "metadata": {},
   "outputs": [],
   "source": []
  },
  {
   "cell_type": "code",
   "execution_count": null,
   "metadata": {},
   "outputs": [],
   "source": []
  },
  {
   "cell_type": "code",
   "execution_count": null,
   "metadata": {},
   "outputs": [],
   "source": []
  },
  {
   "cell_type": "code",
   "execution_count": null,
   "metadata": {},
   "outputs": [],
   "source": []
  },
  {
   "cell_type": "code",
   "execution_count": null,
   "metadata": {},
   "outputs": [],
   "source": []
  },
  {
   "cell_type": "code",
   "execution_count": null,
   "metadata": {},
   "outputs": [],
   "source": []
  },
  {
   "cell_type": "code",
   "execution_count": 9,
   "metadata": {
    "scrolled": true
   },
   "outputs": [
    {
     "data": {
      "text/plain": [
       "<Response [200]>"
      ]
     },
     "execution_count": 9,
     "metadata": {},
     "output_type": "execute_result"
    }
   ],
   "source": [
    "# your code here\n",
    "import requests\n",
    "\n",
    "url = \"https://api.bitso.com/v3/available_books/\"\n",
    "\n",
    "response = requests.get(url)\n",
    "results = response.json()\n",
    "response"
   ]
  },
  {
   "cell_type": "code",
   "execution_count": 18,
   "metadata": {},
   "outputs": [
    {
     "name": "stdout",
     "output_type": "stream",
     "text": [
      "{\"explains\":[],\"count\":15,\"quotes\":[{\"exchange\":\"NMS\",\"shortname\":\"Tesla, Inc.\",\"quoteType\":\"EQUITY\",\"symbol\":\"TSLA\",\"index\":\"quotes\",\"score\":603698.0,\"typeDisp\":\"Equity\",\"longname\":\"Tesla, Inc.\",\"isYahooFinance\":true},{\"exchange\":\"GER\",\"shortname\":\"TESLA INC. DL -,001\",\"quoteType\":\"EQUITY\",\"symbol\":\"TL0.DE\",\"index\":\"quotes\",\"score\":20600.0,\"typeDisp\":\"Equity\",\"longname\":\"Tesla, Inc.\",\"isYahooFinance\":true},{\"exchange\":\"MEX\",\"shortname\":\"TESLA INC\",\"quoteType\":\"EQUITY\",\"symbol\":\"TSLA.MX\",\"index\":\"quotes\",\"score\":20462.0,\"typeDisp\":\"Equity\",\"longname\":\"Tesla, Inc.\",\"isYahooFinance\":true},{\"exchange\":\"FRA\",\"shortname\":\"TESLA INC. DL -,001\",\"quoteType\":\"EQUITY\",\"symbol\":\"TL0.F\",\"index\":\"quotes\",\"score\":20317.0,\"typeDisp\":\"Equity\",\"longname\":\"Tesla, Inc.\",\"isYahooFinance\":true},{\"exchange\":\"SAO\",\"shortname\":\"TESLA INC   DRN EB\",\"quoteType\":\"EQUITY\",\"symbol\":\"TSLA34.SA\",\"index\":\"quotes\",\"score\":20119.0,\"typeDisp\":\"Equity\",\"longname\":\"Tesla, Inc.\",\"isYahooFinance\":true},{\"exchange\":\"BUE\",\"shortname\":\"TESLA INC\",\"quoteType\":\"EQUITY\",\"symbol\":\"TSLA.BA\",\"index\":\"quotes\",\"score\":20055.0,\"typeDisp\":\"Equity\",\"longname\":\"Tesla, Inc.\",\"isYahooFinance\":true},{\"exchange\":\"PNK\",\"shortname\":\"TESLA EXPLORATION LTD\",\"quoteType\":\"EQUITY\",\"symbol\":\"TXLZF\",\"index\":\"quotes\",\"score\":20047.0,\"typeDisp\":\"Equity\",\"longname\":\"Tesla Exploration Ltd.\",\"isYahooFinance\":true}],\"news\":[{\"uuid\":\"b413cec8-ce6e-3294-a263-aab662864638\",\"title\":\"Tesla Raises Capex Guidance, Plans Outlay Of Up To $12B Over 2 Years\",\"publisher\":\"Benzinga\",\"link\":\"https://finance.yahoo.com/news/tesla-raises-capex-guidance-plans-175118977.html\",\"providerPublishTime\":1603734678,\"type\":\"STORY\"},{\"uuid\":\"da0e3349-491b-337d-88b0-10f7de235acc\",\"title\":\"Tesla Knocks Q3 Earnings Out of the Park\",\"publisher\":\"Motley Fool\",\"link\":\"https://finance.yahoo.com/m/da0e3349-491b-337d-88b0-10f7de235acc/tesla-knocks-q3-earnings-out.html\",\"providerPublishTime\":1603744740,\"type\":\"STORY\"},{\"uuid\":\"0c37394b-995a-3cdc-9253-46ba0c75b97f\",\"title\":\"Tesla Inc. stock outperforms market despite losses on the day\",\"publisher\":\"MarketWatch\",\"link\":\"https://finance.yahoo.com/m/0c37394b-995a-3cdc-9253-46ba0c75b97f/tesla-inc.-stock-outperforms.html\",\"providerPublishTime\":1603745940,\"type\":\"STORY\"},{\"uuid\":\"24d5d844-a448-3135-85c8-e297782fac04\",\"title\":\"Tesla Will Export 7,000 Cars From China to Europe This Week\",\"publisher\":\"Motley Fool\",\"link\":\"https://finance.yahoo.com/m/24d5d844-a448-3135-85c8-e297782fac04/tesla-will-export-7%2C000-cars.html\",\"providerPublishTime\":1603718400,\"type\":\"STORY\"},{\"uuid\":\"6dbb219c-975e-36ed-841f-7149b8dc2038\",\"title\":\"Tesla Shipping 7,000 China-Made Model 3s to Europe\",\"publisher\":\"TheStreet.com\",\"link\":\"https://finance.yahoo.com/m/6dbb219c-975e-36ed-841f-7149b8dc2038/tesla-shipping-7%2C000.html\",\"providerPublishTime\":1603716360,\"type\":\"STORY\"},{\"uuid\":\"8c6c890f-6269-3698-8343-0e8ea1abe702\",\"title\":\"Tesla’s Third-Quarter 10-Q SEC Filing Is Out. Here’s the Takeaway.\",\"publisher\":\"Barrons.com\",\"link\":\"https://finance.yahoo.com/m/8c6c890f-6269-3698-8343-0e8ea1abe702/tesla%E2%80%99s-third-quarter-10-q.html\",\"providerPublishTime\":1603722960,\"type\":\"STORY\"},{\"uuid\":\"1223c132-01b3-303e-9e41-2a714341f246\",\"title\":\"Tesla Stock Is Still Missing This One Lucrative Thing\",\"publisher\":\"Investor's Business Daily\",\"link\":\"https://finance.yahoo.com/m/1223c132-01b3-303e-9e41-2a714341f246/tesla-stock-is-still-missing.html\",\"providerPublishTime\":1603712116,\"type\":\"STORY\"},{\"uuid\":\"2920a84c-6825-3cec-b05a-a8d32fa3361e\",\"title\":\"EV Maker Signs a Delivery Deal, Avoiding Dealerships\",\"publisher\":\"Barrons.com\",\"link\":\"https://finance.yahoo.com/m/2920a84c-6825-3cec-b05a-a8d32fa3361e/ev-maker-signs-a-delivery.html\",\"providerPublishTime\":1603747320,\"type\":\"STORY\"}],\"nav\":[],\"lists\":[],\"researchReports\":[],\"totalTime\":34,\"timeTakenForQuotes\":410,\"timeTakenForNews\":600,\"timeTakenForAlgowatchlist\":400,\"timeTakenForPredefinedScreener\":400,\"timeTakenForCrunchbase\":0,\"timeTakenForNav\":400,\"timeTakenForResearchReports\":0}\n"
     ]
    }
   ],
   "source": [
    "import requests\n",
    "\n",
    "url = \"https://rapidapi.p.rapidapi.com/auto-complete\"\n",
    "\n",
    "querystring = {\"q\":\"tesla\",\"region\":\"US\"}\n",
    "\n",
    "headers = {\n",
    "    'x-rapidapi-host': \"apidojo-yahoo-finance-v1.p.rapidapi.com\",\n",
    "    'x-rapidapi-key': \"b0c1559f8bmshd42c0af0e3ad872p183a73jsn84668fdebaa7\"\n",
    "    }\n",
    "\n",
    "response = requests.request(\"GET\", url, headers=headers, params=querystring)\n",
    "\n",
    "print(response.text)"
   ]
  },
  {
   "cell_type": "code",
   "execution_count": 22,
   "metadata": {},
   "outputs": [],
   "source": [
    "data = pd.DataFrame(response)"
   ]
  },
  {
   "cell_type": "code",
   "execution_count": 23,
   "metadata": {},
   "outputs": [
    {
     "data": {
      "text/html": [
       "<div>\n",
       "<style scoped>\n",
       "    .dataframe tbody tr th:only-of-type {\n",
       "        vertical-align: middle;\n",
       "    }\n",
       "\n",
       "    .dataframe tbody tr th {\n",
       "        vertical-align: top;\n",
       "    }\n",
       "\n",
       "    .dataframe thead th {\n",
       "        text-align: right;\n",
       "    }\n",
       "</style>\n",
       "<table border=\"1\" class=\"dataframe\">\n",
       "  <thead>\n",
       "    <tr style=\"text-align: right;\">\n",
       "      <th></th>\n",
       "      <th>0</th>\n",
       "    </tr>\n",
       "  </thead>\n",
       "  <tbody>\n",
       "    <tr>\n",
       "      <th>0</th>\n",
       "      <td>b'{\"explains\":[],\"count\":15,\"quotes\":[{\"exchan...</td>\n",
       "    </tr>\n",
       "    <tr>\n",
       "      <th>1</th>\n",
       "      <td>b'otes\",\"score\":603698.0,\"typeDisp\":\"Equity\",\"...</td>\n",
       "    </tr>\n",
       "    <tr>\n",
       "      <th>2</th>\n",
       "      <td>b'INC. DL -,001\",\"quoteType\":\"EQUITY\",\"symbol\"...</td>\n",
       "    </tr>\n",
       "    <tr>\n",
       "      <th>3</th>\n",
       "      <td>b'c.\",\"isYahooFinance\":true},{\"exchange\":\"MEX\"...</td>\n",
       "    </tr>\n",
       "    <tr>\n",
       "      <th>4</th>\n",
       "      <td>b'core\":20462.0,\"typeDisp\":\"Equity\",\"longname\"...</td>\n",
       "    </tr>\n",
       "  </tbody>\n",
       "</table>\n",
       "</div>"
      ],
      "text/plain": [
       "                                                   0\n",
       "0  b'{\"explains\":[],\"count\":15,\"quotes\":[{\"exchan...\n",
       "1  b'otes\",\"score\":603698.0,\"typeDisp\":\"Equity\",\"...\n",
       "2  b'INC. DL -,001\",\"quoteType\":\"EQUITY\",\"symbol\"...\n",
       "3  b'c.\",\"isYahooFinance\":true},{\"exchange\":\"MEX\"...\n",
       "4  b'core\":20462.0,\"typeDisp\":\"Equity\",\"longname\"..."
      ]
     },
     "execution_count": 23,
     "metadata": {},
     "output_type": "execute_result"
    }
   ],
   "source": [
    "data.head()"
   ]
  },
  {
   "cell_type": "code",
   "execution_count": 21,
   "metadata": {},
   "outputs": [
    {
     "name": "stderr",
     "output_type": "stream",
     "text": [
      "/opt/anaconda3/lib/python3.7/site-packages/ipykernel_launcher.py:1: FutureWarning: pandas.io.json.json_normalize is deprecated, use pandas.json_normalize instead\n",
      "  \"\"\"Entry point for launching an IPython kernel.\n"
     ]
    },
    {
     "data": {
      "text/html": [
       "<div>\n",
       "<style scoped>\n",
       "    .dataframe tbody tr th:only-of-type {\n",
       "        vertical-align: middle;\n",
       "    }\n",
       "\n",
       "    .dataframe tbody tr th {\n",
       "        vertical-align: top;\n",
       "    }\n",
       "\n",
       "    .dataframe thead th {\n",
       "        text-align: right;\n",
       "    }\n",
       "</style>\n",
       "<table border=\"1\" class=\"dataframe\">\n",
       "  <thead>\n",
       "    <tr style=\"text-align: right;\">\n",
       "      <th></th>\n",
       "      <th>explains</th>\n",
       "      <th>count</th>\n",
       "      <th>quotes</th>\n",
       "      <th>news</th>\n",
       "      <th>nav</th>\n",
       "      <th>lists</th>\n",
       "      <th>researchReports</th>\n",
       "      <th>totalTime</th>\n",
       "      <th>timeTakenForQuotes</th>\n",
       "      <th>timeTakenForNews</th>\n",
       "      <th>timeTakenForAlgowatchlist</th>\n",
       "      <th>timeTakenForPredefinedScreener</th>\n",
       "      <th>timeTakenForCrunchbase</th>\n",
       "      <th>timeTakenForNav</th>\n",
       "      <th>timeTakenForResearchReports</th>\n",
       "    </tr>\n",
       "  </thead>\n",
       "  <tbody>\n",
       "    <tr>\n",
       "      <th>0</th>\n",
       "      <td>[]</td>\n",
       "      <td>15</td>\n",
       "      <td>[{'exchange': 'NMS', 'shortname': 'Tesla, Inc....</td>\n",
       "      <td>[{'uuid': 'b413cec8-ce6e-3294-a263-aab66286463...</td>\n",
       "      <td>[]</td>\n",
       "      <td>[]</td>\n",
       "      <td>[]</td>\n",
       "      <td>34</td>\n",
       "      <td>410</td>\n",
       "      <td>600</td>\n",
       "      <td>400</td>\n",
       "      <td>400</td>\n",
       "      <td>0</td>\n",
       "      <td>400</td>\n",
       "      <td>0</td>\n",
       "    </tr>\n",
       "  </tbody>\n",
       "</table>\n",
       "</div>"
      ],
      "text/plain": [
       "  explains  count                                             quotes  \\\n",
       "0       []     15  [{'exchange': 'NMS', 'shortname': 'Tesla, Inc....   \n",
       "\n",
       "                                                news nav lists  \\\n",
       "0  [{'uuid': 'b413cec8-ce6e-3294-a263-aab66286463...  []    []   \n",
       "\n",
       "  researchReports  totalTime  timeTakenForQuotes  timeTakenForNews  \\\n",
       "0              []         34                 410               600   \n",
       "\n",
       "   timeTakenForAlgowatchlist  timeTakenForPredefinedScreener  \\\n",
       "0                        400                             400   \n",
       "\n",
       "   timeTakenForCrunchbase  timeTakenForNav  timeTakenForResearchReports  \n",
       "0                       0              400                            0  "
      ]
     },
     "execution_count": 21,
     "metadata": {},
     "output_type": "execute_result"
    }
   ],
   "source": [
    "data = json_normalize(results)\n",
    "data"
   ]
  },
  {
   "cell_type": "code",
   "execution_count": null,
   "metadata": {},
   "outputs": [],
   "source": []
  },
  {
   "cell_type": "code",
   "execution_count": 17,
   "metadata": {},
   "outputs": [],
   "source": [
    "def flatten(data, col_list):\n",
    "    for column in col_list:\n",
    "        flattened = pd.DataFrame(dict(data[column])).transpose()\n",
    "        columns = [str(col) for col in flattened.columns]\n",
    "        flattened.columns = [column + '_' + colname for colname in columns]\n",
    "        data = pd.concat([data, flattened], axis=1)\n",
    "        data = data.drop(column, axis=1)\n",
    "    return data\n",
    "nested_columns = []\n",
    " \n",
    "#flat = flatten(data, nested_columns)\n",
    "#flat.head()"
   ]
  },
  {
   "cell_type": "code",
   "execution_count": null,
   "metadata": {},
   "outputs": [],
   "source": []
  },
  {
   "cell_type": "markdown",
   "metadata": {},
   "source": [
    "## Reading the data\n",
    "\n",
    "In the next cell, use Python to obtain data from the API endpoint you chose in the previous step. Workflow:\n",
    "\n",
    "1. Import libraries.\n",
    "\n",
    "1. Define the initial API endpoint URL.\n",
    "\n",
    "1. Make request to obtain data of the 1st page. Flatten the data and store it in an empty object variable.\n",
    "\n",
    "1. Find out the total page count in the 1st page data.\n",
    "\n",
    "1. Use a FOR loop to make requests for the additional pages from 2 to page count. Append the data of each additional page to the flatterned data object.\n",
    "\n",
    "1. Print and review the data you obtained."
   ]
  },
  {
   "cell_type": "code",
   "execution_count": null,
   "metadata": {},
   "outputs": [],
   "source": []
  },
  {
   "cell_type": "markdown",
   "metadata": {},
   "source": [
    "## Bonus\n",
    "\n",
    "Extract the following information from the data:\n",
    "\n",
    "* The trending brand.\n",
    "\n",
    "* The product(s) with the highest discount.\n",
    "\n",
    "* The sum of discounts of all goods (sum_discounted_prices divided by sum_original_prices)."
   ]
  },
  {
   "cell_type": "code",
   "execution_count": null,
   "metadata": {},
   "outputs": [],
   "source": [
    "# your code here"
   ]
  }
 ],
 "metadata": {
  "kernelspec": {
   "display_name": "Python 3",
   "language": "python",
   "name": "python3"
  },
  "language_info": {
   "codemirror_mode": {
    "name": "ipython",
    "version": 3
   },
   "file_extension": ".py",
   "mimetype": "text/x-python",
   "name": "python",
   "nbconvert_exporter": "python",
   "pygments_lexer": "ipython3",
   "version": "3.7.6"
  }
 },
 "nbformat": 4,
 "nbformat_minor": 2
}
