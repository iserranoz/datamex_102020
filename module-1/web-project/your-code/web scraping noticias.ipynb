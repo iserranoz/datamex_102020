{
 "cells": [
  {
   "cell_type": "code",
   "execution_count": 447,
   "metadata": {},
   "outputs": [],
   "source": [
    "import requests\n",
    "import os\n",
    "import lxml.html as html\n",
    "import datetime\n",
    "import pandas as pd\n",
    "from bs4 import BeautifulSoup"
   ]
  },
  {
   "cell_type": "code",
   "execution_count": 321,
   "metadata": {},
   "outputs": [],
   "source": [
    "import pandas as pd\n",
    "import re"
   ]
  },
  {
   "cell_type": "code",
   "execution_count": 455,
   "metadata": {},
   "outputs": [
    {
     "data": {
      "text/plain": [
       "'2020-11-01'"
      ]
     },
     "execution_count": 455,
     "metadata": {},
     "output_type": "execute_result"
    }
   ],
   "source": [
    "str(datetime.date.today())"
   ]
  },
  {
   "cell_type": "code",
   "execution_count": 454,
   "metadata": {},
   "outputs": [
    {
     "data": {
      "text/plain": [
       "'2020-11-01'"
      ]
     },
     "execution_count": 454,
     "metadata": {},
     "output_type": "execute_result"
    }
   ],
   "source": [
    "str(x)"
   ]
  },
  {
   "cell_type": "markdown",
   "metadata": {},
   "source": [
    "## EL UNIVERSAL"
   ]
  },
  {
   "cell_type": "code",
   "execution_count": 7,
   "metadata": {},
   "outputs": [],
   "source": [
    "url = 'https://www.eluniversal.com.mx/'"
   ]
  },
  {
   "cell_type": "code",
   "execution_count": 12,
   "metadata": {},
   "outputs": [],
   "source": [
    "links = '//div/p/a/@href'\n"
   ]
  },
  {
   "cell_type": "code",
   "execution_count": 8,
   "metadata": {},
   "outputs": [
    {
     "data": {
      "text/plain": [
       "<Response [200]>"
      ]
     },
     "execution_count": 8,
     "metadata": {},
     "output_type": "execute_result"
    }
   ],
   "source": [
    "response = requests.get(url)\n",
    "response"
   ]
  },
  {
   "cell_type": "code",
   "execution_count": 529,
   "metadata": {},
   "outputs": [],
   "source": [
    "def universal_data():\n",
    "    try:\n",
    "        url = 'https://www.eluniversal.com.mx/'\n",
    "        response = requests.get(url)\n",
    "        response\n",
    "        home = response.content.decode('utf-8')\n",
    "        parsed = html.fromstring(home)\n",
    "        links = '//div/p/a/@href'\n",
    "        links_universal = parsed.xpath(links)\n",
    "        links2 = '//div/h2/a/@href'\n",
    "        links_universal2 = parsed.xpath(links2)\n",
    "        lista_universal = links_universal + links_universal2\n",
    "        description = [i.replace('https://www.eluniversal.com.mx/','') for i in lista_universal]\n",
    "        description = [i.split('/') for i in description]\n",
    "    except:\n",
    "        pass\n",
    "    #para generar el dataframe\n",
    "    x, y =lista_universal, description\n",
    "    notices = pd.DataFrame(lista_universal, columns = ['links'])\n",
    "    notices['description'] = y\n",
    "    notices['category'] = notices['description'].apply(lambda x: x[0])\n",
    "    index_drop =notices[notices['category']== 'https:'].index\n",
    "    notices.drop(index = index_drop, axis = 0, inplace = True)\n",
    "    notices['description'] =  notices['description'].apply(lambda x: x[1].replace('-',' '))\n",
    "    #notices['date'] = df['links'].apply(lambda x: datetime.date.today())\n",
    "    notices['source'] = notices['links'].apply(lambda x: 'Universal')\n",
    "    notices.reset_index(inplace = True, drop = True)\n",
    "    notices['date'] = df['links'].apply(lambda x: datetime.date.today())\n",
    "    return notices\n",
    "        \n",
    "    "
   ]
  },
  {
   "cell_type": "code",
   "execution_count": 670,
   "metadata": {},
   "outputs": [
    {
     "name": "stdout",
     "output_type": "stream",
     "text": [
      "<class 'pandas.core.frame.DataFrame'>\n",
      "RangeIndex: 41 entries, 0 to 40\n",
      "Data columns (total 5 columns):\n",
      " #   Column       Non-Null Count  Dtype \n",
      "---  ------       --------------  ----- \n",
      " 0   links        41 non-null     object\n",
      " 1   description  41 non-null     object\n",
      " 2   category     41 non-null     object\n",
      " 3   source       41 non-null     object\n",
      " 4   date         41 non-null     object\n",
      "dtypes: object(5)\n",
      "memory usage: 1.7+ KB\n"
     ]
    }
   ],
   "source": [
    "universal = universal_data()\n",
    "universal.info()"
   ]
  },
  {
   "cell_type": "code",
   "execution_count": 672,
   "metadata": {},
   "outputs": [],
   "source": [
    "df_universal = universal[['links','date', 'source', 'category', 'description']] "
   ]
  },
  {
   "cell_type": "code",
   "execution_count": 674,
   "metadata": {},
   "outputs": [
    {
     "data": {
      "text/html": [
       "<div>\n",
       "<style scoped>\n",
       "    .dataframe tbody tr th:only-of-type {\n",
       "        vertical-align: middle;\n",
       "    }\n",
       "\n",
       "    .dataframe tbody tr th {\n",
       "        vertical-align: top;\n",
       "    }\n",
       "\n",
       "    .dataframe thead th {\n",
       "        text-align: right;\n",
       "    }\n",
       "</style>\n",
       "<table border=\"1\" class=\"dataframe\">\n",
       "  <thead>\n",
       "    <tr style=\"text-align: right;\">\n",
       "      <th></th>\n",
       "      <th>links</th>\n",
       "      <th>date</th>\n",
       "      <th>source</th>\n",
       "      <th>category</th>\n",
       "      <th>description</th>\n",
       "    </tr>\n",
       "  </thead>\n",
       "  <tbody>\n",
       "    <tr>\n",
       "      <th>0</th>\n",
       "      <td>https://www.eluniversal.com.mx/nacion/bajo-res...</td>\n",
       "      <td>2020-11-01</td>\n",
       "      <td>Universal</td>\n",
       "      <td>nacion</td>\n",
       "      <td>bajo reserva expres 2020 el peor ano de yeidck...</td>\n",
       "    </tr>\n",
       "    <tr>\n",
       "      <th>1</th>\n",
       "      <td>https://www.eluniversal.com.mx/mundo/estados-u...</td>\n",
       "      <td>2020-11-01</td>\n",
       "      <td>Universal</td>\n",
       "      <td>mundo</td>\n",
       "      <td>estados unidos llega elecciones con fractura e...</td>\n",
       "    </tr>\n",
       "    <tr>\n",
       "      <th>2</th>\n",
       "      <td>https://www.eluniversal.com.mx/nacion/carta-de...</td>\n",
       "      <td>2020-11-01</td>\n",
       "      <td>Universal</td>\n",
       "      <td>nacion</td>\n",
       "      <td>carta de un cubrebocas mexicano</td>\n",
       "    </tr>\n",
       "    <tr>\n",
       "      <th>3</th>\n",
       "      <td>https://www.eluniversal.com.mx/opinion/mochila...</td>\n",
       "      <td>2020-11-01</td>\n",
       "      <td>Universal</td>\n",
       "      <td>opinion</td>\n",
       "      <td>mochilazo en el tiempo</td>\n",
       "    </tr>\n",
       "    <tr>\n",
       "      <th>4</th>\n",
       "      <td>https://www.eluniversal.com.mx/espectaculos/se...</td>\n",
       "      <td>2020-11-01</td>\n",
       "      <td>Universal</td>\n",
       "      <td>espectaculos</td>\n",
       "      <td>sean connery sufrio demencia senil en sus ulti...</td>\n",
       "    </tr>\n",
       "  </tbody>\n",
       "</table>\n",
       "</div>"
      ],
      "text/plain": [
       "                                               links        date     source  \\\n",
       "0  https://www.eluniversal.com.mx/nacion/bajo-res...  2020-11-01  Universal   \n",
       "1  https://www.eluniversal.com.mx/mundo/estados-u...  2020-11-01  Universal   \n",
       "2  https://www.eluniversal.com.mx/nacion/carta-de...  2020-11-01  Universal   \n",
       "3  https://www.eluniversal.com.mx/opinion/mochila...  2020-11-01  Universal   \n",
       "4  https://www.eluniversal.com.mx/espectaculos/se...  2020-11-01  Universal   \n",
       "\n",
       "       category                                        description  \n",
       "0        nacion  bajo reserva expres 2020 el peor ano de yeidck...  \n",
       "1         mundo  estados unidos llega elecciones con fractura e...  \n",
       "2        nacion                    carta de un cubrebocas mexicano  \n",
       "3       opinion                             mochilazo en el tiempo  \n",
       "4  espectaculos  sean connery sufrio demencia senil en sus ulti...  "
      ]
     },
     "execution_count": 674,
     "metadata": {},
     "output_type": "execute_result"
    }
   ],
   "source": [
    "df_universal.head()\n",
    "#primero de universal"
   ]
  },
  {
   "cell_type": "code",
   "execution_count": 507,
   "metadata": {},
   "outputs": [],
   "source": [
    "def body_universal(link):\n",
    "    try:\n",
    "        cuerpo = '//div/p/text()'\n",
    "        response = requests.get(link)\n",
    "        home = response.content.decode('utf-8')\n",
    "        parsed = html.fromstring(home)\n",
    "        cuerpo = parsed.xpath(cuerpo)\n",
    "        cuerpo = cuerpo[0:-2]\n",
    "        cuerpo = [i.replace('\\n','') for i  in cuerpo]\n",
    "        cuerpo = ''.join(cuerpo)\n",
    "        archivo = open(str(datetime.date.today()) + 'Universal','a',encoding='utf-8')\n",
    "        archivo.write(cuerpo + '\\n')\n",
    "        archivo.close()\n",
    "    except:\n",
    "        print('algo salio mal', response)\n",
    "    return print('archivo txt generado')\n",
    "    "
   ]
  },
  {
   "cell_type": "code",
   "execution_count": 676,
   "metadata": {},
   "outputs": [],
   "source": [
    "#df_universal['links'].apply(body_universal)"
   ]
  },
  {
   "cell_type": "markdown",
   "metadata": {},
   "source": [
    "La primera funcion me generar un dataframe y la segunda un archivo txt con el body de las noticias"
   ]
  },
  {
   "cell_type": "markdown",
   "metadata": {},
   "source": [
    "## Proceso"
   ]
  },
  {
   "cell_type": "code",
   "execution_count": 584,
   "metadata": {},
   "outputs": [],
   "source": [
    "def proceso():\n",
    "    url = 'https://www.proceso.com.mx/'\n",
    "    response = requests.get(url)\n",
    "    response\n",
    "    home = response.content#.decode('utf-8')\n",
    "    parsed = html.fromstring(home)\n",
    "    links = '//div//article/div/a/@href'\n",
    "    links_proceso1 = parsed.xpath(links)\n",
    "    links_proceso2 = ['https://www.proceso.com.mx' +i  for i in links_proceso]\n",
    "    proceso = pd.DataFrame(links_proceso2,columns = ['links'])\n",
    "    proceso['date'] = proceso['links'].apply(lambda x: datetime.date.today())\n",
    "    proceso['source'] = proceso['links'].apply(lambda x: 'Proceso')\n",
    "    \n",
    "    return  proceso"
   ]
  },
  {
   "cell_type": "code",
   "execution_count": null,
   "metadata": {},
   "outputs": [],
   "source": [
    "def title_proceso(link):\n",
    "    cuerpo = '//div//article//h1/text()'\n",
    "    response = requests.get(link)\n",
    "    home = response.content#.decode('utf-8')\n",
    "    parsed = html.fromstring(home)\n",
    "    cuerpo = parsed.xpath(cuerpo)\n",
    "    return cuerpo"
   ]
  },
  {
   "cell_type": "code",
   "execution_count": 681,
   "metadata": {},
   "outputs": [],
   "source": [
    "def data_proceso(data):\n",
    "    data['title'] = data['links'].apply(lambda x:title_proceso(x))\n",
    "    data['title'] = data['title'].apply(lambda x: x[0])\n",
    "    data['category'] = data['links'].apply(lambda x: x.split('https://www.proceso.com.mx/'))\n",
    "    data['category'] = data['category'].apply(lambda x:x[1].split('/')[0])\n",
    "    return data\n",
    "\n",
    "    "
   ]
  },
  {
   "cell_type": "code",
   "execution_count": 639,
   "metadata": {},
   "outputs": [],
   "source": [
    "#body "
   ]
  },
  {
   "cell_type": "code",
   "execution_count": 660,
   "metadata": {},
   "outputs": [],
   "source": [
    "def body_proceso(link):\n",
    "    try:\n",
    "        cuerpo = '//div/p/text()'\n",
    "        response = requests.get(link)\n",
    "        home = response.content#.decode('utf-8')\n",
    "        parsed = html.fromstring(home)\n",
    "        cuerpo = parsed.xpath(cuerpo)\n",
    "        cuerpo = cuerpo[:-5]\n",
    "        cuerpo = ''.join(cuerpo)\n",
    "        archivo = open(str(datetime.date.today()) + 'Proceso','a',encoding='utf-8')\n",
    "        archivo.write(cuerpo + '\\n')\n",
    "        archivo.close()\n",
    "    except:\n",
    "        print('algo salio mal', response)\n",
    "    return print('archivo txt generado')\n",
    "    "
   ]
  },
  {
   "cell_type": "code",
   "execution_count": null,
   "metadata": {},
   "outputs": [],
   "source": []
  },
  {
   "cell_type": "code",
   "execution_count": 677,
   "metadata": {},
   "outputs": [
    {
     "data": {
      "text/html": [
       "<div>\n",
       "<style scoped>\n",
       "    .dataframe tbody tr th:only-of-type {\n",
       "        vertical-align: middle;\n",
       "    }\n",
       "\n",
       "    .dataframe tbody tr th {\n",
       "        vertical-align: top;\n",
       "    }\n",
       "\n",
       "    .dataframe thead th {\n",
       "        text-align: right;\n",
       "    }\n",
       "</style>\n",
       "<table border=\"1\" class=\"dataframe\">\n",
       "  <thead>\n",
       "    <tr style=\"text-align: right;\">\n",
       "      <th></th>\n",
       "      <th>links</th>\n",
       "      <th>date</th>\n",
       "      <th>source</th>\n",
       "    </tr>\n",
       "  </thead>\n",
       "  <tbody>\n",
       "    <tr>\n",
       "      <th>0</th>\n",
       "      <td>https://www.proceso.com.mx/reportajes/2020/11/...</td>\n",
       "      <td>2020-11-01</td>\n",
       "      <td>Proceso</td>\n",
       "    </tr>\n",
       "    <tr>\n",
       "      <th>1</th>\n",
       "      <td>https://www.proceso.com.mx/nacional/2020/11/1/...</td>\n",
       "      <td>2020-11-01</td>\n",
       "      <td>Proceso</td>\n",
       "    </tr>\n",
       "    <tr>\n",
       "      <th>2</th>\n",
       "      <td>https://www.proceso.com.mx/nacional/estados/20...</td>\n",
       "      <td>2020-11-01</td>\n",
       "      <td>Proceso</td>\n",
       "    </tr>\n",
       "    <tr>\n",
       "      <th>3</th>\n",
       "      <td>https://www.proceso.com.mx/nacional/cdmx/2020/...</td>\n",
       "      <td>2020-11-01</td>\n",
       "      <td>Proceso</td>\n",
       "    </tr>\n",
       "    <tr>\n",
       "      <th>4</th>\n",
       "      <td>https://www.proceso.com.mx/nacional/estados/20...</td>\n",
       "      <td>2020-11-01</td>\n",
       "      <td>Proceso</td>\n",
       "    </tr>\n",
       "  </tbody>\n",
       "</table>\n",
       "</div>"
      ],
      "text/plain": [
       "                                               links        date   source\n",
       "0  https://www.proceso.com.mx/reportajes/2020/11/...  2020-11-01  Proceso\n",
       "1  https://www.proceso.com.mx/nacional/2020/11/1/...  2020-11-01  Proceso\n",
       "2  https://www.proceso.com.mx/nacional/estados/20...  2020-11-01  Proceso\n",
       "3  https://www.proceso.com.mx/nacional/cdmx/2020/...  2020-11-01  Proceso\n",
       "4  https://www.proceso.com.mx/nacional/estados/20...  2020-11-01  Proceso"
      ]
     },
     "execution_count": 677,
     "metadata": {},
     "output_type": "execute_result"
    }
   ],
   "source": [
    "#1\n",
    "data = proceso()\n",
    "data.head()"
   ]
  },
  {
   "cell_type": "code",
   "execution_count": 682,
   "metadata": {},
   "outputs": [],
   "source": [
    "#2\n",
    "proceso = data_proceso(data)\n",
    "proceso.head()"
   ]
  },
  {
   "cell_type": "code",
   "execution_count": 688,
   "metadata": {},
   "outputs": [
    {
     "data": {
      "text/plain": [
       "Index(['links', 'date', 'source', 'title', 'category'], dtype='object')"
      ]
     },
     "execution_count": 688,
     "metadata": {},
     "output_type": "execute_result"
    }
   ],
   "source": [
    "proceso.columns = ['links', 'date', 'source', 'description', 'category']"
   ]
  },
  {
   "cell_type": "code",
   "execution_count": 686,
   "metadata": {},
   "outputs": [],
   "source": [
    "df_proceso = proceso[['links', 'date', 'source', 'category', 'title']]"
   ]
  },
  {
   "cell_type": "code",
   "execution_count": 690,
   "metadata": {},
   "outputs": [],
   "source": [
    "df_proceso.columns =  ['links', 'date', 'source', 'description', 'category']"
   ]
  },
  {
   "cell_type": "code",
   "execution_count": 696,
   "metadata": {},
   "outputs": [],
   "source": [
    "#3 generando txt\n",
    "#df_proceso['links'].apply(body_proceso)"
   ]
  },
  {
   "cell_type": "code",
   "execution_count": 702,
   "metadata": {},
   "outputs": [],
   "source": [
    "#concatenando\n",
    "frames = [df_proceso, df_universal]\n",
    "noticias = pd.concat(frames)\n"
   ]
  },
  {
   "cell_type": "code",
   "execution_count": 704,
   "metadata": {},
   "outputs": [
    {
     "data": {
      "text/html": [
       "<div>\n",
       "<style scoped>\n",
       "    .dataframe tbody tr th:only-of-type {\n",
       "        vertical-align: middle;\n",
       "    }\n",
       "\n",
       "    .dataframe tbody tr th {\n",
       "        vertical-align: top;\n",
       "    }\n",
       "\n",
       "    .dataframe thead th {\n",
       "        text-align: right;\n",
       "    }\n",
       "</style>\n",
       "<table border=\"1\" class=\"dataframe\">\n",
       "  <thead>\n",
       "    <tr style=\"text-align: right;\">\n",
       "      <th></th>\n",
       "      <th>links</th>\n",
       "      <th>date</th>\n",
       "      <th>source</th>\n",
       "      <th>description</th>\n",
       "      <th>category</th>\n",
       "    </tr>\n",
       "  </thead>\n",
       "  <tbody>\n",
       "    <tr>\n",
       "      <th>0</th>\n",
       "      <td>https://www.proceso.com.mx/reportajes/2020/11/...</td>\n",
       "      <td>2020-11-01</td>\n",
       "      <td>Proceso</td>\n",
       "      <td>reportajes</td>\n",
       "      <td>La CDMX, una ciudad desbordada</td>\n",
       "    </tr>\n",
       "    <tr>\n",
       "      <th>1</th>\n",
       "      <td>https://www.proceso.com.mx/nacional/2020/11/1/...</td>\n",
       "      <td>2020-11-01</td>\n",
       "      <td>Proceso</td>\n",
       "      <td>nacional</td>\n",
       "      <td>Pobreza, un sistema deficiente y covid-19 han ...</td>\n",
       "    </tr>\n",
       "    <tr>\n",
       "      <th>2</th>\n",
       "      <td>https://www.proceso.com.mx/nacional/estados/20...</td>\n",
       "      <td>2020-11-01</td>\n",
       "      <td>Proceso</td>\n",
       "      <td>nacional</td>\n",
       "      <td>Hermano de AMLO va por cargo en elecciones de ...</td>\n",
       "    </tr>\n",
       "  </tbody>\n",
       "</table>\n",
       "</div>"
      ],
      "text/plain": [
       "                                               links        date   source  \\\n",
       "0  https://www.proceso.com.mx/reportajes/2020/11/...  2020-11-01  Proceso   \n",
       "1  https://www.proceso.com.mx/nacional/2020/11/1/...  2020-11-01  Proceso   \n",
       "2  https://www.proceso.com.mx/nacional/estados/20...  2020-11-01  Proceso   \n",
       "\n",
       "  description                                           category  \n",
       "0  reportajes                     La CDMX, una ciudad desbordada  \n",
       "1    nacional  Pobreza, un sistema deficiente y covid-19 han ...  \n",
       "2    nacional  Hermano de AMLO va por cargo en elecciones de ...  "
      ]
     },
     "execution_count": 704,
     "metadata": {},
     "output_type": "execute_result"
    }
   ],
   "source": [
    "noticias.head(3)"
   ]
  },
  {
   "cell_type": "code",
   "execution_count": 705,
   "metadata": {},
   "outputs": [],
   "source": [
    "noticias.to_csv('noticias_1-10-20.csv', sep = ',')"
   ]
  },
  {
   "cell_type": "markdown",
   "metadata": {},
   "source": [
    "## SCRAP API"
   ]
  },
  {
   "cell_type": "code",
   "execution_count": 708,
   "metadata": {},
   "outputs": [
    {
     "name": "stdout",
     "output_type": "stream",
     "text": [
      "Collecting pandas_datareader\n",
      "  Downloading pandas_datareader-0.9.0-py3-none-any.whl (107 kB)\n",
      "\u001b[K     |████████████████████████████████| 107 kB 1.0 MB/s eta 0:00:01    |███████████████████████████▍    | 92 kB 954 kB/s eta 0:00:01\n",
      "\u001b[?25hRequirement already satisfied: lxml in /opt/anaconda3/lib/python3.7/site-packages (from pandas_datareader) (4.5.0)\n",
      "Requirement already satisfied: pandas>=0.23 in /opt/anaconda3/lib/python3.7/site-packages (from pandas_datareader) (1.0.1)\n",
      "Requirement already satisfied: requests>=2.19.0 in /opt/anaconda3/lib/python3.7/site-packages (from pandas_datareader) (2.22.0)\n",
      "Requirement already satisfied: python-dateutil>=2.6.1 in /opt/anaconda3/lib/python3.7/site-packages (from pandas>=0.23->pandas_datareader) (2.8.1)\n",
      "Requirement already satisfied: numpy>=1.13.3 in /opt/anaconda3/lib/python3.7/site-packages (from pandas>=0.23->pandas_datareader) (1.18.1)\n",
      "Requirement already satisfied: pytz>=2017.2 in /opt/anaconda3/lib/python3.7/site-packages (from pandas>=0.23->pandas_datareader) (2019.3)\n",
      "Requirement already satisfied: chardet<3.1.0,>=3.0.2 in /opt/anaconda3/lib/python3.7/site-packages (from requests>=2.19.0->pandas_datareader) (3.0.4)\n",
      "Requirement already satisfied: urllib3!=1.25.0,!=1.25.1,<1.26,>=1.21.1 in /opt/anaconda3/lib/python3.7/site-packages (from requests>=2.19.0->pandas_datareader) (1.25.8)\n",
      "Requirement already satisfied: certifi>=2017.4.17 in /opt/anaconda3/lib/python3.7/site-packages (from requests>=2.19.0->pandas_datareader) (2019.11.28)\n",
      "Requirement already satisfied: idna<2.9,>=2.5 in /opt/anaconda3/lib/python3.7/site-packages (from requests>=2.19.0->pandas_datareader) (2.8)\n",
      "Requirement already satisfied: six>=1.5 in /opt/anaconda3/lib/python3.7/site-packages (from python-dateutil>=2.6.1->pandas>=0.23->pandas_datareader) (1.14.0)\n",
      "Installing collected packages: pandas-datareader\n",
      "Successfully installed pandas-datareader-0.9.0\n",
      "Note: you may need to restart the kernel to use updated packages.\n"
     ]
    }
   ],
   "source": [
    "pip install pandas_datareader"
   ]
  },
  {
   "cell_type": "code",
   "execution_count": 1,
   "metadata": {},
   "outputs": [],
   "source": [
    "from pandas_datareader import data as pdr"
   ]
  },
  {
   "cell_type": "code",
   "execution_count": 3,
   "metadata": {},
   "outputs": [],
   "source": [
    "df = pdr.get_data_yahoo('AMZN', start = '2016-01-01', end = '2020-01-01')"
   ]
  },
  {
   "cell_type": "code",
   "execution_count": 5,
   "metadata": {},
   "outputs": [
    {
     "data": {
      "text/html": [
       "<div>\n",
       "<style scoped>\n",
       "    .dataframe tbody tr th:only-of-type {\n",
       "        vertical-align: middle;\n",
       "    }\n",
       "\n",
       "    .dataframe tbody tr th {\n",
       "        vertical-align: top;\n",
       "    }\n",
       "\n",
       "    .dataframe thead th {\n",
       "        text-align: right;\n",
       "    }\n",
       "</style>\n",
       "<table border=\"1\" class=\"dataframe\">\n",
       "  <thead>\n",
       "    <tr style=\"text-align: right;\">\n",
       "      <th></th>\n",
       "      <th>High</th>\n",
       "      <th>Low</th>\n",
       "      <th>Open</th>\n",
       "      <th>Close</th>\n",
       "      <th>Volume</th>\n",
       "      <th>Adj Close</th>\n",
       "    </tr>\n",
       "    <tr>\n",
       "      <th>Date</th>\n",
       "      <th></th>\n",
       "      <th></th>\n",
       "      <th></th>\n",
       "      <th></th>\n",
       "      <th></th>\n",
       "      <th></th>\n",
       "    </tr>\n",
       "  </thead>\n",
       "  <tbody>\n",
       "    <tr>\n",
       "      <th>2016-01-04</th>\n",
       "      <td>657.719971</td>\n",
       "      <td>627.510010</td>\n",
       "      <td>656.289978</td>\n",
       "      <td>636.989990</td>\n",
       "      <td>9314500</td>\n",
       "      <td>636.989990</td>\n",
       "    </tr>\n",
       "    <tr>\n",
       "      <th>2016-01-05</th>\n",
       "      <td>646.909973</td>\n",
       "      <td>627.650024</td>\n",
       "      <td>646.859985</td>\n",
       "      <td>633.789978</td>\n",
       "      <td>5822600</td>\n",
       "      <td>633.789978</td>\n",
       "    </tr>\n",
       "    <tr>\n",
       "      <th>2016-01-06</th>\n",
       "      <td>639.789978</td>\n",
       "      <td>620.309998</td>\n",
       "      <td>622.000000</td>\n",
       "      <td>632.650024</td>\n",
       "      <td>5329200</td>\n",
       "      <td>632.650024</td>\n",
       "    </tr>\n",
       "    <tr>\n",
       "      <th>2016-01-07</th>\n",
       "      <td>630.000000</td>\n",
       "      <td>605.210022</td>\n",
       "      <td>621.799988</td>\n",
       "      <td>607.940002</td>\n",
       "      <td>7074900</td>\n",
       "      <td>607.940002</td>\n",
       "    </tr>\n",
       "    <tr>\n",
       "      <th>2016-01-08</th>\n",
       "      <td>624.140015</td>\n",
       "      <td>606.000000</td>\n",
       "      <td>619.659973</td>\n",
       "      <td>607.049988</td>\n",
       "      <td>5512900</td>\n",
       "      <td>607.049988</td>\n",
       "    </tr>\n",
       "  </tbody>\n",
       "</table>\n",
       "</div>"
      ],
      "text/plain": [
       "                  High         Low        Open       Close   Volume  \\\n",
       "Date                                                                  \n",
       "2016-01-04  657.719971  627.510010  656.289978  636.989990  9314500   \n",
       "2016-01-05  646.909973  627.650024  646.859985  633.789978  5822600   \n",
       "2016-01-06  639.789978  620.309998  622.000000  632.650024  5329200   \n",
       "2016-01-07  630.000000  605.210022  621.799988  607.940002  7074900   \n",
       "2016-01-08  624.140015  606.000000  619.659973  607.049988  5512900   \n",
       "\n",
       "             Adj Close  \n",
       "Date                    \n",
       "2016-01-04  636.989990  \n",
       "2016-01-05  633.789978  \n",
       "2016-01-06  632.650024  \n",
       "2016-01-07  607.940002  \n",
       "2016-01-08  607.049988  "
      ]
     },
     "execution_count": 5,
     "metadata": {},
     "output_type": "execute_result"
    }
   ],
   "source": [
    "df.head()"
   ]
  },
  {
   "cell_type": "code",
   "execution_count": 7,
   "metadata": {},
   "outputs": [],
   "source": [
    "df_2 = pdr.get_data_yahoo_actions"
   ]
  },
  {
   "cell_type": "code",
   "execution_count": 8,
   "metadata": {},
   "outputs": [
    {
     "data": {
      "text/plain": [
       "<function pandas_datareader.data.get_data_yahoo_actions(*args, **kwargs)>"
      ]
     },
     "execution_count": 8,
     "metadata": {},
     "output_type": "execute_result"
    }
   ],
   "source": [
    "df_2"
   ]
  },
  {
   "cell_type": "code",
   "execution_count": 20,
   "metadata": {},
   "outputs": [],
   "source": [
    "from datetime import datetime"
   ]
  },
  {
   "cell_type": "code",
   "execution_count": 23,
   "metadata": {},
   "outputs": [],
   "source": [
    "df= web.DataReader(\"AAPL\", \"av-daily\", start=datetime(2017, 2, 9), end=datetime(2017, 5, 24),\n",
    "api_key=('ALPHAVANTAGE_API_KEY'))"
   ]
  },
  {
   "cell_type": "code",
   "execution_count": 24,
   "metadata": {},
   "outputs": [
    {
     "data": {
      "text/html": [
       "<div>\n",
       "<style scoped>\n",
       "    .dataframe tbody tr th:only-of-type {\n",
       "        vertical-align: middle;\n",
       "    }\n",
       "\n",
       "    .dataframe tbody tr th {\n",
       "        vertical-align: top;\n",
       "    }\n",
       "\n",
       "    .dataframe thead th {\n",
       "        text-align: right;\n",
       "    }\n",
       "</style>\n",
       "<table border=\"1\" class=\"dataframe\">\n",
       "  <thead>\n",
       "    <tr style=\"text-align: right;\">\n",
       "      <th></th>\n",
       "      <th>open</th>\n",
       "      <th>high</th>\n",
       "      <th>low</th>\n",
       "      <th>close</th>\n",
       "      <th>volume</th>\n",
       "    </tr>\n",
       "  </thead>\n",
       "  <tbody>\n",
       "    <tr>\n",
       "      <th>2017-02-09</th>\n",
       "      <td>131.65</td>\n",
       "      <td>132.445</td>\n",
       "      <td>131.12</td>\n",
       "      <td>132.42</td>\n",
       "      <td>28349859</td>\n",
       "    </tr>\n",
       "    <tr>\n",
       "      <th>2017-02-10</th>\n",
       "      <td>132.46</td>\n",
       "      <td>132.940</td>\n",
       "      <td>132.05</td>\n",
       "      <td>132.12</td>\n",
       "      <td>20065458</td>\n",
       "    </tr>\n",
       "    <tr>\n",
       "      <th>2017-02-13</th>\n",
       "      <td>133.08</td>\n",
       "      <td>133.820</td>\n",
       "      <td>132.75</td>\n",
       "      <td>133.29</td>\n",
       "      <td>23035421</td>\n",
       "    </tr>\n",
       "    <tr>\n",
       "      <th>2017-02-14</th>\n",
       "      <td>133.47</td>\n",
       "      <td>135.090</td>\n",
       "      <td>133.25</td>\n",
       "      <td>135.02</td>\n",
       "      <td>33226223</td>\n",
       "    </tr>\n",
       "    <tr>\n",
       "      <th>2017-02-15</th>\n",
       "      <td>135.52</td>\n",
       "      <td>136.270</td>\n",
       "      <td>134.62</td>\n",
       "      <td>135.51</td>\n",
       "      <td>35623100</td>\n",
       "    </tr>\n",
       "    <tr>\n",
       "      <th>...</th>\n",
       "      <td>...</td>\n",
       "      <td>...</td>\n",
       "      <td>...</td>\n",
       "      <td>...</td>\n",
       "      <td>...</td>\n",
       "    </tr>\n",
       "    <tr>\n",
       "      <th>2017-05-18</th>\n",
       "      <td>151.27</td>\n",
       "      <td>153.340</td>\n",
       "      <td>151.13</td>\n",
       "      <td>152.54</td>\n",
       "      <td>33159664</td>\n",
       "    </tr>\n",
       "    <tr>\n",
       "      <th>2017-05-19</th>\n",
       "      <td>153.38</td>\n",
       "      <td>153.980</td>\n",
       "      <td>152.63</td>\n",
       "      <td>153.06</td>\n",
       "      <td>26733798</td>\n",
       "    </tr>\n",
       "    <tr>\n",
       "      <th>2017-05-22</th>\n",
       "      <td>154.00</td>\n",
       "      <td>154.580</td>\n",
       "      <td>152.91</td>\n",
       "      <td>153.99</td>\n",
       "      <td>22340069</td>\n",
       "    </tr>\n",
       "    <tr>\n",
       "      <th>2017-05-23</th>\n",
       "      <td>154.90</td>\n",
       "      <td>154.900</td>\n",
       "      <td>153.31</td>\n",
       "      <td>153.80</td>\n",
       "      <td>19430358</td>\n",
       "    </tr>\n",
       "    <tr>\n",
       "      <th>2017-05-24</th>\n",
       "      <td>153.84</td>\n",
       "      <td>154.170</td>\n",
       "      <td>152.67</td>\n",
       "      <td>153.34</td>\n",
       "      <td>19118319</td>\n",
       "    </tr>\n",
       "  </tbody>\n",
       "</table>\n",
       "<p>73 rows × 5 columns</p>\n",
       "</div>"
      ],
      "text/plain": [
       "              open     high     low   close    volume\n",
       "2017-02-09  131.65  132.445  131.12  132.42  28349859\n",
       "2017-02-10  132.46  132.940  132.05  132.12  20065458\n",
       "2017-02-13  133.08  133.820  132.75  133.29  23035421\n",
       "2017-02-14  133.47  135.090  133.25  135.02  33226223\n",
       "2017-02-15  135.52  136.270  134.62  135.51  35623100\n",
       "...            ...      ...     ...     ...       ...\n",
       "2017-05-18  151.27  153.340  151.13  152.54  33159664\n",
       "2017-05-19  153.38  153.980  152.63  153.06  26733798\n",
       "2017-05-22  154.00  154.580  152.91  153.99  22340069\n",
       "2017-05-23  154.90  154.900  153.31  153.80  19430358\n",
       "2017-05-24  153.84  154.170  152.67  153.34  19118319\n",
       "\n",
       "[73 rows x 5 columns]"
      ]
     },
     "execution_count": 24,
     "metadata": {},
     "output_type": "execute_result"
    }
   ],
   "source": [
    "df"
   ]
  },
  {
   "cell_type": "code",
   "execution_count": 26,
   "metadata": {},
   "outputs": [
    {
     "data": {
      "text/html": [
       "<div>\n",
       "<style scoped>\n",
       "    .dataframe tbody tr th:only-of-type {\n",
       "        vertical-align: middle;\n",
       "    }\n",
       "\n",
       "    .dataframe tbody tr th {\n",
       "        vertical-align: top;\n",
       "    }\n",
       "\n",
       "    .dataframe thead th {\n",
       "        text-align: right;\n",
       "    }\n",
       "</style>\n",
       "<table border=\"1\" class=\"dataframe\">\n",
       "  <thead>\n",
       "    <tr style=\"text-align: right;\">\n",
       "      <th></th>\n",
       "      <th>USD/JPY</th>\n",
       "    </tr>\n",
       "  </thead>\n",
       "  <tbody>\n",
       "    <tr>\n",
       "      <th>From_Currency Code</th>\n",
       "      <td>USD</td>\n",
       "    </tr>\n",
       "    <tr>\n",
       "      <th>From_Currency Name</th>\n",
       "      <td>United States Dollar</td>\n",
       "    </tr>\n",
       "    <tr>\n",
       "      <th>To_Currency Code</th>\n",
       "      <td>JPY</td>\n",
       "    </tr>\n",
       "    <tr>\n",
       "      <th>To_Currency Name</th>\n",
       "      <td>Japanese Yen</td>\n",
       "    </tr>\n",
       "    <tr>\n",
       "      <th>Exchange Rate</th>\n",
       "      <td>104.72100000</td>\n",
       "    </tr>\n",
       "    <tr>\n",
       "      <th>Last Refreshed</th>\n",
       "      <td>2020-11-02 05:26:02</td>\n",
       "    </tr>\n",
       "    <tr>\n",
       "      <th>Time Zone</th>\n",
       "      <td>UTC</td>\n",
       "    </tr>\n",
       "    <tr>\n",
       "      <th>Bid Price</th>\n",
       "      <td>104.71958103</td>\n",
       "    </tr>\n",
       "    <tr>\n",
       "      <th>Ask Price</th>\n",
       "      <td>104.72190060</td>\n",
       "    </tr>\n",
       "  </tbody>\n",
       "</table>\n",
       "</div>"
      ],
      "text/plain": [
       "                                 USD/JPY\n",
       "From_Currency Code                   USD\n",
       "From_Currency Name  United States Dollar\n",
       "To_Currency Code                     JPY\n",
       "To_Currency Name            Japanese Yen\n",
       "Exchange Rate               104.72100000\n",
       "Last Refreshed       2020-11-02 05:26:02\n",
       "Time Zone                            UTC\n",
       "Bid Price                   104.71958103\n",
       "Ask Price                   104.72190060"
      ]
     },
     "execution_count": 26,
     "metadata": {},
     "output_type": "execute_result"
    }
   ],
   "source": [
    "web.DataReader(\"USD/JPY\", \"av-forex\",api_key=('ALPHAVANTAGE_API_KEY'))"
   ]
  },
  {
   "cell_type": "code",
   "execution_count": 27,
   "metadata": {},
   "outputs": [
    {
     "data": {
      "text/html": [
       "<div>\n",
       "<style scoped>\n",
       "    .dataframe tbody tr th:only-of-type {\n",
       "        vertical-align: middle;\n",
       "    }\n",
       "\n",
       "    .dataframe tbody tr th {\n",
       "        vertical-align: top;\n",
       "    }\n",
       "\n",
       "    .dataframe thead th {\n",
       "        text-align: right;\n",
       "    }\n",
       "</style>\n",
       "<table border=\"1\" class=\"dataframe\">\n",
       "  <thead>\n",
       "    <tr style=\"text-align: right;\">\n",
       "      <th></th>\n",
       "      <th>USD/JPY</th>\n",
       "      <th>BTC/CNY</th>\n",
       "    </tr>\n",
       "  </thead>\n",
       "  <tbody>\n",
       "    <tr>\n",
       "      <th>From_Currency Code</th>\n",
       "      <td>USD</td>\n",
       "      <td>BTC</td>\n",
       "    </tr>\n",
       "    <tr>\n",
       "      <th>From_Currency Name</th>\n",
       "      <td>United States Dollar</td>\n",
       "      <td>Bitcoin</td>\n",
       "    </tr>\n",
       "    <tr>\n",
       "      <th>To_Currency Code</th>\n",
       "      <td>JPY</td>\n",
       "      <td>CNY</td>\n",
       "    </tr>\n",
       "    <tr>\n",
       "      <th>To_Currency Name</th>\n",
       "      <td>Japanese Yen</td>\n",
       "      <td>Chinese Yuan</td>\n",
       "    </tr>\n",
       "    <tr>\n",
       "      <th>Exchange Rate</th>\n",
       "      <td>104.73000000</td>\n",
       "      <td>91604.42822600</td>\n",
       "    </tr>\n",
       "    <tr>\n",
       "      <th>Last Refreshed</th>\n",
       "      <td>2020-11-02 05:29:01</td>\n",
       "      <td>2020-11-02 05:29:07</td>\n",
       "    </tr>\n",
       "    <tr>\n",
       "      <th>Time Zone</th>\n",
       "      <td>UTC</td>\n",
       "      <td>UTC</td>\n",
       "    </tr>\n",
       "    <tr>\n",
       "      <th>Bid Price</th>\n",
       "      <td>104.72853902</td>\n",
       "      <td>91609.31068500</td>\n",
       "    </tr>\n",
       "    <tr>\n",
       "      <th>Ask Price</th>\n",
       "      <td>104.73508988</td>\n",
       "      <td>91609.37756800</td>\n",
       "    </tr>\n",
       "  </tbody>\n",
       "</table>\n",
       "</div>"
      ],
      "text/plain": [
       "                                 USD/JPY              BTC/CNY\n",
       "From_Currency Code                   USD                  BTC\n",
       "From_Currency Name  United States Dollar              Bitcoin\n",
       "To_Currency Code                     JPY                  CNY\n",
       "To_Currency Name            Japanese Yen         Chinese Yuan\n",
       "Exchange Rate               104.73000000       91604.42822600\n",
       "Last Refreshed       2020-11-02 05:29:01  2020-11-02 05:29:07\n",
       "Time Zone                            UTC                  UTC\n",
       "Bid Price                   104.72853902       91609.31068500\n",
       "Ask Price                   104.73508988       91609.37756800"
      ]
     },
     "execution_count": 27,
     "metadata": {},
     "output_type": "execute_result"
    }
   ],
   "source": [
    "web.DataReader([\"USD/JPY\", \"BTC/CNY\"], \"av-forex\",api_key=('ALPHAVANTAGE_API_KEY'))"
   ]
  },
  {
   "cell_type": "code",
   "execution_count": 29,
   "metadata": {},
   "outputs": [
    {
     "data": {
      "text/html": [
       "<div>\n",
       "<style scoped>\n",
       "    .dataframe tbody tr th:only-of-type {\n",
       "        vertical-align: middle;\n",
       "    }\n",
       "\n",
       "    .dataframe tbody tr th {\n",
       "        vertical-align: top;\n",
       "    }\n",
       "\n",
       "    .dataframe thead th {\n",
       "        text-align: right;\n",
       "    }\n",
       "</style>\n",
       "<table border=\"1\" class=\"dataframe\">\n",
       "  <thead>\n",
       "    <tr style=\"text-align: right;\">\n",
       "      <th></th>\n",
       "      <th>RT</th>\n",
       "      <th>1D</th>\n",
       "      <th>5D</th>\n",
       "      <th>1M</th>\n",
       "      <th>3M</th>\n",
       "      <th>YTD</th>\n",
       "      <th>1Y</th>\n",
       "      <th>3Y</th>\n",
       "      <th>5Y</th>\n",
       "      <th>10Y</th>\n",
       "    </tr>\n",
       "  </thead>\n",
       "  <tbody>\n",
       "    <tr>\n",
       "      <th>Financials</th>\n",
       "      <td>0.27%</td>\n",
       "      <td>0.27%</td>\n",
       "      <td>-5.57%</td>\n",
       "      <td>0.18%</td>\n",
       "      <td>-2.56%</td>\n",
       "      <td>-22.55%</td>\n",
       "      <td>-17.36%</td>\n",
       "      <td>-10.90%</td>\n",
       "      <td>20.61%</td>\n",
       "      <td>102.27%</td>\n",
       "    </tr>\n",
       "    <tr>\n",
       "      <th>Energy</th>\n",
       "      <td>0.19%</td>\n",
       "      <td>0.19%</td>\n",
       "      <td>-5.71%</td>\n",
       "      <td>-4.92%</td>\n",
       "      <td>-24.11%</td>\n",
       "      <td>-52.50%</td>\n",
       "      <td>-50.49%</td>\n",
       "      <td>-56.59%</td>\n",
       "      <td>-56.52%</td>\n",
       "      <td>-51.01%</td>\n",
       "    </tr>\n",
       "    <tr>\n",
       "      <th>Health Care</th>\n",
       "      <td>-0.07%</td>\n",
       "      <td>-0.07%</td>\n",
       "      <td>-5.70%</td>\n",
       "      <td>-2.18%</td>\n",
       "      <td>-4.87%</td>\n",
       "      <td>-0.33%</td>\n",
       "      <td>8.80%</td>\n",
       "      <td>24.65%</td>\n",
       "      <td>42.76%</td>\n",
       "      <td>228.07%</td>\n",
       "    </tr>\n",
       "    <tr>\n",
       "      <th>Industrials</th>\n",
       "      <td>-0.09%</td>\n",
       "      <td>-0.09%</td>\n",
       "      <td>-6.52%</td>\n",
       "      <td>-1.74%</td>\n",
       "      <td>4.35%</td>\n",
       "      <td>-6.78%</td>\n",
       "      <td>-3.85%</td>\n",
       "      <td>4.70%</td>\n",
       "      <td>35.75%</td>\n",
       "      <td>130.74%</td>\n",
       "    </tr>\n",
       "    <tr>\n",
       "      <th>Materials</th>\n",
       "      <td>-0.15%</td>\n",
       "      <td>-0.15%</td>\n",
       "      <td>-4.29%</td>\n",
       "      <td>0.13%</td>\n",
       "      <td>2.57%</td>\n",
       "      <td>2.86%</td>\n",
       "      <td>7.60%</td>\n",
       "      <td>7.12%</td>\n",
       "      <td>39.82%</td>\n",
       "      <td>84.16%</td>\n",
       "    </tr>\n",
       "  </tbody>\n",
       "</table>\n",
       "</div>"
      ],
      "text/plain": [
       "                 RT      1D      5D      1M       3M      YTD       1Y  \\\n",
       "Financials    0.27%   0.27%  -5.57%   0.18%   -2.56%  -22.55%  -17.36%   \n",
       "Energy        0.19%   0.19%  -5.71%  -4.92%  -24.11%  -52.50%  -50.49%   \n",
       "Health Care  -0.07%  -0.07%  -5.70%  -2.18%   -4.87%   -0.33%    8.80%   \n",
       "Industrials  -0.09%  -0.09%  -6.52%  -1.74%    4.35%   -6.78%   -3.85%   \n",
       "Materials    -0.15%  -0.15%  -4.29%   0.13%    2.57%    2.86%    7.60%   \n",
       "\n",
       "                  3Y       5Y      10Y  \n",
       "Financials   -10.90%   20.61%  102.27%  \n",
       "Energy       -56.59%  -56.52%  -51.01%  \n",
       "Health Care   24.65%   42.76%  228.07%  \n",
       "Industrials    4.70%   35.75%  130.74%  \n",
       "Materials      7.12%   39.82%   84.16%  "
      ]
     },
     "execution_count": 29,
     "metadata": {},
     "output_type": "execute_result"
    }
   ],
   "source": [
    "web.get_sector_performance_av(api_key=('ALPHAVANTAGE_API_KEY')).head()"
   ]
  },
  {
   "cell_type": "code",
   "execution_count": 30,
   "metadata": {},
   "outputs": [
    {
     "name": "stdout",
     "output_type": "stream",
     "text": [
      "Nasdaq Traded                                                    True\n",
      "Security Name       International Business Machines Corporation Co...\n",
      "Listing Exchange                                                    N\n",
      "Market Category                                                      \n",
      "ETF                                                             False\n",
      "Round Lot Size                                                    100\n",
      "Test Issue                                                      False\n",
      "Financial Status                                                  NaN\n",
      "CQS Symbol                                                        IBM\n",
      "NASDAQ Symbol                                                     IBM\n",
      "NextShares                                                      False\n",
      "Name: IBM, dtype: object\n"
     ]
    }
   ],
   "source": [
    "from pandas_datareader.nasdaq_trader import get_nasdaq_symbols\n",
    "symbols = get_nasdaq_symbols()\n",
    "print(symbols.loc['IBM'])"
   ]
  },
  {
   "cell_type": "code",
   "execution_count": 31,
   "metadata": {},
   "outputs": [],
   "source": [
    "df = pdr.get_data_yahoo('IBM')"
   ]
  },
  {
   "cell_type": "code",
   "execution_count": 33,
   "metadata": {},
   "outputs": [
    {
     "data": {
      "text/html": [
       "<div>\n",
       "<style scoped>\n",
       "    .dataframe tbody tr th:only-of-type {\n",
       "        vertical-align: middle;\n",
       "    }\n",
       "\n",
       "    .dataframe tbody tr th {\n",
       "        vertical-align: top;\n",
       "    }\n",
       "\n",
       "    .dataframe thead th {\n",
       "        text-align: right;\n",
       "    }\n",
       "</style>\n",
       "<table border=\"1\" class=\"dataframe\">\n",
       "  <thead>\n",
       "    <tr style=\"text-align: right;\">\n",
       "      <th></th>\n",
       "      <th>High</th>\n",
       "      <th>Low</th>\n",
       "      <th>Open</th>\n",
       "      <th>Close</th>\n",
       "      <th>Volume</th>\n",
       "      <th>Adj Close</th>\n",
       "    </tr>\n",
       "    <tr>\n",
       "      <th>Date</th>\n",
       "      <th></th>\n",
       "      <th></th>\n",
       "      <th></th>\n",
       "      <th></th>\n",
       "      <th></th>\n",
       "      <th></th>\n",
       "    </tr>\n",
       "  </thead>\n",
       "  <tbody>\n",
       "    <tr>\n",
       "      <th>2019-10-24</th>\n",
       "      <td>135.070007</td>\n",
       "      <td>133.300003</td>\n",
       "      <td>134.830002</td>\n",
       "      <td>134.070007</td>\n",
       "      <td>2598500.0</td>\n",
       "      <td>127.727844</td>\n",
       "    </tr>\n",
       "    <tr>\n",
       "      <th>2019-10-25</th>\n",
       "      <td>135.929993</td>\n",
       "      <td>134.100006</td>\n",
       "      <td>134.119995</td>\n",
       "      <td>135.440002</td>\n",
       "      <td>2579100.0</td>\n",
       "      <td>129.033035</td>\n",
       "    </tr>\n",
       "    <tr>\n",
       "      <th>2019-10-28</th>\n",
       "      <td>136.630005</td>\n",
       "      <td>135.449997</td>\n",
       "      <td>136.000000</td>\n",
       "      <td>135.970001</td>\n",
       "      <td>3225700.0</td>\n",
       "      <td>129.537964</td>\n",
       "    </tr>\n",
       "    <tr>\n",
       "      <th>2019-10-29</th>\n",
       "      <td>135.570007</td>\n",
       "      <td>133.440002</td>\n",
       "      <td>135.419998</td>\n",
       "      <td>133.820007</td>\n",
       "      <td>4160700.0</td>\n",
       "      <td>127.489677</td>\n",
       "    </tr>\n",
       "    <tr>\n",
       "      <th>2019-10-30</th>\n",
       "      <td>135.279999</td>\n",
       "      <td>133.199997</td>\n",
       "      <td>133.830002</td>\n",
       "      <td>135.250000</td>\n",
       "      <td>2252700.0</td>\n",
       "      <td>128.852005</td>\n",
       "    </tr>\n",
       "    <tr>\n",
       "      <th>...</th>\n",
       "      <td>...</td>\n",
       "      <td>...</td>\n",
       "      <td>...</td>\n",
       "      <td>...</td>\n",
       "      <td>...</td>\n",
       "      <td>...</td>\n",
       "    </tr>\n",
       "    <tr>\n",
       "      <th>2020-08-04</th>\n",
       "      <td>125.860001</td>\n",
       "      <td>123.820000</td>\n",
       "      <td>123.820000</td>\n",
       "      <td>125.839996</td>\n",
       "      <td>3466100.0</td>\n",
       "      <td>124.213615</td>\n",
       "    </tr>\n",
       "    <tr>\n",
       "      <th>2020-08-05</th>\n",
       "      <td>126.750000</td>\n",
       "      <td>124.610001</td>\n",
       "      <td>126.730003</td>\n",
       "      <td>125.449997</td>\n",
       "      <td>3675400.0</td>\n",
       "      <td>123.828659</td>\n",
       "    </tr>\n",
       "    <tr>\n",
       "      <th>2020-08-06</th>\n",
       "      <td>126.260002</td>\n",
       "      <td>125.000000</td>\n",
       "      <td>125.000000</td>\n",
       "      <td>126.120003</td>\n",
       "      <td>3417100.0</td>\n",
       "      <td>124.490005</td>\n",
       "    </tr>\n",
       "    <tr>\n",
       "      <th>2020-08-07</th>\n",
       "      <td>125.070000</td>\n",
       "      <td>123.209999</td>\n",
       "      <td>123.500000</td>\n",
       "      <td>124.959999</td>\n",
       "      <td>3651000.0</td>\n",
       "      <td>124.959999</td>\n",
       "    </tr>\n",
       "    <tr>\n",
       "      <th>2020-08-10</th>\n",
       "      <td>127.239998</td>\n",
       "      <td>125.180000</td>\n",
       "      <td>125.419998</td>\n",
       "      <td>127.110001</td>\n",
       "      <td>3968300.0</td>\n",
       "      <td>127.110001</td>\n",
       "    </tr>\n",
       "  </tbody>\n",
       "</table>\n",
       "<p>200 rows × 6 columns</p>\n",
       "</div>"
      ],
      "text/plain": [
       "                  High         Low        Open       Close     Volume  \\\n",
       "Date                                                                    \n",
       "2019-10-24  135.070007  133.300003  134.830002  134.070007  2598500.0   \n",
       "2019-10-25  135.929993  134.100006  134.119995  135.440002  2579100.0   \n",
       "2019-10-28  136.630005  135.449997  136.000000  135.970001  3225700.0   \n",
       "2019-10-29  135.570007  133.440002  135.419998  133.820007  4160700.0   \n",
       "2019-10-30  135.279999  133.199997  133.830002  135.250000  2252700.0   \n",
       "...                ...         ...         ...         ...        ...   \n",
       "2020-08-04  125.860001  123.820000  123.820000  125.839996  3466100.0   \n",
       "2020-08-05  126.750000  124.610001  126.730003  125.449997  3675400.0   \n",
       "2020-08-06  126.260002  125.000000  125.000000  126.120003  3417100.0   \n",
       "2020-08-07  125.070000  123.209999  123.500000  124.959999  3651000.0   \n",
       "2020-08-10  127.239998  125.180000  125.419998  127.110001  3968300.0   \n",
       "\n",
       "             Adj Close  \n",
       "Date                    \n",
       "2019-10-24  127.727844  \n",
       "2019-10-25  129.033035  \n",
       "2019-10-28  129.537964  \n",
       "2019-10-29  127.489677  \n",
       "2019-10-30  128.852005  \n",
       "...                ...  \n",
       "2020-08-04  124.213615  \n",
       "2020-08-05  123.828659  \n",
       "2020-08-06  124.490005  \n",
       "2020-08-07  124.959999  \n",
       "2020-08-10  127.110001  \n",
       "\n",
       "[200 rows x 6 columns]"
      ]
     },
     "execution_count": 33,
     "metadata": {},
     "output_type": "execute_result"
    }
   ],
   "source": [
    "df[1000:1200]"
   ]
  },
  {
   "cell_type": "code",
   "execution_count": null,
   "metadata": {},
   "outputs": [],
   "source": [
    "df = pdr.get_data_yahoo('IBM')"
   ]
  },
  {
   "cell_type": "code",
   "execution_count": 34,
   "metadata": {},
   "outputs": [],
   "source": [
    "amazon = pdr.get_data_yahoo('AMZN', start = '2016-01-01', end = '2020-01-01')"
   ]
  },
  {
   "cell_type": "code",
   "execution_count": 36,
   "metadata": {},
   "outputs": [],
   "source": [
    "amazon.to_csv('amazon.csv', sep = ',')"
   ]
  },
  {
   "cell_type": "markdown",
   "metadata": {},
   "source": [
    "## CSV"
   ]
  },
  {
   "cell_type": "code",
   "execution_count": null,
   "metadata": {},
   "outputs": [],
   "source": []
  },
  {
   "cell_type": "code",
   "execution_count": null,
   "metadata": {},
   "outputs": [],
   "source": []
  },
  {
   "cell_type": "code",
   "execution_count": null,
   "metadata": {},
   "outputs": [],
   "source": []
  }
 ],
 "metadata": {
  "kernelspec": {
   "display_name": "Python 3",
   "language": "python",
   "name": "python3"
  },
  "language_info": {
   "codemirror_mode": {
    "name": "ipython",
    "version": 3
   },
   "file_extension": ".py",
   "mimetype": "text/x-python",
   "name": "python",
   "nbconvert_exporter": "python",
   "pygments_lexer": "ipython3",
   "version": "3.7.6"
  }
 },
 "nbformat": 4,
 "nbformat_minor": 4
}
