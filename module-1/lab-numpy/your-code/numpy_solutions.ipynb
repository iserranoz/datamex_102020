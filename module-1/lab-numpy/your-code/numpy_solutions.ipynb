{
 "cells": [
  {
   "cell_type": "code",
   "execution_count": 1,
   "metadata": {},
   "outputs": [
    {
     "name": "stdout",
     "output_type": "stream",
     "text": [
      "1.18.1\n"
     ]
    }
   ],
   "source": [
    "#1. Import the NUMPY package under the name np.\n",
    "\n",
    "import numpy as np\n",
    "\n",
    "#2. Print the NUMPY version and the configuration.\n",
    "print(np.version.version)\n"
   ]
  },
  {
   "cell_type": "code",
   "execution_count": 15,
   "metadata": {},
   "outputs": [
    {
     "name": "stdout",
     "output_type": "stream",
     "text": [
      "[[[0.96907852 0.3538228  0.84914816 0.85026183 0.65214963]\n",
      "  [0.23094774 0.92746459 0.89506519 0.69255755 0.08912812]\n",
      "  [0.99432492 0.49943752 0.35691959 0.30592924 0.70215842]]\n",
      "\n",
      " [[0.30295773 0.75103324 0.54592462 0.96737936 0.25559923]\n",
      "  [0.75636511 0.3175953  0.36654221 0.45934055 0.42664628]\n",
      "  [0.63808543 0.32418507 0.09714127 0.66374657 0.33910098]]]\n"
     ]
    }
   ],
   "source": [
    "#3. Generate a 2x3x5 3-dimensional array with random values. Assign the array to variable \"a\"\n",
    "# Challenge: there are at least three easy ways that use numpy to generate random arrays. How many ways can you find?\n",
    "\n",
    "a = np.random.random([2,3,5])\n",
    "\n",
    "#4. Print a.\n",
    "\n",
    "print(a)"
   ]
  },
  {
   "cell_type": "code",
   "execution_count": 25,
   "metadata": {},
   "outputs": [
    {
     "data": {
      "text/plain": [
       "array([[[1, 1],\n",
       "        [1, 1],\n",
       "        [1, 1]],\n",
       "\n",
       "       [[1, 1],\n",
       "        [1, 1],\n",
       "        [1, 1]],\n",
       "\n",
       "       [[1, 1],\n",
       "        [1, 1],\n",
       "        [1, 1]],\n",
       "\n",
       "       [[1, 1],\n",
       "        [1, 1],\n",
       "        [1, 1]],\n",
       "\n",
       "       [[1, 1],\n",
       "        [1, 1],\n",
       "        [1, 1]]])"
      ]
     },
     "execution_count": 25,
     "metadata": {},
     "output_type": "execute_result"
    }
   ],
   "source": [
    "#5. Create a 5x3x2 3-dimensional array with all values equaling 1.\n",
    "#Assign the array to variable \"b\"\n",
    "\n",
    "\n",
    "b = np.array([[[1 for i in range(1,3)],\n",
    "        [1 for i in range(1,3)],\n",
    "        [1 for i in range(1,3)]],\n",
    "\n",
    "       [[1 for i in range(1,3)],\n",
    "        [1 for i in range(1,3)],\n",
    "        [1 for i in range(1,3)]],\n",
    "\n",
    "       [[1 for i in range(1,3)],\n",
    "        [1 for i in range(1,3)],\n",
    "        [1 for i in range(1,3)]],\n",
    "\n",
    "       [[1 for i in range(1,3)],\n",
    "        [1 for i in range(1,3)],\n",
    "        [1 for i in range(1,3)]],\n",
    "\n",
    "       [[1 for i in range(1,3)],\n",
    "        [1 for i in range(1,3)],\n",
    "        [1 for i in range(1,3)]]])\n",
    "\n",
    "#6. Print b.\n",
    "\n",
    "b\n"
   ]
  },
  {
   "cell_type": "code",
   "execution_count": 26,
   "metadata": {},
   "outputs": [
    {
     "data": {
      "text/plain": [
       "False"
      ]
     },
     "execution_count": 26,
     "metadata": {},
     "output_type": "execute_result"
    }
   ],
   "source": [
    "#7. Do a and b have the same size? How do you prove that in Python code?\n",
    "a.shape == b.shape"
   ]
  },
  {
   "cell_type": "code",
   "execution_count": 20,
   "metadata": {},
   "outputs": [],
   "source": [
    "#8. Are you able to add a and b? Why or why not?\n",
    "#a+b #because they don't have the same shape\n",
    "#ValueError: operands could not be broadcast together with shapes (2,3,5) (5,3,3) \n"
   ]
  },
  {
   "cell_type": "code",
   "execution_count": 38,
   "metadata": {},
   "outputs": [
    {
     "data": {
      "text/plain": [
       "True"
      ]
     },
     "execution_count": 38,
     "metadata": {},
     "output_type": "execute_result"
    }
   ],
   "source": [
    "#9. Transpose b so that it has the same structure of a \n",
    "#(i.e. become a 2x3x5 array). Assign the transposed array to varialbe \"c\"\n",
    "c = b.T\n",
    "c.shape == a.shape\n"
   ]
  },
  {
   "cell_type": "code",
   "execution_count": 40,
   "metadata": {},
   "outputs": [
    {
     "data": {
      "text/plain": [
       "array([[[1.96907852, 1.3538228 , 1.84914816, 1.85026183, 1.65214963],\n",
       "        [1.23094774, 1.92746459, 1.89506519, 1.69255755, 1.08912812],\n",
       "        [1.99432492, 1.49943752, 1.35691959, 1.30592924, 1.70215842]],\n",
       "\n",
       "       [[1.30295773, 1.75103324, 1.54592462, 1.96737936, 1.25559923],\n",
       "        [1.75636511, 1.3175953 , 1.36654221, 1.45934055, 1.42664628],\n",
       "        [1.63808543, 1.32418507, 1.09714127, 1.66374657, 1.33910098]]])"
      ]
     },
     "execution_count": 40,
     "metadata": {},
     "output_type": "execute_result"
    }
   ],
   "source": [
    "#10.Try to add a and c. Now it should work. \n",
    "#Assign the sum to varialbe \"d\". But why does it work now?\n",
    "#i used tranpose, now, they have the same shape\n",
    "d = a+c\n",
    "d"
   ]
  },
  {
   "cell_type": "code",
   "execution_count": 44,
   "metadata": {},
   "outputs": [
    {
     "data": {
      "text/plain": [
       "array([[[0.96907852, 0.3538228 , 0.84914816, 0.85026183, 0.65214963],\n",
       "        [0.23094774, 0.92746459, 0.89506519, 0.69255755, 0.08912812],\n",
       "        [0.99432492, 0.49943752, 0.35691959, 0.30592924, 0.70215842]],\n",
       "\n",
       "       [[0.30295773, 0.75103324, 0.54592462, 0.96737936, 0.25559923],\n",
       "        [0.75636511, 0.3175953 , 0.36654221, 0.45934055, 0.42664628],\n",
       "        [0.63808543, 0.32418507, 0.09714127, 0.66374657, 0.33910098]]])"
      ]
     },
     "execution_count": 44,
     "metadata": {},
     "output_type": "execute_result"
    }
   ],
   "source": [
    "#11. Print a and d. Notice the difference and relation of the two array \n",
    "#in terms of the values? Explain \n",
    "#the difference is c, by the operation of the previous cell\n",
    "a"
   ]
  },
  {
   "cell_type": "code",
   "execution_count": 45,
   "metadata": {},
   "outputs": [
    {
     "data": {
      "text/plain": [
       "array([[[1.96907852, 1.3538228 , 1.84914816, 1.85026183, 1.65214963],\n",
       "        [1.23094774, 1.92746459, 1.89506519, 1.69255755, 1.08912812],\n",
       "        [1.99432492, 1.49943752, 1.35691959, 1.30592924, 1.70215842]],\n",
       "\n",
       "       [[1.30295773, 1.75103324, 1.54592462, 1.96737936, 1.25559923],\n",
       "        [1.75636511, 1.3175953 , 1.36654221, 1.45934055, 1.42664628],\n",
       "        [1.63808543, 1.32418507, 1.09714127, 1.66374657, 1.33910098]]])"
      ]
     },
     "execution_count": 45,
     "metadata": {},
     "output_type": "execute_result"
    }
   ],
   "source": [
    "d"
   ]
  },
  {
   "cell_type": "code",
   "execution_count": 46,
   "metadata": {},
   "outputs": [
    {
     "data": {
      "text/plain": [
       "array([[[0.96907852, 0.3538228 , 0.84914816, 0.85026183, 0.65214963],\n",
       "        [0.23094774, 0.92746459, 0.89506519, 0.69255755, 0.08912812],\n",
       "        [0.99432492, 0.49943752, 0.35691959, 0.30592924, 0.70215842]],\n",
       "\n",
       "       [[0.30295773, 0.75103324, 0.54592462, 0.96737936, 0.25559923],\n",
       "        [0.75636511, 0.3175953 , 0.36654221, 0.45934055, 0.42664628],\n",
       "        [0.63808543, 0.32418507, 0.09714127, 0.66374657, 0.33910098]]])"
      ]
     },
     "execution_count": 46,
     "metadata": {},
     "output_type": "execute_result"
    }
   ],
   "source": [
    "#12. Multiply a and c. Assign the result to e.\n",
    "e = a*c\n",
    "e"
   ]
  },
  {
   "cell_type": "code",
   "execution_count": 47,
   "metadata": {},
   "outputs": [
    {
     "data": {
      "text/plain": [
       "array([[[ True,  True,  True,  True,  True],\n",
       "        [ True,  True,  True,  True,  True],\n",
       "        [ True,  True,  True,  True,  True]],\n",
       "\n",
       "       [[ True,  True,  True,  True,  True],\n",
       "        [ True,  True,  True,  True,  True],\n",
       "        [ True,  True,  True,  True,  True]]])"
      ]
     },
     "execution_count": 47,
     "metadata": {},
     "output_type": "execute_result"
    }
   ],
   "source": [
    "#13. Does e equal to a? Why or why not? Yes, is equal\n",
    "e == a"
   ]
  },
  {
   "cell_type": "code",
   "execution_count": 52,
   "metadata": {},
   "outputs": [
    {
     "name": "stdout",
     "output_type": "stream",
     "text": [
      "max:1.9943249234699727, min:1.0891281182962356, mean: 1.5526678923374893\n"
     ]
    }
   ],
   "source": [
    "#14. Identify the max, min, and mean values in d. \n",
    "#Assign those values to variables \"d_max\", \"d_min\", and \"d_mean\"\n",
    "d_max = d.max()\n",
    "d_min = d.min()\n",
    "d_mean = d.mean()\n",
    "print (f'max:{d_max}, min:{d_min}, mean: {d_mean}')\n",
    "\n"
   ]
  },
  {
   "cell_type": "code",
   "execution_count": 59,
   "metadata": {},
   "outputs": [
    {
     "data": {
      "text/plain": [
       "True"
      ]
     },
     "execution_count": 59,
     "metadata": {},
     "output_type": "execute_result"
    }
   ],
   "source": [
    "#15. Now we want to label the values in d. \n",
    "#First create an empty array \"f\" with the same shape (i.e. 2x3x5) \n",
    "#as d using `np.empty`.\n",
    "f = np.empty([2,3,5])\n",
    "f.shape ==d.shape"
   ]
  },
  {
   "cell_type": "code",
   "execution_count": 60,
   "metadata": {},
   "outputs": [
    {
     "data": {
      "text/plain": [
       "array([[[1.96907852, 1.3538228 , 1.84914816, 1.85026183, 1.65214963],\n",
       "        [1.23094774, 1.92746459, 1.89506519, 1.69255755, 1.08912812],\n",
       "        [1.99432492, 1.49943752, 1.35691959, 1.30592924, 1.70215842]],\n",
       "\n",
       "       [[1.30295773, 1.75103324, 1.54592462, 1.96737936, 1.25559923],\n",
       "        [1.75636511, 1.3175953 , 1.36654221, 1.45934055, 1.42664628],\n",
       "        [1.63808543, 1.32418507, 1.09714127, 1.66374657, 1.33910098]]])"
      ]
     },
     "execution_count": 60,
     "metadata": {},
     "output_type": "execute_result"
    }
   ],
   "source": [
    "f"
   ]
  },
  {
   "cell_type": "code",
   "execution_count": null,
   "metadata": {},
   "outputs": [],
   "source": []
  },
  {
   "cell_type": "markdown",
   "metadata": {},
   "source": [
    "#16. Populate the values in f. For each value in d, \n",
    "#if it's larger than d_min but smaller than d_mean, \n",
    "#assign 25 to the corresponding value in f.\n",
    "If a value in d is larger than d_mean but smaller than d_max, assign 75 to the corresponding value in f.\n",
    "If a value equals to d_mean, assign 50 to the corresponding value in f.\n",
    "Assign 0 to the corresponding value(s) in f for d_min in d.\n",
    "Assign 100 to the corresponding value(s) in f for d_max in d.\n",
    "In the end, f should have only the following values: 0, 25, 50, 75, and 100.\n",
    "Note: you don't have to use Numpy in this question.\n",
    "\"\"\""
   ]
  },
  {
   "cell_type": "code",
   "execution_count": 58,
   "metadata": {},
   "outputs": [
    {
     "data": {
      "text/plain": [
       "(2, 3, 5)"
      ]
     },
     "execution_count": 58,
     "metadata": {},
     "output_type": "execute_result"
    }
   ],
   "source": [
    "d.shape"
   ]
  },
  {
   "cell_type": "code",
   "execution_count": 77,
   "metadata": {},
   "outputs": [
    {
     "data": {
      "text/plain": [
       "array([[[1.96907852, 1.3538228 , 1.84914816, 1.85026183, 1.65214963],\n",
       "        [1.23094774, 1.92746459, 1.89506519, 1.69255755, 1.08912812],\n",
       "        [1.99432492, 1.49943752, 1.35691959, 1.30592924, 1.70215842]],\n",
       "\n",
       "       [[1.30295773, 1.75103324, 1.54592462, 1.96737936, 1.25559923],\n",
       "        [1.75636511, 1.3175953 , 1.36654221, 1.45934055, 1.42664628],\n",
       "        [1.63808543, 1.32418507, 1.09714127, 1.66374657, 1.33910098]]])"
      ]
     },
     "execution_count": 77,
     "metadata": {},
     "output_type": "execute_result"
    }
   ],
   "source": [
    "f"
   ]
  },
  {
   "cell_type": "code",
   "execution_count": 64,
   "metadata": {},
   "outputs": [
    {
     "data": {
      "text/plain": [
       "1.3538228031852992"
      ]
     },
     "execution_count": 64,
     "metadata": {},
     "output_type": "execute_result"
    }
   ],
   "source": [
    "f[0][0][1]"
   ]
  },
  {
   "cell_type": "code",
   "execution_count": 86,
   "metadata": {},
   "outputs": [],
   "source": [
    "lst = []\n",
    "for w in f:\n",
    "    for t in w:\n",
    "        for o in t:\n",
    "            lst.append(o)\n",
    "\n",
    "    \n",
    "\n",
    "              \n",
    "    "
   ]
  },
  {
   "cell_type": "code",
   "execution_count": 87,
   "metadata": {},
   "outputs": [],
   "source": [
    "lst2 = []\n",
    "for i in lst:\n",
    "    \n",
    "    if i == d_mean:\n",
    "        lst2.append(50)\n",
    "    elif i == d_min:\n",
    "        lst2.append(0)\n",
    "    elif i == d_max:\n",
    "        lst2.append(100)\n",
    "    elif (i > d_min) and (i < d_mean):\n",
    "        lst2.append(25)\n",
    "    elif (i > d_mean) and (i < d_max):\n",
    "        lst2.append(75)\n"
   ]
  },
  {
   "cell_type": "code",
   "execution_count": 89,
   "metadata": {},
   "outputs": [
    {
     "data": {
      "text/plain": [
       "True"
      ]
     },
     "execution_count": 89,
     "metadata": {},
     "output_type": "execute_result"
    }
   ],
   "source": [
    "len(lst2) == len(lst)"
   ]
  },
  {
   "cell_type": "code",
   "execution_count": 91,
   "metadata": {},
   "outputs": [
    {
     "name": "stdout",
     "output_type": "stream",
     "text": [
      "[75, 25, 75, 75, 75, 25, 75, 75, 75, 0, 100, 25, 25, 25, 75, 25, 75, 25, 75, 25, 75, 25, 25, 25, 25, 75, 25, 25, 75, 25]\n"
     ]
    }
   ],
   "source": [
    "print(lst2)"
   ]
  },
  {
   "cell_type": "code",
   "execution_count": 95,
   "metadata": {},
   "outputs": [],
   "source": [
    "lista_1 = [lst2[i] for i in range(0,5)]\n",
    "lista_2 = [lst2[i] for i in range(5,10)]\n",
    "lista_3 = [lst2[i] for i in range(10,15)]\n",
    "lista_4 = [lst2[i] for i in range(15,20)]\n",
    "lista_5 = [lst2[i] for i in range(20,25)]\n",
    "lista_6 = [lst2[i] for i in range(25,30)]"
   ]
  },
  {
   "cell_type": "code",
   "execution_count": 96,
   "metadata": {},
   "outputs": [
    {
     "data": {
      "text/plain": [
       "[75, 25, 75, 75, 75]"
      ]
     },
     "execution_count": 96,
     "metadata": {},
     "output_type": "execute_result"
    }
   ],
   "source": [
    "lista_1"
   ]
  },
  {
   "cell_type": "code",
   "execution_count": 99,
   "metadata": {},
   "outputs": [],
   "source": [
    "lst_123 = [lista_1] + [lista_2] + [lista_3]\n"
   ]
  },
  {
   "cell_type": "code",
   "execution_count": 100,
   "metadata": {},
   "outputs": [
    {
     "data": {
      "text/plain": [
       "[[75, 25, 75, 75, 75], [25, 75, 75, 75, 0], [100, 25, 25, 25, 75]]"
      ]
     },
     "execution_count": 100,
     "metadata": {},
     "output_type": "execute_result"
    }
   ],
   "source": [
    "lst_123"
   ]
  },
  {
   "cell_type": "code",
   "execution_count": 101,
   "metadata": {},
   "outputs": [
    {
     "data": {
      "text/plain": [
       "[[25, 75, 25, 75, 25], [75, 25, 25, 25, 25], [75, 25, 25, 75, 25]]"
      ]
     },
     "execution_count": 101,
     "metadata": {},
     "output_type": "execute_result"
    }
   ],
   "source": [
    "lst_456 = [lista_4] + [lista_5] + [lista_6]\n",
    "lst_456"
   ]
  },
  {
   "cell_type": "code",
   "execution_count": 103,
   "metadata": {},
   "outputs": [
    {
     "data": {
      "text/plain": [
       "array([[[ 75,  25,  75,  75,  75],\n",
       "        [ 25,  75,  75,  75,   0],\n",
       "        [100,  25,  25,  25,  75]],\n",
       "\n",
       "       [[ 25,  75,  25,  75,  25],\n",
       "        [ 75,  25,  25,  25,  25],\n",
       "        [ 75,  25,  25,  75,  25]]])"
      ]
     },
     "execution_count": 103,
     "metadata": {},
     "output_type": "execute_result"
    }
   ],
   "source": [
    "lst_n = [lst_123] + [lst_456]\n",
    "n = np.array(lst_n)\n",
    "n"
   ]
  },
  {
   "cell_type": "code",
   "execution_count": 105,
   "metadata": {},
   "outputs": [
    {
     "ename": "SyntaxError",
     "evalue": "positional argument follows keyword argument (<ipython-input-105-421dd967e43f>, line 3)",
     "output_type": "error",
     "traceback": [
      "\u001b[0;36m  File \u001b[0;32m\"<ipython-input-105-421dd967e43f>\"\u001b[0;36m, line \u001b[0;32m3\u001b[0m\n\u001b[0;31m    n.np.where(n = 0,'a',n)\u001b[0m\n\u001b[0m                    ^\u001b[0m\n\u001b[0;31mSyntaxError\u001b[0m\u001b[0;31m:\u001b[0m positional argument follows keyword argument\n"
     ]
    }
   ],
   "source": [
    "#18. Bonus question: instead of using numbers (i.e. 0, 25, 50, 75, and 100), how to use string values \n",
    "#(\"A\", \"B\", \"C\", \"D\", and \"E\") to label the array elements? You are expecting the result to be:\n",
    "n.np.where(n = 0,'a',n)"
   ]
  },
  {
   "cell_type": "code",
   "execution_count": null,
   "metadata": {},
   "outputs": [],
   "source": []
  },
  {
   "cell_type": "code",
   "execution_count": null,
   "metadata": {},
   "outputs": [],
   "source": []
  }
 ],
 "metadata": {
  "kernelspec": {
   "display_name": "Python 3",
   "language": "python",
   "name": "python3"
  },
  "language_info": {
   "codemirror_mode": {
    "name": "ipython",
    "version": 3
   },
   "file_extension": ".py",
   "mimetype": "text/x-python",
   "name": "python",
   "nbconvert_exporter": "python",
   "pygments_lexer": "ipython3",
   "version": "3.7.6"
  }
 },
 "nbformat": 4,
 "nbformat_minor": 4
}
