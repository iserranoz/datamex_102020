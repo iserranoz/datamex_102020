{
 "cells": [
  {
   "cell_type": "code",
   "execution_count": 1,
   "metadata": {},
   "outputs": [],
   "source": [
    "import pandas as pd\n",
    "import numpy as np\n",
    "import matplotlib.pyplot as plt\n",
    "import seaborn as sns\n",
    "import re\n",
    "#impportamos los modulos a usar, podriamos agregar otros en el desarrollo"
   ]
  },
  {
   "cell_type": "markdown",
   "metadata": {},
   "source": [
    "## This is a table of shark attack incidents compiled by the Global Shark Attack##"
   ]
  },
  {
   "cell_type": "code",
   "execution_count": 2,
   "metadata": {},
   "outputs": [
    {
     "ename": "FileNotFoundError",
     "evalue": "[Errno 2] No such file or directory: 'attacks.csv'",
     "output_type": "error",
     "traceback": [
      "\u001b[0;31m---------------------------------------------------------------------------\u001b[0m",
      "\u001b[0;31mFileNotFoundError\u001b[0m                         Traceback (most recent call last)",
      "\u001b[0;32m<ipython-input-2-06d5f6bd509e>\u001b[0m in \u001b[0;36m<module>\u001b[0;34m\u001b[0m\n\u001b[0;32m----> 1\u001b[0;31m \u001b[0mdf\u001b[0m \u001b[0;34m=\u001b[0m \u001b[0mpd\u001b[0m\u001b[0;34m.\u001b[0m\u001b[0mread_csv\u001b[0m\u001b[0;34m(\u001b[0m\u001b[0;34m'attacks.csv'\u001b[0m\u001b[0;34m,\u001b[0m \u001b[0mencoding\u001b[0m \u001b[0;34m=\u001b[0m \u001b[0;34m'latin-1'\u001b[0m\u001b[0;34m)\u001b[0m\u001b[0;34m\u001b[0m\u001b[0;34m\u001b[0m\u001b[0m\n\u001b[0m\u001b[1;32m      2\u001b[0m \u001b[0;31m#importamos el dataset\u001b[0m\u001b[0;34m\u001b[0m\u001b[0;34m\u001b[0m\u001b[0;34m\u001b[0m\u001b[0m\n",
      "\u001b[0;32m/opt/anaconda3/lib/python3.7/site-packages/pandas/io/parsers.py\u001b[0m in \u001b[0;36mparser_f\u001b[0;34m(filepath_or_buffer, sep, delimiter, header, names, index_col, usecols, squeeze, prefix, mangle_dupe_cols, dtype, engine, converters, true_values, false_values, skipinitialspace, skiprows, skipfooter, nrows, na_values, keep_default_na, na_filter, verbose, skip_blank_lines, parse_dates, infer_datetime_format, keep_date_col, date_parser, dayfirst, cache_dates, iterator, chunksize, compression, thousands, decimal, lineterminator, quotechar, quoting, doublequote, escapechar, comment, encoding, dialect, error_bad_lines, warn_bad_lines, delim_whitespace, low_memory, memory_map, float_precision)\u001b[0m\n\u001b[1;32m    674\u001b[0m         )\n\u001b[1;32m    675\u001b[0m \u001b[0;34m\u001b[0m\u001b[0m\n\u001b[0;32m--> 676\u001b[0;31m         \u001b[0;32mreturn\u001b[0m \u001b[0m_read\u001b[0m\u001b[0;34m(\u001b[0m\u001b[0mfilepath_or_buffer\u001b[0m\u001b[0;34m,\u001b[0m \u001b[0mkwds\u001b[0m\u001b[0;34m)\u001b[0m\u001b[0;34m\u001b[0m\u001b[0;34m\u001b[0m\u001b[0m\n\u001b[0m\u001b[1;32m    677\u001b[0m \u001b[0;34m\u001b[0m\u001b[0m\n\u001b[1;32m    678\u001b[0m     \u001b[0mparser_f\u001b[0m\u001b[0;34m.\u001b[0m\u001b[0m__name__\u001b[0m \u001b[0;34m=\u001b[0m \u001b[0mname\u001b[0m\u001b[0;34m\u001b[0m\u001b[0;34m\u001b[0m\u001b[0m\n",
      "\u001b[0;32m/opt/anaconda3/lib/python3.7/site-packages/pandas/io/parsers.py\u001b[0m in \u001b[0;36m_read\u001b[0;34m(filepath_or_buffer, kwds)\u001b[0m\n\u001b[1;32m    446\u001b[0m \u001b[0;34m\u001b[0m\u001b[0m\n\u001b[1;32m    447\u001b[0m     \u001b[0;31m# Create the parser.\u001b[0m\u001b[0;34m\u001b[0m\u001b[0;34m\u001b[0m\u001b[0;34m\u001b[0m\u001b[0m\n\u001b[0;32m--> 448\u001b[0;31m     \u001b[0mparser\u001b[0m \u001b[0;34m=\u001b[0m \u001b[0mTextFileReader\u001b[0m\u001b[0;34m(\u001b[0m\u001b[0mfp_or_buf\u001b[0m\u001b[0;34m,\u001b[0m \u001b[0;34m**\u001b[0m\u001b[0mkwds\u001b[0m\u001b[0;34m)\u001b[0m\u001b[0;34m\u001b[0m\u001b[0;34m\u001b[0m\u001b[0m\n\u001b[0m\u001b[1;32m    449\u001b[0m \u001b[0;34m\u001b[0m\u001b[0m\n\u001b[1;32m    450\u001b[0m     \u001b[0;32mif\u001b[0m \u001b[0mchunksize\u001b[0m \u001b[0;32mor\u001b[0m \u001b[0miterator\u001b[0m\u001b[0;34m:\u001b[0m\u001b[0;34m\u001b[0m\u001b[0;34m\u001b[0m\u001b[0m\n",
      "\u001b[0;32m/opt/anaconda3/lib/python3.7/site-packages/pandas/io/parsers.py\u001b[0m in \u001b[0;36m__init__\u001b[0;34m(self, f, engine, **kwds)\u001b[0m\n\u001b[1;32m    878\u001b[0m             \u001b[0mself\u001b[0m\u001b[0;34m.\u001b[0m\u001b[0moptions\u001b[0m\u001b[0;34m[\u001b[0m\u001b[0;34m\"has_index_names\"\u001b[0m\u001b[0;34m]\u001b[0m \u001b[0;34m=\u001b[0m \u001b[0mkwds\u001b[0m\u001b[0;34m[\u001b[0m\u001b[0;34m\"has_index_names\"\u001b[0m\u001b[0;34m]\u001b[0m\u001b[0;34m\u001b[0m\u001b[0;34m\u001b[0m\u001b[0m\n\u001b[1;32m    879\u001b[0m \u001b[0;34m\u001b[0m\u001b[0m\n\u001b[0;32m--> 880\u001b[0;31m         \u001b[0mself\u001b[0m\u001b[0;34m.\u001b[0m\u001b[0m_make_engine\u001b[0m\u001b[0;34m(\u001b[0m\u001b[0mself\u001b[0m\u001b[0;34m.\u001b[0m\u001b[0mengine\u001b[0m\u001b[0;34m)\u001b[0m\u001b[0;34m\u001b[0m\u001b[0;34m\u001b[0m\u001b[0m\n\u001b[0m\u001b[1;32m    881\u001b[0m \u001b[0;34m\u001b[0m\u001b[0m\n\u001b[1;32m    882\u001b[0m     \u001b[0;32mdef\u001b[0m \u001b[0mclose\u001b[0m\u001b[0;34m(\u001b[0m\u001b[0mself\u001b[0m\u001b[0;34m)\u001b[0m\u001b[0;34m:\u001b[0m\u001b[0;34m\u001b[0m\u001b[0;34m\u001b[0m\u001b[0m\n",
      "\u001b[0;32m/opt/anaconda3/lib/python3.7/site-packages/pandas/io/parsers.py\u001b[0m in \u001b[0;36m_make_engine\u001b[0;34m(self, engine)\u001b[0m\n\u001b[1;32m   1112\u001b[0m     \u001b[0;32mdef\u001b[0m \u001b[0m_make_engine\u001b[0m\u001b[0;34m(\u001b[0m\u001b[0mself\u001b[0m\u001b[0;34m,\u001b[0m \u001b[0mengine\u001b[0m\u001b[0;34m=\u001b[0m\u001b[0;34m\"c\"\u001b[0m\u001b[0;34m)\u001b[0m\u001b[0;34m:\u001b[0m\u001b[0;34m\u001b[0m\u001b[0;34m\u001b[0m\u001b[0m\n\u001b[1;32m   1113\u001b[0m         \u001b[0;32mif\u001b[0m \u001b[0mengine\u001b[0m \u001b[0;34m==\u001b[0m \u001b[0;34m\"c\"\u001b[0m\u001b[0;34m:\u001b[0m\u001b[0;34m\u001b[0m\u001b[0;34m\u001b[0m\u001b[0m\n\u001b[0;32m-> 1114\u001b[0;31m             \u001b[0mself\u001b[0m\u001b[0;34m.\u001b[0m\u001b[0m_engine\u001b[0m \u001b[0;34m=\u001b[0m \u001b[0mCParserWrapper\u001b[0m\u001b[0;34m(\u001b[0m\u001b[0mself\u001b[0m\u001b[0;34m.\u001b[0m\u001b[0mf\u001b[0m\u001b[0;34m,\u001b[0m \u001b[0;34m**\u001b[0m\u001b[0mself\u001b[0m\u001b[0;34m.\u001b[0m\u001b[0moptions\u001b[0m\u001b[0;34m)\u001b[0m\u001b[0;34m\u001b[0m\u001b[0;34m\u001b[0m\u001b[0m\n\u001b[0m\u001b[1;32m   1115\u001b[0m         \u001b[0;32melse\u001b[0m\u001b[0;34m:\u001b[0m\u001b[0;34m\u001b[0m\u001b[0;34m\u001b[0m\u001b[0m\n\u001b[1;32m   1116\u001b[0m             \u001b[0;32mif\u001b[0m \u001b[0mengine\u001b[0m \u001b[0;34m==\u001b[0m \u001b[0;34m\"python\"\u001b[0m\u001b[0;34m:\u001b[0m\u001b[0;34m\u001b[0m\u001b[0;34m\u001b[0m\u001b[0m\n",
      "\u001b[0;32m/opt/anaconda3/lib/python3.7/site-packages/pandas/io/parsers.py\u001b[0m in \u001b[0;36m__init__\u001b[0;34m(self, src, **kwds)\u001b[0m\n\u001b[1;32m   1872\u001b[0m         \u001b[0;32mif\u001b[0m \u001b[0mkwds\u001b[0m\u001b[0;34m.\u001b[0m\u001b[0mget\u001b[0m\u001b[0;34m(\u001b[0m\u001b[0;34m\"compression\"\u001b[0m\u001b[0;34m)\u001b[0m \u001b[0;32mis\u001b[0m \u001b[0;32mNone\u001b[0m \u001b[0;32mand\u001b[0m \u001b[0mencoding\u001b[0m\u001b[0;34m:\u001b[0m\u001b[0;34m\u001b[0m\u001b[0;34m\u001b[0m\u001b[0m\n\u001b[1;32m   1873\u001b[0m             \u001b[0;32mif\u001b[0m \u001b[0misinstance\u001b[0m\u001b[0;34m(\u001b[0m\u001b[0msrc\u001b[0m\u001b[0;34m,\u001b[0m \u001b[0mstr\u001b[0m\u001b[0;34m)\u001b[0m\u001b[0;34m:\u001b[0m\u001b[0;34m\u001b[0m\u001b[0;34m\u001b[0m\u001b[0m\n\u001b[0;32m-> 1874\u001b[0;31m                 \u001b[0msrc\u001b[0m \u001b[0;34m=\u001b[0m \u001b[0mopen\u001b[0m\u001b[0;34m(\u001b[0m\u001b[0msrc\u001b[0m\u001b[0;34m,\u001b[0m \u001b[0;34m\"rb\"\u001b[0m\u001b[0;34m)\u001b[0m\u001b[0;34m\u001b[0m\u001b[0;34m\u001b[0m\u001b[0m\n\u001b[0m\u001b[1;32m   1875\u001b[0m                 \u001b[0mself\u001b[0m\u001b[0;34m.\u001b[0m\u001b[0mhandles\u001b[0m\u001b[0;34m.\u001b[0m\u001b[0mappend\u001b[0m\u001b[0;34m(\u001b[0m\u001b[0msrc\u001b[0m\u001b[0;34m)\u001b[0m\u001b[0;34m\u001b[0m\u001b[0;34m\u001b[0m\u001b[0m\n\u001b[1;32m   1876\u001b[0m \u001b[0;34m\u001b[0m\u001b[0m\n",
      "\u001b[0;31mFileNotFoundError\u001b[0m: [Errno 2] No such file or directory: 'attacks.csv'"
     ]
    }
   ],
   "source": [
    "df = pd.read_csv('attacks.csv', encoding = 'latin-1')\n",
    "#importamos el dataset"
   ]
  },
  {
   "cell_type": "code",
   "execution_count": 211,
   "metadata": {},
   "outputs": [
    {
     "name": "stdout",
     "output_type": "stream",
     "text": [
      "<class 'pandas.core.frame.DataFrame'>\n",
      "RangeIndex: 25723 entries, 0 to 25722\n",
      "Data columns (total 24 columns):\n",
      " #   Column                  Non-Null Count  Dtype  \n",
      "---  ------                  --------------  -----  \n",
      " 0   Case Number             8702 non-null   object \n",
      " 1   Date                    6302 non-null   object \n",
      " 2   Year                    6300 non-null   float64\n",
      " 3   Type                    6298 non-null   object \n",
      " 4   Country                 6252 non-null   object \n",
      " 5   Area                    5847 non-null   object \n",
      " 6   Location                5762 non-null   object \n",
      " 7   Activity                5758 non-null   object \n",
      " 8   Name                    6092 non-null   object \n",
      " 9   Sex                     5737 non-null   object \n",
      " 10  Age                     3471 non-null   object \n",
      " 11  Injury                  6274 non-null   object \n",
      " 12  Fatal (Y/N)             5763 non-null   object \n",
      " 13  Time                    2948 non-null   object \n",
      " 14  Species                 3464 non-null   object \n",
      " 15  Investigator or Source  6285 non-null   object \n",
      " 16  pdf                     6302 non-null   object \n",
      " 17  href formula            6301 non-null   object \n",
      " 18  href                    6302 non-null   object \n",
      " 19  Case Number.1           6302 non-null   object \n",
      " 20  Case Number.2           6302 non-null   object \n",
      " 21  original order          6309 non-null   float64\n",
      " 22  Unnamed: 22             1 non-null      object \n",
      " 23  Unnamed: 23             2 non-null      object \n",
      "dtypes: float64(2), object(22)\n",
      "memory usage: 4.7+ MB\n"
     ]
    }
   ],
   "source": [
    "df.info()\n",
    "#usamos el info para un breve análisis visual de las columnas, \n",
    "#los tipos de datos y la cantidad de columnas que tiene el dataset"
   ]
  },
  {
   "cell_type": "code",
   "execution_count": 212,
   "metadata": {},
   "outputs": [
    {
     "data": {
      "text/html": [
       "<div>\n",
       "<style scoped>\n",
       "    .dataframe tbody tr th:only-of-type {\n",
       "        vertical-align: middle;\n",
       "    }\n",
       "\n",
       "    .dataframe tbody tr th {\n",
       "        vertical-align: top;\n",
       "    }\n",
       "\n",
       "    .dataframe thead th {\n",
       "        text-align: right;\n",
       "    }\n",
       "</style>\n",
       "<table border=\"1\" class=\"dataframe\">\n",
       "  <thead>\n",
       "    <tr style=\"text-align: right;\">\n",
       "      <th></th>\n",
       "      <th>Case Number</th>\n",
       "      <th>Date</th>\n",
       "      <th>Year</th>\n",
       "      <th>Type</th>\n",
       "      <th>Country</th>\n",
       "      <th>Area</th>\n",
       "      <th>Location</th>\n",
       "      <th>Activity</th>\n",
       "      <th>Name</th>\n",
       "      <th>Sex</th>\n",
       "      <th>...</th>\n",
       "      <th>Species</th>\n",
       "      <th>Investigator or Source</th>\n",
       "      <th>pdf</th>\n",
       "      <th>href formula</th>\n",
       "      <th>href</th>\n",
       "      <th>Case Number.1</th>\n",
       "      <th>Case Number.2</th>\n",
       "      <th>original order</th>\n",
       "      <th>Unnamed: 22</th>\n",
       "      <th>Unnamed: 23</th>\n",
       "    </tr>\n",
       "  </thead>\n",
       "  <tbody>\n",
       "    <tr>\n",
       "      <th>0</th>\n",
       "      <td>2018.06.25</td>\n",
       "      <td>25-Jun-2018</td>\n",
       "      <td>2018.0</td>\n",
       "      <td>Boating</td>\n",
       "      <td>USA</td>\n",
       "      <td>California</td>\n",
       "      <td>Oceanside, San Diego County</td>\n",
       "      <td>Paddling</td>\n",
       "      <td>Julie Wolfe</td>\n",
       "      <td>F</td>\n",
       "      <td>...</td>\n",
       "      <td>White shark</td>\n",
       "      <td>R. Collier, GSAF</td>\n",
       "      <td>2018.06.25-Wolfe.pdf</td>\n",
       "      <td>http://sharkattackfile.net/spreadsheets/pdf_di...</td>\n",
       "      <td>http://sharkattackfile.net/spreadsheets/pdf_di...</td>\n",
       "      <td>2018.06.25</td>\n",
       "      <td>2018.06.25</td>\n",
       "      <td>6303.0</td>\n",
       "      <td>NaN</td>\n",
       "      <td>NaN</td>\n",
       "    </tr>\n",
       "    <tr>\n",
       "      <th>1</th>\n",
       "      <td>2018.06.18</td>\n",
       "      <td>18-Jun-2018</td>\n",
       "      <td>2018.0</td>\n",
       "      <td>Unprovoked</td>\n",
       "      <td>USA</td>\n",
       "      <td>Georgia</td>\n",
       "      <td>St. Simon Island, Glynn County</td>\n",
       "      <td>Standing</td>\n",
       "      <td>Adyson McNeely</td>\n",
       "      <td>F</td>\n",
       "      <td>...</td>\n",
       "      <td>NaN</td>\n",
       "      <td>K.McMurray, TrackingSharks.com</td>\n",
       "      <td>2018.06.18-McNeely.pdf</td>\n",
       "      <td>http://sharkattackfile.net/spreadsheets/pdf_di...</td>\n",
       "      <td>http://sharkattackfile.net/spreadsheets/pdf_di...</td>\n",
       "      <td>2018.06.18</td>\n",
       "      <td>2018.06.18</td>\n",
       "      <td>6302.0</td>\n",
       "      <td>NaN</td>\n",
       "      <td>NaN</td>\n",
       "    </tr>\n",
       "    <tr>\n",
       "      <th>2</th>\n",
       "      <td>2018.06.09</td>\n",
       "      <td>09-Jun-2018</td>\n",
       "      <td>2018.0</td>\n",
       "      <td>Invalid</td>\n",
       "      <td>USA</td>\n",
       "      <td>Hawaii</td>\n",
       "      <td>Habush, Oahu</td>\n",
       "      <td>Surfing</td>\n",
       "      <td>John Denges</td>\n",
       "      <td>M</td>\n",
       "      <td>...</td>\n",
       "      <td>NaN</td>\n",
       "      <td>K.McMurray, TrackingSharks.com</td>\n",
       "      <td>2018.06.09-Denges.pdf</td>\n",
       "      <td>http://sharkattackfile.net/spreadsheets/pdf_di...</td>\n",
       "      <td>http://sharkattackfile.net/spreadsheets/pdf_di...</td>\n",
       "      <td>2018.06.09</td>\n",
       "      <td>2018.06.09</td>\n",
       "      <td>6301.0</td>\n",
       "      <td>NaN</td>\n",
       "      <td>NaN</td>\n",
       "    </tr>\n",
       "    <tr>\n",
       "      <th>3</th>\n",
       "      <td>2018.06.08</td>\n",
       "      <td>08-Jun-2018</td>\n",
       "      <td>2018.0</td>\n",
       "      <td>Unprovoked</td>\n",
       "      <td>AUSTRALIA</td>\n",
       "      <td>New South Wales</td>\n",
       "      <td>Arrawarra Headland</td>\n",
       "      <td>Surfing</td>\n",
       "      <td>male</td>\n",
       "      <td>M</td>\n",
       "      <td>...</td>\n",
       "      <td>2 m shark</td>\n",
       "      <td>B. Myatt, GSAF</td>\n",
       "      <td>2018.06.08-Arrawarra.pdf</td>\n",
       "      <td>http://sharkattackfile.net/spreadsheets/pdf_di...</td>\n",
       "      <td>http://sharkattackfile.net/spreadsheets/pdf_di...</td>\n",
       "      <td>2018.06.08</td>\n",
       "      <td>2018.06.08</td>\n",
       "      <td>6300.0</td>\n",
       "      <td>NaN</td>\n",
       "      <td>NaN</td>\n",
       "    </tr>\n",
       "    <tr>\n",
       "      <th>4</th>\n",
       "      <td>2018.06.04</td>\n",
       "      <td>04-Jun-2018</td>\n",
       "      <td>2018.0</td>\n",
       "      <td>Provoked</td>\n",
       "      <td>MEXICO</td>\n",
       "      <td>Colima</td>\n",
       "      <td>La Ticla</td>\n",
       "      <td>Free diving</td>\n",
       "      <td>Gustavo Ramos</td>\n",
       "      <td>M</td>\n",
       "      <td>...</td>\n",
       "      <td>Tiger shark, 3m</td>\n",
       "      <td>A .Kipper</td>\n",
       "      <td>2018.06.04-Ramos.pdf</td>\n",
       "      <td>http://sharkattackfile.net/spreadsheets/pdf_di...</td>\n",
       "      <td>http://sharkattackfile.net/spreadsheets/pdf_di...</td>\n",
       "      <td>2018.06.04</td>\n",
       "      <td>2018.06.04</td>\n",
       "      <td>6299.0</td>\n",
       "      <td>NaN</td>\n",
       "      <td>NaN</td>\n",
       "    </tr>\n",
       "  </tbody>\n",
       "</table>\n",
       "<p>5 rows × 24 columns</p>\n",
       "</div>"
      ],
      "text/plain": [
       "  Case Number         Date    Year        Type    Country             Area  \\\n",
       "0  2018.06.25  25-Jun-2018  2018.0     Boating        USA       California   \n",
       "1  2018.06.18  18-Jun-2018  2018.0  Unprovoked        USA          Georgia   \n",
       "2  2018.06.09  09-Jun-2018  2018.0     Invalid        USA           Hawaii   \n",
       "3  2018.06.08  08-Jun-2018  2018.0  Unprovoked  AUSTRALIA  New South Wales   \n",
       "4  2018.06.04  04-Jun-2018  2018.0    Provoked     MEXICO           Colima   \n",
       "\n",
       "                         Location     Activity             Name Sex   ...  \\\n",
       "0     Oceanside, San Diego County     Paddling      Julie Wolfe    F  ...   \n",
       "1  St. Simon Island, Glynn County     Standing  Adyson McNeely     F  ...   \n",
       "2                    Habush, Oahu      Surfing      John Denges    M  ...   \n",
       "3              Arrawarra Headland      Surfing             male    M  ...   \n",
       "4                        La Ticla  Free diving   Gustavo Ramos     M  ...   \n",
       "\n",
       "          Species           Investigator or Source                       pdf  \\\n",
       "0      White shark                R. Collier, GSAF      2018.06.25-Wolfe.pdf   \n",
       "1              NaN  K.McMurray, TrackingSharks.com    2018.06.18-McNeely.pdf   \n",
       "2              NaN  K.McMurray, TrackingSharks.com     2018.06.09-Denges.pdf   \n",
       "3        2 m shark                  B. Myatt, GSAF  2018.06.08-Arrawarra.pdf   \n",
       "4  Tiger shark, 3m                       A .Kipper      2018.06.04-Ramos.pdf   \n",
       "\n",
       "                                        href formula  \\\n",
       "0  http://sharkattackfile.net/spreadsheets/pdf_di...   \n",
       "1  http://sharkattackfile.net/spreadsheets/pdf_di...   \n",
       "2  http://sharkattackfile.net/spreadsheets/pdf_di...   \n",
       "3  http://sharkattackfile.net/spreadsheets/pdf_di...   \n",
       "4  http://sharkattackfile.net/spreadsheets/pdf_di...   \n",
       "\n",
       "                                                href Case Number.1  \\\n",
       "0  http://sharkattackfile.net/spreadsheets/pdf_di...    2018.06.25   \n",
       "1  http://sharkattackfile.net/spreadsheets/pdf_di...    2018.06.18   \n",
       "2  http://sharkattackfile.net/spreadsheets/pdf_di...    2018.06.09   \n",
       "3  http://sharkattackfile.net/spreadsheets/pdf_di...    2018.06.08   \n",
       "4  http://sharkattackfile.net/spreadsheets/pdf_di...    2018.06.04   \n",
       "\n",
       "  Case Number.2 original order Unnamed: 22 Unnamed: 23  \n",
       "0    2018.06.25         6303.0         NaN         NaN  \n",
       "1    2018.06.18         6302.0         NaN         NaN  \n",
       "2    2018.06.09         6301.0         NaN         NaN  \n",
       "3    2018.06.08         6300.0         NaN         NaN  \n",
       "4    2018.06.04         6299.0         NaN         NaN  \n",
       "\n",
       "[5 rows x 24 columns]"
      ]
     },
     "execution_count": 212,
     "metadata": {},
     "output_type": "execute_result"
    }
   ],
   "source": [
    "df.head()\n",
    "#usamos el head para observar que poseen las columnas"
   ]
  },
  {
   "cell_type": "code",
   "execution_count": null,
   "metadata": {},
   "outputs": [],
   "source": []
  },
  {
   "cell_type": "markdown",
   "metadata": {},
   "source": [
    "##Descripción de información de las columnas##\n",
    "\n",
    "CaseNumber: Identificador\n",
    "Date: Fecha del ataque\n",
    "Year: Año del ataque\n",
    "Type: tipo de ataque\n",
    "Country: País del ataque\n",
    "Area: zona del ataque\n",
    "Location: locación específica del ataque\n",
    "Activity: Actividad que realizaba la persona\n",
    "Name: Nombre de la victima\n",
    "Sex: género de la victima\n",
    "injury: descripción de lesión\n",
    "Fatal: si el ataque fue fatal (y/n)\n",
    "Time: aproximado de la hora\n",
    "Species: especies del tiburon\n",
    "Investigatbor or Source: investigador o fuente del reporte\n",
    "pdf: versión pdf del caso\n",
    "href formula, link del caso\n",
    "href 2 duplicado del link\n",
    "Case number 1: duplicado de case number\n",
    "case number2: duplicado de case number\n",
    "Original order: identificador ?"
   ]
  },
  {
   "cell_type": "code",
   "execution_count": 213,
   "metadata": {},
   "outputs": [
    {
     "data": {
      "text/plain": [
       "True     19423\n",
       "False     6300\n",
       "Name: Year, dtype: int64"
      ]
     },
     "execution_count": 213,
     "metadata": {},
     "output_type": "execute_result"
    }
   ],
   "source": [
    "df['Year'].isna().value_counts()\n"
   ]
  },
  {
   "cell_type": "code",
   "execution_count": 214,
   "metadata": {},
   "outputs": [
    {
     "data": {
      "text/plain": [
       "True     19421\n",
       "False     6302\n",
       "Name: Date, dtype: int64"
      ]
     },
     "execution_count": 214,
     "metadata": {},
     "output_type": "execute_result"
    }
   ],
   "source": [
    "df['Date'].isna().value_counts()"
   ]
  },
  {
   "cell_type": "markdown",
   "metadata": {},
   "source": [
    "## trabajando con 'year'##"
   ]
  },
  {
   "cell_type": "code",
   "execution_count": 215,
   "metadata": {},
   "outputs": [
    {
     "data": {
      "text/plain": [
       "False    25723\n",
       "Name: Year, dtype: int64"
      ]
     },
     "execution_count": 215,
     "metadata": {},
     "output_type": "execute_result"
    }
   ],
   "source": [
    "df['Year'] = df['Year'].fillna(0)\n",
    "df['Year'].isna().value_counts()\n",
    "# convertimos los valores a cero"
   ]
  },
  {
   "cell_type": "code",
   "execution_count": 216,
   "metadata": {},
   "outputs": [],
   "source": [
    "df['Year'] = df['Year'].astype('int') #pasamos los valores a enteros"
   ]
  },
  {
   "cell_type": "code",
   "execution_count": 217,
   "metadata": {},
   "outputs": [],
   "source": [
    "#Interpolación, considerando que mis valores nulos son cero\n",
    "inter = pd.Series(df['Year'])"
   ]
  },
  {
   "cell_type": "code",
   "execution_count": 30,
   "metadata": {},
   "outputs": [],
   "source": [
    "inter = np.where(inter == 0,np.nan,inter) #cambiamos los 0 por nan de numpy"
   ]
  },
  {
   "cell_type": "code",
   "execution_count": 37,
   "metadata": {},
   "outputs": [
    {
     "data": {
      "text/plain": [
       "array([2018., 2018., 2018., ...,   nan,   nan,   nan])"
      ]
     },
     "execution_count": 37,
     "metadata": {},
     "output_type": "execute_result"
    }
   ],
   "source": [
    "inter"
   ]
  },
  {
   "cell_type": "code",
   "execution_count": 218,
   "metadata": {},
   "outputs": [],
   "source": [
    "inter = pd.Series(inter)"
   ]
  },
  {
   "cell_type": "code",
   "execution_count": 219,
   "metadata": {},
   "outputs": [
    {
     "data": {
      "text/plain": [
       "False    25723\n",
       "Name: Year, dtype: int64"
      ]
     },
     "execution_count": 219,
     "metadata": {},
     "output_type": "execute_result"
    }
   ],
   "source": [
    "inter.isna().value_counts()"
   ]
  },
  {
   "cell_type": "code",
   "execution_count": 43,
   "metadata": {},
   "outputs": [
    {
     "data": {
      "text/plain": [
       "0        2018.0\n",
       "1        2018.0\n",
       "2        2018.0\n",
       "3        2018.0\n",
       "4        2018.0\n",
       "          ...  \n",
       "25718       5.0\n",
       "25719       5.0\n",
       "25720       5.0\n",
       "25721       5.0\n",
       "25722       5.0\n",
       "Length: 25723, dtype: float64"
      ]
     },
     "execution_count": 43,
     "metadata": {},
     "output_type": "execute_result"
    }
   ],
   "source": [
    "inter.interpolate()"
   ]
  },
  {
   "cell_type": "code",
   "execution_count": 52,
   "metadata": {},
   "outputs": [
    {
     "data": {
      "text/plain": [
       "2015.0    143\n",
       "2017.0    136\n",
       "2016.0    130\n",
       "2011.0    128\n",
       "2014.0    127\n",
       "         ... \n",
       "1753.0      1\n",
       "1785.0      1\n",
       "77.0        1\n",
       "1580.0      1\n",
       "1543.0      1\n",
       "Length: 248, dtype: int64"
      ]
     },
     "execution_count": 52,
     "metadata": {},
     "output_type": "execute_result"
    }
   ],
   "source": [
    "inter.value_counts()"
   ]
  },
  {
   "cell_type": "code",
   "execution_count": 64,
   "metadata": {},
   "outputs": [],
   "source": [
    "inter2 = np.where(inter>1900,inter,np.nan)\n"
   ]
  },
  {
   "cell_type": "code",
   "execution_count": 65,
   "metadata": {},
   "outputs": [
    {
     "data": {
      "text/plain": [
       "True     20174\n",
       "False     5549\n",
       "dtype: int64"
      ]
     },
     "execution_count": 65,
     "metadata": {},
     "output_type": "execute_result"
    }
   ],
   "source": [
    "inter2 = pd.Series(inter2)\n",
    "inter2.isna().value_counts()\n"
   ]
  },
  {
   "cell_type": "code",
   "execution_count": 66,
   "metadata": {},
   "outputs": [
    {
     "data": {
      "text/plain": [
       "1901.0"
      ]
     },
     "execution_count": 66,
     "metadata": {},
     "output_type": "execute_result"
    }
   ],
   "source": [
    "inter2.min()"
   ]
  },
  {
   "cell_type": "code",
   "execution_count": 220,
   "metadata": {},
   "outputs": [
    {
     "name": "stdout",
     "output_type": "stream",
     "text": [
      "Case Number True     17021\n",
      "False     8702\n",
      "Name: Case Number, dtype: int64\n",
      "Date True     19421\n",
      "False     6302\n",
      "Name: Date, dtype: int64\n",
      "Year False    25723\n",
      "Name: Year, dtype: int64\n",
      "Type True     19425\n",
      "False     6298\n",
      "Name: Type, dtype: int64\n",
      "Country True     19471\n",
      "False     6252\n",
      "Name: Country, dtype: int64\n",
      "Area True     19876\n",
      "False     5847\n",
      "Name: Area, dtype: int64\n",
      "Location True     19961\n",
      "False     5762\n",
      "Name: Location, dtype: int64\n",
      "Activity True     19965\n",
      "False     5758\n",
      "Name: Activity, dtype: int64\n",
      "Name True     19631\n",
      "False     6092\n",
      "Name: Name, dtype: int64\n",
      "Sex  True     19986\n",
      "False     5737\n",
      "Name: Sex , dtype: int64\n",
      "Age True     22252\n",
      "False     3471\n",
      "Name: Age, dtype: int64\n",
      "Injury True     19449\n",
      "False     6274\n",
      "Name: Injury, dtype: int64\n",
      "Fatal (Y/N) True     19960\n",
      "False     5763\n",
      "Name: Fatal (Y/N), dtype: int64\n",
      "Time True     22775\n",
      "False     2948\n",
      "Name: Time, dtype: int64\n",
      "Species  True     22259\n",
      "False     3464\n",
      "Name: Species , dtype: int64\n",
      "Investigator or Source True     19438\n",
      "False     6285\n",
      "Name: Investigator or Source, dtype: int64\n",
      "pdf True     19421\n",
      "False     6302\n",
      "Name: pdf, dtype: int64\n",
      "href formula True     19422\n",
      "False     6301\n",
      "Name: href formula, dtype: int64\n",
      "href True     19421\n",
      "False     6302\n",
      "Name: href, dtype: int64\n",
      "Case Number.1 True     19421\n",
      "False     6302\n",
      "Name: Case Number.1, dtype: int64\n",
      "Case Number.2 True     19421\n",
      "False     6302\n",
      "Name: Case Number.2, dtype: int64\n",
      "original order True     19414\n",
      "False     6309\n",
      "Name: original order, dtype: int64\n",
      "Unnamed: 22 True     25722\n",
      "False        1\n",
      "Name: Unnamed: 22, dtype: int64\n",
      "Unnamed: 23 True     25721\n",
      "False        2\n",
      "Name: Unnamed: 23, dtype: int64\n"
     ]
    }
   ],
   "source": [
    "for i in df.columns:\n",
    "    print(i, df[i].isna().value_counts())"
   ]
  },
  {
   "cell_type": "code",
   "execution_count": 221,
   "metadata": {},
   "outputs": [],
   "source": [
    "df2 = df.copy()#reemplazo"
   ]
  },
  {
   "cell_type": "code",
   "execution_count": 222,
   "metadata": {},
   "outputs": [],
   "source": [
    "df = df.drop(range(6320,25720), axis = 0)"
   ]
  },
  {
   "cell_type": "code",
   "execution_count": 223,
   "metadata": {},
   "outputs": [
    {
     "name": "stdout",
     "output_type": "stream",
     "text": [
      "<class 'pandas.core.frame.DataFrame'>\n",
      "Int64Index: 6323 entries, 0 to 25722\n",
      "Data columns (total 24 columns):\n",
      " #   Column                  Non-Null Count  Dtype  \n",
      "---  ------                  --------------  -----  \n",
      " 0   Case Number             6320 non-null   object \n",
      " 1   Date                    6302 non-null   object \n",
      " 2   Year                    6323 non-null   int64  \n",
      " 3   Type                    6298 non-null   object \n",
      " 4   Country                 6252 non-null   object \n",
      " 5   Area                    5847 non-null   object \n",
      " 6   Location                5762 non-null   object \n",
      " 7   Activity                5758 non-null   object \n",
      " 8   Name                    6092 non-null   object \n",
      " 9   Sex                     5737 non-null   object \n",
      " 10  Age                     3471 non-null   object \n",
      " 11  Injury                  6274 non-null   object \n",
      " 12  Fatal (Y/N)             5763 non-null   object \n",
      " 13  Time                    2948 non-null   object \n",
      " 14  Species                 3464 non-null   object \n",
      " 15  Investigator or Source  6285 non-null   object \n",
      " 16  pdf                     6302 non-null   object \n",
      " 17  href formula            6301 non-null   object \n",
      " 18  href                    6302 non-null   object \n",
      " 19  Case Number.1           6302 non-null   object \n",
      " 20  Case Number.2           6302 non-null   object \n",
      " 21  original order          6309 non-null   float64\n",
      " 22  Unnamed: 22             1 non-null      object \n",
      " 23  Unnamed: 23             2 non-null      object \n",
      "dtypes: float64(1), int64(1), object(22)\n",
      "memory usage: 1.2+ MB\n"
     ]
    }
   ],
   "source": [
    "df.info()"
   ]
  },
  {
   "cell_type": "markdown",
   "metadata": {},
   "source": [
    "## empezamos a trabajar con una base de datos más reducida"
   ]
  },
  {
   "cell_type": "code",
   "execution_count": 80,
   "metadata": {},
   "outputs": [
    {
     "data": {
      "text/plain": [
       "False    6302\n",
       "True       21\n",
       "Name: Date, dtype: int64"
      ]
     },
     "execution_count": 80,
     "metadata": {},
     "output_type": "execute_result"
    }
   ],
   "source": [
    "df['Date'].isna().value_counts()"
   ]
  },
  {
   "cell_type": "code",
   "execution_count": 81,
   "metadata": {},
   "outputs": [
    {
     "data": {
      "text/html": [
       "<div>\n",
       "<style scoped>\n",
       "    .dataframe tbody tr th:only-of-type {\n",
       "        vertical-align: middle;\n",
       "    }\n",
       "\n",
       "    .dataframe tbody tr th {\n",
       "        vertical-align: top;\n",
       "    }\n",
       "\n",
       "    .dataframe thead th {\n",
       "        text-align: right;\n",
       "    }\n",
       "</style>\n",
       "<table border=\"1\" class=\"dataframe\">\n",
       "  <thead>\n",
       "    <tr style=\"text-align: right;\">\n",
       "      <th></th>\n",
       "      <th>Case Number</th>\n",
       "      <th>Date</th>\n",
       "      <th>Year</th>\n",
       "      <th>Type</th>\n",
       "      <th>Country</th>\n",
       "      <th>Area</th>\n",
       "      <th>Location</th>\n",
       "      <th>Activity</th>\n",
       "      <th>Name</th>\n",
       "      <th>Sex</th>\n",
       "      <th>...</th>\n",
       "      <th>Species</th>\n",
       "      <th>Investigator or Source</th>\n",
       "      <th>pdf</th>\n",
       "      <th>href formula</th>\n",
       "      <th>href</th>\n",
       "      <th>Case Number.1</th>\n",
       "      <th>Case Number.2</th>\n",
       "      <th>original order</th>\n",
       "      <th>Unnamed: 22</th>\n",
       "      <th>Unnamed: 23</th>\n",
       "    </tr>\n",
       "  </thead>\n",
       "  <tbody>\n",
       "    <tr>\n",
       "      <th>0</th>\n",
       "      <td>2018.06.25</td>\n",
       "      <td>25-Jun-2018</td>\n",
       "      <td>2018</td>\n",
       "      <td>Boating</td>\n",
       "      <td>USA</td>\n",
       "      <td>California</td>\n",
       "      <td>Oceanside, San Diego County</td>\n",
       "      <td>Paddling</td>\n",
       "      <td>Julie Wolfe</td>\n",
       "      <td>F</td>\n",
       "      <td>...</td>\n",
       "      <td>White shark</td>\n",
       "      <td>R. Collier, GSAF</td>\n",
       "      <td>2018.06.25-Wolfe.pdf</td>\n",
       "      <td>http://sharkattackfile.net/spreadsheets/pdf_di...</td>\n",
       "      <td>http://sharkattackfile.net/spreadsheets/pdf_di...</td>\n",
       "      <td>2018.06.25</td>\n",
       "      <td>2018.06.25</td>\n",
       "      <td>6303.0</td>\n",
       "      <td>NaN</td>\n",
       "      <td>NaN</td>\n",
       "    </tr>\n",
       "    <tr>\n",
       "      <th>1</th>\n",
       "      <td>2018.06.18</td>\n",
       "      <td>18-Jun-2018</td>\n",
       "      <td>2018</td>\n",
       "      <td>Unprovoked</td>\n",
       "      <td>USA</td>\n",
       "      <td>Georgia</td>\n",
       "      <td>St. Simon Island, Glynn County</td>\n",
       "      <td>Standing</td>\n",
       "      <td>Adyson McNeely</td>\n",
       "      <td>F</td>\n",
       "      <td>...</td>\n",
       "      <td>NaN</td>\n",
       "      <td>K.McMurray, TrackingSharks.com</td>\n",
       "      <td>2018.06.18-McNeely.pdf</td>\n",
       "      <td>http://sharkattackfile.net/spreadsheets/pdf_di...</td>\n",
       "      <td>http://sharkattackfile.net/spreadsheets/pdf_di...</td>\n",
       "      <td>2018.06.18</td>\n",
       "      <td>2018.06.18</td>\n",
       "      <td>6302.0</td>\n",
       "      <td>NaN</td>\n",
       "      <td>NaN</td>\n",
       "    </tr>\n",
       "    <tr>\n",
       "      <th>2</th>\n",
       "      <td>2018.06.09</td>\n",
       "      <td>09-Jun-2018</td>\n",
       "      <td>2018</td>\n",
       "      <td>Invalid</td>\n",
       "      <td>USA</td>\n",
       "      <td>Hawaii</td>\n",
       "      <td>Habush, Oahu</td>\n",
       "      <td>Surfing</td>\n",
       "      <td>John Denges</td>\n",
       "      <td>M</td>\n",
       "      <td>...</td>\n",
       "      <td>NaN</td>\n",
       "      <td>K.McMurray, TrackingSharks.com</td>\n",
       "      <td>2018.06.09-Denges.pdf</td>\n",
       "      <td>http://sharkattackfile.net/spreadsheets/pdf_di...</td>\n",
       "      <td>http://sharkattackfile.net/spreadsheets/pdf_di...</td>\n",
       "      <td>2018.06.09</td>\n",
       "      <td>2018.06.09</td>\n",
       "      <td>6301.0</td>\n",
       "      <td>NaN</td>\n",
       "      <td>NaN</td>\n",
       "    </tr>\n",
       "    <tr>\n",
       "      <th>3</th>\n",
       "      <td>2018.06.08</td>\n",
       "      <td>08-Jun-2018</td>\n",
       "      <td>2018</td>\n",
       "      <td>Unprovoked</td>\n",
       "      <td>AUSTRALIA</td>\n",
       "      <td>New South Wales</td>\n",
       "      <td>Arrawarra Headland</td>\n",
       "      <td>Surfing</td>\n",
       "      <td>male</td>\n",
       "      <td>M</td>\n",
       "      <td>...</td>\n",
       "      <td>2 m shark</td>\n",
       "      <td>B. Myatt, GSAF</td>\n",
       "      <td>2018.06.08-Arrawarra.pdf</td>\n",
       "      <td>http://sharkattackfile.net/spreadsheets/pdf_di...</td>\n",
       "      <td>http://sharkattackfile.net/spreadsheets/pdf_di...</td>\n",
       "      <td>2018.06.08</td>\n",
       "      <td>2018.06.08</td>\n",
       "      <td>6300.0</td>\n",
       "      <td>NaN</td>\n",
       "      <td>NaN</td>\n",
       "    </tr>\n",
       "    <tr>\n",
       "      <th>4</th>\n",
       "      <td>2018.06.04</td>\n",
       "      <td>04-Jun-2018</td>\n",
       "      <td>2018</td>\n",
       "      <td>Provoked</td>\n",
       "      <td>MEXICO</td>\n",
       "      <td>Colima</td>\n",
       "      <td>La Ticla</td>\n",
       "      <td>Free diving</td>\n",
       "      <td>Gustavo Ramos</td>\n",
       "      <td>M</td>\n",
       "      <td>...</td>\n",
       "      <td>Tiger shark, 3m</td>\n",
       "      <td>A .Kipper</td>\n",
       "      <td>2018.06.04-Ramos.pdf</td>\n",
       "      <td>http://sharkattackfile.net/spreadsheets/pdf_di...</td>\n",
       "      <td>http://sharkattackfile.net/spreadsheets/pdf_di...</td>\n",
       "      <td>2018.06.04</td>\n",
       "      <td>2018.06.04</td>\n",
       "      <td>6299.0</td>\n",
       "      <td>NaN</td>\n",
       "      <td>NaN</td>\n",
       "    </tr>\n",
       "  </tbody>\n",
       "</table>\n",
       "<p>5 rows × 24 columns</p>\n",
       "</div>"
      ],
      "text/plain": [
       "  Case Number         Date  Year        Type    Country             Area  \\\n",
       "0  2018.06.25  25-Jun-2018  2018     Boating        USA       California   \n",
       "1  2018.06.18  18-Jun-2018  2018  Unprovoked        USA          Georgia   \n",
       "2  2018.06.09  09-Jun-2018  2018     Invalid        USA           Hawaii   \n",
       "3  2018.06.08  08-Jun-2018  2018  Unprovoked  AUSTRALIA  New South Wales   \n",
       "4  2018.06.04  04-Jun-2018  2018    Provoked     MEXICO           Colima   \n",
       "\n",
       "                         Location     Activity             Name Sex   ...  \\\n",
       "0     Oceanside, San Diego County     Paddling      Julie Wolfe    F  ...   \n",
       "1  St. Simon Island, Glynn County     Standing  Adyson McNeely     F  ...   \n",
       "2                    Habush, Oahu      Surfing      John Denges    M  ...   \n",
       "3              Arrawarra Headland      Surfing             male    M  ...   \n",
       "4                        La Ticla  Free diving   Gustavo Ramos     M  ...   \n",
       "\n",
       "          Species           Investigator or Source                       pdf  \\\n",
       "0      White shark                R. Collier, GSAF      2018.06.25-Wolfe.pdf   \n",
       "1              NaN  K.McMurray, TrackingSharks.com    2018.06.18-McNeely.pdf   \n",
       "2              NaN  K.McMurray, TrackingSharks.com     2018.06.09-Denges.pdf   \n",
       "3        2 m shark                  B. Myatt, GSAF  2018.06.08-Arrawarra.pdf   \n",
       "4  Tiger shark, 3m                       A .Kipper      2018.06.04-Ramos.pdf   \n",
       "\n",
       "                                        href formula  \\\n",
       "0  http://sharkattackfile.net/spreadsheets/pdf_di...   \n",
       "1  http://sharkattackfile.net/spreadsheets/pdf_di...   \n",
       "2  http://sharkattackfile.net/spreadsheets/pdf_di...   \n",
       "3  http://sharkattackfile.net/spreadsheets/pdf_di...   \n",
       "4  http://sharkattackfile.net/spreadsheets/pdf_di...   \n",
       "\n",
       "                                                href Case Number.1  \\\n",
       "0  http://sharkattackfile.net/spreadsheets/pdf_di...    2018.06.25   \n",
       "1  http://sharkattackfile.net/spreadsheets/pdf_di...    2018.06.18   \n",
       "2  http://sharkattackfile.net/spreadsheets/pdf_di...    2018.06.09   \n",
       "3  http://sharkattackfile.net/spreadsheets/pdf_di...    2018.06.08   \n",
       "4  http://sharkattackfile.net/spreadsheets/pdf_di...    2018.06.04   \n",
       "\n",
       "  Case Number.2 original order Unnamed: 22 Unnamed: 23  \n",
       "0    2018.06.25         6303.0         NaN         NaN  \n",
       "1    2018.06.18         6302.0         NaN         NaN  \n",
       "2    2018.06.09         6301.0         NaN         NaN  \n",
       "3    2018.06.08         6300.0         NaN         NaN  \n",
       "4    2018.06.04         6299.0         NaN         NaN  \n",
       "\n",
       "[5 rows x 24 columns]"
      ]
     },
     "execution_count": 81,
     "metadata": {},
     "output_type": "execute_result"
    }
   ],
   "source": [
    "df.head()"
   ]
  },
  {
   "cell_type": "code",
   "execution_count": 85,
   "metadata": {},
   "outputs": [
    {
     "data": {
      "text/plain": [
       "['25', 'Jun', '2018']"
      ]
     },
     "execution_count": 85,
     "metadata": {},
     "output_type": "execute_result"
    }
   ],
   "source": [
    "\n",
    "df['Date'][0].split('-')"
   ]
  },
  {
   "cell_type": "code",
   "execution_count": 87,
   "metadata": {},
   "outputs": [],
   "source": [
    "import datetime"
   ]
  },
  {
   "cell_type": "code",
   "execution_count": 89,
   "metadata": {},
   "outputs": [],
   "source": [
    "x = df['Date'][0]"
   ]
  },
  {
   "cell_type": "code",
   "execution_count": 90,
   "metadata": {},
   "outputs": [
    {
     "data": {
      "text/plain": [
       "'25-Jun-2018'"
      ]
     },
     "execution_count": 90,
     "metadata": {},
     "output_type": "execute_result"
    }
   ],
   "source": [
    "x"
   ]
  },
  {
   "cell_type": "code",
   "execution_count": 91,
   "metadata": {},
   "outputs": [],
   "source": [
    "y = datetime.datetime.strptime(x,'%d-%b-%Y')"
   ]
  },
  {
   "cell_type": "code",
   "execution_count": 92,
   "metadata": {},
   "outputs": [
    {
     "data": {
      "text/plain": [
       "datetime.datetime(2018, 6, 25, 0, 0)"
      ]
     },
     "execution_count": 92,
     "metadata": {},
     "output_type": "execute_result"
    }
   ],
   "source": [
    "y"
   ]
  },
  {
   "cell_type": "code",
   "execution_count": 96,
   "metadata": {},
   "outputs": [
    {
     "data": {
      "text/html": [
       "<div>\n",
       "<style scoped>\n",
       "    .dataframe tbody tr th:only-of-type {\n",
       "        vertical-align: middle;\n",
       "    }\n",
       "\n",
       "    .dataframe tbody tr th {\n",
       "        vertical-align: top;\n",
       "    }\n",
       "\n",
       "    .dataframe thead th {\n",
       "        text-align: right;\n",
       "    }\n",
       "</style>\n",
       "<table border=\"1\" class=\"dataframe\">\n",
       "  <thead>\n",
       "    <tr style=\"text-align: right;\">\n",
       "      <th></th>\n",
       "      <th>Case Number</th>\n",
       "      <th>Date</th>\n",
       "      <th>Year</th>\n",
       "      <th>Type</th>\n",
       "      <th>Country</th>\n",
       "      <th>Area</th>\n",
       "      <th>Location</th>\n",
       "      <th>Activity</th>\n",
       "      <th>Name</th>\n",
       "      <th>Sex</th>\n",
       "      <th>...</th>\n",
       "      <th>Species</th>\n",
       "      <th>Investigator or Source</th>\n",
       "      <th>pdf</th>\n",
       "      <th>href formula</th>\n",
       "      <th>href</th>\n",
       "      <th>Case Number.1</th>\n",
       "      <th>Case Number.2</th>\n",
       "      <th>original order</th>\n",
       "      <th>Unnamed: 22</th>\n",
       "      <th>Unnamed: 23</th>\n",
       "    </tr>\n",
       "  </thead>\n",
       "  <tbody>\n",
       "    <tr>\n",
       "      <th>0</th>\n",
       "      <td>2018.06.25</td>\n",
       "      <td>25-Jun-2018</td>\n",
       "      <td>2018</td>\n",
       "      <td>Boating</td>\n",
       "      <td>USA</td>\n",
       "      <td>California</td>\n",
       "      <td>Oceanside, San Diego County</td>\n",
       "      <td>Paddling</td>\n",
       "      <td>Julie Wolfe</td>\n",
       "      <td>F</td>\n",
       "      <td>...</td>\n",
       "      <td>White shark</td>\n",
       "      <td>R. Collier, GSAF</td>\n",
       "      <td>2018.06.25-Wolfe.pdf</td>\n",
       "      <td>http://sharkattackfile.net/spreadsheets/pdf_di...</td>\n",
       "      <td>http://sharkattackfile.net/spreadsheets/pdf_di...</td>\n",
       "      <td>2018.06.25</td>\n",
       "      <td>2018.06.25</td>\n",
       "      <td>6303.0</td>\n",
       "      <td>NaN</td>\n",
       "      <td>NaN</td>\n",
       "    </tr>\n",
       "    <tr>\n",
       "      <th>1</th>\n",
       "      <td>2018.06.18</td>\n",
       "      <td>18-Jun-2018</td>\n",
       "      <td>2018</td>\n",
       "      <td>Unprovoked</td>\n",
       "      <td>USA</td>\n",
       "      <td>Georgia</td>\n",
       "      <td>St. Simon Island, Glynn County</td>\n",
       "      <td>Standing</td>\n",
       "      <td>Adyson McNeely</td>\n",
       "      <td>F</td>\n",
       "      <td>...</td>\n",
       "      <td>NaN</td>\n",
       "      <td>K.McMurray, TrackingSharks.com</td>\n",
       "      <td>2018.06.18-McNeely.pdf</td>\n",
       "      <td>http://sharkattackfile.net/spreadsheets/pdf_di...</td>\n",
       "      <td>http://sharkattackfile.net/spreadsheets/pdf_di...</td>\n",
       "      <td>2018.06.18</td>\n",
       "      <td>2018.06.18</td>\n",
       "      <td>6302.0</td>\n",
       "      <td>NaN</td>\n",
       "      <td>NaN</td>\n",
       "    </tr>\n",
       "  </tbody>\n",
       "</table>\n",
       "<p>2 rows × 24 columns</p>\n",
       "</div>"
      ],
      "text/plain": [
       "  Case Number         Date  Year        Type Country        Area  \\\n",
       "0  2018.06.25  25-Jun-2018  2018     Boating     USA  California   \n",
       "1  2018.06.18  18-Jun-2018  2018  Unprovoked     USA     Georgia   \n",
       "\n",
       "                         Location  Activity             Name Sex   ...  \\\n",
       "0     Oceanside, San Diego County  Paddling      Julie Wolfe    F  ...   \n",
       "1  St. Simon Island, Glynn County  Standing  Adyson McNeely     F  ...   \n",
       "\n",
       "      Species           Investigator or Source                     pdf  \\\n",
       "0  White shark                R. Collier, GSAF    2018.06.25-Wolfe.pdf   \n",
       "1          NaN  K.McMurray, TrackingSharks.com  2018.06.18-McNeely.pdf   \n",
       "\n",
       "                                        href formula  \\\n",
       "0  http://sharkattackfile.net/spreadsheets/pdf_di...   \n",
       "1  http://sharkattackfile.net/spreadsheets/pdf_di...   \n",
       "\n",
       "                                                href Case Number.1  \\\n",
       "0  http://sharkattackfile.net/spreadsheets/pdf_di...    2018.06.25   \n",
       "1  http://sharkattackfile.net/spreadsheets/pdf_di...    2018.06.18   \n",
       "\n",
       "  Case Number.2 original order Unnamed: 22 Unnamed: 23  \n",
       "0    2018.06.25         6303.0         NaN         NaN  \n",
       "1    2018.06.18         6302.0         NaN         NaN  \n",
       "\n",
       "[2 rows x 24 columns]"
      ]
     },
     "execution_count": 96,
     "metadata": {},
     "output_type": "execute_result"
    }
   ],
   "source": [
    "df.head(2)"
   ]
  },
  {
   "cell_type": "code",
   "execution_count": 101,
   "metadata": {},
   "outputs": [],
   "source": [
    "lista = df['Species '].value_counts().index"
   ]
  },
  {
   "cell_type": "code",
   "execution_count": 104,
   "metadata": {},
   "outputs": [
    {
     "name": "stdout",
     "output_type": "stream",
     "text": [
      "Index(['White shark', 'Shark involvement prior to death was not confirmed',\n",
      "       'Invalid', 'Shark involvement not confirmed', 'Tiger shark',\n",
      "       'Shark involvement prior to death unconfirmed', 'Bull shark',\n",
      "       '6' shark', '4' shark', '1.8 m [6'] shark', 'Questionable incident',\n",
      "       'Questionable', '1.5 m [5'] shark', '1.2 m [4'] shark', '5' shark',\n",
      "       '3' shark', '2 m shark', '4' to 5' shark', '3 m [10'] shark',\n",
      "       'No shark involvement', 'Wobbegong shark', '3' to 4' shark',\n",
      "       '3 m shark', '2.4 m [8'] shark', '3.7 m [12'] shark', '12' shark',\n",
      "       'Blacktip shark', '1.2 m to 1.5 m [4' to 5'] shark', 'Blue shark',\n",
      "       'Mako shark', '1.5 m shark', '7' shark',\n",
      "       'Shark involvement prior to death not confirmed', '\"a small shark\"',\n",
      "       '6 m [20'] white shark', 'Nurse shark', 'Bronze whaler shark',\n",
      "       'Raggedtooth shark', '5 m [16.5'] white shark', '10' shark',\n",
      "       'Grey nurse shark', 'Zambesi shark', '4 m [13'] white shark',\n",
      "       'White shark, 4 m [13'] ', '1 m shark', 'a small shark',\n",
      "       'Hammerhead shark', '2.1 m [7'] shark', '\"small shark\"',\n",
      "       '3 m [10'] white shark'],\n",
      "      dtype='object')\n"
     ]
    }
   ],
   "source": [
    "print(lista[0:50])"
   ]
  },
  {
   "cell_type": "code",
   "execution_count": 109,
   "metadata": {},
   "outputs": [],
   "source": [
    "h = 'Nurse shark'\n",
    "re.search('\\shark-',h)"
   ]
  },
  {
   "cell_type": "code",
   "execution_count": 113,
   "metadata": {},
   "outputs": [
    {
     "name": "stdout",
     "output_type": "stream",
     "text": [
      "<re.Match object; span=(2, 3), match='c'>\n"
     ]
    }
   ],
   "source": [
    "x = re.search(\"c\", \"abcdef\") \n",
    "print(x)"
   ]
  },
  {
   "cell_type": "code",
   "execution_count": 290,
   "metadata": {},
   "outputs": [
    {
     "data": {
      "text/plain": [
       "['xx white shark']"
      ]
     },
     "execution_count": 290,
     "metadata": {},
     "output_type": "execute_result"
    }
   ],
   "source": [
    "re.findall(patron,'xx White shark'.lower())"
   ]
  },
  {
   "cell_type": "code",
   "execution_count": 288,
   "metadata": {},
   "outputs": [
    {
     "data": {
      "text/plain": [
       "0            White shark\n",
       "1           Not reported\n",
       "2           Not reported\n",
       "3              2 m shark\n",
       "4        Tiger shark, 3m\n",
       "              ...       \n",
       "6318        Not reported\n",
       "6319        Not reported\n",
       "25720       Not reported\n",
       "25721       Not reported\n",
       "25722       Not reported\n",
       "Name: Species , Length: 6323, dtype: object"
      ]
     },
     "execution_count": 288,
     "metadata": {},
     "output_type": "execute_result"
    }
   ],
   "source": [
    "df['Species ']"
   ]
  },
  {
   "cell_type": "code",
   "execution_count": 282,
   "metadata": {},
   "outputs": [],
   "source": [
    "patron = re.compile(r'\\w+ \\w+ shark\\b')"
   ]
  },
  {
   "cell_type": "code",
   "execution_count": 159,
   "metadata": {},
   "outputs": [
    {
     "data": {
      "text/plain": [
       "'involvement Nurse  Questionable '"
      ]
     },
     "execution_count": 159,
     "metadata": {},
     "output_type": "execute_result"
    }
   ],
   "source": [
    "t"
   ]
  },
  {
   "cell_type": "code",
   "execution_count": 185,
   "metadata": {},
   "outputs": [
    {
     "data": {
      "text/html": [
       "<div>\n",
       "<style scoped>\n",
       "    .dataframe tbody tr th:only-of-type {\n",
       "        vertical-align: middle;\n",
       "    }\n",
       "\n",
       "    .dataframe tbody tr th {\n",
       "        vertical-align: top;\n",
       "    }\n",
       "\n",
       "    .dataframe thead th {\n",
       "        text-align: right;\n",
       "    }\n",
       "</style>\n",
       "<table border=\"1\" class=\"dataframe\">\n",
       "  <thead>\n",
       "    <tr style=\"text-align: right;\">\n",
       "      <th></th>\n",
       "      <th>Case Number</th>\n",
       "      <th>Date</th>\n",
       "      <th>Year</th>\n",
       "      <th>Type</th>\n",
       "      <th>Country</th>\n",
       "      <th>Area</th>\n",
       "      <th>Location</th>\n",
       "      <th>Activity</th>\n",
       "      <th>Name</th>\n",
       "      <th>Sex</th>\n",
       "      <th>...</th>\n",
       "      <th>Species</th>\n",
       "      <th>Investigator or Source</th>\n",
       "      <th>pdf</th>\n",
       "      <th>href formula</th>\n",
       "      <th>href</th>\n",
       "      <th>Case Number.1</th>\n",
       "      <th>Case Number.2</th>\n",
       "      <th>original order</th>\n",
       "      <th>Unnamed: 22</th>\n",
       "      <th>Unnamed: 23</th>\n",
       "    </tr>\n",
       "  </thead>\n",
       "  <tbody>\n",
       "    <tr>\n",
       "      <th>0</th>\n",
       "      <td>2018.06.25</td>\n",
       "      <td>25-Jun-2018</td>\n",
       "      <td>2018</td>\n",
       "      <td>Boating</td>\n",
       "      <td>USA</td>\n",
       "      <td>California</td>\n",
       "      <td>Oceanside, San Diego County</td>\n",
       "      <td>Paddling</td>\n",
       "      <td>Julie Wolfe</td>\n",
       "      <td>F</td>\n",
       "      <td>...</td>\n",
       "      <td>White shark</td>\n",
       "      <td>R. Collier, GSAF</td>\n",
       "      <td>2018.06.25-Wolfe.pdf</td>\n",
       "      <td>http://sharkattackfile.net/spreadsheets/pdf_di...</td>\n",
       "      <td>http://sharkattackfile.net/spreadsheets/pdf_di...</td>\n",
       "      <td>2018.06.25</td>\n",
       "      <td>2018.06.25</td>\n",
       "      <td>6303.0</td>\n",
       "      <td>NaN</td>\n",
       "      <td>NaN</td>\n",
       "    </tr>\n",
       "    <tr>\n",
       "      <th>1</th>\n",
       "      <td>2018.06.18</td>\n",
       "      <td>18-Jun-2018</td>\n",
       "      <td>2018</td>\n",
       "      <td>Unprovoked</td>\n",
       "      <td>USA</td>\n",
       "      <td>Georgia</td>\n",
       "      <td>St. Simon Island, Glynn County</td>\n",
       "      <td>Standing</td>\n",
       "      <td>Adyson McNeely</td>\n",
       "      <td>F</td>\n",
       "      <td>...</td>\n",
       "      <td>NaN</td>\n",
       "      <td>K.McMurray, TrackingSharks.com</td>\n",
       "      <td>2018.06.18-McNeely.pdf</td>\n",
       "      <td>http://sharkattackfile.net/spreadsheets/pdf_di...</td>\n",
       "      <td>http://sharkattackfile.net/spreadsheets/pdf_di...</td>\n",
       "      <td>2018.06.18</td>\n",
       "      <td>2018.06.18</td>\n",
       "      <td>6302.0</td>\n",
       "      <td>NaN</td>\n",
       "      <td>NaN</td>\n",
       "    </tr>\n",
       "    <tr>\n",
       "      <th>2</th>\n",
       "      <td>2018.06.09</td>\n",
       "      <td>09-Jun-2018</td>\n",
       "      <td>2018</td>\n",
       "      <td>Invalid</td>\n",
       "      <td>USA</td>\n",
       "      <td>Hawaii</td>\n",
       "      <td>Habush, Oahu</td>\n",
       "      <td>Surfing</td>\n",
       "      <td>John Denges</td>\n",
       "      <td>M</td>\n",
       "      <td>...</td>\n",
       "      <td>NaN</td>\n",
       "      <td>K.McMurray, TrackingSharks.com</td>\n",
       "      <td>2018.06.09-Denges.pdf</td>\n",
       "      <td>http://sharkattackfile.net/spreadsheets/pdf_di...</td>\n",
       "      <td>http://sharkattackfile.net/spreadsheets/pdf_di...</td>\n",
       "      <td>2018.06.09</td>\n",
       "      <td>2018.06.09</td>\n",
       "      <td>6301.0</td>\n",
       "      <td>NaN</td>\n",
       "      <td>NaN</td>\n",
       "    </tr>\n",
       "    <tr>\n",
       "      <th>3</th>\n",
       "      <td>2018.06.08</td>\n",
       "      <td>08-Jun-2018</td>\n",
       "      <td>2018</td>\n",
       "      <td>Unprovoked</td>\n",
       "      <td>AUSTRALIA</td>\n",
       "      <td>New South Wales</td>\n",
       "      <td>Arrawarra Headland</td>\n",
       "      <td>Surfing</td>\n",
       "      <td>male</td>\n",
       "      <td>M</td>\n",
       "      <td>...</td>\n",
       "      <td>2 m shark</td>\n",
       "      <td>B. Myatt, GSAF</td>\n",
       "      <td>2018.06.08-Arrawarra.pdf</td>\n",
       "      <td>http://sharkattackfile.net/spreadsheets/pdf_di...</td>\n",
       "      <td>http://sharkattackfile.net/spreadsheets/pdf_di...</td>\n",
       "      <td>2018.06.08</td>\n",
       "      <td>2018.06.08</td>\n",
       "      <td>6300.0</td>\n",
       "      <td>NaN</td>\n",
       "      <td>NaN</td>\n",
       "    </tr>\n",
       "    <tr>\n",
       "      <th>4</th>\n",
       "      <td>2018.06.04</td>\n",
       "      <td>04-Jun-2018</td>\n",
       "      <td>2018</td>\n",
       "      <td>Provoked</td>\n",
       "      <td>MEXICO</td>\n",
       "      <td>Colima</td>\n",
       "      <td>La Ticla</td>\n",
       "      <td>Free diving</td>\n",
       "      <td>Gustavo Ramos</td>\n",
       "      <td>M</td>\n",
       "      <td>...</td>\n",
       "      <td>Tiger shark, 3m</td>\n",
       "      <td>A .Kipper</td>\n",
       "      <td>2018.06.04-Ramos.pdf</td>\n",
       "      <td>http://sharkattackfile.net/spreadsheets/pdf_di...</td>\n",
       "      <td>http://sharkattackfile.net/spreadsheets/pdf_di...</td>\n",
       "      <td>2018.06.04</td>\n",
       "      <td>2018.06.04</td>\n",
       "      <td>6299.0</td>\n",
       "      <td>NaN</td>\n",
       "      <td>NaN</td>\n",
       "    </tr>\n",
       "  </tbody>\n",
       "</table>\n",
       "<p>5 rows × 24 columns</p>\n",
       "</div>"
      ],
      "text/plain": [
       "  Case Number         Date  Year        Type    Country             Area  \\\n",
       "0  2018.06.25  25-Jun-2018  2018     Boating        USA       California   \n",
       "1  2018.06.18  18-Jun-2018  2018  Unprovoked        USA          Georgia   \n",
       "2  2018.06.09  09-Jun-2018  2018     Invalid        USA           Hawaii   \n",
       "3  2018.06.08  08-Jun-2018  2018  Unprovoked  AUSTRALIA  New South Wales   \n",
       "4  2018.06.04  04-Jun-2018  2018    Provoked     MEXICO           Colima   \n",
       "\n",
       "                         Location     Activity             Name Sex   ...  \\\n",
       "0     Oceanside, San Diego County     Paddling      Julie Wolfe    F  ...   \n",
       "1  St. Simon Island, Glynn County     Standing  Adyson McNeely     F  ...   \n",
       "2                    Habush, Oahu      Surfing      John Denges    M  ...   \n",
       "3              Arrawarra Headland      Surfing             male    M  ...   \n",
       "4                        La Ticla  Free diving   Gustavo Ramos     M  ...   \n",
       "\n",
       "          Species           Investigator or Source                       pdf  \\\n",
       "0      White shark                R. Collier, GSAF      2018.06.25-Wolfe.pdf   \n",
       "1              NaN  K.McMurray, TrackingSharks.com    2018.06.18-McNeely.pdf   \n",
       "2              NaN  K.McMurray, TrackingSharks.com     2018.06.09-Denges.pdf   \n",
       "3        2 m shark                  B. Myatt, GSAF  2018.06.08-Arrawarra.pdf   \n",
       "4  Tiger shark, 3m                       A .Kipper      2018.06.04-Ramos.pdf   \n",
       "\n",
       "                                        href formula  \\\n",
       "0  http://sharkattackfile.net/spreadsheets/pdf_di...   \n",
       "1  http://sharkattackfile.net/spreadsheets/pdf_di...   \n",
       "2  http://sharkattackfile.net/spreadsheets/pdf_di...   \n",
       "3  http://sharkattackfile.net/spreadsheets/pdf_di...   \n",
       "4  http://sharkattackfile.net/spreadsheets/pdf_di...   \n",
       "\n",
       "                                                href Case Number.1  \\\n",
       "0  http://sharkattackfile.net/spreadsheets/pdf_di...    2018.06.25   \n",
       "1  http://sharkattackfile.net/spreadsheets/pdf_di...    2018.06.18   \n",
       "2  http://sharkattackfile.net/spreadsheets/pdf_di...    2018.06.09   \n",
       "3  http://sharkattackfile.net/spreadsheets/pdf_di...    2018.06.08   \n",
       "4  http://sharkattackfile.net/spreadsheets/pdf_di...    2018.06.04   \n",
       "\n",
       "  Case Number.2 original order Unnamed: 22 Unnamed: 23  \n",
       "0    2018.06.25         6303.0         NaN         NaN  \n",
       "1    2018.06.18         6302.0         NaN         NaN  \n",
       "2    2018.06.09         6301.0         NaN         NaN  \n",
       "3    2018.06.08         6300.0         NaN         NaN  \n",
       "4    2018.06.04         6299.0         NaN         NaN  \n",
       "\n",
       "[5 rows x 24 columns]"
      ]
     },
     "execution_count": 185,
     "metadata": {},
     "output_type": "execute_result"
    }
   ],
   "source": [
    "df.head()"
   ]
  },
  {
   "cell_type": "code",
   "execution_count": 186,
   "metadata": {},
   "outputs": [
    {
     "name": "stdout",
     "output_type": "stream",
     "text": [
      "<class 'pandas.core.frame.DataFrame'>\n",
      "Int64Index: 6323 entries, 0 to 25722\n",
      "Data columns (total 24 columns):\n",
      " #   Column                  Non-Null Count  Dtype  \n",
      "---  ------                  --------------  -----  \n",
      " 0   Case Number             6320 non-null   object \n",
      " 1   Date                    6302 non-null   object \n",
      " 2   Year                    6323 non-null   int64  \n",
      " 3   Type                    6298 non-null   object \n",
      " 4   Country                 6252 non-null   object \n",
      " 5   Area                    5847 non-null   object \n",
      " 6   Location                5762 non-null   object \n",
      " 7   Activity                5758 non-null   object \n",
      " 8   Name                    6092 non-null   object \n",
      " 9   Sex                     5737 non-null   object \n",
      " 10  Age                     3471 non-null   object \n",
      " 11  Injury                  6274 non-null   object \n",
      " 12  Fatal (Y/N)             5763 non-null   object \n",
      " 13  Time                    2948 non-null   object \n",
      " 14  Species                 3464 non-null   object \n",
      " 15  Investigator or Source  6285 non-null   object \n",
      " 16  pdf                     6302 non-null   object \n",
      " 17  href formula            6301 non-null   object \n",
      " 18  href                    6302 non-null   object \n",
      " 19  Case Number.1           6302 non-null   object \n",
      " 20  Case Number.2           6302 non-null   object \n",
      " 21  original order          6309 non-null   float64\n",
      " 22  Unnamed: 22             1 non-null      object \n",
      " 23  Unnamed: 23             2 non-null      object \n",
      "dtypes: float64(1), int64(1), object(22)\n",
      "memory usage: 1.5+ MB\n"
     ]
    }
   ],
   "source": [
    "df.info()"
   ]
  },
  {
   "cell_type": "code",
   "execution_count": 224,
   "metadata": {},
   "outputs": [],
   "source": [
    "df = df.drop(['Case Number.1','Case Number.2','Unnamed: 22','Unnamed: 23',\n",
    "             'href','href formula','pdf'], axis = 1)"
   ]
  },
  {
   "cell_type": "code",
   "execution_count": 225,
   "metadata": {},
   "outputs": [
    {
     "data": {
      "text/html": [
       "<div>\n",
       "<style scoped>\n",
       "    .dataframe tbody tr th:only-of-type {\n",
       "        vertical-align: middle;\n",
       "    }\n",
       "\n",
       "    .dataframe tbody tr th {\n",
       "        vertical-align: top;\n",
       "    }\n",
       "\n",
       "    .dataframe thead th {\n",
       "        text-align: right;\n",
       "    }\n",
       "</style>\n",
       "<table border=\"1\" class=\"dataframe\">\n",
       "  <thead>\n",
       "    <tr style=\"text-align: right;\">\n",
       "      <th></th>\n",
       "      <th>Case Number</th>\n",
       "      <th>Date</th>\n",
       "      <th>Year</th>\n",
       "      <th>Type</th>\n",
       "      <th>Country</th>\n",
       "      <th>Area</th>\n",
       "      <th>Location</th>\n",
       "      <th>Activity</th>\n",
       "      <th>Name</th>\n",
       "      <th>Sex</th>\n",
       "      <th>Age</th>\n",
       "      <th>Injury</th>\n",
       "      <th>Fatal (Y/N)</th>\n",
       "      <th>Time</th>\n",
       "      <th>Species</th>\n",
       "      <th>Investigator or Source</th>\n",
       "      <th>original order</th>\n",
       "    </tr>\n",
       "  </thead>\n",
       "  <tbody>\n",
       "    <tr>\n",
       "      <th>0</th>\n",
       "      <td>2018.06.25</td>\n",
       "      <td>25-Jun-2018</td>\n",
       "      <td>2018</td>\n",
       "      <td>Boating</td>\n",
       "      <td>USA</td>\n",
       "      <td>California</td>\n",
       "      <td>Oceanside, San Diego County</td>\n",
       "      <td>Paddling</td>\n",
       "      <td>Julie Wolfe</td>\n",
       "      <td>F</td>\n",
       "      <td>57</td>\n",
       "      <td>No injury to occupant, outrigger canoe and pad...</td>\n",
       "      <td>N</td>\n",
       "      <td>18h00</td>\n",
       "      <td>White shark</td>\n",
       "      <td>R. Collier, GSAF</td>\n",
       "      <td>6303.0</td>\n",
       "    </tr>\n",
       "    <tr>\n",
       "      <th>1</th>\n",
       "      <td>2018.06.18</td>\n",
       "      <td>18-Jun-2018</td>\n",
       "      <td>2018</td>\n",
       "      <td>Unprovoked</td>\n",
       "      <td>USA</td>\n",
       "      <td>Georgia</td>\n",
       "      <td>St. Simon Island, Glynn County</td>\n",
       "      <td>Standing</td>\n",
       "      <td>Adyson McNeely</td>\n",
       "      <td>F</td>\n",
       "      <td>11</td>\n",
       "      <td>Minor injury to left thigh</td>\n",
       "      <td>N</td>\n",
       "      <td>14h00  -15h00</td>\n",
       "      <td>NaN</td>\n",
       "      <td>K.McMurray, TrackingSharks.com</td>\n",
       "      <td>6302.0</td>\n",
       "    </tr>\n",
       "    <tr>\n",
       "      <th>2</th>\n",
       "      <td>2018.06.09</td>\n",
       "      <td>09-Jun-2018</td>\n",
       "      <td>2018</td>\n",
       "      <td>Invalid</td>\n",
       "      <td>USA</td>\n",
       "      <td>Hawaii</td>\n",
       "      <td>Habush, Oahu</td>\n",
       "      <td>Surfing</td>\n",
       "      <td>John Denges</td>\n",
       "      <td>M</td>\n",
       "      <td>48</td>\n",
       "      <td>Injury to left lower leg from surfboard skeg</td>\n",
       "      <td>N</td>\n",
       "      <td>07h45</td>\n",
       "      <td>NaN</td>\n",
       "      <td>K.McMurray, TrackingSharks.com</td>\n",
       "      <td>6301.0</td>\n",
       "    </tr>\n",
       "    <tr>\n",
       "      <th>3</th>\n",
       "      <td>2018.06.08</td>\n",
       "      <td>08-Jun-2018</td>\n",
       "      <td>2018</td>\n",
       "      <td>Unprovoked</td>\n",
       "      <td>AUSTRALIA</td>\n",
       "      <td>New South Wales</td>\n",
       "      <td>Arrawarra Headland</td>\n",
       "      <td>Surfing</td>\n",
       "      <td>male</td>\n",
       "      <td>M</td>\n",
       "      <td>NaN</td>\n",
       "      <td>Minor injury to lower leg</td>\n",
       "      <td>N</td>\n",
       "      <td>NaN</td>\n",
       "      <td>2 m shark</td>\n",
       "      <td>B. Myatt, GSAF</td>\n",
       "      <td>6300.0</td>\n",
       "    </tr>\n",
       "    <tr>\n",
       "      <th>4</th>\n",
       "      <td>2018.06.04</td>\n",
       "      <td>04-Jun-2018</td>\n",
       "      <td>2018</td>\n",
       "      <td>Provoked</td>\n",
       "      <td>MEXICO</td>\n",
       "      <td>Colima</td>\n",
       "      <td>La Ticla</td>\n",
       "      <td>Free diving</td>\n",
       "      <td>Gustavo Ramos</td>\n",
       "      <td>M</td>\n",
       "      <td>NaN</td>\n",
       "      <td>Lacerations to leg &amp; hand shark PROVOKED INCIDENT</td>\n",
       "      <td>N</td>\n",
       "      <td>NaN</td>\n",
       "      <td>Tiger shark, 3m</td>\n",
       "      <td>A .Kipper</td>\n",
       "      <td>6299.0</td>\n",
       "    </tr>\n",
       "  </tbody>\n",
       "</table>\n",
       "</div>"
      ],
      "text/plain": [
       "  Case Number         Date  Year        Type    Country             Area  \\\n",
       "0  2018.06.25  25-Jun-2018  2018     Boating        USA       California   \n",
       "1  2018.06.18  18-Jun-2018  2018  Unprovoked        USA          Georgia   \n",
       "2  2018.06.09  09-Jun-2018  2018     Invalid        USA           Hawaii   \n",
       "3  2018.06.08  08-Jun-2018  2018  Unprovoked  AUSTRALIA  New South Wales   \n",
       "4  2018.06.04  04-Jun-2018  2018    Provoked     MEXICO           Colima   \n",
       "\n",
       "                         Location     Activity             Name Sex   Age  \\\n",
       "0     Oceanside, San Diego County     Paddling      Julie Wolfe    F   57   \n",
       "1  St. Simon Island, Glynn County     Standing  Adyson McNeely     F   11   \n",
       "2                    Habush, Oahu      Surfing      John Denges    M   48   \n",
       "3              Arrawarra Headland      Surfing             male    M  NaN   \n",
       "4                        La Ticla  Free diving   Gustavo Ramos     M  NaN   \n",
       "\n",
       "                                              Injury Fatal (Y/N)  \\\n",
       "0  No injury to occupant, outrigger canoe and pad...           N   \n",
       "1                         Minor injury to left thigh           N   \n",
       "2       Injury to left lower leg from surfboard skeg           N   \n",
       "3                          Minor injury to lower leg           N   \n",
       "4  Lacerations to leg & hand shark PROVOKED INCIDENT           N   \n",
       "\n",
       "            Time         Species           Investigator or Source  \\\n",
       "0          18h00      White shark                R. Collier, GSAF   \n",
       "1  14h00  -15h00              NaN  K.McMurray, TrackingSharks.com   \n",
       "2          07h45              NaN  K.McMurray, TrackingSharks.com   \n",
       "3            NaN        2 m shark                  B. Myatt, GSAF   \n",
       "4            NaN  Tiger shark, 3m                       A .Kipper   \n",
       "\n",
       "   original order  \n",
       "0          6303.0  \n",
       "1          6302.0  \n",
       "2          6301.0  \n",
       "3          6300.0  \n",
       "4          6299.0  "
      ]
     },
     "execution_count": 225,
     "metadata": {},
     "output_type": "execute_result"
    }
   ],
   "source": [
    "df.head()"
   ]
  },
  {
   "cell_type": "code",
   "execution_count": 226,
   "metadata": {},
   "outputs": [
    {
     "name": "stdout",
     "output_type": "stream",
     "text": [
      "<class 'pandas.core.frame.DataFrame'>\n",
      "Int64Index: 6323 entries, 0 to 25722\n",
      "Data columns (total 17 columns):\n",
      " #   Column                  Non-Null Count  Dtype  \n",
      "---  ------                  --------------  -----  \n",
      " 0   Case Number             6320 non-null   object \n",
      " 1   Date                    6302 non-null   object \n",
      " 2   Year                    6323 non-null   int64  \n",
      " 3   Type                    6298 non-null   object \n",
      " 4   Country                 6252 non-null   object \n",
      " 5   Area                    5847 non-null   object \n",
      " 6   Location                5762 non-null   object \n",
      " 7   Activity                5758 non-null   object \n",
      " 8   Name                    6092 non-null   object \n",
      " 9   Sex                     5737 non-null   object \n",
      " 10  Age                     3471 non-null   object \n",
      " 11  Injury                  6274 non-null   object \n",
      " 12  Fatal (Y/N)             5763 non-null   object \n",
      " 13  Time                    2948 non-null   object \n",
      " 14  Species                 3464 non-null   object \n",
      " 15  Investigator or Source  6285 non-null   object \n",
      " 16  original order          6309 non-null   float64\n",
      "dtypes: float64(1), int64(1), object(15)\n",
      "memory usage: 889.2+ KB\n"
     ]
    }
   ],
   "source": [
    "df.info()"
   ]
  },
  {
   "cell_type": "code",
   "execution_count": 234,
   "metadata": {},
   "outputs": [
    {
     "data": {
      "text/plain": [
       "array(['F', 'M', 'other'], dtype=object)"
      ]
     },
     "execution_count": 234,
     "metadata": {},
     "output_type": "execute_result"
    }
   ],
   "source": [
    "df['Sex '].unique()"
   ]
  },
  {
   "cell_type": "code",
   "execution_count": 230,
   "metadata": {},
   "outputs": [],
   "source": [
    "df['Sex '] = df['Sex '].replace({'M ':'M','lli':'other','N':'other','.':'Other'})\n"
   ]
  },
  {
   "cell_type": "code",
   "execution_count": 232,
   "metadata": {},
   "outputs": [],
   "source": [
    "df['Sex '] = df['Sex '].replace({'Other':'other'})\n"
   ]
  },
  {
   "cell_type": "code",
   "execution_count": 233,
   "metadata": {},
   "outputs": [],
   "source": [
    "df['Sex '] = df['Sex '].fillna('other')"
   ]
  },
  {
   "cell_type": "code",
   "execution_count": 235,
   "metadata": {},
   "outputs": [],
   "source": [
    "df3 = df.copy()#rezpaldo"
   ]
  },
  {
   "cell_type": "code",
   "execution_count": 236,
   "metadata": {},
   "outputs": [
    {
     "name": "stdout",
     "output_type": "stream",
     "text": [
      "<class 'pandas.core.frame.DataFrame'>\n",
      "Int64Index: 6323 entries, 0 to 25722\n",
      "Data columns (total 17 columns):\n",
      " #   Column                  Non-Null Count  Dtype  \n",
      "---  ------                  --------------  -----  \n",
      " 0   Case Number             6320 non-null   object \n",
      " 1   Date                    6302 non-null   object \n",
      " 2   Year                    6323 non-null   int64  \n",
      " 3   Type                    6298 non-null   object \n",
      " 4   Country                 6252 non-null   object \n",
      " 5   Area                    5847 non-null   object \n",
      " 6   Location                5762 non-null   object \n",
      " 7   Activity                5758 non-null   object \n",
      " 8   Name                    6092 non-null   object \n",
      " 9   Sex                     6323 non-null   object \n",
      " 10  Age                     3471 non-null   object \n",
      " 11  Injury                  6274 non-null   object \n",
      " 12  Fatal (Y/N)             5763 non-null   object \n",
      " 13  Time                    2948 non-null   object \n",
      " 14  Species                 3464 non-null   object \n",
      " 15  Investigator or Source  6285 non-null   object \n",
      " 16  original order          6309 non-null   float64\n",
      "dtypes: float64(1), int64(1), object(15)\n",
      "memory usage: 889.2+ KB\n"
     ]
    }
   ],
   "source": [
    "df.info()"
   ]
  },
  {
   "cell_type": "code",
   "execution_count": 238,
   "metadata": {},
   "outputs": [],
   "source": [
    "df['Type'] = df['Type'].fillna('Not reported')\n",
    "df['Activity'] = df['Activity'].fillna('Not reported')\n",
    "df['Name'] = df['Name'].fillna('Not reported')\n",
    "df['Injury'] = df['Injury'].fillna('Not reported')\n",
    "df['Species '] = df['Species '].fillna('Not reported')"
   ]
  },
  {
   "cell_type": "code",
   "execution_count": 239,
   "metadata": {},
   "outputs": [
    {
     "name": "stdout",
     "output_type": "stream",
     "text": [
      "<class 'pandas.core.frame.DataFrame'>\n",
      "Int64Index: 6323 entries, 0 to 25722\n",
      "Data columns (total 17 columns):\n",
      " #   Column                  Non-Null Count  Dtype  \n",
      "---  ------                  --------------  -----  \n",
      " 0   Case Number             6320 non-null   object \n",
      " 1   Date                    6302 non-null   object \n",
      " 2   Year                    6323 non-null   int64  \n",
      " 3   Type                    6323 non-null   object \n",
      " 4   Country                 6252 non-null   object \n",
      " 5   Area                    5847 non-null   object \n",
      " 6   Location                5762 non-null   object \n",
      " 7   Activity                6323 non-null   object \n",
      " 8   Name                    6323 non-null   object \n",
      " 9   Sex                     6323 non-null   object \n",
      " 10  Age                     3471 non-null   object \n",
      " 11  Injury                  6323 non-null   object \n",
      " 12  Fatal (Y/N)             5763 non-null   object \n",
      " 13  Time                    2948 non-null   object \n",
      " 14  Species                 6323 non-null   object \n",
      " 15  Investigator or Source  6285 non-null   object \n",
      " 16  original order          6309 non-null   float64\n",
      "dtypes: float64(1), int64(1), object(15)\n",
      "memory usage: 889.2+ KB\n"
     ]
    }
   ],
   "source": [
    "df.info()"
   ]
  },
  {
   "cell_type": "code",
   "execution_count": 243,
   "metadata": {},
   "outputs": [
    {
     "data": {
      "text/plain": [
       "array(['57', '11', '48', nan, '18', '52', '15', '12', '32', '10', '21',\n",
       "       '34', '30', '60', '33', '29', '54', '41', '37', '56', '19', '25',\n",
       "       '69', '38', '55', '35', '46', '45', '14', '40s', '28', '20', '24',\n",
       "       '26', '49', '22', '7', '31', '17', '40', '13', '42', '3', '8',\n",
       "       '50', '16', '82', '73', '20s', '68', '51', '39', '58', 'Teen',\n",
       "       '47', '61', '65', '36', '66', '43', '60s', '9', '72', '59', '6',\n",
       "       '27', '64', '23', '71', '44', '62', '63', '70', '18 months', '53',\n",
       "       '30s', '50s', 'teen', '77', '74', '28 & 26', '5', '86', '18 or 20',\n",
       "       '12 or 13', '46 & 34', '28, 23 & 30', 'Teens', '36 & 26',\n",
       "       '8 or 10', '84', '\\xa0 ', ' ', '30 or 36', '6½', '21 & ?', '75',\n",
       "       '33 or 37', 'mid-30s', '23 & 20', ' 30', '7      &    31', ' 28',\n",
       "       '20?', \"60's\", '32 & 30', '16 to 18', '87', '67', 'Elderly',\n",
       "       'mid-20s', 'Ca. 33', '74 ', '45 ', '21 or 26', '20 ', '>50',\n",
       "       '18 to 22', 'adult', '9 & 12', '? & 19', '9 months', '25 to 35',\n",
       "       '23 & 26', '1', '(adult)', '33 & 37', '25 or 28',\n",
       "       '37, 67, 35, 27,  ? & 27', '21, 34,24 & 35', '30 & 32', '50 & 30',\n",
       "       '17 & 35', 'X', '\"middle-age\"', '13 or 18', '34 & 19', '33 & 26',\n",
       "       '2 to 3 months', 'MAKE LINE GREEN', ' 43', '81', '\"young\"',\n",
       "       '7 or 8', '78', '17 & 16', 'F', 'Both 11', '9 or 10', 'young',\n",
       "       '36 & 23', '  ', 'A.M.', '?    &   14', '10 or 12', '31 or 33',\n",
       "       '2½', '13 or 14'], dtype=object)"
      ]
     },
     "execution_count": 243,
     "metadata": {},
     "output_type": "execute_result"
    }
   ],
   "source": [
    "df['Age'].unique()"
   ]
  },
  {
   "cell_type": "code",
   "execution_count": 244,
   "metadata": {},
   "outputs": [
    {
     "data": {
      "text/plain": [
       "17          154\n",
       "18          150\n",
       "19          142\n",
       "20          141\n",
       "15          139\n",
       "           ... \n",
       "20?           1\n",
       "              1\n",
       "25 or 28      1\n",
       "60's          1\n",
       "18 or 20      1\n",
       "Name: Age, Length: 157, dtype: int64"
      ]
     },
     "execution_count": 244,
     "metadata": {},
     "output_type": "execute_result"
    }
   ],
   "source": [
    "df['Age'].value_counts()"
   ]
  },
  {
   "cell_type": "code",
   "execution_count": 277,
   "metadata": {},
   "outputs": [
    {
     "ename": "NameError",
     "evalue": "name 'test_patterns' is not defined",
     "output_type": "error",
     "traceback": [
      "\u001b[0;31m---------------------------------------------------------------------------\u001b[0m",
      "\u001b[0;31mNameError\u001b[0m                                 Traceback (most recent call last)",
      "\u001b[0;32m<ipython-input-277-e9902b452632>\u001b[0m in \u001b[0;36m<module>\u001b[0;34m\u001b[0m\n\u001b[0;32m----> 1\u001b[0;31m \u001b[0mhelp\u001b[0m\u001b[0;34m(\u001b[0m\u001b[0mtest_patterns\u001b[0m\u001b[0;34m)\u001b[0m\u001b[0;34m\u001b[0m\u001b[0;34m\u001b[0m\u001b[0m\n\u001b[0m",
      "\u001b[0;31mNameError\u001b[0m: name 'test_patterns' is not defined"
     ]
    }
   ],
   "source": [
    "help(test_patterns)"
   ]
  },
  {
   "cell_type": "code",
   "execution_count": 292,
   "metadata": {},
   "outputs": [
    {
     "name": "stdout",
     "output_type": "stream",
     "text": [
      "<class 'pandas.core.frame.DataFrame'>\n",
      "Int64Index: 6323 entries, 0 to 25722\n",
      "Data columns (total 17 columns):\n",
      " #   Column                  Non-Null Count  Dtype  \n",
      "---  ------                  --------------  -----  \n",
      " 0   Case Number             6320 non-null   object \n",
      " 1   Date                    6302 non-null   object \n",
      " 2   Year                    6323 non-null   int64  \n",
      " 3   Type                    6323 non-null   object \n",
      " 4   Country                 6252 non-null   object \n",
      " 5   Area                    5847 non-null   object \n",
      " 6   Location                5762 non-null   object \n",
      " 7   Activity                6323 non-null   object \n",
      " 8   Name                    6323 non-null   object \n",
      " 9   Sex                     6323 non-null   object \n",
      " 10  Age                     3471 non-null   object \n",
      " 11  Injury                  6323 non-null   object \n",
      " 12  Fatal (Y/N)             5763 non-null   object \n",
      " 13  Time                    2948 non-null   object \n",
      " 14  Species                 6323 non-null   object \n",
      " 15  Investigator or Source  6285 non-null   object \n",
      " 16  original order          6309 non-null   float64\n",
      "dtypes: float64(1), int64(1), object(15)\n",
      "memory usage: 889.2+ KB\n"
     ]
    }
   ],
   "source": [
    "df.info()"
   ]
  },
  {
   "cell_type": "code",
   "execution_count": 293,
   "metadata": {},
   "outputs": [],
   "source": [
    "patron1 = re.compile(r'\\w+ \\w+ shark\\b')\n",
    "df['Species '] = df['Species '].apply(lambda x: re.findall(patron,x))"
   ]
  },
  {
   "cell_type": "code",
   "execution_count": 295,
   "metadata": {},
   "outputs": [],
   "source": [
    "df4 = df3.copy()#rezpaldo"
   ]
  },
  {
   "cell_type": "code",
   "execution_count": 297,
   "metadata": {},
   "outputs": [
    {
     "name": "stdout",
     "output_type": "stream",
     "text": [
      "<class 'pandas.core.frame.DataFrame'>\n",
      "Int64Index: 6323 entries, 0 to 25722\n",
      "Data columns (total 17 columns):\n",
      " #   Column                  Non-Null Count  Dtype  \n",
      "---  ------                  --------------  -----  \n",
      " 0   Case Number             6320 non-null   object \n",
      " 1   Date                    6302 non-null   object \n",
      " 2   Year                    6323 non-null   int64  \n",
      " 3   Type                    6298 non-null   object \n",
      " 4   Country                 6252 non-null   object \n",
      " 5   Area                    5847 non-null   object \n",
      " 6   Location                5762 non-null   object \n",
      " 7   Activity                5758 non-null   object \n",
      " 8   Name                    6092 non-null   object \n",
      " 9   Sex                     6323 non-null   object \n",
      " 10  Age                     3471 non-null   object \n",
      " 11  Injury                  6274 non-null   object \n",
      " 12  Fatal (Y/N)             5763 non-null   object \n",
      " 13  Time                    2948 non-null   object \n",
      " 14  Species                 3464 non-null   object \n",
      " 15  Investigator or Source  6285 non-null   object \n",
      " 16  original order          6309 non-null   float64\n",
      "dtypes: float64(1), int64(1), object(15)\n",
      "memory usage: 889.2+ KB\n"
     ]
    }
   ],
   "source": [
    "df3.info()"
   ]
  },
  {
   "cell_type": "code",
   "execution_count": 308,
   "metadata": {},
   "outputs": [],
   "source": [
    "df4['Species '] = df4['Species '].astype('str')"
   ]
  },
  {
   "cell_type": "code",
   "execution_count": 303,
   "metadata": {},
   "outputs": [],
   "source": [
    "df3['Species '] = df3['Species '].apply(lambda x: re.findall(patron,x.lower()))"
   ]
  },
  {
   "cell_type": "code",
   "execution_count": 311,
   "metadata": {},
   "outputs": [],
   "source": [
    "df6 = df5.copy()#rezpaldo"
   ]
  },
  {
   "cell_type": "code",
   "execution_count": 306,
   "metadata": {},
   "outputs": [],
   "source": [
    "patron1 = re.compile(r'\\w+ \\w+ shark\\b')"
   ]
  },
  {
   "cell_type": "code",
   "execution_count": 309,
   "metadata": {},
   "outputs": [],
   "source": [
    "df4['Species '] = df4['Species '].apply(lambda x: re.findall(patron1,x.lower()))"
   ]
  },
  {
   "cell_type": "code",
   "execution_count": 314,
   "metadata": {},
   "outputs": [],
   "source": [
    "df5['Species '] = df5['Species '].astype('str')"
   ]
  },
  {
   "cell_type": "code",
   "execution_count": 315,
   "metadata": {},
   "outputs": [],
   "source": [
    "df5['Species '] = df5['Species '].apply(lambda x: x.lower())"
   ]
  },
  {
   "cell_type": "code",
   "execution_count": 316,
   "metadata": {},
   "outputs": [],
   "source": [
    "df5['Species '] = df5['Species '].apply(lambda x: re.findall(patron,x))"
   ]
  },
  {
   "cell_type": "code",
   "execution_count": 318,
   "metadata": {},
   "outputs": [],
   "source": [
    "df7 = df6.copy()\n"
   ]
  },
  {
   "cell_type": "code",
   "execution_count": 320,
   "metadata": {},
   "outputs": [],
   "source": [
    "df6['Species '] = df6['Species '].astype('str')\n",
    "df6['Species '] = df6['Species '].apply(lambda x: x.lower())\n",
    "patron1 = re.compile(r'\\.+ shark\\b')\n",
    "df6['Species '] = df6['Species '].apply(lambda x: re.findall(patron,x))"
   ]
  },
  {
   "cell_type": "code",
   "execution_count": 325,
   "metadata": {},
   "outputs": [
    {
     "data": {
      "text/html": [
       "<div>\n",
       "<style scoped>\n",
       "    .dataframe tbody tr th:only-of-type {\n",
       "        vertical-align: middle;\n",
       "    }\n",
       "\n",
       "    .dataframe tbody tr th {\n",
       "        vertical-align: top;\n",
       "    }\n",
       "\n",
       "    .dataframe thead th {\n",
       "        text-align: right;\n",
       "    }\n",
       "</style>\n",
       "<table border=\"1\" class=\"dataframe\">\n",
       "  <thead>\n",
       "    <tr style=\"text-align: right;\">\n",
       "      <th></th>\n",
       "      <th>Case Number</th>\n",
       "      <th>Date</th>\n",
       "      <th>Year</th>\n",
       "      <th>Type</th>\n",
       "      <th>Country</th>\n",
       "      <th>Area</th>\n",
       "      <th>Location</th>\n",
       "      <th>Activity</th>\n",
       "      <th>Name</th>\n",
       "      <th>Sex</th>\n",
       "      <th>Age</th>\n",
       "      <th>Injury</th>\n",
       "      <th>Fatal (Y/N)</th>\n",
       "      <th>Time</th>\n",
       "      <th>Species</th>\n",
       "      <th>Investigator or Source</th>\n",
       "      <th>original order</th>\n",
       "    </tr>\n",
       "  </thead>\n",
       "  <tbody>\n",
       "    <tr>\n",
       "      <th>0</th>\n",
       "      <td>2018.06.25</td>\n",
       "      <td>25-Jun-2018</td>\n",
       "      <td>2018</td>\n",
       "      <td>Boating</td>\n",
       "      <td>USA</td>\n",
       "      <td>California</td>\n",
       "      <td>Oceanside, San Diego County</td>\n",
       "      <td>Paddling</td>\n",
       "      <td>Julie Wolfe</td>\n",
       "      <td>F</td>\n",
       "      <td>57</td>\n",
       "      <td>No injury to occupant, outrigger canoe and pad...</td>\n",
       "      <td>N</td>\n",
       "      <td>18h00</td>\n",
       "      <td>[]</td>\n",
       "      <td>R. Collier, GSAF</td>\n",
       "      <td>6303.0</td>\n",
       "    </tr>\n",
       "    <tr>\n",
       "      <th>1</th>\n",
       "      <td>2018.06.18</td>\n",
       "      <td>18-Jun-2018</td>\n",
       "      <td>2018</td>\n",
       "      <td>Unprovoked</td>\n",
       "      <td>USA</td>\n",
       "      <td>Georgia</td>\n",
       "      <td>St. Simon Island, Glynn County</td>\n",
       "      <td>Standing</td>\n",
       "      <td>Adyson McNeely</td>\n",
       "      <td>F</td>\n",
       "      <td>11</td>\n",
       "      <td>Minor injury to left thigh</td>\n",
       "      <td>N</td>\n",
       "      <td>14h00  -15h00</td>\n",
       "      <td>[]</td>\n",
       "      <td>K.McMurray, TrackingSharks.com</td>\n",
       "      <td>6302.0</td>\n",
       "    </tr>\n",
       "    <tr>\n",
       "      <th>2</th>\n",
       "      <td>2018.06.09</td>\n",
       "      <td>09-Jun-2018</td>\n",
       "      <td>2018</td>\n",
       "      <td>Invalid</td>\n",
       "      <td>USA</td>\n",
       "      <td>Hawaii</td>\n",
       "      <td>Habush, Oahu</td>\n",
       "      <td>Surfing</td>\n",
       "      <td>John Denges</td>\n",
       "      <td>M</td>\n",
       "      <td>48</td>\n",
       "      <td>Injury to left lower leg from surfboard skeg</td>\n",
       "      <td>N</td>\n",
       "      <td>07h45</td>\n",
       "      <td>[]</td>\n",
       "      <td>K.McMurray, TrackingSharks.com</td>\n",
       "      <td>6301.0</td>\n",
       "    </tr>\n",
       "    <tr>\n",
       "      <th>3</th>\n",
       "      <td>2018.06.08</td>\n",
       "      <td>08-Jun-2018</td>\n",
       "      <td>2018</td>\n",
       "      <td>Unprovoked</td>\n",
       "      <td>AUSTRALIA</td>\n",
       "      <td>New South Wales</td>\n",
       "      <td>Arrawarra Headland</td>\n",
       "      <td>Surfing</td>\n",
       "      <td>male</td>\n",
       "      <td>M</td>\n",
       "      <td>NaN</td>\n",
       "      <td>Minor injury to lower leg</td>\n",
       "      <td>N</td>\n",
       "      <td>NaN</td>\n",
       "      <td>[2 m shark]</td>\n",
       "      <td>B. Myatt, GSAF</td>\n",
       "      <td>6300.0</td>\n",
       "    </tr>\n",
       "    <tr>\n",
       "      <th>4</th>\n",
       "      <td>2018.06.04</td>\n",
       "      <td>04-Jun-2018</td>\n",
       "      <td>2018</td>\n",
       "      <td>Provoked</td>\n",
       "      <td>MEXICO</td>\n",
       "      <td>Colima</td>\n",
       "      <td>La Ticla</td>\n",
       "      <td>Free diving</td>\n",
       "      <td>Gustavo Ramos</td>\n",
       "      <td>M</td>\n",
       "      <td>NaN</td>\n",
       "      <td>Lacerations to leg &amp; hand shark PROVOKED INCIDENT</td>\n",
       "      <td>N</td>\n",
       "      <td>NaN</td>\n",
       "      <td>[]</td>\n",
       "      <td>A .Kipper</td>\n",
       "      <td>6299.0</td>\n",
       "    </tr>\n",
       "  </tbody>\n",
       "</table>\n",
       "</div>"
      ],
      "text/plain": [
       "  Case Number         Date  Year        Type    Country             Area  \\\n",
       "0  2018.06.25  25-Jun-2018  2018     Boating        USA       California   \n",
       "1  2018.06.18  18-Jun-2018  2018  Unprovoked        USA          Georgia   \n",
       "2  2018.06.09  09-Jun-2018  2018     Invalid        USA           Hawaii   \n",
       "3  2018.06.08  08-Jun-2018  2018  Unprovoked  AUSTRALIA  New South Wales   \n",
       "4  2018.06.04  04-Jun-2018  2018    Provoked     MEXICO           Colima   \n",
       "\n",
       "                         Location     Activity             Name Sex   Age  \\\n",
       "0     Oceanside, San Diego County     Paddling      Julie Wolfe    F   57   \n",
       "1  St. Simon Island, Glynn County     Standing  Adyson McNeely     F   11   \n",
       "2                    Habush, Oahu      Surfing      John Denges    M   48   \n",
       "3              Arrawarra Headland      Surfing             male    M  NaN   \n",
       "4                        La Ticla  Free diving   Gustavo Ramos     M  NaN   \n",
       "\n",
       "                                              Injury Fatal (Y/N)  \\\n",
       "0  No injury to occupant, outrigger canoe and pad...           N   \n",
       "1                         Minor injury to left thigh           N   \n",
       "2       Injury to left lower leg from surfboard skeg           N   \n",
       "3                          Minor injury to lower leg           N   \n",
       "4  Lacerations to leg & hand shark PROVOKED INCIDENT           N   \n",
       "\n",
       "            Time     Species           Investigator or Source  original order  \n",
       "0          18h00           []                R. Collier, GSAF          6303.0  \n",
       "1  14h00  -15h00           []  K.McMurray, TrackingSharks.com          6302.0  \n",
       "2          07h45           []  K.McMurray, TrackingSharks.com          6301.0  \n",
       "3            NaN  [2 m shark]                  B. Myatt, GSAF          6300.0  \n",
       "4            NaN           []                       A .Kipper          6299.0  "
      ]
     },
     "execution_count": 325,
     "metadata": {},
     "output_type": "execute_result"
    }
   ],
   "source": [
    "df6.head()"
   ]
  },
  {
   "cell_type": "code",
   "execution_count": 336,
   "metadata": {},
   "outputs": [],
   "source": [
    "x = df7['Species '][0:30]\n",
    "x = list(x)"
   ]
  },
  {
   "cell_type": "code",
   "execution_count": 338,
   "metadata": {},
   "outputs": [
    {
     "data": {
      "text/plain": [
       "['White shark',\n",
       " nan,\n",
       " nan,\n",
       " '2 m shark',\n",
       " 'Tiger shark, 3m',\n",
       " nan,\n",
       " 'Tiger shark',\n",
       " \"Lemon shark, 3'\",\n",
       " \"Bull shark, 6'\",\n",
       " nan,\n",
       " 'Grey reef shark',\n",
       " nan,\n",
       " nan,\n",
       " 'Invalid incident',\n",
       " 'Tawny nurse shark, 2m',\n",
       " nan,\n",
       " 'Shark involvement not confirmed',\n",
       " nan,\n",
       " 'Tiger shark',\n",
       " nan,\n",
       " 'Questionable',\n",
       " '3 m shark',\n",
       " 'White shark, 3.5 m',\n",
       " 'Tiger shark',\n",
       " 'White shark, 2.5 m',\n",
       " \"6' shark\",\n",
       " 'Juvenile bull shark',\n",
       " nan,\n",
       " nan,\n",
       " nan]"
      ]
     },
     "execution_count": 338,
     "metadata": {},
     "output_type": "execute_result"
    }
   ],
   "source": [
    "x"
   ]
  },
  {
   "cell_type": "code",
   "execution_count": 341,
   "metadata": {},
   "outputs": [
    {
     "ename": "AttributeError",
     "evalue": "'list' object has no attribute 'split'",
     "output_type": "error",
     "traceback": [
      "\u001b[0;31m---------------------------------------------------------------------------\u001b[0m",
      "\u001b[0;31mAttributeError\u001b[0m                            Traceback (most recent call last)",
      "\u001b[0;32m<ipython-input-341-bfc00aec4c91>\u001b[0m in \u001b[0;36m<module>\u001b[0;34m\u001b[0m\n\u001b[0;32m----> 1\u001b[0;31m \u001b[0my\u001b[0m \u001b[0;34m=\u001b[0m \u001b[0mre\u001b[0m\u001b[0;34m.\u001b[0m\u001b[0mfindall\u001b[0m\u001b[0;34m(\u001b[0m\u001b[0;34mr'\\w+ shark\\b'\u001b[0m\u001b[0;34m,\u001b[0m\u001b[0mx\u001b[0m\u001b[0;34m.\u001b[0m\u001b[0msplit\u001b[0m\u001b[0;34m(\u001b[0m\u001b[0;34m)\u001b[0m\u001b[0;34m)\u001b[0m\u001b[0;34m\u001b[0m\u001b[0;34m\u001b[0m\u001b[0m\n\u001b[0m\u001b[1;32m      2\u001b[0m \u001b[0my\u001b[0m\u001b[0;34m\u001b[0m\u001b[0;34m\u001b[0m\u001b[0m\n",
      "\u001b[0;31mAttributeError\u001b[0m: 'list' object has no attribute 'split'"
     ]
    }
   ],
   "source": [
    "yre.findall(r'\\w+ shark\\b',x.split())\n"
   ]
  },
  {
   "cell_type": "code",
   "execution_count": null,
   "metadata": {},
   "outputs": [],
   "source": []
  },
  {
   "cell_type": "code",
   "execution_count": null,
   "metadata": {},
   "outputs": [],
   "source": [
    "lista = 'Black White shark'"
   ]
  },
  {
   "cell_type": "code",
   "execution_count": null,
   "metadata": {},
   "outputs": [],
   "source": [
    "patron1 = re.compile(r'\\.+ shark\\b')"
   ]
  },
  {
   "cell_type": "code",
   "execution_count": 352,
   "metadata": {},
   "outputs": [
    {
     "data": {
      "text/plain": [
       "0            White shark\n",
       "1                    nan\n",
       "2                    nan\n",
       "3              2 m shark\n",
       "4        Tiger shark, 3m\n",
       "              ...       \n",
       "6318                 nan\n",
       "6319                 nan\n",
       "25720                nan\n",
       "25721                nan\n",
       "25722                nan\n",
       "Name: Species , Length: 6323, dtype: object"
      ]
     },
     "execution_count": 352,
     "metadata": {},
     "output_type": "execute_result"
    }
   ],
   "source": [
    "df7['Species '].astype('str')"
   ]
  },
  {
   "cell_type": "code",
   "execution_count": 357,
   "metadata": {},
   "outputs": [],
   "source": [
    "e = df7['Species '].astype('str').apply(lambda x: re.findall(r'\\w+ \\w+ shark\\b',x))"
   ]
  },
  {
   "cell_type": "code",
   "execution_count": 359,
   "metadata": {},
   "outputs": [
    {
     "ename": "TypeError",
     "evalue": "unhashable type: 'list'",
     "output_type": "error",
     "traceback": [
      "\u001b[0;31m---------------------------------------------------------------------------\u001b[0m",
      "\u001b[0;31mTypeError\u001b[0m                                 Traceback (most recent call last)",
      "\u001b[0;32mpandas/_libs/hashtable_class_helper.pxi\u001b[0m in \u001b[0;36mpandas._libs.hashtable.PyObjectHashTable.map_locations\u001b[0;34m()\u001b[0m\n",
      "\u001b[0;31mTypeError\u001b[0m: unhashable type: 'list'"
     ]
    },
    {
     "name": "stderr",
     "output_type": "stream",
     "text": [
      "Exception ignored in: 'pandas._libs.index.IndexEngine._call_map_locations'\n",
      "Traceback (most recent call last):\n",
      "  File \"pandas/_libs/hashtable_class_helper.pxi\", line 1652, in pandas._libs.hashtable.PyObjectHashTable.map_locations\n",
      "TypeError: unhashable type: 'list'\n"
     ]
    },
    {
     "data": {
      "text/plain": [
       "[]                          5728\n",
       "[Bronze whaler shark]         56\n",
       "[Grey nurse shark]            36\n",
       "[5 m shark]                   33\n",
       "[2 m shark]                   31\n",
       "                            ... \n",
       "[great hammerhead shark]       1\n",
       "[small brown shark]            1\n",
       "[grey colored shark]           1\n",
       "[or bonnethed shark]           1\n",
       "[of the shark]                 1\n",
       "Name: Species , Length: 171, dtype: int64"
      ]
     },
     "execution_count": 359,
     "metadata": {},
     "output_type": "execute_result"
    }
   ],
   "source": [
    "e.value_counts()"
   ]
  },
  {
   "cell_type": "code",
   "execution_count": null,
   "metadata": {},
   "outputs": [],
   "source": []
  },
  {
   "cell_type": "code",
   "execution_count": 354,
   "metadata": {},
   "outputs": [
    {
     "data": {
      "text/plain": [
       "0            White shark\n",
       "1                    nan\n",
       "2                    nan\n",
       "3              2 m shark\n",
       "4        Tiger shark, 3m\n",
       "              ...       \n",
       "6318                 nan\n",
       "6319                 nan\n",
       "25720                nan\n",
       "25721                nan\n",
       "25722                nan\n",
       "Name: Species , Length: 6323, dtype: object"
      ]
     },
     "execution_count": 354,
     "metadata": {},
     "output_type": "execute_result"
    }
   ],
   "source": [
    "df7['Species '].astype('str').apply(lambda x: x)"
   ]
  },
  {
   "cell_type": "code",
   "execution_count": 356,
   "metadata": {},
   "outputs": [
    {
     "data": {
      "text/html": [
       "<div>\n",
       "<style scoped>\n",
       "    .dataframe tbody tr th:only-of-type {\n",
       "        vertical-align: middle;\n",
       "    }\n",
       "\n",
       "    .dataframe tbody tr th {\n",
       "        vertical-align: top;\n",
       "    }\n",
       "\n",
       "    .dataframe thead th {\n",
       "        text-align: right;\n",
       "    }\n",
       "</style>\n",
       "<table border=\"1\" class=\"dataframe\">\n",
       "  <thead>\n",
       "    <tr style=\"text-align: right;\">\n",
       "      <th></th>\n",
       "      <th>Case Number</th>\n",
       "      <th>Date</th>\n",
       "      <th>Year</th>\n",
       "      <th>Type</th>\n",
       "      <th>Country</th>\n",
       "      <th>Area</th>\n",
       "      <th>Location</th>\n",
       "      <th>Activity</th>\n",
       "      <th>Name</th>\n",
       "      <th>Sex</th>\n",
       "      <th>Age</th>\n",
       "      <th>Injury</th>\n",
       "      <th>Fatal (Y/N)</th>\n",
       "      <th>Time</th>\n",
       "      <th>Species</th>\n",
       "      <th>Investigator or Source</th>\n",
       "      <th>original order</th>\n",
       "    </tr>\n",
       "  </thead>\n",
       "  <tbody>\n",
       "    <tr>\n",
       "      <th>0</th>\n",
       "      <td>2018.06.25</td>\n",
       "      <td>25-Jun-2018</td>\n",
       "      <td>2018</td>\n",
       "      <td>Boating</td>\n",
       "      <td>USA</td>\n",
       "      <td>California</td>\n",
       "      <td>Oceanside, San Diego County</td>\n",
       "      <td>Paddling</td>\n",
       "      <td>Julie Wolfe</td>\n",
       "      <td>F</td>\n",
       "      <td>57</td>\n",
       "      <td>No injury to occupant, outrigger canoe and pad...</td>\n",
       "      <td>N</td>\n",
       "      <td>18h00</td>\n",
       "      <td>White shark</td>\n",
       "      <td>R. Collier, GSAF</td>\n",
       "      <td>6303.0</td>\n",
       "    </tr>\n",
       "    <tr>\n",
       "      <th>1</th>\n",
       "      <td>2018.06.18</td>\n",
       "      <td>18-Jun-2018</td>\n",
       "      <td>2018</td>\n",
       "      <td>Unprovoked</td>\n",
       "      <td>USA</td>\n",
       "      <td>Georgia</td>\n",
       "      <td>St. Simon Island, Glynn County</td>\n",
       "      <td>Standing</td>\n",
       "      <td>Adyson McNeely</td>\n",
       "      <td>F</td>\n",
       "      <td>11</td>\n",
       "      <td>Minor injury to left thigh</td>\n",
       "      <td>N</td>\n",
       "      <td>14h00  -15h00</td>\n",
       "      <td>NaN</td>\n",
       "      <td>K.McMurray, TrackingSharks.com</td>\n",
       "      <td>6302.0</td>\n",
       "    </tr>\n",
       "    <tr>\n",
       "      <th>2</th>\n",
       "      <td>2018.06.09</td>\n",
       "      <td>09-Jun-2018</td>\n",
       "      <td>2018</td>\n",
       "      <td>Invalid</td>\n",
       "      <td>USA</td>\n",
       "      <td>Hawaii</td>\n",
       "      <td>Habush, Oahu</td>\n",
       "      <td>Surfing</td>\n",
       "      <td>John Denges</td>\n",
       "      <td>M</td>\n",
       "      <td>48</td>\n",
       "      <td>Injury to left lower leg from surfboard skeg</td>\n",
       "      <td>N</td>\n",
       "      <td>07h45</td>\n",
       "      <td>NaN</td>\n",
       "      <td>K.McMurray, TrackingSharks.com</td>\n",
       "      <td>6301.0</td>\n",
       "    </tr>\n",
       "    <tr>\n",
       "      <th>3</th>\n",
       "      <td>2018.06.08</td>\n",
       "      <td>08-Jun-2018</td>\n",
       "      <td>2018</td>\n",
       "      <td>Unprovoked</td>\n",
       "      <td>AUSTRALIA</td>\n",
       "      <td>New South Wales</td>\n",
       "      <td>Arrawarra Headland</td>\n",
       "      <td>Surfing</td>\n",
       "      <td>male</td>\n",
       "      <td>M</td>\n",
       "      <td>NaN</td>\n",
       "      <td>Minor injury to lower leg</td>\n",
       "      <td>N</td>\n",
       "      <td>NaN</td>\n",
       "      <td>2 m shark</td>\n",
       "      <td>B. Myatt, GSAF</td>\n",
       "      <td>6300.0</td>\n",
       "    </tr>\n",
       "    <tr>\n",
       "      <th>4</th>\n",
       "      <td>2018.06.04</td>\n",
       "      <td>04-Jun-2018</td>\n",
       "      <td>2018</td>\n",
       "      <td>Provoked</td>\n",
       "      <td>MEXICO</td>\n",
       "      <td>Colima</td>\n",
       "      <td>La Ticla</td>\n",
       "      <td>Free diving</td>\n",
       "      <td>Gustavo Ramos</td>\n",
       "      <td>M</td>\n",
       "      <td>NaN</td>\n",
       "      <td>Lacerations to leg &amp; hand shark PROVOKED INCIDENT</td>\n",
       "      <td>N</td>\n",
       "      <td>NaN</td>\n",
       "      <td>Tiger shark, 3m</td>\n",
       "      <td>A .Kipper</td>\n",
       "      <td>6299.0</td>\n",
       "    </tr>\n",
       "  </tbody>\n",
       "</table>\n",
       "</div>"
      ],
      "text/plain": [
       "  Case Number         Date  Year        Type    Country             Area  \\\n",
       "0  2018.06.25  25-Jun-2018  2018     Boating        USA       California   \n",
       "1  2018.06.18  18-Jun-2018  2018  Unprovoked        USA          Georgia   \n",
       "2  2018.06.09  09-Jun-2018  2018     Invalid        USA           Hawaii   \n",
       "3  2018.06.08  08-Jun-2018  2018  Unprovoked  AUSTRALIA  New South Wales   \n",
       "4  2018.06.04  04-Jun-2018  2018    Provoked     MEXICO           Colima   \n",
       "\n",
       "                         Location     Activity             Name Sex   Age  \\\n",
       "0     Oceanside, San Diego County     Paddling      Julie Wolfe    F   57   \n",
       "1  St. Simon Island, Glynn County     Standing  Adyson McNeely     F   11   \n",
       "2                    Habush, Oahu      Surfing      John Denges    M   48   \n",
       "3              Arrawarra Headland      Surfing             male    M  NaN   \n",
       "4                        La Ticla  Free diving   Gustavo Ramos     M  NaN   \n",
       "\n",
       "                                              Injury Fatal (Y/N)  \\\n",
       "0  No injury to occupant, outrigger canoe and pad...           N   \n",
       "1                         Minor injury to left thigh           N   \n",
       "2       Injury to left lower leg from surfboard skeg           N   \n",
       "3                          Minor injury to lower leg           N   \n",
       "4  Lacerations to leg & hand shark PROVOKED INCIDENT           N   \n",
       "\n",
       "            Time         Species           Investigator or Source  \\\n",
       "0          18h00      White shark                R. Collier, GSAF   \n",
       "1  14h00  -15h00              NaN  K.McMurray, TrackingSharks.com   \n",
       "2          07h45              NaN  K.McMurray, TrackingSharks.com   \n",
       "3            NaN        2 m shark                  B. Myatt, GSAF   \n",
       "4            NaN  Tiger shark, 3m                       A .Kipper   \n",
       "\n",
       "   original order  \n",
       "0          6303.0  \n",
       "1          6302.0  \n",
       "2          6301.0  \n",
       "3          6300.0  \n",
       "4          6299.0  "
      ]
     },
     "execution_count": 356,
     "metadata": {},
     "output_type": "execute_result"
    }
   ],
   "source": [
    "df7.head()"
   ]
  },
  {
   "cell_type": "code",
   "execution_count": 360,
   "metadata": {},
   "outputs": [],
   "source": [
    "df8 = df7.copy()"
   ]
  },
  {
   "cell_type": "code",
   "execution_count": 361,
   "metadata": {},
   "outputs": [],
   "source": [
    "df7['Species '] = df7['Species '].fillna('Not reported')"
   ]
  },
  {
   "cell_type": "code",
   "execution_count": 362,
   "metadata": {},
   "outputs": [
    {
     "name": "stdout",
     "output_type": "stream",
     "text": [
      "<class 'pandas.core.frame.DataFrame'>\n",
      "Int64Index: 6323 entries, 0 to 25722\n",
      "Data columns (total 17 columns):\n",
      " #   Column                  Non-Null Count  Dtype  \n",
      "---  ------                  --------------  -----  \n",
      " 0   Case Number             6320 non-null   object \n",
      " 1   Date                    6302 non-null   object \n",
      " 2   Year                    6323 non-null   int64  \n",
      " 3   Type                    6298 non-null   object \n",
      " 4   Country                 6252 non-null   object \n",
      " 5   Area                    5847 non-null   object \n",
      " 6   Location                5762 non-null   object \n",
      " 7   Activity                5758 non-null   object \n",
      " 8   Name                    6092 non-null   object \n",
      " 9   Sex                     6323 non-null   object \n",
      " 10  Age                     3471 non-null   object \n",
      " 11  Injury                  6274 non-null   object \n",
      " 12  Fatal (Y/N)             5763 non-null   object \n",
      " 13  Time                    2948 non-null   object \n",
      " 14  Species                 6323 non-null   object \n",
      " 15  Investigator or Source  6285 non-null   object \n",
      " 16  original order          6309 non-null   float64\n",
      "dtypes: float64(1), int64(1), object(15)\n",
      "memory usage: 1.2+ MB\n"
     ]
    }
   ],
   "source": [
    "df7.info()"
   ]
  },
  {
   "cell_type": "code",
   "execution_count": 367,
   "metadata": {},
   "outputs": [
    {
     "data": {
      "text/plain": [
       "0                 []\n",
       "1                 []\n",
       "2                 []\n",
       "3        [2 m shark]\n",
       "4                 []\n",
       "            ...     \n",
       "6318              []\n",
       "6319              []\n",
       "25720             []\n",
       "25721             []\n",
       "25722             []\n",
       "Name: Species , Length: 6323, dtype: object"
      ]
     },
     "execution_count": 367,
     "metadata": {},
     "output_type": "execute_result"
    }
   ],
   "source": [
    "df7['Species '].astype('str').apply(lambda x: re.findall(r'\\w+ \\w+ shark\\b',x))"
   ]
  },
  {
   "cell_type": "code",
   "execution_count": 368,
   "metadata": {},
   "outputs": [],
   "source": [
    "df8 = df7.copy()"
   ]
  },
  {
   "cell_type": "code",
   "execution_count": 369,
   "metadata": {},
   "outputs": [],
   "source": [
    "df7['Species '] = df7['Species '].astype('str').apply(lambda x: re.findall(r'\\w+ \\w+ shark\\b',x))"
   ]
  },
  {
   "cell_type": "code",
   "execution_count": 378,
   "metadata": {},
   "outputs": [],
   "source": [
    "df7['Species '] = df7['Species '].apply(lambda x: ''.join(x))"
   ]
  },
  {
   "cell_type": "code",
   "execution_count": 381,
   "metadata": {},
   "outputs": [],
   "source": [
    "df7['Species '] = df7['Species '].replace({'':'Undentify'})"
   ]
  },
  {
   "cell_type": "code",
   "execution_count": 401,
   "metadata": {},
   "outputs": [
    {
     "data": {
      "text/plain": [
       "False"
      ]
     },
     "execution_count": 401,
     "metadata": {},
     "output_type": "execute_result"
    }
   ],
   "source": [
    "'White shark' in df7['Species ']"
   ]
  },
  {
   "cell_type": "code",
   "execution_count": 400,
   "metadata": {},
   "outputs": [
    {
     "data": {
      "text/plain": [
       "Undentify               5728\n",
       "Bronze whaler shark       56\n",
       "Grey nurse shark          36\n",
       "5 m shark                 33\n",
       "2 m shark                 31\n",
       "                        ... \n",
       "as carcharinid shark       1\n",
       "been another shark         1\n",
       "Not a shark                1\n",
       "small sand shark           1\n",
       "the same shark             1\n",
       "Name: Species , Length: 171, dtype: int64"
      ]
     },
     "execution_count": 400,
     "metadata": {},
     "output_type": "execute_result"
    }
   ],
   "source": [
    "df7['Species '].value_counts()"
   ]
  },
  {
   "cell_type": "code",
   "execution_count": 405,
   "metadata": {},
   "outputs": [
    {
     "name": "stdout",
     "output_type": "stream",
     "text": [
      "<class 'pandas.core.frame.DataFrame'>\n",
      "Int64Index: 6323 entries, 0 to 25722\n",
      "Data columns (total 17 columns):\n",
      " #   Column                  Non-Null Count  Dtype  \n",
      "---  ------                  --------------  -----  \n",
      " 0   Case Number             6320 non-null   object \n",
      " 1   Date                    6302 non-null   object \n",
      " 2   Year                    6323 non-null   int64  \n",
      " 3   Type                    6298 non-null   object \n",
      " 4   Country                 6252 non-null   object \n",
      " 5   Area                    5847 non-null   object \n",
      " 6   Location                5762 non-null   object \n",
      " 7   Activity                5758 non-null   object \n",
      " 8   Name                    6092 non-null   object \n",
      " 9   Sex                     6323 non-null   object \n",
      " 10  Age                     3471 non-null   object \n",
      " 11  Injury                  6274 non-null   object \n",
      " 12  Fatal (Y/N)             5763 non-null   object \n",
      " 13  Time                    2948 non-null   object \n",
      " 14  Species                 6323 non-null   object \n",
      " 15  Investigator or Source  6285 non-null   object \n",
      " 16  original order          6309 non-null   float64\n",
      "dtypes: float64(1), int64(1), object(15)\n",
      "memory usage: 889.2+ KB\n"
     ]
    }
   ],
   "source": [
    "df8.info()"
   ]
  },
  {
   "cell_type": "code",
   "execution_count": 403,
   "metadata": {},
   "outputs": [],
   "source": [
    "df9 = df8.copy()"
   ]
  },
  {
   "cell_type": "code",
   "execution_count": null,
   "metadata": {},
   "outputs": [],
   "source": [
    "df7['Species '] = df7['Species '].astype('str').apply(lambda x: re.findall(r'\\w+ \\w+ shark\\b',x))"
   ]
  },
  {
   "cell_type": "code",
   "execution_count": 394,
   "metadata": {},
   "outputs": [],
   "source": [
    "dataframe_species = pd.DataFrame(df7['Species '].value_counts())"
   ]
  },
  {
   "cell_type": "code",
   "execution_count": 398,
   "metadata": {},
   "outputs": [
    {
     "data": {
      "text/plain": [
       "1 m shark               1\n",
       "small brown shark       1\n",
       "300 kg shark            1\n",
       "13 m shark              1\n",
       "m white shark           1\n",
       "                       ..\n",
       "a white shark           1\n",
       "or brown shark          1\n",
       "8 m shark               1\n",
       "but the shark           1\n",
       "small blacktip shark    1\n",
       "Length: 171, dtype: int64"
      ]
     },
     "execution_count": 398,
     "metadata": {},
     "output_type": "execute_result"
    }
   ],
   "source": [
    "dataframe_species.index.value_counts()"
   ]
  },
  {
   "cell_type": "code",
   "execution_count": 406,
   "metadata": {},
   "outputs": [
    {
     "name": "stdout",
     "output_type": "stream",
     "text": [
      "<class 'pandas.core.frame.DataFrame'>\n",
      "Int64Index: 6323 entries, 0 to 25722\n",
      "Data columns (total 17 columns):\n",
      " #   Column                  Non-Null Count  Dtype  \n",
      "---  ------                  --------------  -----  \n",
      " 0   Case Number             6320 non-null   object \n",
      " 1   Date                    6302 non-null   object \n",
      " 2   Year                    6323 non-null   int64  \n",
      " 3   Type                    6298 non-null   object \n",
      " 4   Country                 6252 non-null   object \n",
      " 5   Area                    5847 non-null   object \n",
      " 6   Location                5762 non-null   object \n",
      " 7   Activity                5758 non-null   object \n",
      " 8   Name                    6092 non-null   object \n",
      " 9   Sex                     6323 non-null   object \n",
      " 10  Age                     3471 non-null   object \n",
      " 11  Injury                  6274 non-null   object \n",
      " 12  Fatal (Y/N)             5763 non-null   object \n",
      " 13  Time                    2948 non-null   object \n",
      " 14  Species                 6323 non-null   object \n",
      " 15  Investigator or Source  6285 non-null   object \n",
      " 16  original order          6309 non-null   float64\n",
      "dtypes: float64(1), int64(1), object(15)\n",
      "memory usage: 889.2+ KB\n"
     ]
    }
   ],
   "source": [
    "df8.info()"
   ]
  },
  {
   "cell_type": "code",
   "execution_count": 407,
   "metadata": {},
   "outputs": [],
   "source": [
    "df8['Species '] = df8['Species '].astype('str').apply(lambda x:x.lower()) \n",
    "df8['Species '] = df8['Species '].apply(lambda x: re.findall(r'\\w+ \\w+ shark\\b',x))"
   ]
  },
  {
   "cell_type": "code",
   "execution_count": 408,
   "metadata": {},
   "outputs": [
    {
     "data": {
      "text/plain": [
       "0                 []\n",
       "1                 []\n",
       "2                 []\n",
       "3        [2 m shark]\n",
       "4                 []\n",
       "            ...     \n",
       "6318              []\n",
       "6319              []\n",
       "25720             []\n",
       "25721             []\n",
       "25722             []\n",
       "Name: Species , Length: 6323, dtype: object"
      ]
     },
     "execution_count": 408,
     "metadata": {},
     "output_type": "execute_result"
    }
   ],
   "source": []
  },
  {
   "cell_type": "code",
   "execution_count": 409,
   "metadata": {},
   "outputs": [],
   "source": [
    "df8['Species '] = df8['Species '].apply(lambda x: ''.join(x))\n",
    "df8['Species '] = df8['Species '].replace({'':'Undentify'})"
   ]
  },
  {
   "cell_type": "code",
   "execution_count": 426,
   "metadata": {},
   "outputs": [
    {
     "data": {
      "text/plain": [
       "array(['Undentify', '2 m shark', 'grey reef shark', 'tawny nurse shark',\n",
       "       '3 m shark', 'juvenile bull shark', '5 m shark', '8 m shark',\n",
       "       'juvenile white shark', 'not a shark', 'juvenile nurse shark',\n",
       "       'juvenile blacktip shark', 'oceanic whitetip shark',\n",
       "       'a small shark', 'caribbean reef shark',\n",
       "       'broadnose sevengill shark', 'bronze whaler shark',\n",
       "       'or spinner shark', 'small nurse shark', 'blacktip reef shark',\n",
       "       '4 m shark', '1 m shark', '2 white shark', 'or blacktip shark',\n",
       "       'juvenile tiger shark', '8 metre shark', 'tawney nurse shark',\n",
       "       'm white shark', 'a bull shark', 'a white shark',\n",
       "       'whitetip reef shark', 'small bull shark', 'grey nurse shark',\n",
       "       'm bull shark', 'small reef shark', 'small blacktip shark',\n",
       "       'kg blue shark', 'm tiger shark', 'port jackson shark',\n",
       "       'small spinner shark', 'to 30kg shark', 'a blue shark',\n",
       "       'juvenile hammerhead shark', 'bronze whale shark', '80 kg shark',\n",
       "       'cookie cutter shark', '6 m shark', '5m white shark',\n",
       "       'starry smoothhound shark', 'media as shark', 'a hammerhead shark',\n",
       "       '27 m shark', 'gray reef shark', 'a spinner shark',\n",
       "       'a tiger shark', 'a mako shark', 'or tiger shark', 'or bull shark',\n",
       "       'to bull shark', 'a sandbar sharksmall blacktip shark',\n",
       "       'the same shark', 'that a shark', 'old white shark',\n",
       "       'small hammerhead shark', 'longfin mako shark', 'or brown shark',\n",
       "       'm sandtiger shark', 'shortfin mako shark', 'm cow shark',\n",
       "       'great hammerhead shark', 'small brown shark',\n",
       "       'grey colored shark', 'a bull sharkor tiger shark',\n",
       "       'or bonnethed shark', 'or sandbar shark', 'large white shark',\n",
       "       '1 m sharkwhitetip reef shark', 'black finned shark',\n",
       "       'dead blue shark', 'a zambesi shark', 'lb bull shark',\n",
       "       '300 kg shark', '7 m shark', 'small dusky sharkor blackfin shark',\n",
       "       'a blacktip shark', 'oceanic whitetip sharka white shark',\n",
       "       'a sand shark', 'a young shark', 'small sand shark',\n",
       "       'possiby white shark', 'm hammerhead shark', 'or lemon shark',\n",
       "       'kg white shark', 'm grey shark', 'lb reef shark',\n",
       "       'female white shark', 'm copper shark',\n",
       "       'a white sharkauthorities believed shark', 'or sevengill shark',\n",
       "       'm silky shark', 'small blue shark', 'tipped reef shark',\n",
       "       'reported as shark', 'as a shark', 'shot white shark',\n",
       "       'a tiger sharka hammerhead shark', 'lb thresher shark',\n",
       "       'or dusky shark', '270 kg shark', 'juvenile dusky shark',\n",
       "       '2 m sharkor blacktip shark', 'or thresher shark',\n",
       "       'or sandtiger shark', 'pregnant sandbar shark',\n",
       "       'believed white shark', 'lb zambesi shark',\n",
       "       'grey reef sharkgrey reef shark', 'lb hooked shark',\n",
       "       'female lemon shark', 'blacktail reef shark',\n",
       "       'involve white shark', '20 kg shark', 'description of shark',\n",
       "       'as carcharinid shark', 'large mako shark', 'or white shark',\n",
       "       'been another shark', 'lb sand shark', 'or blue shark',\n",
       "       'a little shark', 'a dusky shark', 'probable bull shark',\n",
       "       'slim brown shark', 'of the shark', '13 m shark',\n",
       "       'small carpet shark', 'a lemon shark', 'whtietip reef shark',\n",
       "       'aka bonito shark', 'a large shark', 'large tiger shark',\n",
       "       'blue nose shark', 'a dog shark', 'as carcharhinid shark',\n",
       "       'very large shark', 'of captured shark', 'comrades saw shark',\n",
       "       'possible white shark', 'remains from shark', '70 kg shark',\n",
       "       'kg female shark', 'but the shark', 'or porbeagle shark',\n",
       "       'recovered from shark', 'or mako shark', 'large hammerhead shark'],\n",
       "      dtype=object)"
      ]
     },
     "execution_count": 426,
     "metadata": {},
     "output_type": "execute_result"
    }
   ],
   "source": [
    "df8['Species '].unique()"
   ]
  },
  {
   "cell_type": "code",
   "execution_count": 414,
   "metadata": {},
   "outputs": [
    {
     "data": {
      "text/plain": [
       "False"
      ]
     },
     "execution_count": 414,
     "metadata": {},
     "output_type": "execute_result"
    }
   ],
   "source": [
    "'White shark' in df9['Species ']\n"
   ]
  },
  {
   "cell_type": "code",
   "execution_count": 416,
   "metadata": {},
   "outputs": [
    {
     "data": {
      "text/html": [
       "<div>\n",
       "<style scoped>\n",
       "    .dataframe tbody tr th:only-of-type {\n",
       "        vertical-align: middle;\n",
       "    }\n",
       "\n",
       "    .dataframe tbody tr th {\n",
       "        vertical-align: top;\n",
       "    }\n",
       "\n",
       "    .dataframe thead th {\n",
       "        text-align: right;\n",
       "    }\n",
       "</style>\n",
       "<table border=\"1\" class=\"dataframe\">\n",
       "  <thead>\n",
       "    <tr style=\"text-align: right;\">\n",
       "      <th></th>\n",
       "      <th>Case Number</th>\n",
       "      <th>Date</th>\n",
       "      <th>Year</th>\n",
       "      <th>Type</th>\n",
       "      <th>Country</th>\n",
       "      <th>Area</th>\n",
       "      <th>Location</th>\n",
       "      <th>Activity</th>\n",
       "      <th>Name</th>\n",
       "      <th>Sex</th>\n",
       "      <th>Age</th>\n",
       "      <th>Injury</th>\n",
       "      <th>Fatal (Y/N)</th>\n",
       "      <th>Time</th>\n",
       "      <th>Species</th>\n",
       "      <th>Investigator or Source</th>\n",
       "      <th>original order</th>\n",
       "    </tr>\n",
       "  </thead>\n",
       "  <tbody>\n",
       "    <tr>\n",
       "      <th>0</th>\n",
       "      <td>2018.06.25</td>\n",
       "      <td>25-Jun-2018</td>\n",
       "      <td>2018</td>\n",
       "      <td>Boating</td>\n",
       "      <td>USA</td>\n",
       "      <td>California</td>\n",
       "      <td>Oceanside, San Diego County</td>\n",
       "      <td>Paddling</td>\n",
       "      <td>Julie Wolfe</td>\n",
       "      <td>F</td>\n",
       "      <td>57</td>\n",
       "      <td>No injury to occupant, outrigger canoe and pad...</td>\n",
       "      <td>N</td>\n",
       "      <td>18h00</td>\n",
       "      <td>White shark</td>\n",
       "      <td>R. Collier, GSAF</td>\n",
       "      <td>6303.0</td>\n",
       "    </tr>\n",
       "    <tr>\n",
       "      <th>1</th>\n",
       "      <td>2018.06.18</td>\n",
       "      <td>18-Jun-2018</td>\n",
       "      <td>2018</td>\n",
       "      <td>Unprovoked</td>\n",
       "      <td>USA</td>\n",
       "      <td>Georgia</td>\n",
       "      <td>St. Simon Island, Glynn County</td>\n",
       "      <td>Standing</td>\n",
       "      <td>Adyson McNeely</td>\n",
       "      <td>F</td>\n",
       "      <td>11</td>\n",
       "      <td>Minor injury to left thigh</td>\n",
       "      <td>N</td>\n",
       "      <td>14h00  -15h00</td>\n",
       "      <td>Not reported</td>\n",
       "      <td>K.McMurray, TrackingSharks.com</td>\n",
       "      <td>6302.0</td>\n",
       "    </tr>\n",
       "    <tr>\n",
       "      <th>2</th>\n",
       "      <td>2018.06.09</td>\n",
       "      <td>09-Jun-2018</td>\n",
       "      <td>2018</td>\n",
       "      <td>Invalid</td>\n",
       "      <td>USA</td>\n",
       "      <td>Hawaii</td>\n",
       "      <td>Habush, Oahu</td>\n",
       "      <td>Surfing</td>\n",
       "      <td>John Denges</td>\n",
       "      <td>M</td>\n",
       "      <td>48</td>\n",
       "      <td>Injury to left lower leg from surfboard skeg</td>\n",
       "      <td>N</td>\n",
       "      <td>07h45</td>\n",
       "      <td>Not reported</td>\n",
       "      <td>K.McMurray, TrackingSharks.com</td>\n",
       "      <td>6301.0</td>\n",
       "    </tr>\n",
       "    <tr>\n",
       "      <th>3</th>\n",
       "      <td>2018.06.08</td>\n",
       "      <td>08-Jun-2018</td>\n",
       "      <td>2018</td>\n",
       "      <td>Unprovoked</td>\n",
       "      <td>AUSTRALIA</td>\n",
       "      <td>New South Wales</td>\n",
       "      <td>Arrawarra Headland</td>\n",
       "      <td>Surfing</td>\n",
       "      <td>male</td>\n",
       "      <td>M</td>\n",
       "      <td>NaN</td>\n",
       "      <td>Minor injury to lower leg</td>\n",
       "      <td>N</td>\n",
       "      <td>NaN</td>\n",
       "      <td>2 m shark</td>\n",
       "      <td>B. Myatt, GSAF</td>\n",
       "      <td>6300.0</td>\n",
       "    </tr>\n",
       "    <tr>\n",
       "      <th>4</th>\n",
       "      <td>2018.06.04</td>\n",
       "      <td>04-Jun-2018</td>\n",
       "      <td>2018</td>\n",
       "      <td>Provoked</td>\n",
       "      <td>MEXICO</td>\n",
       "      <td>Colima</td>\n",
       "      <td>La Ticla</td>\n",
       "      <td>Free diving</td>\n",
       "      <td>Gustavo Ramos</td>\n",
       "      <td>M</td>\n",
       "      <td>NaN</td>\n",
       "      <td>Lacerations to leg &amp; hand shark PROVOKED INCIDENT</td>\n",
       "      <td>N</td>\n",
       "      <td>NaN</td>\n",
       "      <td>Tiger shark, 3m</td>\n",
       "      <td>A .Kipper</td>\n",
       "      <td>6299.0</td>\n",
       "    </tr>\n",
       "    <tr>\n",
       "      <th>5</th>\n",
       "      <td>2018.06.03.b</td>\n",
       "      <td>03-Jun-2018</td>\n",
       "      <td>2018</td>\n",
       "      <td>Unprovoked</td>\n",
       "      <td>AUSTRALIA</td>\n",
       "      <td>New South Wales</td>\n",
       "      <td>Flat Rock, Ballina</td>\n",
       "      <td>Kite surfing</td>\n",
       "      <td>Chris</td>\n",
       "      <td>M</td>\n",
       "      <td>NaN</td>\n",
       "      <td>No injury, board bitten</td>\n",
       "      <td>N</td>\n",
       "      <td>NaN</td>\n",
       "      <td>Not reported</td>\n",
       "      <td>Daily Telegraph, 6/4/2018</td>\n",
       "      <td>6298.0</td>\n",
       "    </tr>\n",
       "    <tr>\n",
       "      <th>6</th>\n",
       "      <td>2018.06.03.a</td>\n",
       "      <td>03-Jun-2018</td>\n",
       "      <td>2018</td>\n",
       "      <td>Unprovoked</td>\n",
       "      <td>BRAZIL</td>\n",
       "      <td>Pernambuco</td>\n",
       "      <td>Piedade Beach, Recife</td>\n",
       "      <td>Swimming</td>\n",
       "      <td>Jose Ernesto da Silva</td>\n",
       "      <td>M</td>\n",
       "      <td>18</td>\n",
       "      <td>FATAL</td>\n",
       "      <td>Y</td>\n",
       "      <td>Late afternoon</td>\n",
       "      <td>Tiger shark</td>\n",
       "      <td>Diario de Pernambuco, 6/4/2018</td>\n",
       "      <td>6297.0</td>\n",
       "    </tr>\n",
       "    <tr>\n",
       "      <th>7</th>\n",
       "      <td>2018.05.27</td>\n",
       "      <td>27-May-2018</td>\n",
       "      <td>2018</td>\n",
       "      <td>Unprovoked</td>\n",
       "      <td>USA</td>\n",
       "      <td>Florida</td>\n",
       "      <td>Lighhouse Point Park, Ponce Inlet, Volusia County</td>\n",
       "      <td>Fishing</td>\n",
       "      <td>male</td>\n",
       "      <td>M</td>\n",
       "      <td>52</td>\n",
       "      <td>Minor injury to foot. PROVOKED INCIDENT</td>\n",
       "      <td>N</td>\n",
       "      <td>NaN</td>\n",
       "      <td>Lemon shark, 3'</td>\n",
       "      <td>K. McMurray, TrackingSharks.com</td>\n",
       "      <td>6296.0</td>\n",
       "    </tr>\n",
       "    <tr>\n",
       "      <th>8</th>\n",
       "      <td>2018.05.26.b</td>\n",
       "      <td>26-May-2018</td>\n",
       "      <td>2018</td>\n",
       "      <td>Unprovoked</td>\n",
       "      <td>USA</td>\n",
       "      <td>Florida</td>\n",
       "      <td>Cocoa Beach, Brevard  County</td>\n",
       "      <td>Walking</td>\n",
       "      <td>Cody High</td>\n",
       "      <td>M</td>\n",
       "      <td>15</td>\n",
       "      <td>Lower left leg bitten</td>\n",
       "      <td>N</td>\n",
       "      <td>17h00</td>\n",
       "      <td>Bull shark, 6'</td>\n",
       "      <td>K.McMurray, TrackingSharks.com</td>\n",
       "      <td>6295.0</td>\n",
       "    </tr>\n",
       "    <tr>\n",
       "      <th>9</th>\n",
       "      <td>2018.05.26.a</td>\n",
       "      <td>26-May-2018</td>\n",
       "      <td>2018</td>\n",
       "      <td>Unprovoked</td>\n",
       "      <td>USA</td>\n",
       "      <td>Florida</td>\n",
       "      <td>Daytona Beach, Volusia County</td>\n",
       "      <td>Standing</td>\n",
       "      <td>male</td>\n",
       "      <td>M</td>\n",
       "      <td>12</td>\n",
       "      <td>Minor injury to foot</td>\n",
       "      <td>N</td>\n",
       "      <td>14h00</td>\n",
       "      <td>Not reported</td>\n",
       "      <td>K. McMurray, Tracking Sharks.com</td>\n",
       "      <td>6294.0</td>\n",
       "    </tr>\n",
       "    <tr>\n",
       "      <th>10</th>\n",
       "      <td>2018.05.24</td>\n",
       "      <td>24-May-2018</td>\n",
       "      <td>2018</td>\n",
       "      <td>Provoked</td>\n",
       "      <td>AUSTRALIA</td>\n",
       "      <td>Queensland</td>\n",
       "      <td>Cairns Aquarium</td>\n",
       "      <td>Feeding sharks</td>\n",
       "      <td>male</td>\n",
       "      <td>M</td>\n",
       "      <td>32</td>\n",
       "      <td>Minor bite to hand by captive shark. PROVOKED ...</td>\n",
       "      <td>N</td>\n",
       "      <td>Morning</td>\n",
       "      <td>Grey reef shark</td>\n",
       "      <td>ABC.net.au ,05/24/2018</td>\n",
       "      <td>6293.0</td>\n",
       "    </tr>\n",
       "    <tr>\n",
       "      <th>11</th>\n",
       "      <td>2018.05.21</td>\n",
       "      <td>21-May-2018</td>\n",
       "      <td>2018</td>\n",
       "      <td>Unprovoked</td>\n",
       "      <td>USA</td>\n",
       "      <td>South Carolina</td>\n",
       "      <td>Isle of Palms,  Charleston County</td>\n",
       "      <td>Boogie boarding</td>\n",
       "      <td>Trey de Boer</td>\n",
       "      <td>M</td>\n",
       "      <td>10</td>\n",
       "      <td>Injuries to lower right leg and foot</td>\n",
       "      <td>N</td>\n",
       "      <td>NaN</td>\n",
       "      <td>Not reported</td>\n",
       "      <td>C. Creswell, GSAF</td>\n",
       "      <td>6292.0</td>\n",
       "    </tr>\n",
       "    <tr>\n",
       "      <th>12</th>\n",
       "      <td>2018.05.13.b</td>\n",
       "      <td>13-May-2018</td>\n",
       "      <td>2018</td>\n",
       "      <td>Unprovoked</td>\n",
       "      <td>USA</td>\n",
       "      <td>South Carolina</td>\n",
       "      <td>Hilton Head Island, Beaufort County</td>\n",
       "      <td>Swimming</td>\n",
       "      <td>Jei Turrell</td>\n",
       "      <td>M</td>\n",
       "      <td>10</td>\n",
       "      <td>Severe bite to right forearm</td>\n",
       "      <td>N</td>\n",
       "      <td>15h00</td>\n",
       "      <td>Not reported</td>\n",
       "      <td>C. Creswell, GSAF &amp; K. McMurray TrackingSharks...</td>\n",
       "      <td>6291.0</td>\n",
       "    </tr>\n",
       "    <tr>\n",
       "      <th>13</th>\n",
       "      <td>2018.05.13.a</td>\n",
       "      <td>13-May-2018</td>\n",
       "      <td>2018</td>\n",
       "      <td>Invalid</td>\n",
       "      <td>ENGLAND</td>\n",
       "      <td>Cornwall</td>\n",
       "      <td>Off Land's End</td>\n",
       "      <td>Fishing</td>\n",
       "      <td>Max Berryman</td>\n",
       "      <td>M</td>\n",
       "      <td>21</td>\n",
       "      <td>Injured by teeth of a dead porbeagle shark he ...</td>\n",
       "      <td>N</td>\n",
       "      <td>08h15</td>\n",
       "      <td>Invalid incident</td>\n",
       "      <td>K. McMurray, TrackingSharks.com</td>\n",
       "      <td>6290.0</td>\n",
       "    </tr>\n",
       "    <tr>\n",
       "      <th>14</th>\n",
       "      <td>2018.05.00</td>\n",
       "      <td>May 2018</td>\n",
       "      <td>2018</td>\n",
       "      <td>Provoked</td>\n",
       "      <td>AUSTRALIA</td>\n",
       "      <td>Westerm Australia</td>\n",
       "      <td>Dugong Bay</td>\n",
       "      <td>Feeding sharks</td>\n",
       "      <td>Melisa Brunning</td>\n",
       "      <td>F</td>\n",
       "      <td>34</td>\n",
       "      <td>Shallow lacerations to finger PROVOKED INCIDENT</td>\n",
       "      <td>N</td>\n",
       "      <td>NaN</td>\n",
       "      <td>Tawny nurse shark, 2m</td>\n",
       "      <td>Perth Now, 6/30/2018</td>\n",
       "      <td>6289.0</td>\n",
       "    </tr>\n",
       "    <tr>\n",
       "      <th>15</th>\n",
       "      <td>2018.05.12</td>\n",
       "      <td>12-May-2018</td>\n",
       "      <td>2018</td>\n",
       "      <td>Unprovoked</td>\n",
       "      <td>SOUTH AFRICA</td>\n",
       "      <td>Eastern Cape Province</td>\n",
       "      <td>Nahoon Beach, East London</td>\n",
       "      <td>Surfing</td>\n",
       "      <td>male</td>\n",
       "      <td>M</td>\n",
       "      <td>NaN</td>\n",
       "      <td>Minor injury, marks on board</td>\n",
       "      <td>N</td>\n",
       "      <td>11h00</td>\n",
       "      <td>Not reported</td>\n",
       "      <td>B.Jacob, Dispatch Live, 5/12/2018</td>\n",
       "      <td>6288.0</td>\n",
       "    </tr>\n",
       "    <tr>\n",
       "      <th>16</th>\n",
       "      <td>2018.05.09</td>\n",
       "      <td>09-May-2018</td>\n",
       "      <td>2018</td>\n",
       "      <td>Questionable</td>\n",
       "      <td>AUSTRALIA</td>\n",
       "      <td>New South Wales</td>\n",
       "      <td>Sharpes Beach, Ballina</td>\n",
       "      <td>Surfing</td>\n",
       "      <td>male</td>\n",
       "      <td>M</td>\n",
       "      <td>NaN</td>\n",
       "      <td>No injury, surfboard damaged</td>\n",
       "      <td>N</td>\n",
       "      <td>10h30</td>\n",
       "      <td>Shark involvement not confirmed</td>\n",
       "      <td>B. Myatt, GSAF</td>\n",
       "      <td>6287.0</td>\n",
       "    </tr>\n",
       "    <tr>\n",
       "      <th>17</th>\n",
       "      <td>2018.04.30.R</td>\n",
       "      <td>Reported 30-Apr-2018</td>\n",
       "      <td>2018</td>\n",
       "      <td>Unprovoked</td>\n",
       "      <td>THAILAND</td>\n",
       "      <td>Hua Hin</td>\n",
       "      <td>Sai Noi Beach</td>\n",
       "      <td>Swimming</td>\n",
       "      <td>female</td>\n",
       "      <td>M</td>\n",
       "      <td>NaN</td>\n",
       "      <td>Minor injury to ankle</td>\n",
       "      <td>N</td>\n",
       "      <td>NaN</td>\n",
       "      <td>Not reported</td>\n",
       "      <td>K. McMurray, TrackingSharks.com</td>\n",
       "      <td>6286.0</td>\n",
       "    </tr>\n",
       "    <tr>\n",
       "      <th>18</th>\n",
       "      <td>2018.04.28.b</td>\n",
       "      <td>28-Apr-2018</td>\n",
       "      <td>2018</td>\n",
       "      <td>Unprovoked</td>\n",
       "      <td>COSTA RICA</td>\n",
       "      <td>Cocos Island</td>\n",
       "      <td>Manuelita</td>\n",
       "      <td>Scuba diving</td>\n",
       "      <td>male</td>\n",
       "      <td>M</td>\n",
       "      <td>30</td>\n",
       "      <td>No injury, shark bit scuba gear</td>\n",
       "      <td>N</td>\n",
       "      <td>10h40</td>\n",
       "      <td>Tiger shark</td>\n",
       "      <td>Costa Rica Star. 4/28/2018</td>\n",
       "      <td>6285.0</td>\n",
       "    </tr>\n",
       "    <tr>\n",
       "      <th>19</th>\n",
       "      <td>2018.04.28.a</td>\n",
       "      <td>28-Apr-2018</td>\n",
       "      <td>2018</td>\n",
       "      <td>Unprovoked</td>\n",
       "      <td>AUSTRALIA</td>\n",
       "      <td>Western Australia</td>\n",
       "      <td>Gearys Beach</td>\n",
       "      <td>Surfing</td>\n",
       "      <td>Adam Murray</td>\n",
       "      <td>M</td>\n",
       "      <td>NaN</td>\n",
       "      <td>No injury, knocked off board by shark</td>\n",
       "      <td>N</td>\n",
       "      <td>16h50</td>\n",
       "      <td>Not reported</td>\n",
       "      <td>B. Myatt, GSAF</td>\n",
       "      <td>6284.0</td>\n",
       "    </tr>\n",
       "    <tr>\n",
       "      <th>20</th>\n",
       "      <td>2018.04.25.b</td>\n",
       "      <td>25-Apr-2018</td>\n",
       "      <td>2018</td>\n",
       "      <td>Questionable</td>\n",
       "      <td>AUSTRALIA</td>\n",
       "      <td>New South Wales</td>\n",
       "      <td>Lennox Head</td>\n",
       "      <td>Surfing</td>\n",
       "      <td>Matthew Lee</td>\n",
       "      <td>M</td>\n",
       "      <td>NaN</td>\n",
       "      <td>No injury</td>\n",
       "      <td>N</td>\n",
       "      <td>07h00</td>\n",
       "      <td>Questionable</td>\n",
       "      <td>B. Myatt, GSAF</td>\n",
       "      <td>6283.0</td>\n",
       "    </tr>\n",
       "    <tr>\n",
       "      <th>21</th>\n",
       "      <td>2018.04.25.a</td>\n",
       "      <td>25-Apr-2018</td>\n",
       "      <td>2018</td>\n",
       "      <td>Unprovoked</td>\n",
       "      <td>AUSTRALIA</td>\n",
       "      <td>Western Australia</td>\n",
       "      <td>Surfers Point, Prevelly</td>\n",
       "      <td>Surfing</td>\n",
       "      <td>Rob Bruce</td>\n",
       "      <td>M</td>\n",
       "      <td>60</td>\n",
       "      <td>No injury, knocked off board by shark</td>\n",
       "      <td>N</td>\n",
       "      <td>09h30</td>\n",
       "      <td>3 m shark</td>\n",
       "      <td>B.Myatt, GSAF</td>\n",
       "      <td>6282.0</td>\n",
       "    </tr>\n",
       "    <tr>\n",
       "      <th>22</th>\n",
       "      <td>2018.04.24</td>\n",
       "      <td>24-Apr-2018</td>\n",
       "      <td>2018</td>\n",
       "      <td>Unprovoked</td>\n",
       "      <td>AUSTRALIA</td>\n",
       "      <td>Western Australia</td>\n",
       "      <td>South Point, Gracetown</td>\n",
       "      <td>Surfing</td>\n",
       "      <td>Nathan Burch</td>\n",
       "      <td>M</td>\n",
       "      <td>NaN</td>\n",
       "      <td>No injury, shark struck his leg</td>\n",
       "      <td>N</td>\n",
       "      <td>Afternoon</td>\n",
       "      <td>White shark, 3.5 m</td>\n",
       "      <td>B. Myatt, GSAF</td>\n",
       "      <td>6281.0</td>\n",
       "    </tr>\n",
       "    <tr>\n",
       "      <th>23</th>\n",
       "      <td>2018.04.23</td>\n",
       "      <td>23-Apr-2018</td>\n",
       "      <td>2018</td>\n",
       "      <td>Unprovoked</td>\n",
       "      <td>MALDIVES</td>\n",
       "      <td>Alifu Alifu Atoll</td>\n",
       "      <td>Madoogali</td>\n",
       "      <td>Fishing</td>\n",
       "      <td>Ahmed Rasheed</td>\n",
       "      <td>M</td>\n",
       "      <td>32</td>\n",
       "      <td>5-inch cut to hand</td>\n",
       "      <td>N</td>\n",
       "      <td>21h50</td>\n",
       "      <td>Tiger shark</td>\n",
       "      <td>K. McMurray, TrackingSharks.com</td>\n",
       "      <td>6280.0</td>\n",
       "    </tr>\n",
       "    <tr>\n",
       "      <th>24</th>\n",
       "      <td>2018.04.22</td>\n",
       "      <td>22-Apr-2018</td>\n",
       "      <td>2018</td>\n",
       "      <td>Unprovoked</td>\n",
       "      <td>SOUTH AFRICA</td>\n",
       "      <td>Western Cape Province</td>\n",
       "      <td>Robberg Beach, Plettenberg Bay</td>\n",
       "      <td>Paddle-skiing</td>\n",
       "      <td>male</td>\n",
       "      <td>M</td>\n",
       "      <td>33</td>\n",
       "      <td>No injury, shark bit hole in ski</td>\n",
       "      <td>N</td>\n",
       "      <td>09h40</td>\n",
       "      <td>White shark, 2.5 m</td>\n",
       "      <td>Africa News Agency, 4/22/2018</td>\n",
       "      <td>6279.0</td>\n",
       "    </tr>\n",
       "    <tr>\n",
       "      <th>25</th>\n",
       "      <td>2018.04.19</td>\n",
       "      <td>19-Apr-2018</td>\n",
       "      <td>2018</td>\n",
       "      <td>Unprovoked</td>\n",
       "      <td>USA</td>\n",
       "      <td>Hawaii</td>\n",
       "      <td>Shipwrecks Beach, Keoneloa Bay, Kauai</td>\n",
       "      <td>Body boarding</td>\n",
       "      <td>Dylan McWilliams</td>\n",
       "      <td>M</td>\n",
       "      <td>29</td>\n",
       "      <td>Lacerations to right lower leg</td>\n",
       "      <td>N</td>\n",
       "      <td>NaN</td>\n",
       "      <td>6' shark</td>\n",
       "      <td>The Garden Island, 4/19/2018</td>\n",
       "      <td>6278.0</td>\n",
       "    </tr>\n",
       "    <tr>\n",
       "      <th>26</th>\n",
       "      <td>2018.04.15.d</td>\n",
       "      <td>15-Apr-2018</td>\n",
       "      <td>2018</td>\n",
       "      <td>Unprovoked</td>\n",
       "      <td>THAILAND</td>\n",
       "      <td>Hua Hin</td>\n",
       "      <td>Sai Noi Beach</td>\n",
       "      <td>Swimming</td>\n",
       "      <td>Werner Danielsen</td>\n",
       "      <td>M</td>\n",
       "      <td>54</td>\n",
       "      <td>Lacerations to foot and ankle</td>\n",
       "      <td>N</td>\n",
       "      <td>NaN</td>\n",
       "      <td>Juvenile bull shark</td>\n",
       "      <td>Straits Times, 4/16/2018</td>\n",
       "      <td>6277.0</td>\n",
       "    </tr>\n",
       "    <tr>\n",
       "      <th>27</th>\n",
       "      <td>2018.04.15.c</td>\n",
       "      <td>15-Apr-2018</td>\n",
       "      <td>2018</td>\n",
       "      <td>Unprovoked</td>\n",
       "      <td>BRAZIL</td>\n",
       "      <td>Pernambuco</td>\n",
       "      <td>Piedade</td>\n",
       "      <td>Swimming</td>\n",
       "      <td>Pablo de Melo</td>\n",
       "      <td>M</td>\n",
       "      <td>34</td>\n",
       "      <td>Multiple severe injuries to arms and leg, leg ...</td>\n",
       "      <td>NaN</td>\n",
       "      <td>NaN</td>\n",
       "      <td>Not reported</td>\n",
       "      <td>Globo, 4/16/2018</td>\n",
       "      <td>6276.0</td>\n",
       "    </tr>\n",
       "    <tr>\n",
       "      <th>28</th>\n",
       "      <td>2018.04.15.b</td>\n",
       "      <td>15-Apr-2018</td>\n",
       "      <td>2018</td>\n",
       "      <td>Unprovoked</td>\n",
       "      <td>AUSTRALIA</td>\n",
       "      <td>Western Australia</td>\n",
       "      <td>Lefthanders, Margaret River Area</td>\n",
       "      <td>Surfing</td>\n",
       "      <td>Jason Longrass</td>\n",
       "      <td>M</td>\n",
       "      <td>41</td>\n",
       "      <td>Laceration to right thigh</td>\n",
       "      <td>N</td>\n",
       "      <td>NaN</td>\n",
       "      <td>Not reported</td>\n",
       "      <td>B.Myatt, GSAF</td>\n",
       "      <td>6275.0</td>\n",
       "    </tr>\n",
       "    <tr>\n",
       "      <th>29</th>\n",
       "      <td>2018.04.15.a</td>\n",
       "      <td>15-Apr-2018</td>\n",
       "      <td>2018</td>\n",
       "      <td>Unprovoked</td>\n",
       "      <td>AUSTRALIA</td>\n",
       "      <td>Western Australia</td>\n",
       "      <td>Cobblestones, Margaret River Area</td>\n",
       "      <td>Surfing</td>\n",
       "      <td>Alejandro Travaglini</td>\n",
       "      <td>M</td>\n",
       "      <td>37</td>\n",
       "      <td>Lacerations to legs</td>\n",
       "      <td>N</td>\n",
       "      <td>08h00</td>\n",
       "      <td>Not reported</td>\n",
       "      <td>B.Myatt, GSAF</td>\n",
       "      <td>6274.0</td>\n",
       "    </tr>\n",
       "    <tr>\n",
       "      <th>30</th>\n",
       "      <td>2018.04.14</td>\n",
       "      <td>14-Apr-2018</td>\n",
       "      <td>2018</td>\n",
       "      <td>Unprovoked</td>\n",
       "      <td>BAHAMAS</td>\n",
       "      <td>New Providence</td>\n",
       "      <td>Nirvana Beach</td>\n",
       "      <td>Surfing</td>\n",
       "      <td>Bruce Rowan</td>\n",
       "      <td>M</td>\n",
       "      <td>NaN</td>\n",
       "      <td>No Injury. Shark swam away with the surf board</td>\n",
       "      <td>N</td>\n",
       "      <td>09h30</td>\n",
       "      <td>Tiger shark</td>\n",
       "      <td>Tribune242,</td>\n",
       "      <td>6273.0</td>\n",
       "    </tr>\n",
       "    <tr>\n",
       "      <th>31</th>\n",
       "      <td>2018.04.10.R</td>\n",
       "      <td>Reported 10-Apr-2018</td>\n",
       "      <td>2018</td>\n",
       "      <td>Invalid</td>\n",
       "      <td>BRAZIL</td>\n",
       "      <td>Alagoas</td>\n",
       "      <td>Praia de Sauaçuhy, Maceió</td>\n",
       "      <td>Fishing</td>\n",
       "      <td>Josias Paz</td>\n",
       "      <td>M</td>\n",
       "      <td>56</td>\n",
       "      <td>Injury to ankle from marine animal trapped in ...</td>\n",
       "      <td>N</td>\n",
       "      <td>NaN</td>\n",
       "      <td>Shark involvement not confirmed</td>\n",
       "      <td>K. McMurray, TrackingSharks.com</td>\n",
       "      <td>6272.0</td>\n",
       "    </tr>\n",
       "    <tr>\n",
       "      <th>32</th>\n",
       "      <td>2018.04.09</td>\n",
       "      <td>09-Apr-2018</td>\n",
       "      <td>2018</td>\n",
       "      <td>Unprovoked</td>\n",
       "      <td>NEW CALEDONIA</td>\n",
       "      <td>NaN</td>\n",
       "      <td>Magenta Beach, Noumea</td>\n",
       "      <td>Windsurfing</td>\n",
       "      <td>NaN</td>\n",
       "      <td>other</td>\n",
       "      <td>NaN</td>\n",
       "      <td>No injury, shark bit board</td>\n",
       "      <td>N</td>\n",
       "      <td>17h00</td>\n",
       "      <td>2 m shark</td>\n",
       "      <td>Les Nouvelles Caledoniennes, 4/10/2018</td>\n",
       "      <td>6271.0</td>\n",
       "    </tr>\n",
       "    <tr>\n",
       "      <th>33</th>\n",
       "      <td>2018.04.05</td>\n",
       "      <td>05-Apr-2018</td>\n",
       "      <td>2018</td>\n",
       "      <td>Unprovoked</td>\n",
       "      <td>BAHAMAS</td>\n",
       "      <td>NaN</td>\n",
       "      <td>Bimini</td>\n",
       "      <td>Swimming</td>\n",
       "      <td>Shane McConnell</td>\n",
       "      <td>M</td>\n",
       "      <td>12</td>\n",
       "      <td>2 puncture wounds to left foot, abrasion to ri...</td>\n",
       "      <td>N</td>\n",
       "      <td>18h00</td>\n",
       "      <td>Bull shark</td>\n",
       "      <td>K. McMurray, TrackingSharks.com</td>\n",
       "      <td>6270.0</td>\n",
       "    </tr>\n",
       "    <tr>\n",
       "      <th>34</th>\n",
       "      <td>2018.04.03</td>\n",
       "      <td>03-Apr-2018</td>\n",
       "      <td>2018</td>\n",
       "      <td>Unprovoked</td>\n",
       "      <td>SOUTH AFRICA</td>\n",
       "      <td>Eastern Cape Province</td>\n",
       "      <td>St. Francis Bay</td>\n",
       "      <td>Surfing</td>\n",
       "      <td>Ross Spowart</td>\n",
       "      <td>M</td>\n",
       "      <td>19</td>\n",
       "      <td>Lacerations to left knee &amp; lower leg</td>\n",
       "      <td>N</td>\n",
       "      <td>15h00</td>\n",
       "      <td>White shark</td>\n",
       "      <td>K. McMurray, TrackingSharks.com</td>\n",
       "      <td>6269.0</td>\n",
       "    </tr>\n",
       "    <tr>\n",
       "      <th>35</th>\n",
       "      <td>2018.03.31</td>\n",
       "      <td>31-Mar-2018</td>\n",
       "      <td>2018</td>\n",
       "      <td>Unprovoked</td>\n",
       "      <td>USA</td>\n",
       "      <td>Hawaii</td>\n",
       "      <td>Kukio Beach</td>\n",
       "      <td>Stand-Up Paddleboarding</td>\n",
       "      <td>male</td>\n",
       "      <td>M</td>\n",
       "      <td>25</td>\n",
       "      <td>Injuries to right leg &amp; hand</td>\n",
       "      <td>N</td>\n",
       "      <td>09h30</td>\n",
       "      <td>Tiger shark, 12'</td>\n",
       "      <td>Khon2, 3/31/2018</td>\n",
       "      <td>6268.0</td>\n",
       "    </tr>\n",
       "    <tr>\n",
       "      <th>36</th>\n",
       "      <td>2018.03.14</td>\n",
       "      <td>14-Mar-2018</td>\n",
       "      <td>2018</td>\n",
       "      <td>Unprovoked</td>\n",
       "      <td>AUSTRALIA</td>\n",
       "      <td>Western Australia</td>\n",
       "      <td>Waterman's Bay</td>\n",
       "      <td>Wading</td>\n",
       "      <td>Luke Guy &amp; Finn Bald</td>\n",
       "      <td>M</td>\n",
       "      <td>10</td>\n",
       "      <td>Minor injuries to legs</td>\n",
       "      <td>N</td>\n",
       "      <td>17h35</td>\n",
       "      <td>Wobbegong shark</td>\n",
       "      <td>B. Myatt, GSAF</td>\n",
       "      <td>6267.0</td>\n",
       "    </tr>\n",
       "    <tr>\n",
       "      <th>37</th>\n",
       "      <td>2018.03.09.b</td>\n",
       "      <td>9-Mar-2018</td>\n",
       "      <td>2018</td>\n",
       "      <td>Unprovoked</td>\n",
       "      <td>AUSTRALIA</td>\n",
       "      <td>Victoria</td>\n",
       "      <td>Lorne</td>\n",
       "      <td>Swimming</td>\n",
       "      <td>Rob Crossland</td>\n",
       "      <td>M</td>\n",
       "      <td>69</td>\n",
       "      <td>No injury, said to have been charged by sharks...</td>\n",
       "      <td>N</td>\n",
       "      <td>15h30</td>\n",
       "      <td>3.5 m shark</td>\n",
       "      <td>B. Myatt, GSAF</td>\n",
       "      <td>6266.0</td>\n",
       "    </tr>\n",
       "    <tr>\n",
       "      <th>38</th>\n",
       "      <td>2018.03.09.a</td>\n",
       "      <td>9-Mar-2018</td>\n",
       "      <td>2018</td>\n",
       "      <td>Unprovoked</td>\n",
       "      <td>AUSTRALIA</td>\n",
       "      <td>Victoria</td>\n",
       "      <td>Winkipop</td>\n",
       "      <td>Surfing</td>\n",
       "      <td>Lachie Brown</td>\n",
       "      <td>M</td>\n",
       "      <td>18</td>\n",
       "      <td>Minor injury, ankle grazed</td>\n",
       "      <td>N</td>\n",
       "      <td>07h30</td>\n",
       "      <td>1.8 m shark</td>\n",
       "      <td>B. Myatt, GSAF</td>\n",
       "      <td>6265.0</td>\n",
       "    </tr>\n",
       "    <tr>\n",
       "      <th>39</th>\n",
       "      <td>2018.02.24</td>\n",
       "      <td>24-Feb-2018</td>\n",
       "      <td>2018</td>\n",
       "      <td>Unprovoked</td>\n",
       "      <td>SOUTH AFRICA</td>\n",
       "      <td>KwaZulu-Natal</td>\n",
       "      <td>Durban</td>\n",
       "      <td>Scuba Diving</td>\n",
       "      <td>Elton Polly</td>\n",
       "      <td>M</td>\n",
       "      <td>38</td>\n",
       "      <td>The shark &amp; man simply collided; neither were...</td>\n",
       "      <td>N</td>\n",
       "      <td>NaN</td>\n",
       "      <td>Blacktip shark</td>\n",
       "      <td>International Business Times, 3/1/2018</td>\n",
       "      <td>6264.0</td>\n",
       "    </tr>\n",
       "  </tbody>\n",
       "</table>\n",
       "</div>"
      ],
      "text/plain": [
       "     Case Number                  Date  Year          Type        Country  \\\n",
       "0     2018.06.25           25-Jun-2018  2018       Boating            USA   \n",
       "1     2018.06.18           18-Jun-2018  2018    Unprovoked            USA   \n",
       "2     2018.06.09           09-Jun-2018  2018       Invalid            USA   \n",
       "3     2018.06.08           08-Jun-2018  2018    Unprovoked      AUSTRALIA   \n",
       "4     2018.06.04           04-Jun-2018  2018      Provoked         MEXICO   \n",
       "5   2018.06.03.b           03-Jun-2018  2018    Unprovoked      AUSTRALIA   \n",
       "6   2018.06.03.a           03-Jun-2018  2018    Unprovoked         BRAZIL   \n",
       "7     2018.05.27           27-May-2018  2018    Unprovoked            USA   \n",
       "8   2018.05.26.b           26-May-2018  2018    Unprovoked            USA   \n",
       "9   2018.05.26.a           26-May-2018  2018    Unprovoked            USA   \n",
       "10    2018.05.24           24-May-2018  2018      Provoked      AUSTRALIA   \n",
       "11    2018.05.21           21-May-2018  2018    Unprovoked            USA   \n",
       "12  2018.05.13.b           13-May-2018  2018    Unprovoked            USA   \n",
       "13  2018.05.13.a           13-May-2018  2018       Invalid        ENGLAND   \n",
       "14    2018.05.00              May 2018  2018      Provoked      AUSTRALIA   \n",
       "15    2018.05.12           12-May-2018  2018    Unprovoked   SOUTH AFRICA   \n",
       "16    2018.05.09           09-May-2018  2018  Questionable      AUSTRALIA   \n",
       "17  2018.04.30.R  Reported 30-Apr-2018  2018    Unprovoked       THAILAND   \n",
       "18  2018.04.28.b           28-Apr-2018  2018    Unprovoked     COSTA RICA   \n",
       "19  2018.04.28.a           28-Apr-2018  2018    Unprovoked      AUSTRALIA   \n",
       "20  2018.04.25.b           25-Apr-2018  2018  Questionable      AUSTRALIA   \n",
       "21  2018.04.25.a           25-Apr-2018  2018    Unprovoked      AUSTRALIA   \n",
       "22    2018.04.24           24-Apr-2018  2018    Unprovoked      AUSTRALIA   \n",
       "23    2018.04.23           23-Apr-2018  2018    Unprovoked       MALDIVES   \n",
       "24    2018.04.22           22-Apr-2018  2018    Unprovoked   SOUTH AFRICA   \n",
       "25    2018.04.19           19-Apr-2018  2018    Unprovoked            USA   \n",
       "26  2018.04.15.d           15-Apr-2018  2018    Unprovoked       THAILAND   \n",
       "27  2018.04.15.c           15-Apr-2018  2018    Unprovoked         BRAZIL   \n",
       "28  2018.04.15.b           15-Apr-2018  2018    Unprovoked      AUSTRALIA   \n",
       "29  2018.04.15.a           15-Apr-2018  2018    Unprovoked      AUSTRALIA   \n",
       "30    2018.04.14           14-Apr-2018  2018    Unprovoked        BAHAMAS   \n",
       "31  2018.04.10.R  Reported 10-Apr-2018  2018       Invalid         BRAZIL   \n",
       "32    2018.04.09           09-Apr-2018  2018    Unprovoked  NEW CALEDONIA   \n",
       "33    2018.04.05           05-Apr-2018  2018    Unprovoked        BAHAMAS   \n",
       "34    2018.04.03           03-Apr-2018  2018    Unprovoked   SOUTH AFRICA   \n",
       "35    2018.03.31           31-Mar-2018  2018    Unprovoked            USA   \n",
       "36    2018.03.14           14-Mar-2018  2018    Unprovoked      AUSTRALIA   \n",
       "37  2018.03.09.b            9-Mar-2018  2018    Unprovoked      AUSTRALIA   \n",
       "38  2018.03.09.a            9-Mar-2018  2018    Unprovoked      AUSTRALIA   \n",
       "39    2018.02.24           24-Feb-2018  2018    Unprovoked   SOUTH AFRICA   \n",
       "\n",
       "                     Area                                           Location  \\\n",
       "0              California                        Oceanside, San Diego County   \n",
       "1                 Georgia                     St. Simon Island, Glynn County   \n",
       "2                  Hawaii                                       Habush, Oahu   \n",
       "3         New South Wales                                 Arrawarra Headland   \n",
       "4                  Colima                                           La Ticla   \n",
       "5         New South Wales                                 Flat Rock, Ballina   \n",
       "6              Pernambuco                              Piedade Beach, Recife   \n",
       "7                 Florida  Lighhouse Point Park, Ponce Inlet, Volusia County   \n",
       "8                 Florida                       Cocoa Beach, Brevard  County   \n",
       "9                 Florida                      Daytona Beach, Volusia County   \n",
       "10             Queensland                                    Cairns Aquarium   \n",
       "11         South Carolina                  Isle of Palms,  Charleston County   \n",
       "12         South Carolina                Hilton Head Island, Beaufort County   \n",
       "13               Cornwall                                     Off Land's End   \n",
       "14      Westerm Australia                                         Dugong Bay   \n",
       "15  Eastern Cape Province                          Nahoon Beach, East London   \n",
       "16        New South Wales                             Sharpes Beach, Ballina   \n",
       "17                Hua Hin                                      Sai Noi Beach   \n",
       "18           Cocos Island                                          Manuelita   \n",
       "19      Western Australia                                       Gearys Beach   \n",
       "20        New South Wales                                        Lennox Head   \n",
       "21      Western Australia                            Surfers Point, Prevelly   \n",
       "22      Western Australia                             South Point, Gracetown   \n",
       "23      Alifu Alifu Atoll                                          Madoogali   \n",
       "24  Western Cape Province                     Robberg Beach, Plettenberg Bay   \n",
       "25                 Hawaii             Shipwrecks Beach, Keoneloa Bay, Kauai   \n",
       "26                Hua Hin                                      Sai Noi Beach   \n",
       "27             Pernambuco                                            Piedade   \n",
       "28      Western Australia                   Lefthanders, Margaret River Area   \n",
       "29      Western Australia                  Cobblestones, Margaret River Area   \n",
       "30         New Providence                                      Nirvana Beach   \n",
       "31                Alagoas                          Praia de Sauaçuhy, Maceió   \n",
       "32                    NaN                              Magenta Beach, Noumea   \n",
       "33                    NaN                                             Bimini   \n",
       "34  Eastern Cape Province                                    St. Francis Bay   \n",
       "35                 Hawaii                                        Kukio Beach   \n",
       "36      Western Australia                                     Waterman's Bay   \n",
       "37               Victoria                                              Lorne   \n",
       "38               Victoria                                           Winkipop   \n",
       "39          KwaZulu-Natal                                             Durban   \n",
       "\n",
       "                   Activity                    Name   Sex   Age  \\\n",
       "0                  Paddling             Julie Wolfe      F   57   \n",
       "1                  Standing         Adyson McNeely       F   11   \n",
       "2                   Surfing             John Denges      M   48   \n",
       "3                   Surfing                    male      M  NaN   \n",
       "4               Free diving          Gustavo Ramos       M  NaN   \n",
       "5              Kite surfing                 Chris \n",
       "      M  NaN   \n",
       "6                  Swimming  Jose Ernesto da Silva       M   18   \n",
       "7                   Fishing                    male      M   52   \n",
       "8                   Walking               Cody High      M   15   \n",
       "9                  Standing                    male      M   12   \n",
       "10           Feeding sharks                    male      M   32   \n",
       "11          Boogie boarding            Trey de Boer      M   10   \n",
       "12                 Swimming             Jei Turrell      M   10   \n",
       "13                  Fishing            Max Berryman      M   21   \n",
       "14           Feeding sharks         Melisa Brunning      F   34   \n",
       "15                  Surfing                    male      M  NaN   \n",
       "16                  Surfing                    male      M  NaN   \n",
       "17                 Swimming                  female      M  NaN   \n",
       "18             Scuba diving                    male      M   30   \n",
       "19                  Surfing             Adam Murray      M  NaN   \n",
       "20                  Surfing             Matthew Lee      M  NaN   \n",
       "21                  Surfing               Rob Bruce      M   60   \n",
       "22                  Surfing            Nathan Burch      M  NaN   \n",
       "23                  Fishing           Ahmed Rasheed      M   32   \n",
       "24            Paddle-skiing                    male      M   33   \n",
       "25            Body boarding        Dylan McWilliams      M   29   \n",
       "26                 Swimming        Werner Danielsen      M   54   \n",
       "27                 Swimming           Pablo de Melo      M   34   \n",
       "28                  Surfing          Jason Longrass      M   41   \n",
       "29                  Surfing    Alejandro Travaglini      M   37   \n",
       "30                  Surfing             Bruce Rowan      M  NaN   \n",
       "31                  Fishing              Josias Paz      M   56   \n",
       "32              Windsurfing                     NaN  other  NaN   \n",
       "33                 Swimming         Shane McConnell      M   12   \n",
       "34                  Surfing            Ross Spowart      M   19   \n",
       "35  Stand-Up Paddleboarding                    male      M   25   \n",
       "36                   Wading    Luke Guy & Finn Bald      M   10   \n",
       "37                 Swimming           Rob Crossland      M   69   \n",
       "38                  Surfing            Lachie Brown      M   18   \n",
       "39             Scuba Diving             Elton Polly      M   38   \n",
       "\n",
       "                                               Injury Fatal (Y/N)  \\\n",
       "0   No injury to occupant, outrigger canoe and pad...           N   \n",
       "1                          Minor injury to left thigh           N   \n",
       "2        Injury to left lower leg from surfboard skeg           N   \n",
       "3                           Minor injury to lower leg           N   \n",
       "4   Lacerations to leg & hand shark PROVOKED INCIDENT           N   \n",
       "5                             No injury, board bitten           N   \n",
       "6                                               FATAL           Y   \n",
       "7             Minor injury to foot. PROVOKED INCIDENT           N   \n",
       "8                               Lower left leg bitten           N   \n",
       "9                                Minor injury to foot           N   \n",
       "10  Minor bite to hand by captive shark. PROVOKED ...           N   \n",
       "11               Injuries to lower right leg and foot           N   \n",
       "12                       Severe bite to right forearm           N   \n",
       "13  Injured by teeth of a dead porbeagle shark he ...           N   \n",
       "14    Shallow lacerations to finger PROVOKED INCIDENT           N   \n",
       "15                       Minor injury, marks on board           N   \n",
       "16                       No injury, surfboard damaged           N   \n",
       "17                              Minor injury to ankle           N   \n",
       "18                    No injury, shark bit scuba gear           N   \n",
       "19              No injury, knocked off board by shark           N   \n",
       "20                                          No injury           N   \n",
       "21              No injury, knocked off board by shark           N   \n",
       "22                    No injury, shark struck his leg           N   \n",
       "23                                 5-inch cut to hand           N   \n",
       "24                   No injury, shark bit hole in ski           N   \n",
       "25                     Lacerations to right lower leg           N   \n",
       "26                      Lacerations to foot and ankle           N   \n",
       "27  Multiple severe injuries to arms and leg, leg ...         NaN   \n",
       "28                          Laceration to right thigh           N   \n",
       "29                                Lacerations to legs           N   \n",
       "30     No Injury. Shark swam away with the surf board           N   \n",
       "31  Injury to ankle from marine animal trapped in ...           N   \n",
       "32                         No injury, shark bit board           N   \n",
       "33  2 puncture wounds to left foot, abrasion to ri...           N   \n",
       "34               Lacerations to left knee & lower leg           N   \n",
       "35                       Injuries to right leg & hand           N   \n",
       "36                             Minor injuries to legs           N   \n",
       "37  No injury, said to have been charged by sharks...           N   \n",
       "38                         Minor injury, ankle grazed           N   \n",
       "39   The shark & man simply collided; neither were...           N   \n",
       "\n",
       "              Time                         Species   \\\n",
       "0            18h00                      White shark   \n",
       "1    14h00  -15h00                     Not reported   \n",
       "2            07h45                     Not reported   \n",
       "3              NaN                        2 m shark   \n",
       "4              NaN                  Tiger shark, 3m   \n",
       "5              NaN                     Not reported   \n",
       "6   Late afternoon                      Tiger shark   \n",
       "7              NaN                  Lemon shark, 3'   \n",
       "8            17h00                   Bull shark, 6'   \n",
       "9            14h00                     Not reported   \n",
       "10         Morning                  Grey reef shark   \n",
       "11             NaN                     Not reported   \n",
       "12           15h00                     Not reported   \n",
       "13           08h15                 Invalid incident   \n",
       "14             NaN            Tawny nurse shark, 2m   \n",
       "15           11h00                     Not reported   \n",
       "16           10h30  Shark involvement not confirmed   \n",
       "17             NaN                     Not reported   \n",
       "18           10h40                      Tiger shark   \n",
       "19           16h50                     Not reported   \n",
       "20           07h00                     Questionable   \n",
       "21           09h30                        3 m shark   \n",
       "22       Afternoon               White shark, 3.5 m   \n",
       "23           21h50                      Tiger shark   \n",
       "24           09h40               White shark, 2.5 m   \n",
       "25             NaN                         6' shark   \n",
       "26             NaN              Juvenile bull shark   \n",
       "27             NaN                     Not reported   \n",
       "28             NaN                     Not reported   \n",
       "29           08h00                     Not reported   \n",
       "30           09h30                      Tiger shark   \n",
       "31             NaN  Shark involvement not confirmed   \n",
       "32           17h00                        2 m shark   \n",
       "33           18h00                       Bull shark   \n",
       "34           15h00                      White shark   \n",
       "35           09h30                 Tiger shark, 12'   \n",
       "36           17h35                  Wobbegong shark   \n",
       "37           15h30                      3.5 m shark   \n",
       "38           07h30                      1.8 m shark   \n",
       "39             NaN                   Blacktip shark   \n",
       "\n",
       "                               Investigator or Source  original order  \n",
       "0                                    R. Collier, GSAF          6303.0  \n",
       "1                      K.McMurray, TrackingSharks.com          6302.0  \n",
       "2                      K.McMurray, TrackingSharks.com          6301.0  \n",
       "3                                      B. Myatt, GSAF          6300.0  \n",
       "4                                           A .Kipper          6299.0  \n",
       "5                           Daily Telegraph, 6/4/2018          6298.0  \n",
       "6                      Diario de Pernambuco, 6/4/2018          6297.0  \n",
       "7                     K. McMurray, TrackingSharks.com          6296.0  \n",
       "8                      K.McMurray, TrackingSharks.com          6295.0  \n",
       "9                    K. McMurray, Tracking Sharks.com          6294.0  \n",
       "10                             ABC.net.au ,05/24/2018          6293.0  \n",
       "11                                  C. Creswell, GSAF          6292.0  \n",
       "12  C. Creswell, GSAF & K. McMurray TrackingSharks...          6291.0  \n",
       "13                    K. McMurray, TrackingSharks.com          6290.0  \n",
       "14                               Perth Now, 6/30/2018          6289.0  \n",
       "15                  B.Jacob, Dispatch Live, 5/12/2018          6288.0  \n",
       "16                                     B. Myatt, GSAF          6287.0  \n",
       "17                    K. McMurray, TrackingSharks.com          6286.0  \n",
       "18                         Costa Rica Star. 4/28/2018          6285.0  \n",
       "19                                     B. Myatt, GSAF          6284.0  \n",
       "20                                     B. Myatt, GSAF          6283.0  \n",
       "21                                      B.Myatt, GSAF          6282.0  \n",
       "22                                     B. Myatt, GSAF          6281.0  \n",
       "23                    K. McMurray, TrackingSharks.com          6280.0  \n",
       "24                      Africa News Agency, 4/22/2018          6279.0  \n",
       "25                       The Garden Island, 4/19/2018          6278.0  \n",
       "26                           Straits Times, 4/16/2018          6277.0  \n",
       "27                                   Globo, 4/16/2018          6276.0  \n",
       "28                                      B.Myatt, GSAF          6275.0  \n",
       "29                                      B.Myatt, GSAF          6274.0  \n",
       "30                                        Tribune242,          6273.0  \n",
       "31                    K. McMurray, TrackingSharks.com          6272.0  \n",
       "32             Les Nouvelles Caledoniennes, 4/10/2018          6271.0  \n",
       "33                    K. McMurray, TrackingSharks.com          6270.0  \n",
       "34                    K. McMurray, TrackingSharks.com          6269.0  \n",
       "35                                   Khon2, 3/31/2018          6268.0  \n",
       "36                                     B. Myatt, GSAF          6267.0  \n",
       "37                                     B. Myatt, GSAF          6266.0  \n",
       "38                                     B. Myatt, GSAF          6265.0  \n",
       "39             International Business Times, 3/1/2018          6264.0  "
      ]
     },
     "execution_count": 416,
     "metadata": {},
     "output_type": "execute_result"
    }
   ],
   "source": [
    "df9.head(40)"
   ]
  },
  {
   "cell_type": "code",
   "execution_count": 422,
   "metadata": {},
   "outputs": [],
   "source": [
    "string = 'shot white shark'\n"
   ]
  },
  {
   "cell_type": "code",
   "execution_count": 431,
   "metadata": {},
   "outputs": [
    {
     "data": {
      "text/plain": [
       "0        white\n",
       "1        white\n",
       "2        white\n",
       "3        white\n",
       "4        white\n",
       "         ...  \n",
       "6318     white\n",
       "6319     white\n",
       "25720    white\n",
       "25721    white\n",
       "25722    white\n",
       "Name: Species , Length: 6323, dtype: object"
      ]
     },
     "execution_count": 431,
     "metadata": {},
     "output_type": "execute_result"
    }
   ],
   "source": [
    "df8['Species '].apply(lambda x: np.where(x,x,'white'))\n"
   ]
  },
  {
   "cell_type": "code",
   "execution_count": 435,
   "metadata": {},
   "outputs": [
    {
     "data": {
      "text/plain": [
       "False"
      ]
     },
     "execution_count": 435,
     "metadata": {},
     "output_type": "execute_result"
    }
   ],
   "source": [
    "'white' in x"
   ]
  },
  {
   "cell_type": "code",
   "execution_count": null,
   "metadata": {},
   "outputs": [],
   "source": []
  },
  {
   "cell_type": "code",
   "execution_count": null,
   "metadata": {},
   "outputs": [],
   "source": [
    "nuevo_df = df[['original order','Name', 'Sex', ]"
   ]
  },
  {
   "cell_type": "code",
   "execution_count": 439,
   "metadata": {},
   "outputs": [],
   "source": [
    "df10 = df9.copy()"
   ]
  },
  {
   "cell_type": "code",
   "execution_count": null,
   "metadata": {},
   "outputs": [],
   "source": []
  },
  {
   "cell_type": "code",
   "execution_count": 438,
   "metadata": {},
   "outputs": [],
   "source": [
    "patrones = [r'.*?\\bwhite\\b\\s+\\bshark\\b.*',r'.*?\\bblue\\b\\s+\\bshark\\b.*', r'.*?\\btiger\\b\\s.*',\n",
    "           r'.*?\\bbull\\b\\s.*',r'.*?\\bshark\\b\\s+\\binvolvement\\b.*',r'.*?\\bwobbegong\\b\\s+\\bshark\\b.*',\n",
    "           r'.*?\\bblacktip\\b\\s.*', r'.*?\\bbronze\\b\\s+\\bwhaler\\b.*', r'.*?\\bmako\\b\\s.*',r'.*?\\bnurse\\b\\s.*',\n",
    "           r'.*?\\bhammerhead\\b\\s.*', r'.*?\\braggedtooth\\b\\s.*']\n",
    "\n",
    "\n",
    "cat_sharks = ['White shark', 'Blue shark', 'Tiger shark', \n",
    "         'Bull shark', 'Not a shark', 'Wobbegong shark',\n",
    "         'Blacktip shark','Bronze whaler shark', 'Mako shark', \n",
    "         'Nurse shark', 'Hammerhead shark', 'Raggedtooth shark']"
   ]
  },
  {
   "cell_type": "code",
   "execution_count": 441,
   "metadata": {},
   "outputs": [],
   "source": [
    "df9['Species '] = df9['Species '].str.lower().replace(patrones, cat_sharks, regex=True)"
   ]
  },
  {
   "cell_type": "code",
   "execution_count": 443,
   "metadata": {},
   "outputs": [
    {
     "data": {
      "text/plain": [
       "not reported                         2859\n",
       "White shark                           630\n",
       "Not a shark                           330\n",
       "Tiger shark                           264\n",
       "Bull shark                            177\n",
       "                                     ... \n",
       "sandtiger shark, 3 m [10']              1\n",
       "1.2 m to 1.5 m [4' to 5']   shark       1\n",
       "blue or porbeagle shark                 1\n",
       "3.5' to 4.5' shark                      1\n",
       "2 m [6'9\"] zambesi shark                1\n",
       "Name: Species , Length: 675, dtype: int64"
      ]
     },
     "execution_count": 443,
     "metadata": {},
     "output_type": "execute_result"
    }
   ],
   "source": [
    "df9['Species '].value_counts()"
   ]
  },
  {
   "cell_type": "code",
   "execution_count": 446,
   "metadata": {},
   "outputs": [
    {
     "data": {
      "text/plain": [
       "N          4293\n",
       "Y          1388\n",
       "UNKNOWN      71\n",
       " N            7\n",
       "N             1\n",
       "2017          1\n",
       "y             1\n",
       "M             1\n",
       "Name: Fatal (Y/N), dtype: int64"
      ]
     },
     "execution_count": 446,
     "metadata": {},
     "output_type": "execute_result"
    }
   ],
   "source": [
    "df9['Fatal (Y/N)'].value_counts()"
   ]
  },
  {
   "cell_type": "code",
   "execution_count": null,
   "metadata": {},
   "outputs": [],
   "source": [
    "nuevo_df = df[['original order','Name', 'Sex', ]"
   ]
  },
  {
   "cell_type": "code",
   "execution_count": 448,
   "metadata": {},
   "outputs": [],
   "source": [
    "df9['Time'] = df['Time'].dropna()\n",
    "df9['Time'] = df['Time'].astype('str')\n",
    "df9['Time'] = df['Time'].str.extract('([0-9]+)', expand=False)\n"
   ]
  },
  {
   "cell_type": "code",
   "execution_count": 481,
   "metadata": {},
   "outputs": [
    {
     "data": {
      "text/plain": [
       "0        18.0\n",
       "1        14.0\n",
       "2         7.0\n",
       "3         nan\n",
       "4         nan\n",
       "         ... \n",
       "6318      nan\n",
       "6319      nan\n",
       "25720     nan\n",
       "25721     nan\n",
       "25722     nan\n",
       "Name: Time, Length: 6323, dtype: object"
      ]
     },
     "execution_count": 481,
     "metadata": {},
     "output_type": "execute_result"
    }
   ],
   "source": [
    "df9['Time'].astype('str')"
   ]
  },
  {
   "cell_type": "code",
   "execution_count": 484,
   "metadata": {},
   "outputs": [
    {
     "name": "stdout",
     "output_type": "stream",
     "text": [
      "<class 'pandas.core.frame.DataFrame'>\n",
      "Int64Index: 6323 entries, 0 to 25722\n",
      "Data columns (total 17 columns):\n",
      " #   Column                  Non-Null Count  Dtype  \n",
      "---  ------                  --------------  -----  \n",
      " 0   Case Number             6320 non-null   object \n",
      " 1   Date                    6302 non-null   object \n",
      " 2   Year                    6323 non-null   int64  \n",
      " 3   Type                    6298 non-null   object \n",
      " 4   Country                 6252 non-null   object \n",
      " 5   Area                    5847 non-null   object \n",
      " 6   Location                5762 non-null   object \n",
      " 7   Activity                5758 non-null   object \n",
      " 8   Name                    6092 non-null   object \n",
      " 9   Sex                     6323 non-null   object \n",
      " 10  Age                     3471 non-null   object \n",
      " 11  Injury                  6274 non-null   object \n",
      " 12  Fatal (Y/N)             5763 non-null   object \n",
      " 13  Time                    2380 non-null   float64\n",
      " 14  Species                 6323 non-null   object \n",
      " 15  Investigator or Source  6285 non-null   object \n",
      " 16  original order          6309 non-null   float64\n",
      "dtypes: float64(2), int64(1), object(14)\n",
      "memory usage: 1.2+ MB\n"
     ]
    }
   ],
   "source": [
    "df9.info()"
   ]
  },
  {
   "cell_type": "code",
   "execution_count": 500,
   "metadata": {},
   "outputs": [],
   "source": [
    "df9['Date'] = df9['Date'] +'-' +  str(df9['Time'])\n",
    "df9['Date'] = df9['Date'].apply(lambda x: datetime.datetime.strptime(x,'%d-%b-%Y-%H.%M'))"
   ]
  },
  {
   "cell_type": "code",
   "execution_count": 503,
   "metadata": {},
   "outputs": [
    {
     "data": {
      "text/plain": [
       "0    25-Jun-2018-0        18.0\\n1        14.0\\n2   ...\n",
       "1    18-Jun-2018-0        18.0\\n1        14.0\\n2   ...\n",
       "2    09-Jun-2018-0        18.0\\n1        14.0\\n2   ...\n",
       "3    08-Jun-2018-0        18.0\\n1        14.0\\n2   ...\n",
       "4    04-Jun-2018-0        18.0\\n1        14.0\\n2   ...\n",
       "Name: Date, dtype: object"
      ]
     },
     "execution_count": 503,
     "metadata": {},
     "output_type": "execute_result"
    }
   ],
   "source": [
    "df9['Date'].head()"
   ]
  },
  {
   "cell_type": "code",
   "execution_count": 3,
   "metadata": {},
   "outputs": [
    {
     "ename": "NameError",
     "evalue": "name 'df' is not defined",
     "output_type": "error",
     "traceback": [
      "\u001b[0;31m---------------------------------------------------------------------------\u001b[0m",
      "\u001b[0;31mNameError\u001b[0m                                 Traceback (most recent call last)",
      "\u001b[0;32m<ipython-input-3-4dfba911783d>\u001b[0m in \u001b[0;36m<module>\u001b[0;34m\u001b[0m\n\u001b[0;32m----> 1\u001b[0;31m \u001b[0mdf\u001b[0m\u001b[0;34m.\u001b[0m\u001b[0miloc\u001b[0m\u001b[0;34m[\u001b[0m\u001b[0;34m:\u001b[0m\u001b[0;36m6309\u001b[0m\u001b[0;34m]\u001b[0m\u001b[0;34m\u001b[0m\u001b[0;34m\u001b[0m\u001b[0m\n\u001b[0m",
      "\u001b[0;31mNameError\u001b[0m: name 'df' is not defined"
     ]
    }
   ],
   "source": [
    "df.iloc[:6309]"
   ]
  },
  {
   "cell_type": "code",
   "execution_count": null,
   "metadata": {},
   "outputs": [],
   "source": []
  },
  {
   "cell_type": "code",
   "execution_count": null,
   "metadata": {},
   "outputs": [],
   "source": []
  }
 ],
 "metadata": {
  "kernelspec": {
   "display_name": "Python 3",
   "language": "python",
   "name": "python3"
  },
  "language_info": {
   "codemirror_mode": {
    "name": "ipython",
    "version": 3
   },
   "file_extension": ".py",
   "mimetype": "text/x-python",
   "name": "python",
   "nbconvert_exporter": "python",
   "pygments_lexer": "ipython3",
   "version": "3.7.6"
  }
 },
 "nbformat": 4,
 "nbformat_minor": 4
}
