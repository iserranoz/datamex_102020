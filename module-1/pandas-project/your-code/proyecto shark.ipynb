{
 "cells": [
  {
   "cell_type": "code",
   "execution_count": 1,
   "metadata": {},
   "outputs": [],
   "source": [
    "import pandas as pd\n",
    "import numpy as np\n",
    "import matplotlib.pyplot as plt\n",
    "import seaborn as sns\n",
    "import re\n",
    "#importando módulos."
   ]
  },
  {
   "cell_type": "code",
   "execution_count": 2,
   "metadata": {},
   "outputs": [],
   "source": [
    "df = pd.read_csv('attacks.csv', encoding = 'latin-1')\n",
    "#importando el csv"
   ]
  },
  {
   "cell_type": "code",
   "execution_count": 3,
   "metadata": {},
   "outputs": [
    {
     "name": "stdout",
     "output_type": "stream",
     "text": [
      "<class 'pandas.core.frame.DataFrame'>\n",
      "RangeIndex: 25723 entries, 0 to 25722\n",
      "Data columns (total 24 columns):\n",
      " #   Column                  Non-Null Count  Dtype  \n",
      "---  ------                  --------------  -----  \n",
      " 0   Case Number             8702 non-null   object \n",
      " 1   Date                    6302 non-null   object \n",
      " 2   Year                    6300 non-null   float64\n",
      " 3   Type                    6298 non-null   object \n",
      " 4   Country                 6252 non-null   object \n",
      " 5   Area                    5847 non-null   object \n",
      " 6   Location                5762 non-null   object \n",
      " 7   Activity                5758 non-null   object \n",
      " 8   Name                    6092 non-null   object \n",
      " 9   Sex                     5737 non-null   object \n",
      " 10  Age                     3471 non-null   object \n",
      " 11  Injury                  6274 non-null   object \n",
      " 12  Fatal (Y/N)             5763 non-null   object \n",
      " 13  Time                    2948 non-null   object \n",
      " 14  Species                 3464 non-null   object \n",
      " 15  Investigator or Source  6285 non-null   object \n",
      " 16  pdf                     6302 non-null   object \n",
      " 17  href formula            6301 non-null   object \n",
      " 18  href                    6302 non-null   object \n",
      " 19  Case Number.1           6302 non-null   object \n",
      " 20  Case Number.2           6302 non-null   object \n",
      " 21  original order          6309 non-null   float64\n",
      " 22  Unnamed: 22             1 non-null      object \n",
      " 23  Unnamed: 23             2 non-null      object \n",
      "dtypes: float64(2), object(22)\n",
      "memory usage: 4.7+ MB\n"
     ]
    }
   ],
   "source": [
    "df.info()"
   ]
  },
  {
   "cell_type": "code",
   "execution_count": 4,
   "metadata": {},
   "outputs": [
    {
     "data": {
      "text/html": [
       "<div>\n",
       "<style scoped>\n",
       "    .dataframe tbody tr th:only-of-type {\n",
       "        vertical-align: middle;\n",
       "    }\n",
       "\n",
       "    .dataframe tbody tr th {\n",
       "        vertical-align: top;\n",
       "    }\n",
       "\n",
       "    .dataframe thead th {\n",
       "        text-align: right;\n",
       "    }\n",
       "</style>\n",
       "<table border=\"1\" class=\"dataframe\">\n",
       "  <thead>\n",
       "    <tr style=\"text-align: right;\">\n",
       "      <th></th>\n",
       "      <th>Case Number</th>\n",
       "      <th>Date</th>\n",
       "      <th>Year</th>\n",
       "      <th>Type</th>\n",
       "      <th>Country</th>\n",
       "      <th>Area</th>\n",
       "      <th>Location</th>\n",
       "      <th>Activity</th>\n",
       "      <th>Name</th>\n",
       "      <th>Sex</th>\n",
       "      <th>...</th>\n",
       "      <th>Species</th>\n",
       "      <th>Investigator or Source</th>\n",
       "      <th>pdf</th>\n",
       "      <th>href formula</th>\n",
       "      <th>href</th>\n",
       "      <th>Case Number.1</th>\n",
       "      <th>Case Number.2</th>\n",
       "      <th>original order</th>\n",
       "      <th>Unnamed: 22</th>\n",
       "      <th>Unnamed: 23</th>\n",
       "    </tr>\n",
       "  </thead>\n",
       "  <tbody>\n",
       "    <tr>\n",
       "      <th>0</th>\n",
       "      <td>2018.06.25</td>\n",
       "      <td>25-Jun-2018</td>\n",
       "      <td>2018.0</td>\n",
       "      <td>Boating</td>\n",
       "      <td>USA</td>\n",
       "      <td>California</td>\n",
       "      <td>Oceanside, San Diego County</td>\n",
       "      <td>Paddling</td>\n",
       "      <td>Julie Wolfe</td>\n",
       "      <td>F</td>\n",
       "      <td>...</td>\n",
       "      <td>White shark</td>\n",
       "      <td>R. Collier, GSAF</td>\n",
       "      <td>2018.06.25-Wolfe.pdf</td>\n",
       "      <td>http://sharkattackfile.net/spreadsheets/pdf_di...</td>\n",
       "      <td>http://sharkattackfile.net/spreadsheets/pdf_di...</td>\n",
       "      <td>2018.06.25</td>\n",
       "      <td>2018.06.25</td>\n",
       "      <td>6303.0</td>\n",
       "      <td>NaN</td>\n",
       "      <td>NaN</td>\n",
       "    </tr>\n",
       "    <tr>\n",
       "      <th>1</th>\n",
       "      <td>2018.06.18</td>\n",
       "      <td>18-Jun-2018</td>\n",
       "      <td>2018.0</td>\n",
       "      <td>Unprovoked</td>\n",
       "      <td>USA</td>\n",
       "      <td>Georgia</td>\n",
       "      <td>St. Simon Island, Glynn County</td>\n",
       "      <td>Standing</td>\n",
       "      <td>Adyson McNeely</td>\n",
       "      <td>F</td>\n",
       "      <td>...</td>\n",
       "      <td>NaN</td>\n",
       "      <td>K.McMurray, TrackingSharks.com</td>\n",
       "      <td>2018.06.18-McNeely.pdf</td>\n",
       "      <td>http://sharkattackfile.net/spreadsheets/pdf_di...</td>\n",
       "      <td>http://sharkattackfile.net/spreadsheets/pdf_di...</td>\n",
       "      <td>2018.06.18</td>\n",
       "      <td>2018.06.18</td>\n",
       "      <td>6302.0</td>\n",
       "      <td>NaN</td>\n",
       "      <td>NaN</td>\n",
       "    </tr>\n",
       "    <tr>\n",
       "      <th>2</th>\n",
       "      <td>2018.06.09</td>\n",
       "      <td>09-Jun-2018</td>\n",
       "      <td>2018.0</td>\n",
       "      <td>Invalid</td>\n",
       "      <td>USA</td>\n",
       "      <td>Hawaii</td>\n",
       "      <td>Habush, Oahu</td>\n",
       "      <td>Surfing</td>\n",
       "      <td>John Denges</td>\n",
       "      <td>M</td>\n",
       "      <td>...</td>\n",
       "      <td>NaN</td>\n",
       "      <td>K.McMurray, TrackingSharks.com</td>\n",
       "      <td>2018.06.09-Denges.pdf</td>\n",
       "      <td>http://sharkattackfile.net/spreadsheets/pdf_di...</td>\n",
       "      <td>http://sharkattackfile.net/spreadsheets/pdf_di...</td>\n",
       "      <td>2018.06.09</td>\n",
       "      <td>2018.06.09</td>\n",
       "      <td>6301.0</td>\n",
       "      <td>NaN</td>\n",
       "      <td>NaN</td>\n",
       "    </tr>\n",
       "    <tr>\n",
       "      <th>3</th>\n",
       "      <td>2018.06.08</td>\n",
       "      <td>08-Jun-2018</td>\n",
       "      <td>2018.0</td>\n",
       "      <td>Unprovoked</td>\n",
       "      <td>AUSTRALIA</td>\n",
       "      <td>New South Wales</td>\n",
       "      <td>Arrawarra Headland</td>\n",
       "      <td>Surfing</td>\n",
       "      <td>male</td>\n",
       "      <td>M</td>\n",
       "      <td>...</td>\n",
       "      <td>2 m shark</td>\n",
       "      <td>B. Myatt, GSAF</td>\n",
       "      <td>2018.06.08-Arrawarra.pdf</td>\n",
       "      <td>http://sharkattackfile.net/spreadsheets/pdf_di...</td>\n",
       "      <td>http://sharkattackfile.net/spreadsheets/pdf_di...</td>\n",
       "      <td>2018.06.08</td>\n",
       "      <td>2018.06.08</td>\n",
       "      <td>6300.0</td>\n",
       "      <td>NaN</td>\n",
       "      <td>NaN</td>\n",
       "    </tr>\n",
       "    <tr>\n",
       "      <th>4</th>\n",
       "      <td>2018.06.04</td>\n",
       "      <td>04-Jun-2018</td>\n",
       "      <td>2018.0</td>\n",
       "      <td>Provoked</td>\n",
       "      <td>MEXICO</td>\n",
       "      <td>Colima</td>\n",
       "      <td>La Ticla</td>\n",
       "      <td>Free diving</td>\n",
       "      <td>Gustavo Ramos</td>\n",
       "      <td>M</td>\n",
       "      <td>...</td>\n",
       "      <td>Tiger shark, 3m</td>\n",
       "      <td>A .Kipper</td>\n",
       "      <td>2018.06.04-Ramos.pdf</td>\n",
       "      <td>http://sharkattackfile.net/spreadsheets/pdf_di...</td>\n",
       "      <td>http://sharkattackfile.net/spreadsheets/pdf_di...</td>\n",
       "      <td>2018.06.04</td>\n",
       "      <td>2018.06.04</td>\n",
       "      <td>6299.0</td>\n",
       "      <td>NaN</td>\n",
       "      <td>NaN</td>\n",
       "    </tr>\n",
       "  </tbody>\n",
       "</table>\n",
       "<p>5 rows × 24 columns</p>\n",
       "</div>"
      ],
      "text/plain": [
       "  Case Number         Date    Year        Type    Country             Area  \\\n",
       "0  2018.06.25  25-Jun-2018  2018.0     Boating        USA       California   \n",
       "1  2018.06.18  18-Jun-2018  2018.0  Unprovoked        USA          Georgia   \n",
       "2  2018.06.09  09-Jun-2018  2018.0     Invalid        USA           Hawaii   \n",
       "3  2018.06.08  08-Jun-2018  2018.0  Unprovoked  AUSTRALIA  New South Wales   \n",
       "4  2018.06.04  04-Jun-2018  2018.0    Provoked     MEXICO           Colima   \n",
       "\n",
       "                         Location     Activity             Name Sex   ...  \\\n",
       "0     Oceanside, San Diego County     Paddling      Julie Wolfe    F  ...   \n",
       "1  St. Simon Island, Glynn County     Standing  Adyson McNeely     F  ...   \n",
       "2                    Habush, Oahu      Surfing      John Denges    M  ...   \n",
       "3              Arrawarra Headland      Surfing             male    M  ...   \n",
       "4                        La Ticla  Free diving   Gustavo Ramos     M  ...   \n",
       "\n",
       "          Species           Investigator or Source                       pdf  \\\n",
       "0      White shark                R. Collier, GSAF      2018.06.25-Wolfe.pdf   \n",
       "1              NaN  K.McMurray, TrackingSharks.com    2018.06.18-McNeely.pdf   \n",
       "2              NaN  K.McMurray, TrackingSharks.com     2018.06.09-Denges.pdf   \n",
       "3        2 m shark                  B. Myatt, GSAF  2018.06.08-Arrawarra.pdf   \n",
       "4  Tiger shark, 3m                       A .Kipper      2018.06.04-Ramos.pdf   \n",
       "\n",
       "                                        href formula  \\\n",
       "0  http://sharkattackfile.net/spreadsheets/pdf_di...   \n",
       "1  http://sharkattackfile.net/spreadsheets/pdf_di...   \n",
       "2  http://sharkattackfile.net/spreadsheets/pdf_di...   \n",
       "3  http://sharkattackfile.net/spreadsheets/pdf_di...   \n",
       "4  http://sharkattackfile.net/spreadsheets/pdf_di...   \n",
       "\n",
       "                                                href Case Number.1  \\\n",
       "0  http://sharkattackfile.net/spreadsheets/pdf_di...    2018.06.25   \n",
       "1  http://sharkattackfile.net/spreadsheets/pdf_di...    2018.06.18   \n",
       "2  http://sharkattackfile.net/spreadsheets/pdf_di...    2018.06.09   \n",
       "3  http://sharkattackfile.net/spreadsheets/pdf_di...    2018.06.08   \n",
       "4  http://sharkattackfile.net/spreadsheets/pdf_di...    2018.06.04   \n",
       "\n",
       "  Case Number.2 original order Unnamed: 22 Unnamed: 23  \n",
       "0    2018.06.25         6303.0         NaN         NaN  \n",
       "1    2018.06.18         6302.0         NaN         NaN  \n",
       "2    2018.06.09         6301.0         NaN         NaN  \n",
       "3    2018.06.08         6300.0         NaN         NaN  \n",
       "4    2018.06.04         6299.0         NaN         NaN  \n",
       "\n",
       "[5 rows x 24 columns]"
      ]
     },
     "execution_count": 4,
     "metadata": {},
     "output_type": "execute_result"
    }
   ],
   "source": [
    "df.head()"
   ]
  },
  {
   "cell_type": "markdown",
   "metadata": {},
   "source": [
    "## Descripción de información de las columnas\n",
    " CaseNumber: Identificador, Date: Fecha del ataque, Year: Año del ataque, Type: tipo de ataque, Country: País del ataque, Area: zona del ataque, Location: locación específica del ataque, Activity: Actividad que realizaba la persona, Name: Nombre de la victima, Sex: género de la victima, injury: descripción de lesión, Fatal: si el ataque fue fatal (y/n), Time: aproximado de la hora, Species: especies del tiburon, Investigatbor or Source: investigador o fuente del reporte, pdf: versión pdf del caso, href formula, link del caso href 2 duplicado del link Case number 1: duplicado de case number case number2: duplicado de case number Original order: identificador ?"
   ]
  },
  {
   "cell_type": "code",
   "execution_count": 5,
   "metadata": {},
   "outputs": [],
   "source": [
    "df = df.drop(['Case Number.1','Case Number.2','Unnamed: 22','Unnamed: 23',\n",
    "             'href','href formula','pdf'], axis = 1)\n",
    "#drop sobre las columnas mencionadas, ya que varias tienen información repetida,\n",
    "# o de poca utilidad para el análisis."
   ]
  },
  {
   "cell_type": "code",
   "execution_count": 6,
   "metadata": {},
   "outputs": [
    {
     "name": "stdout",
     "output_type": "stream",
     "text": [
      "<class 'pandas.core.frame.DataFrame'>\n",
      "RangeIndex: 25723 entries, 0 to 25722\n",
      "Data columns (total 17 columns):\n",
      " #   Column                  Non-Null Count  Dtype  \n",
      "---  ------                  --------------  -----  \n",
      " 0   Case Number             8702 non-null   object \n",
      " 1   Date                    6302 non-null   object \n",
      " 2   Year                    6300 non-null   float64\n",
      " 3   Type                    6298 non-null   object \n",
      " 4   Country                 6252 non-null   object \n",
      " 5   Area                    5847 non-null   object \n",
      " 6   Location                5762 non-null   object \n",
      " 7   Activity                5758 non-null   object \n",
      " 8   Name                    6092 non-null   object \n",
      " 9   Sex                     5737 non-null   object \n",
      " 10  Age                     3471 non-null   object \n",
      " 11  Injury                  6274 non-null   object \n",
      " 12  Fatal (Y/N)             5763 non-null   object \n",
      " 13  Time                    2948 non-null   object \n",
      " 14  Species                 3464 non-null   object \n",
      " 15  Investigator or Source  6285 non-null   object \n",
      " 16  original order          6309 non-null   float64\n",
      "dtypes: float64(2), object(15)\n",
      "memory usage: 3.3+ MB\n"
     ]
    }
   ],
   "source": [
    "df.info()"
   ]
  },
  {
   "cell_type": "code",
   "execution_count": 12,
   "metadata": {},
   "outputs": [
    {
     "data": {
      "text/html": [
       "<div>\n",
       "<style scoped>\n",
       "    .dataframe tbody tr th:only-of-type {\n",
       "        vertical-align: middle;\n",
       "    }\n",
       "\n",
       "    .dataframe tbody tr th {\n",
       "        vertical-align: top;\n",
       "    }\n",
       "\n",
       "    .dataframe thead th {\n",
       "        text-align: right;\n",
       "    }\n",
       "</style>\n",
       "<table border=\"1\" class=\"dataframe\">\n",
       "  <thead>\n",
       "    <tr style=\"text-align: right;\">\n",
       "      <th></th>\n",
       "      <th>Case Number</th>\n",
       "      <th>Date</th>\n",
       "      <th>Year</th>\n",
       "      <th>Type</th>\n",
       "      <th>Country</th>\n",
       "      <th>Area</th>\n",
       "      <th>Location</th>\n",
       "      <th>Activity</th>\n",
       "      <th>Name</th>\n",
       "      <th>Sex</th>\n",
       "      <th>Age</th>\n",
       "      <th>Injury</th>\n",
       "      <th>Fatal (Y/N)</th>\n",
       "      <th>Time</th>\n",
       "      <th>Species</th>\n",
       "      <th>Investigator or Source</th>\n",
       "      <th>original order</th>\n",
       "    </tr>\n",
       "  </thead>\n",
       "  <tbody>\n",
       "    <tr>\n",
       "      <th>6300</th>\n",
       "      <td>ND.0002</td>\n",
       "      <td>1883-1889</td>\n",
       "      <td>0.0</td>\n",
       "      <td>Unprovoked</td>\n",
       "      <td>PANAMA</td>\n",
       "      <td>NaN</td>\n",
       "      <td>Panama Bay 8ºN, 79ºW</td>\n",
       "      <td>NaN</td>\n",
       "      <td>Jules Patterson</td>\n",
       "      <td>M</td>\n",
       "      <td>NaN</td>\n",
       "      <td>FATAL</td>\n",
       "      <td>Y</td>\n",
       "      <td>NaN</td>\n",
       "      <td>NaN</td>\n",
       "      <td>The Sun, 10/20/1938</td>\n",
       "      <td>3.0</td>\n",
       "    </tr>\n",
       "    <tr>\n",
       "      <th>6301</th>\n",
       "      <td>ND.0001</td>\n",
       "      <td>1845-1853</td>\n",
       "      <td>0.0</td>\n",
       "      <td>Unprovoked</td>\n",
       "      <td>CEYLON (SRI LANKA)</td>\n",
       "      <td>Eastern Province</td>\n",
       "      <td>Below the English fort, Trincomalee</td>\n",
       "      <td>Swimming</td>\n",
       "      <td>male</td>\n",
       "      <td>M</td>\n",
       "      <td>15</td>\n",
       "      <td>FATAL. \"Shark bit him in half, carrying away t...</td>\n",
       "      <td>Y</td>\n",
       "      <td>NaN</td>\n",
       "      <td>NaN</td>\n",
       "      <td>S.W. Baker</td>\n",
       "      <td>2.0</td>\n",
       "    </tr>\n",
       "    <tr>\n",
       "      <th>6302</th>\n",
       "      <td>0</td>\n",
       "      <td>NaN</td>\n",
       "      <td>NaN</td>\n",
       "      <td>NaN</td>\n",
       "      <td>NaN</td>\n",
       "      <td>NaN</td>\n",
       "      <td>NaN</td>\n",
       "      <td>NaN</td>\n",
       "      <td>NaN</td>\n",
       "      <td>NaN</td>\n",
       "      <td>NaN</td>\n",
       "      <td>NaN</td>\n",
       "      <td>NaN</td>\n",
       "      <td>NaN</td>\n",
       "      <td>NaN</td>\n",
       "      <td>NaN</td>\n",
       "      <td>6304.0</td>\n",
       "    </tr>\n",
       "    <tr>\n",
       "      <th>6303</th>\n",
       "      <td>0</td>\n",
       "      <td>NaN</td>\n",
       "      <td>NaN</td>\n",
       "      <td>NaN</td>\n",
       "      <td>NaN</td>\n",
       "      <td>NaN</td>\n",
       "      <td>NaN</td>\n",
       "      <td>NaN</td>\n",
       "      <td>NaN</td>\n",
       "      <td>NaN</td>\n",
       "      <td>NaN</td>\n",
       "      <td>NaN</td>\n",
       "      <td>NaN</td>\n",
       "      <td>NaN</td>\n",
       "      <td>NaN</td>\n",
       "      <td>NaN</td>\n",
       "      <td>6305.0</td>\n",
       "    </tr>\n",
       "    <tr>\n",
       "      <th>6304</th>\n",
       "      <td>0</td>\n",
       "      <td>NaN</td>\n",
       "      <td>NaN</td>\n",
       "      <td>NaN</td>\n",
       "      <td>NaN</td>\n",
       "      <td>NaN</td>\n",
       "      <td>NaN</td>\n",
       "      <td>NaN</td>\n",
       "      <td>NaN</td>\n",
       "      <td>NaN</td>\n",
       "      <td>NaN</td>\n",
       "      <td>NaN</td>\n",
       "      <td>NaN</td>\n",
       "      <td>NaN</td>\n",
       "      <td>NaN</td>\n",
       "      <td>NaN</td>\n",
       "      <td>6306.0</td>\n",
       "    </tr>\n",
       "    <tr>\n",
       "      <th>6305</th>\n",
       "      <td>0</td>\n",
       "      <td>NaN</td>\n",
       "      <td>NaN</td>\n",
       "      <td>NaN</td>\n",
       "      <td>NaN</td>\n",
       "      <td>NaN</td>\n",
       "      <td>NaN</td>\n",
       "      <td>NaN</td>\n",
       "      <td>NaN</td>\n",
       "      <td>NaN</td>\n",
       "      <td>NaN</td>\n",
       "      <td>NaN</td>\n",
       "      <td>NaN</td>\n",
       "      <td>NaN</td>\n",
       "      <td>NaN</td>\n",
       "      <td>NaN</td>\n",
       "      <td>6307.0</td>\n",
       "    </tr>\n",
       "    <tr>\n",
       "      <th>6306</th>\n",
       "      <td>0</td>\n",
       "      <td>NaN</td>\n",
       "      <td>NaN</td>\n",
       "      <td>NaN</td>\n",
       "      <td>NaN</td>\n",
       "      <td>NaN</td>\n",
       "      <td>NaN</td>\n",
       "      <td>NaN</td>\n",
       "      <td>NaN</td>\n",
       "      <td>NaN</td>\n",
       "      <td>NaN</td>\n",
       "      <td>NaN</td>\n",
       "      <td>NaN</td>\n",
       "      <td>NaN</td>\n",
       "      <td>NaN</td>\n",
       "      <td>NaN</td>\n",
       "      <td>6308.0</td>\n",
       "    </tr>\n",
       "    <tr>\n",
       "      <th>6307</th>\n",
       "      <td>0</td>\n",
       "      <td>NaN</td>\n",
       "      <td>NaN</td>\n",
       "      <td>NaN</td>\n",
       "      <td>NaN</td>\n",
       "      <td>NaN</td>\n",
       "      <td>NaN</td>\n",
       "      <td>NaN</td>\n",
       "      <td>NaN</td>\n",
       "      <td>NaN</td>\n",
       "      <td>NaN</td>\n",
       "      <td>NaN</td>\n",
       "      <td>NaN</td>\n",
       "      <td>NaN</td>\n",
       "      <td>NaN</td>\n",
       "      <td>NaN</td>\n",
       "      <td>6309.0</td>\n",
       "    </tr>\n",
       "    <tr>\n",
       "      <th>6308</th>\n",
       "      <td>0</td>\n",
       "      <td>NaN</td>\n",
       "      <td>NaN</td>\n",
       "      <td>NaN</td>\n",
       "      <td>NaN</td>\n",
       "      <td>NaN</td>\n",
       "      <td>NaN</td>\n",
       "      <td>NaN</td>\n",
       "      <td>NaN</td>\n",
       "      <td>NaN</td>\n",
       "      <td>NaN</td>\n",
       "      <td>NaN</td>\n",
       "      <td>NaN</td>\n",
       "      <td>NaN</td>\n",
       "      <td>NaN</td>\n",
       "      <td>NaN</td>\n",
       "      <td>6310.0</td>\n",
       "    </tr>\n",
       "    <tr>\n",
       "      <th>6309</th>\n",
       "      <td>0</td>\n",
       "      <td>NaN</td>\n",
       "      <td>NaN</td>\n",
       "      <td>NaN</td>\n",
       "      <td>NaN</td>\n",
       "      <td>NaN</td>\n",
       "      <td>NaN</td>\n",
       "      <td>NaN</td>\n",
       "      <td>NaN</td>\n",
       "      <td>NaN</td>\n",
       "      <td>NaN</td>\n",
       "      <td>NaN</td>\n",
       "      <td>NaN</td>\n",
       "      <td>NaN</td>\n",
       "      <td>NaN</td>\n",
       "      <td>NaN</td>\n",
       "      <td>NaN</td>\n",
       "    </tr>\n",
       "    <tr>\n",
       "      <th>6310</th>\n",
       "      <td>0</td>\n",
       "      <td>NaN</td>\n",
       "      <td>NaN</td>\n",
       "      <td>NaN</td>\n",
       "      <td>NaN</td>\n",
       "      <td>NaN</td>\n",
       "      <td>NaN</td>\n",
       "      <td>NaN</td>\n",
       "      <td>NaN</td>\n",
       "      <td>NaN</td>\n",
       "      <td>NaN</td>\n",
       "      <td>NaN</td>\n",
       "      <td>NaN</td>\n",
       "      <td>NaN</td>\n",
       "      <td>NaN</td>\n",
       "      <td>NaN</td>\n",
       "      <td>NaN</td>\n",
       "    </tr>\n",
       "    <tr>\n",
       "      <th>6311</th>\n",
       "      <td>0</td>\n",
       "      <td>NaN</td>\n",
       "      <td>NaN</td>\n",
       "      <td>NaN</td>\n",
       "      <td>NaN</td>\n",
       "      <td>NaN</td>\n",
       "      <td>NaN</td>\n",
       "      <td>NaN</td>\n",
       "      <td>NaN</td>\n",
       "      <td>NaN</td>\n",
       "      <td>NaN</td>\n",
       "      <td>NaN</td>\n",
       "      <td>NaN</td>\n",
       "      <td>NaN</td>\n",
       "      <td>NaN</td>\n",
       "      <td>NaN</td>\n",
       "      <td>NaN</td>\n",
       "    </tr>\n",
       "    <tr>\n",
       "      <th>6312</th>\n",
       "      <td>0</td>\n",
       "      <td>NaN</td>\n",
       "      <td>NaN</td>\n",
       "      <td>NaN</td>\n",
       "      <td>NaN</td>\n",
       "      <td>NaN</td>\n",
       "      <td>NaN</td>\n",
       "      <td>NaN</td>\n",
       "      <td>NaN</td>\n",
       "      <td>NaN</td>\n",
       "      <td>NaN</td>\n",
       "      <td>NaN</td>\n",
       "      <td>NaN</td>\n",
       "      <td>NaN</td>\n",
       "      <td>NaN</td>\n",
       "      <td>NaN</td>\n",
       "      <td>NaN</td>\n",
       "    </tr>\n",
       "    <tr>\n",
       "      <th>6313</th>\n",
       "      <td>0</td>\n",
       "      <td>NaN</td>\n",
       "      <td>NaN</td>\n",
       "      <td>NaN</td>\n",
       "      <td>NaN</td>\n",
       "      <td>NaN</td>\n",
       "      <td>NaN</td>\n",
       "      <td>NaN</td>\n",
       "      <td>NaN</td>\n",
       "      <td>NaN</td>\n",
       "      <td>NaN</td>\n",
       "      <td>NaN</td>\n",
       "      <td>NaN</td>\n",
       "      <td>NaN</td>\n",
       "      <td>NaN</td>\n",
       "      <td>NaN</td>\n",
       "      <td>NaN</td>\n",
       "    </tr>\n",
       "    <tr>\n",
       "      <th>6314</th>\n",
       "      <td>0</td>\n",
       "      <td>NaN</td>\n",
       "      <td>NaN</td>\n",
       "      <td>NaN</td>\n",
       "      <td>NaN</td>\n",
       "      <td>NaN</td>\n",
       "      <td>NaN</td>\n",
       "      <td>NaN</td>\n",
       "      <td>NaN</td>\n",
       "      <td>NaN</td>\n",
       "      <td>NaN</td>\n",
       "      <td>NaN</td>\n",
       "      <td>NaN</td>\n",
       "      <td>NaN</td>\n",
       "      <td>NaN</td>\n",
       "      <td>NaN</td>\n",
       "      <td>NaN</td>\n",
       "    </tr>\n",
       "    <tr>\n",
       "      <th>6315</th>\n",
       "      <td>0</td>\n",
       "      <td>NaN</td>\n",
       "      <td>NaN</td>\n",
       "      <td>NaN</td>\n",
       "      <td>NaN</td>\n",
       "      <td>NaN</td>\n",
       "      <td>NaN</td>\n",
       "      <td>NaN</td>\n",
       "      <td>NaN</td>\n",
       "      <td>NaN</td>\n",
       "      <td>NaN</td>\n",
       "      <td>NaN</td>\n",
       "      <td>NaN</td>\n",
       "      <td>NaN</td>\n",
       "      <td>NaN</td>\n",
       "      <td>NaN</td>\n",
       "      <td>NaN</td>\n",
       "    </tr>\n",
       "    <tr>\n",
       "      <th>6316</th>\n",
       "      <td>0</td>\n",
       "      <td>NaN</td>\n",
       "      <td>NaN</td>\n",
       "      <td>NaN</td>\n",
       "      <td>NaN</td>\n",
       "      <td>NaN</td>\n",
       "      <td>NaN</td>\n",
       "      <td>NaN</td>\n",
       "      <td>NaN</td>\n",
       "      <td>NaN</td>\n",
       "      <td>NaN</td>\n",
       "      <td>NaN</td>\n",
       "      <td>NaN</td>\n",
       "      <td>NaN</td>\n",
       "      <td>NaN</td>\n",
       "      <td>NaN</td>\n",
       "      <td>NaN</td>\n",
       "    </tr>\n",
       "    <tr>\n",
       "      <th>6317</th>\n",
       "      <td>0</td>\n",
       "      <td>NaN</td>\n",
       "      <td>NaN</td>\n",
       "      <td>NaN</td>\n",
       "      <td>NaN</td>\n",
       "      <td>NaN</td>\n",
       "      <td>NaN</td>\n",
       "      <td>NaN</td>\n",
       "      <td>NaN</td>\n",
       "      <td>NaN</td>\n",
       "      <td>NaN</td>\n",
       "      <td>NaN</td>\n",
       "      <td>NaN</td>\n",
       "      <td>NaN</td>\n",
       "      <td>NaN</td>\n",
       "      <td>NaN</td>\n",
       "      <td>NaN</td>\n",
       "    </tr>\n",
       "    <tr>\n",
       "      <th>6318</th>\n",
       "      <td>0</td>\n",
       "      <td>NaN</td>\n",
       "      <td>NaN</td>\n",
       "      <td>NaN</td>\n",
       "      <td>NaN</td>\n",
       "      <td>NaN</td>\n",
       "      <td>NaN</td>\n",
       "      <td>NaN</td>\n",
       "      <td>NaN</td>\n",
       "      <td>NaN</td>\n",
       "      <td>NaN</td>\n",
       "      <td>NaN</td>\n",
       "      <td>NaN</td>\n",
       "      <td>NaN</td>\n",
       "      <td>NaN</td>\n",
       "      <td>NaN</td>\n",
       "      <td>NaN</td>\n",
       "    </tr>\n",
       "    <tr>\n",
       "      <th>6319</th>\n",
       "      <td>0</td>\n",
       "      <td>NaN</td>\n",
       "      <td>NaN</td>\n",
       "      <td>NaN</td>\n",
       "      <td>NaN</td>\n",
       "      <td>NaN</td>\n",
       "      <td>NaN</td>\n",
       "      <td>NaN</td>\n",
       "      <td>NaN</td>\n",
       "      <td>NaN</td>\n",
       "      <td>NaN</td>\n",
       "      <td>NaN</td>\n",
       "      <td>NaN</td>\n",
       "      <td>NaN</td>\n",
       "      <td>NaN</td>\n",
       "      <td>NaN</td>\n",
       "      <td>NaN</td>\n",
       "    </tr>\n",
       "  </tbody>\n",
       "</table>\n",
       "</div>"
      ],
      "text/plain": [
       "     Case Number       Date  Year        Type             Country  \\\n",
       "6300     ND.0002  1883-1889   0.0  Unprovoked              PANAMA   \n",
       "6301     ND.0001  1845-1853   0.0  Unprovoked  CEYLON (SRI LANKA)   \n",
       "6302           0        NaN   NaN         NaN                 NaN   \n",
       "6303           0        NaN   NaN         NaN                 NaN   \n",
       "6304           0        NaN   NaN         NaN                 NaN   \n",
       "6305           0        NaN   NaN         NaN                 NaN   \n",
       "6306           0        NaN   NaN         NaN                 NaN   \n",
       "6307           0        NaN   NaN         NaN                 NaN   \n",
       "6308           0        NaN   NaN         NaN                 NaN   \n",
       "6309           0        NaN   NaN         NaN                 NaN   \n",
       "6310           0        NaN   NaN         NaN                 NaN   \n",
       "6311           0        NaN   NaN         NaN                 NaN   \n",
       "6312           0        NaN   NaN         NaN                 NaN   \n",
       "6313           0        NaN   NaN         NaN                 NaN   \n",
       "6314           0        NaN   NaN         NaN                 NaN   \n",
       "6315           0        NaN   NaN         NaN                 NaN   \n",
       "6316           0        NaN   NaN         NaN                 NaN   \n",
       "6317           0        NaN   NaN         NaN                 NaN   \n",
       "6318           0        NaN   NaN         NaN                 NaN   \n",
       "6319           0        NaN   NaN         NaN                 NaN   \n",
       "\n",
       "                  Area                             Location  Activity  \\\n",
       "6300               NaN                 Panama Bay 8ºN, 79ºW       NaN   \n",
       "6301  Eastern Province  Below the English fort, Trincomalee  Swimming   \n",
       "6302               NaN                                  NaN       NaN   \n",
       "6303               NaN                                  NaN       NaN   \n",
       "6304               NaN                                  NaN       NaN   \n",
       "6305               NaN                                  NaN       NaN   \n",
       "6306               NaN                                  NaN       NaN   \n",
       "6307               NaN                                  NaN       NaN   \n",
       "6308               NaN                                  NaN       NaN   \n",
       "6309               NaN                                  NaN       NaN   \n",
       "6310               NaN                                  NaN       NaN   \n",
       "6311               NaN                                  NaN       NaN   \n",
       "6312               NaN                                  NaN       NaN   \n",
       "6313               NaN                                  NaN       NaN   \n",
       "6314               NaN                                  NaN       NaN   \n",
       "6315               NaN                                  NaN       NaN   \n",
       "6316               NaN                                  NaN       NaN   \n",
       "6317               NaN                                  NaN       NaN   \n",
       "6318               NaN                                  NaN       NaN   \n",
       "6319               NaN                                  NaN       NaN   \n",
       "\n",
       "                 Name Sex   Age  \\\n",
       "6300  Jules Patterson    M  NaN   \n",
       "6301             male    M   15   \n",
       "6302              NaN  NaN  NaN   \n",
       "6303              NaN  NaN  NaN   \n",
       "6304              NaN  NaN  NaN   \n",
       "6305              NaN  NaN  NaN   \n",
       "6306              NaN  NaN  NaN   \n",
       "6307              NaN  NaN  NaN   \n",
       "6308              NaN  NaN  NaN   \n",
       "6309              NaN  NaN  NaN   \n",
       "6310              NaN  NaN  NaN   \n",
       "6311              NaN  NaN  NaN   \n",
       "6312              NaN  NaN  NaN   \n",
       "6313              NaN  NaN  NaN   \n",
       "6314              NaN  NaN  NaN   \n",
       "6315              NaN  NaN  NaN   \n",
       "6316              NaN  NaN  NaN   \n",
       "6317              NaN  NaN  NaN   \n",
       "6318              NaN  NaN  NaN   \n",
       "6319              NaN  NaN  NaN   \n",
       "\n",
       "                                                 Injury Fatal (Y/N) Time  \\\n",
       "6300                                              FATAL           Y  NaN   \n",
       "6301  FATAL. \"Shark bit him in half, carrying away t...           Y  NaN   \n",
       "6302                                                NaN         NaN  NaN   \n",
       "6303                                                NaN         NaN  NaN   \n",
       "6304                                                NaN         NaN  NaN   \n",
       "6305                                                NaN         NaN  NaN   \n",
       "6306                                                NaN         NaN  NaN   \n",
       "6307                                                NaN         NaN  NaN   \n",
       "6308                                                NaN         NaN  NaN   \n",
       "6309                                                NaN         NaN  NaN   \n",
       "6310                                                NaN         NaN  NaN   \n",
       "6311                                                NaN         NaN  NaN   \n",
       "6312                                                NaN         NaN  NaN   \n",
       "6313                                                NaN         NaN  NaN   \n",
       "6314                                                NaN         NaN  NaN   \n",
       "6315                                                NaN         NaN  NaN   \n",
       "6316                                                NaN         NaN  NaN   \n",
       "6317                                                NaN         NaN  NaN   \n",
       "6318                                                NaN         NaN  NaN   \n",
       "6319                                                NaN         NaN  NaN   \n",
       "\n",
       "     Species  Investigator or Source  original order  \n",
       "6300      NaN    The Sun, 10/20/1938             3.0  \n",
       "6301      NaN             S.W. Baker             2.0  \n",
       "6302      NaN                    NaN          6304.0  \n",
       "6303      NaN                    NaN          6305.0  \n",
       "6304      NaN                    NaN          6306.0  \n",
       "6305      NaN                    NaN          6307.0  \n",
       "6306      NaN                    NaN          6308.0  \n",
       "6307      NaN                    NaN          6309.0  \n",
       "6308      NaN                    NaN          6310.0  \n",
       "6309      NaN                    NaN             NaN  \n",
       "6310      NaN                    NaN             NaN  \n",
       "6311      NaN                    NaN             NaN  \n",
       "6312      NaN                    NaN             NaN  \n",
       "6313      NaN                    NaN             NaN  \n",
       "6314      NaN                    NaN             NaN  \n",
       "6315      NaN                    NaN             NaN  \n",
       "6316      NaN                    NaN             NaN  \n",
       "6317      NaN                    NaN             NaN  \n",
       "6318      NaN                    NaN             NaN  \n",
       "6319      NaN                    NaN             NaN  "
      ]
     },
     "execution_count": 12,
     "metadata": {},
     "output_type": "execute_result"
    }
   ],
   "source": [
    "df[6300:6320]"
   ]
  },
  {
   "cell_type": "code",
   "execution_count": 13,
   "metadata": {},
   "outputs": [],
   "source": [
    "df = df.drop(range(6301,25720), axis = 0)\n",
    "#drop desde de rengoles desde el 6301 hasta el 25720, la mayoría de los valores\n",
    "# en este rango en todas las columnas son nulos"
   ]
  },
  {
   "cell_type": "code",
   "execution_count": 14,
   "metadata": {},
   "outputs": [
    {
     "name": "stdout",
     "output_type": "stream",
     "text": [
      "<class 'pandas.core.frame.DataFrame'>\n",
      "Int64Index: 6304 entries, 0 to 25722\n",
      "Data columns (total 17 columns):\n",
      " #   Column                  Non-Null Count  Dtype  \n",
      "---  ------                  --------------  -----  \n",
      " 0   Case Number             6301 non-null   object \n",
      " 1   Date                    6301 non-null   object \n",
      " 2   Year                    6299 non-null   float64\n",
      " 3   Type                    6297 non-null   object \n",
      " 4   Country                 6251 non-null   object \n",
      " 5   Area                    5846 non-null   object \n",
      " 6   Location                5761 non-null   object \n",
      " 7   Activity                5757 non-null   object \n",
      " 8   Name                    6091 non-null   object \n",
      " 9   Sex                     5736 non-null   object \n",
      " 10  Age                     3470 non-null   object \n",
      " 11  Injury                  6273 non-null   object \n",
      " 12  Fatal (Y/N)             5762 non-null   object \n",
      " 13  Time                    2948 non-null   object \n",
      " 14  Species                 3464 non-null   object \n",
      " 15  Investigator or Source  6284 non-null   object \n",
      " 16  original order          6301 non-null   float64\n",
      "dtypes: float64(2), object(15)\n",
      "memory usage: 886.5+ KB\n"
     ]
    }
   ],
   "source": [
    "df.info()"
   ]
  },
  {
   "cell_type": "code",
   "execution_count": 15,
   "metadata": {},
   "outputs": [],
   "source": [
    "df_respaldo = df.copy()\n",
    "#generamos una copia ya que la longitud de este data \n",
    "#será con el que trabajemos"
   ]
  },
  {
   "cell_type": "code",
   "execution_count": null,
   "metadata": {},
   "outputs": [],
   "source": [
    "#df = df[['']] pasaremos a reordernar las columnas"
   ]
  },
  {
   "cell_type": "code",
   "execution_count": 16,
   "metadata": {},
   "outputs": [
    {
     "data": {
      "text/plain": [
       "Index(['Case Number', 'Date', 'Year', 'Type', 'Country', 'Area', 'Location',\n",
       "       'Activity', 'Name', 'Sex ', 'Age', 'Injury', 'Fatal (Y/N)', 'Time',\n",
       "       'Species ', 'Investigator or Source', 'original order'],\n",
       "      dtype='object')"
      ]
     },
     "execution_count": 16,
     "metadata": {},
     "output_type": "execute_result"
    }
   ],
   "source": [
    "columnas = df.columns\n",
    "columnas\n",
    "#observamos que Sex Y species están mal escritas, tienen espacios."
   ]
  },
  {
   "cell_type": "code",
   "execution_count": 29,
   "metadata": {},
   "outputs": [
    {
     "data": {
      "text/plain": [
       "['CaseNumber',\n",
       " 'Date',\n",
       " 'Year',\n",
       " 'Type',\n",
       " 'Country',\n",
       " 'Area',\n",
       " 'Location',\n",
       " 'Activity',\n",
       " 'Name',\n",
       " 'Sex',\n",
       " 'Age',\n",
       " 'Injury',\n",
       " 'Fatal(Y/N)',\n",
       " 'Time',\n",
       " 'Species',\n",
       " 'Investigatoror Source',\n",
       " 'originalorder']"
      ]
     },
     "execution_count": 29,
     "metadata": {},
     "output_type": "execute_result"
    }
   ],
   "source": [
    "columns = [i.replace(' ','',1) for i in columnas]\n",
    "columns \n",
    "# renombramos las columnas para quitar espacios y pasar a minusculas"
   ]
  },
  {
   "cell_type": "code",
   "execution_count": 30,
   "metadata": {},
   "outputs": [],
   "source": [
    "df.columns = columns\n",
    "#asignamos"
   ]
  },
  {
   "cell_type": "code",
   "execution_count": 31,
   "metadata": {},
   "outputs": [
    {
     "name": "stdout",
     "output_type": "stream",
     "text": [
      "<class 'pandas.core.frame.DataFrame'>\n",
      "Int64Index: 6304 entries, 0 to 25722\n",
      "Data columns (total 17 columns):\n",
      " #   Column                 Non-Null Count  Dtype  \n",
      "---  ------                 --------------  -----  \n",
      " 0   CaseNumber             6301 non-null   object \n",
      " 1   Date                   6301 non-null   object \n",
      " 2   Year                   6299 non-null   float64\n",
      " 3   Type                   6297 non-null   object \n",
      " 4   Country                6251 non-null   object \n",
      " 5   Area                   5846 non-null   object \n",
      " 6   Location               5761 non-null   object \n",
      " 7   Activity               5757 non-null   object \n",
      " 8   Name                   6091 non-null   object \n",
      " 9   Sex                    5736 non-null   object \n",
      " 10  Age                    3470 non-null   object \n",
      " 11  Injury                 6273 non-null   object \n",
      " 12  Fatal(Y/N)             5762 non-null   object \n",
      " 13  Time                   2948 non-null   object \n",
      " 14  Species                3464 non-null   object \n",
      " 15  Investigatoror Source  6284 non-null   object \n",
      " 16  originalorder          6301 non-null   float64\n",
      "dtypes: float64(2), object(15)\n",
      "memory usage: 886.5+ KB\n"
     ]
    }
   ],
   "source": [
    "df.info()"
   ]
  },
  {
   "cell_type": "markdown",
   "metadata": {},
   "source": [
    "## Extrayendo valores de las columnas."
   ]
  },
  {
   "cell_type": "code",
   "execution_count": 34,
   "metadata": {},
   "outputs": [
    {
     "data": {
      "text/plain": [
       "N          4293\n",
       "Y          1387\n",
       "UNKNOWN      71\n",
       " N            7\n",
       "y             1\n",
       "2017          1\n",
       "N             1\n",
       "M             1\n",
       "Name: Fatal(Y/N), dtype: int64"
      ]
     },
     "execution_count": 34,
     "metadata": {},
     "output_type": "execute_result"
    }
   ],
   "source": [
    "df['Fatal(Y/N)'].value_counts() \n",
    "#revisamos con que valores contamos"
   ]
  },
  {
   "cell_type": "code",
   "execution_count": 36,
   "metadata": {},
   "outputs": [],
   "source": [
    "dic = {' N': 'N','N ':'N', 'y':'Y', '2017':'UNKNOWN', 'N ':'N', 'M':'N'}\n",
    "df['Fatal(Y/N)'] = df['Fatal(Y/N)'].replace(dic)\n",
    "#reasignamos valores para quedarnos con tres categrías sobre fatal"
   ]
  },
  {
   "cell_type": "code",
   "execution_count": 37,
   "metadata": {},
   "outputs": [
    {
     "data": {
      "text/plain": [
       "N          4302\n",
       "Y          1388\n",
       "UNKNOWN      72\n",
       "Name: Fatal(Y/N), dtype: int64"
      ]
     },
     "execution_count": 37,
     "metadata": {},
     "output_type": "execute_result"
    }
   ],
   "source": [
    "df['Fatal(Y/N)'].value_counts() "
   ]
  },
  {
   "cell_type": "code",
   "execution_count": 39,
   "metadata": {},
   "outputs": [
    {
     "data": {
      "text/plain": [
       "White shark                                           163\n",
       "Shark involvement prior to death was not confirmed    105\n",
       "Invalid                                               102\n",
       "Shark involvement not confirmed                        88\n",
       "Tiger shark                                            73\n",
       "                                                     ... \n",
       "Tiger shark, 4 m [13'] female                           1\n",
       "Bull shark, 2.5 m                                       1\n",
       "5 m to 6 m white shark                                  1\n",
       "White shark, 10 '                                       1\n",
       "2.27 m shark                                            1\n",
       "Name: Species, Length: 1549, dtype: int64"
      ]
     },
     "execution_count": 39,
     "metadata": {},
     "output_type": "execute_result"
    }
   ],
   "source": [
    "df['Species'].value_counts()\n",
    "#revisando la columna species"
   ]
  },
  {
   "cell_type": "code",
   "execution_count": 40,
   "metadata": {},
   "outputs": [],
   "source": [
    "pats = [r'.*?\\bwhite\\b\\s+\\bshark\\b.*',r'.*?\\bblue\\b\\s+\\bshark\\b.*', r'.*?\\btiger\\b\\s.*',\n",
    "           r'.*?\\bbull\\b\\s.*',r'.*?\\bshark\\b\\s+\\binvolvement\\b.*',r'.*?\\bwobbegong\\b\\s+\\bshark\\b.*',\n",
    "           r'.*?\\bblacktip\\b\\s.*', r'.*?\\bbronze\\b\\s+\\bwhaler\\b.*', r'.*?\\bmako\\b\\s.*',r'.*?\\bnurse\\b\\s.*',\n",
    "           r'.*?\\bhammerhead\\b\\s.*', r'.*?\\braggedtooth\\b\\s.*']\n",
    "\n",
    "sharks = ['White shark', 'Blue shark', 'Tiger shark', \n",
    "         'Bull shark', 'Unidentified shark', 'Wobbegong shark',\n",
    "         'Blacktip shark','Bronze whaler shark', 'Mako shark', \n",
    "         'Nurse shark', 'Hammerhead shark', 'Raggedtooth shark']"
   ]
  },
  {
   "cell_type": "code",
   "execution_count": 42,
   "metadata": {},
   "outputs": [],
   "source": [
    "df['Species'] = df['Species'].str.lower().replace(pats,sharks, regex=True)"
   ]
  },
  {
   "cell_type": "code",
   "execution_count": 47,
   "metadata": {},
   "outputs": [
    {
     "data": {
      "text/plain": [
       "White shark            630\n",
       "Unidentified shark     330\n",
       "Tiger shark            264\n",
       "Bull shark             177\n",
       "invalid                102\n",
       "                      ... \n",
       "13'10\" shark             1\n",
       "234-lb shark             1\n",
       "porbeagle shark, 7'      1\n",
       "sandtiger shark, 8'      1\n",
       "3m shark                 1\n",
       "Name: Species, Length: 674, dtype: int64"
      ]
     },
     "execution_count": 47,
     "metadata": {},
     "output_type": "execute_result"
    }
   ],
   "source": [
    "df['Species'].value_counts()"
   ]
  },
  {
   "cell_type": "code",
   "execution_count": 51,
   "metadata": {},
   "outputs": [
    {
     "data": {
      "text/html": [
       "<div>\n",
       "<style scoped>\n",
       "    .dataframe tbody tr th:only-of-type {\n",
       "        vertical-align: middle;\n",
       "    }\n",
       "\n",
       "    .dataframe tbody tr th {\n",
       "        vertical-align: top;\n",
       "    }\n",
       "\n",
       "    .dataframe thead th {\n",
       "        text-align: right;\n",
       "    }\n",
       "</style>\n",
       "<table border=\"1\" class=\"dataframe\">\n",
       "  <thead>\n",
       "    <tr style=\"text-align: right;\">\n",
       "      <th></th>\n",
       "      <th>CaseNumber</th>\n",
       "      <th>Date</th>\n",
       "      <th>Year</th>\n",
       "      <th>Type</th>\n",
       "      <th>Country</th>\n",
       "      <th>Area</th>\n",
       "      <th>Location</th>\n",
       "      <th>Activity</th>\n",
       "      <th>Name</th>\n",
       "      <th>Sex</th>\n",
       "      <th>Age</th>\n",
       "      <th>Injury</th>\n",
       "      <th>Fatal(Y/N)</th>\n",
       "      <th>Time</th>\n",
       "      <th>Species</th>\n",
       "      <th>Investigatoror Source</th>\n",
       "      <th>originalorder</th>\n",
       "    </tr>\n",
       "  </thead>\n",
       "  <tbody>\n",
       "    <tr>\n",
       "      <th>0</th>\n",
       "      <td>2018.06.25</td>\n",
       "      <td>25-Jun-2018</td>\n",
       "      <td>2018.0</td>\n",
       "      <td>Boating</td>\n",
       "      <td>USA</td>\n",
       "      <td>California</td>\n",
       "      <td>Oceanside, San Diego County</td>\n",
       "      <td>Paddling</td>\n",
       "      <td>Julie Wolfe</td>\n",
       "      <td>F</td>\n",
       "      <td>57</td>\n",
       "      <td>No injury to occupant, outrigger canoe and pad...</td>\n",
       "      <td>N</td>\n",
       "      <td>18h00</td>\n",
       "      <td>White shark</td>\n",
       "      <td>R. Collier, GSAF</td>\n",
       "      <td>6303.0</td>\n",
       "    </tr>\n",
       "    <tr>\n",
       "      <th>1</th>\n",
       "      <td>2018.06.18</td>\n",
       "      <td>18-Jun-2018</td>\n",
       "      <td>2018.0</td>\n",
       "      <td>Unprovoked</td>\n",
       "      <td>USA</td>\n",
       "      <td>Georgia</td>\n",
       "      <td>St. Simon Island, Glynn County</td>\n",
       "      <td>Standing</td>\n",
       "      <td>Adyson McNeely</td>\n",
       "      <td>F</td>\n",
       "      <td>11</td>\n",
       "      <td>Minor injury to left thigh</td>\n",
       "      <td>N</td>\n",
       "      <td>14h00  -15h00</td>\n",
       "      <td>NaN</td>\n",
       "      <td>K.McMurray, TrackingSharks.com</td>\n",
       "      <td>6302.0</td>\n",
       "    </tr>\n",
       "    <tr>\n",
       "      <th>2</th>\n",
       "      <td>2018.06.09</td>\n",
       "      <td>09-Jun-2018</td>\n",
       "      <td>2018.0</td>\n",
       "      <td>Invalid</td>\n",
       "      <td>USA</td>\n",
       "      <td>Hawaii</td>\n",
       "      <td>Habush, Oahu</td>\n",
       "      <td>Surfing</td>\n",
       "      <td>John Denges</td>\n",
       "      <td>M</td>\n",
       "      <td>48</td>\n",
       "      <td>Injury to left lower leg from surfboard skeg</td>\n",
       "      <td>N</td>\n",
       "      <td>07h45</td>\n",
       "      <td>NaN</td>\n",
       "      <td>K.McMurray, TrackingSharks.com</td>\n",
       "      <td>6301.0</td>\n",
       "    </tr>\n",
       "    <tr>\n",
       "      <th>3</th>\n",
       "      <td>2018.06.08</td>\n",
       "      <td>08-Jun-2018</td>\n",
       "      <td>2018.0</td>\n",
       "      <td>Unprovoked</td>\n",
       "      <td>AUSTRALIA</td>\n",
       "      <td>New South Wales</td>\n",
       "      <td>Arrawarra Headland</td>\n",
       "      <td>Surfing</td>\n",
       "      <td>male</td>\n",
       "      <td>M</td>\n",
       "      <td>NaN</td>\n",
       "      <td>Minor injury to lower leg</td>\n",
       "      <td>N</td>\n",
       "      <td>NaN</td>\n",
       "      <td>2 m shark</td>\n",
       "      <td>B. Myatt, GSAF</td>\n",
       "      <td>6300.0</td>\n",
       "    </tr>\n",
       "    <tr>\n",
       "      <th>4</th>\n",
       "      <td>2018.06.04</td>\n",
       "      <td>04-Jun-2018</td>\n",
       "      <td>2018.0</td>\n",
       "      <td>Provoked</td>\n",
       "      <td>MEXICO</td>\n",
       "      <td>Colima</td>\n",
       "      <td>La Ticla</td>\n",
       "      <td>Free diving</td>\n",
       "      <td>Gustavo Ramos</td>\n",
       "      <td>M</td>\n",
       "      <td>NaN</td>\n",
       "      <td>Lacerations to leg &amp; hand shark PROVOKED INCIDENT</td>\n",
       "      <td>N</td>\n",
       "      <td>NaN</td>\n",
       "      <td>Tiger shark</td>\n",
       "      <td>A .Kipper</td>\n",
       "      <td>6299.0</td>\n",
       "    </tr>\n",
       "  </tbody>\n",
       "</table>\n",
       "</div>"
      ],
      "text/plain": [
       "   CaseNumber         Date    Year        Type    Country             Area  \\\n",
       "0  2018.06.25  25-Jun-2018  2018.0     Boating        USA       California   \n",
       "1  2018.06.18  18-Jun-2018  2018.0  Unprovoked        USA          Georgia   \n",
       "2  2018.06.09  09-Jun-2018  2018.0     Invalid        USA           Hawaii   \n",
       "3  2018.06.08  08-Jun-2018  2018.0  Unprovoked  AUSTRALIA  New South Wales   \n",
       "4  2018.06.04  04-Jun-2018  2018.0    Provoked     MEXICO           Colima   \n",
       "\n",
       "                         Location     Activity             Name Sex  Age  \\\n",
       "0     Oceanside, San Diego County     Paddling      Julie Wolfe   F   57   \n",
       "1  St. Simon Island, Glynn County     Standing  Adyson McNeely    F   11   \n",
       "2                    Habush, Oahu      Surfing      John Denges   M   48   \n",
       "3              Arrawarra Headland      Surfing             male   M  NaN   \n",
       "4                        La Ticla  Free diving   Gustavo Ramos    M  NaN   \n",
       "\n",
       "                                              Injury Fatal(Y/N)  \\\n",
       "0  No injury to occupant, outrigger canoe and pad...          N   \n",
       "1                         Minor injury to left thigh          N   \n",
       "2       Injury to left lower leg from surfboard skeg          N   \n",
       "3                          Minor injury to lower leg          N   \n",
       "4  Lacerations to leg & hand shark PROVOKED INCIDENT          N   \n",
       "\n",
       "            Time      Species           Investigatoror Source  originalorder  \n",
       "0          18h00  White shark                R. Collier, GSAF         6303.0  \n",
       "1  14h00  -15h00          NaN  K.McMurray, TrackingSharks.com         6302.0  \n",
       "2          07h45          NaN  K.McMurray, TrackingSharks.com         6301.0  \n",
       "3            NaN    2 m shark                  B. Myatt, GSAF         6300.0  \n",
       "4            NaN  Tiger shark                       A .Kipper         6299.0  "
      ]
     },
     "execution_count": 51,
     "metadata": {},
     "output_type": "execute_result"
    }
   ],
   "source": [
    "df.head()"
   ]
  },
  {
   "cell_type": "code",
   "execution_count": 63,
   "metadata": {},
   "outputs": [
    {
     "data": {
      "text/plain": [
       "6150    1753.10.27.R\n",
       "6151      1751.07.27\n",
       "6152      1749.00.00\n",
       "6153      1755.00.00\n",
       "6154      1748.00.00\n",
       "6155      1742.12.17\n",
       "6156    1738.04.06.R\n",
       "6157      1733.00.00\n",
       "6158      1723.00.00\n",
       "6159      1721.06.00\n",
       "6160      1703.03.26\n",
       "6161    1700.00.00.c\n",
       "6162    1700.00.00.b\n",
       "6163    1700.00.00.a\n",
       "6164    1642.00.00.b\n",
       "6165    1638.00.00.R\n",
       "6166    1637.00.00.R\n",
       "6167    1617.00.00.R\n",
       "6168      1642.00.00\n",
       "6169      1595.00.00\n",
       "6170    1580.01.10.R\n",
       "6171      1555.00.00\n",
       "6172      1554.00.00\n",
       "6173      1543.00.00\n",
       "6174      0500.00.00\n",
       "6175      0077.00.00\n",
       "6176      0005.00.00\n",
       "6177       0000.0214\n",
       "6178       0000.0336\n",
       "6179       0000.0493\n",
       "Name: CaseNumber, dtype: object"
      ]
     },
     "execution_count": 63,
     "metadata": {},
     "output_type": "execute_result"
    }
   ],
   "source": [
    "df['CaseNumber'][6150:6180]"
   ]
  },
  {
   "cell_type": "code",
   "execution_count": 65,
   "metadata": {},
   "outputs": [],
   "source": [
    "import datetime #'%b %d, %Y'"
   ]
  },
  {
   "cell_type": "code",
   "execution_count": 76,
   "metadata": {},
   "outputs": [],
   "source": [
    "df['Date'] = df['Date'].astype(str)"
   ]
  },
  {
   "cell_type": "code",
   "execution_count": 86,
   "metadata": {},
   "outputs": [
    {
     "data": {
      "text/plain": [
       "0        [-Jun-]\n",
       "1        [-Jun-]\n",
       "2        [-Jun-]\n",
       "3        [-Jun-]\n",
       "4        [-Jun-]\n",
       "          ...   \n",
       "6299          []\n",
       "6300          []\n",
       "25720         []\n",
       "25721         []\n",
       "25722         []\n",
       "Name: Date, Length: 6304, dtype: object"
      ]
     },
     "execution_count": 86,
     "metadata": {},
     "output_type": "execute_result"
    }
   ],
   "source": [
    "df['Month'] = df['Date'].apply(lambda x: re.findall(r'\\-[A-Za-z]{3}\\-',x))"
   ]
  },
  {
   "cell_type": "code",
   "execution_count": 84,
   "metadata": {},
   "outputs": [],
   "source": [
    "df['Month'] = df['Month'].apply(lambda x:''.join(x).lower())"
   ]
  },
  {
   "cell_type": "code",
   "execution_count": 92,
   "metadata": {},
   "outputs": [],
   "source": [
    "df['Month'] = df['Month'].apply(lambda x: re.sub('-','',x))\n",
    "# ya contamos con month, se procede a limpiar year para contar con una fecha "
   ]
  },
  {
   "cell_type": "code",
   "execution_count": 94,
   "metadata": {},
   "outputs": [
    {
     "name": "stdout",
     "output_type": "stream",
     "text": [
      "<class 'pandas.core.frame.DataFrame'>\n",
      "Int64Index: 6304 entries, 0 to 25722\n",
      "Data columns (total 18 columns):\n",
      " #   Column                 Non-Null Count  Dtype  \n",
      "---  ------                 --------------  -----  \n",
      " 0   CaseNumber             6301 non-null   object \n",
      " 1   Date                   6304 non-null   object \n",
      " 2   Year                   6299 non-null   float64\n",
      " 3   Type                   6297 non-null   object \n",
      " 4   Country                6251 non-null   object \n",
      " 5   Area                   5846 non-null   object \n",
      " 6   Location               5761 non-null   object \n",
      " 7   Activity               5757 non-null   object \n",
      " 8   Name                   6091 non-null   object \n",
      " 9   Sex                    5736 non-null   object \n",
      " 10  Age                    3470 non-null   object \n",
      " 11  Injury                 6273 non-null   object \n",
      " 12  Fatal(Y/N)             5762 non-null   object \n",
      " 13  Time                   2948 non-null   object \n",
      " 14  Species                3464 non-null   object \n",
      " 15  Investigatoror Source  6284 non-null   object \n",
      " 16  originalorder          6301 non-null   float64\n",
      " 17  Month                  6304 non-null   object \n",
      "dtypes: float64(2), object(16)\n",
      "memory usage: 935.8+ KB\n"
     ]
    }
   ],
   "source": [
    "df.info()"
   ]
  },
  {
   "cell_type": "code",
   "execution_count": 93,
   "metadata": {},
   "outputs": [
    {
     "data": {
      "text/plain": [
       "2015.0    143\n",
       "2017.0    136\n",
       "2016.0    130\n",
       "2011.0    128\n",
       "2014.0    127\n",
       "         ... \n",
       "1801.0      1\n",
       "1638.0      1\n",
       "1834.0      1\n",
       "1723.0      1\n",
       "1786.0      1\n",
       "Name: Year, Length: 249, dtype: int64"
      ]
     },
     "execution_count": 93,
     "metadata": {},
     "output_type": "execute_result"
    }
   ],
   "source": [
    "df['Year'].value_counts()"
   ]
  },
  {
   "cell_type": "code",
   "execution_count": 102,
   "metadata": {},
   "outputs": [],
   "source": [
    "df['Year'] = df['Year'].fillna(0)\n",
    "df['Year'] = df['Year'].astype(str)"
   ]
  },
  {
   "cell_type": "code",
   "execution_count": 103,
   "metadata": {},
   "outputs": [],
   "source": [
    "df['Date2'] = df['Year'] +'-'+ df['Month']"
   ]
  },
  {
   "cell_type": "code",
   "execution_count": 104,
   "metadata": {},
   "outputs": [
    {
     "data": {
      "text/plain": [
       "0    2018-jun\n",
       "1    2018-jun\n",
       "2    2018-jun\n",
       "3    2018-jun\n",
       "4    2018-jun\n",
       "Name: Date2, dtype: object"
      ]
     },
     "execution_count": 104,
     "metadata": {},
     "output_type": "execute_result"
    }
   ],
   "source": [
    "df['Date2'].head()\n",
    "#trabajaremos con esta fecha "
   ]
  },
  {
   "cell_type": "code",
   "execution_count": 107,
   "metadata": {},
   "outputs": [
    {
     "name": "stdout",
     "output_type": "stream",
     "text": [
      "<class 'pandas.core.frame.DataFrame'>\n",
      "Int64Index: 6304 entries, 0 to 25722\n",
      "Data columns (total 19 columns):\n",
      " #   Column                 Non-Null Count  Dtype  \n",
      "---  ------                 --------------  -----  \n",
      " 0   CaseNumber             6301 non-null   object \n",
      " 1   Date                   6304 non-null   object \n",
      " 2   Year                   6304 non-null   object \n",
      " 3   Type                   6297 non-null   object \n",
      " 4   Country                6251 non-null   object \n",
      " 5   Area                   5846 non-null   object \n",
      " 6   Location               5761 non-null   object \n",
      " 7   Activity               5757 non-null   object \n",
      " 8   Name                   6091 non-null   object \n",
      " 9   Sex                    5736 non-null   object \n",
      " 10  Age                    3470 non-null   object \n",
      " 11  Injury                 6273 non-null   object \n",
      " 12  Fatal(Y/N)             5762 non-null   object \n",
      " 13  Time                   2948 non-null   object \n",
      " 14  Species                3464 non-null   object \n",
      " 15  Investigatoror Source  6284 non-null   object \n",
      " 16  originalorder          6301 non-null   float64\n",
      " 17  Month                  6304 non-null   object \n",
      " 18  Date2                  6304 non-null   object \n",
      "dtypes: float64(1), object(18)\n",
      "memory usage: 985.0+ KB\n"
     ]
    }
   ],
   "source": [
    "df.info()"
   ]
  },
  {
   "cell_type": "code",
   "execution_count": 106,
   "metadata": {},
   "outputs": [
    {
     "data": {
      "text/plain": [
       "Afternoon                               187\n",
       "11h00                                   128\n",
       "Morning                                 121\n",
       "12h00                                   109\n",
       "15h00                                   108\n",
       "                                       ... \n",
       "09h30                                     1\n",
       "11h06                                     1\n",
       "Possibly same incident as 2000.08.21      1\n",
       "14h30 / 15h30                             1\n",
       "11h48                                     1\n",
       "Name: Time, Length: 366, dtype: int64"
      ]
     },
     "execution_count": 106,
     "metadata": {},
     "output_type": "execute_result"
    }
   ],
   "source": [
    "#trabajremos con la columna time\n",
    "df['Time'].value_counts()"
   ]
  },
  {
   "cell_type": "code",
   "execution_count": 108,
   "metadata": {},
   "outputs": [],
   "source": [
    "df['Time2'] = df['Time'].fillna('Unknow')\n",
    "df['Time2'] = df['Time'].astype('str')\n",
    "df['Time2'] = df['Time'].str.extract('([0-9]+)', expand=False)\n"
   ]
  },
  {
   "cell_type": "code",
   "execution_count": 109,
   "metadata": {},
   "outputs": [
    {
     "data": {
      "text/plain": [
       "11      259\n",
       "16      240\n",
       "15      238\n",
       "14      237\n",
       "12      204\n",
       "13      200\n",
       "17      199\n",
       "10      181\n",
       "18      131\n",
       "09      123\n",
       "08       92\n",
       "07       83\n",
       "19       53\n",
       "06       39\n",
       "20       30\n",
       "05       11\n",
       "03       10\n",
       "23        8\n",
       "02        7\n",
       "01        6\n",
       "04        6\n",
       "22        5\n",
       "21        5\n",
       "2         2\n",
       "1600      2\n",
       "2000      1\n",
       "00        1\n",
       "1300      1\n",
       "30        1\n",
       "9         1\n",
       "8         1\n",
       "0500      1\n",
       "0830      1\n",
       "1500      1\n",
       "Name: Time2, dtype: int64"
      ]
     },
     "execution_count": 109,
     "metadata": {},
     "output_type": "execute_result"
    }
   ],
   "source": [
    "df['Time2'].value_counts()\n"
   ]
  },
  {
   "cell_type": "code",
   "execution_count": 110,
   "metadata": {},
   "outputs": [
    {
     "data": {
      "text/plain": [
       "True     3924\n",
       "False    2380\n",
       "Name: Time2, dtype: int64"
      ]
     },
     "execution_count": 110,
     "metadata": {},
     "output_type": "execute_result"
    }
   ],
   "source": [
    "df['Time2'].isna().value_counts()"
   ]
  },
  {
   "cell_type": "code",
   "execution_count": 111,
   "metadata": {},
   "outputs": [
    {
     "name": "stdout",
     "output_type": "stream",
     "text": [
      "<class 'pandas.core.frame.DataFrame'>\n",
      "Int64Index: 6304 entries, 0 to 25722\n",
      "Data columns (total 20 columns):\n",
      " #   Column                 Non-Null Count  Dtype  \n",
      "---  ------                 --------------  -----  \n",
      " 0   CaseNumber             6301 non-null   object \n",
      " 1   Date                   6304 non-null   object \n",
      " 2   Year                   6304 non-null   object \n",
      " 3   Type                   6297 non-null   object \n",
      " 4   Country                6251 non-null   object \n",
      " 5   Area                   5846 non-null   object \n",
      " 6   Location               5761 non-null   object \n",
      " 7   Activity               5757 non-null   object \n",
      " 8   Name                   6091 non-null   object \n",
      " 9   Sex                    5736 non-null   object \n",
      " 10  Age                    3470 non-null   object \n",
      " 11  Injury                 6273 non-null   object \n",
      " 12  Fatal(Y/N)             5762 non-null   object \n",
      " 13  Time                   2948 non-null   object \n",
      " 14  Species                3464 non-null   object \n",
      " 15  Investigatoror Source  6284 non-null   object \n",
      " 16  originalorder          6301 non-null   float64\n",
      " 17  Month                  6304 non-null   object \n",
      " 18  Date2                  6304 non-null   object \n",
      " 19  Time2                  2380 non-null   object \n",
      "dtypes: float64(1), object(19)\n",
      "memory usage: 1.0+ MB\n"
     ]
    }
   ],
   "source": [
    "df.info()"
   ]
  },
  {
   "cell_type": "code",
   "execution_count": 113,
   "metadata": {},
   "outputs": [
    {
     "data": {
      "text/html": [
       "<div>\n",
       "<style scoped>\n",
       "    .dataframe tbody tr th:only-of-type {\n",
       "        vertical-align: middle;\n",
       "    }\n",
       "\n",
       "    .dataframe tbody tr th {\n",
       "        vertical-align: top;\n",
       "    }\n",
       "\n",
       "    .dataframe thead th {\n",
       "        text-align: right;\n",
       "    }\n",
       "</style>\n",
       "<table border=\"1\" class=\"dataframe\">\n",
       "  <thead>\n",
       "    <tr style=\"text-align: right;\">\n",
       "      <th></th>\n",
       "      <th>CaseNumber</th>\n",
       "      <th>Date</th>\n",
       "      <th>Year</th>\n",
       "      <th>Type</th>\n",
       "      <th>Country</th>\n",
       "      <th>Area</th>\n",
       "      <th>Location</th>\n",
       "      <th>Activity</th>\n",
       "      <th>Name</th>\n",
       "      <th>Sex</th>\n",
       "      <th>Age</th>\n",
       "      <th>Injury</th>\n",
       "      <th>Fatal(Y/N)</th>\n",
       "      <th>Time</th>\n",
       "      <th>Species</th>\n",
       "      <th>Investigatoror Source</th>\n",
       "      <th>originalorder</th>\n",
       "      <th>Month</th>\n",
       "      <th>Date2</th>\n",
       "      <th>Time2</th>\n",
       "    </tr>\n",
       "  </thead>\n",
       "  <tbody>\n",
       "    <tr>\n",
       "      <th>0</th>\n",
       "      <td>2018.06.25</td>\n",
       "      <td>25-Jun-2018</td>\n",
       "      <td>2018</td>\n",
       "      <td>Boating</td>\n",
       "      <td>USA</td>\n",
       "      <td>California</td>\n",
       "      <td>Oceanside, San Diego County</td>\n",
       "      <td>Paddling</td>\n",
       "      <td>Julie Wolfe</td>\n",
       "      <td>F</td>\n",
       "      <td>57</td>\n",
       "      <td>No injury to occupant, outrigger canoe and pad...</td>\n",
       "      <td>N</td>\n",
       "      <td>18h00</td>\n",
       "      <td>White shark</td>\n",
       "      <td>R. Collier, GSAF</td>\n",
       "      <td>6303.0</td>\n",
       "      <td>jun</td>\n",
       "      <td>2018-jun</td>\n",
       "      <td>18</td>\n",
       "    </tr>\n",
       "    <tr>\n",
       "      <th>1</th>\n",
       "      <td>2018.06.18</td>\n",
       "      <td>18-Jun-2018</td>\n",
       "      <td>2018</td>\n",
       "      <td>Unprovoked</td>\n",
       "      <td>USA</td>\n",
       "      <td>Georgia</td>\n",
       "      <td>St. Simon Island, Glynn County</td>\n",
       "      <td>Standing</td>\n",
       "      <td>Adyson McNeely</td>\n",
       "      <td>F</td>\n",
       "      <td>11</td>\n",
       "      <td>Minor injury to left thigh</td>\n",
       "      <td>N</td>\n",
       "      <td>14h00  -15h00</td>\n",
       "      <td>NaN</td>\n",
       "      <td>K.McMurray, TrackingSharks.com</td>\n",
       "      <td>6302.0</td>\n",
       "      <td>jun</td>\n",
       "      <td>2018-jun</td>\n",
       "      <td>14</td>\n",
       "    </tr>\n",
       "    <tr>\n",
       "      <th>2</th>\n",
       "      <td>2018.06.09</td>\n",
       "      <td>09-Jun-2018</td>\n",
       "      <td>2018</td>\n",
       "      <td>Invalid</td>\n",
       "      <td>USA</td>\n",
       "      <td>Hawaii</td>\n",
       "      <td>Habush, Oahu</td>\n",
       "      <td>Surfing</td>\n",
       "      <td>John Denges</td>\n",
       "      <td>M</td>\n",
       "      <td>48</td>\n",
       "      <td>Injury to left lower leg from surfboard skeg</td>\n",
       "      <td>N</td>\n",
       "      <td>07h45</td>\n",
       "      <td>NaN</td>\n",
       "      <td>K.McMurray, TrackingSharks.com</td>\n",
       "      <td>6301.0</td>\n",
       "      <td>jun</td>\n",
       "      <td>2018-jun</td>\n",
       "      <td>07</td>\n",
       "    </tr>\n",
       "    <tr>\n",
       "      <th>3</th>\n",
       "      <td>2018.06.08</td>\n",
       "      <td>08-Jun-2018</td>\n",
       "      <td>2018</td>\n",
       "      <td>Unprovoked</td>\n",
       "      <td>AUSTRALIA</td>\n",
       "      <td>New South Wales</td>\n",
       "      <td>Arrawarra Headland</td>\n",
       "      <td>Surfing</td>\n",
       "      <td>male</td>\n",
       "      <td>M</td>\n",
       "      <td>NaN</td>\n",
       "      <td>Minor injury to lower leg</td>\n",
       "      <td>N</td>\n",
       "      <td>NaN</td>\n",
       "      <td>2 m shark</td>\n",
       "      <td>B. Myatt, GSAF</td>\n",
       "      <td>6300.0</td>\n",
       "      <td>jun</td>\n",
       "      <td>2018-jun</td>\n",
       "      <td>NaN</td>\n",
       "    </tr>\n",
       "    <tr>\n",
       "      <th>4</th>\n",
       "      <td>2018.06.04</td>\n",
       "      <td>04-Jun-2018</td>\n",
       "      <td>2018</td>\n",
       "      <td>Provoked</td>\n",
       "      <td>MEXICO</td>\n",
       "      <td>Colima</td>\n",
       "      <td>La Ticla</td>\n",
       "      <td>Free diving</td>\n",
       "      <td>Gustavo Ramos</td>\n",
       "      <td>M</td>\n",
       "      <td>NaN</td>\n",
       "      <td>Lacerations to leg &amp; hand shark PROVOKED INCIDENT</td>\n",
       "      <td>N</td>\n",
       "      <td>NaN</td>\n",
       "      <td>Tiger shark</td>\n",
       "      <td>A .Kipper</td>\n",
       "      <td>6299.0</td>\n",
       "      <td>jun</td>\n",
       "      <td>2018-jun</td>\n",
       "      <td>NaN</td>\n",
       "    </tr>\n",
       "  </tbody>\n",
       "</table>\n",
       "</div>"
      ],
      "text/plain": [
       "   CaseNumber         Date  Year        Type    Country             Area  \\\n",
       "0  2018.06.25  25-Jun-2018  2018     Boating        USA       California   \n",
       "1  2018.06.18  18-Jun-2018  2018  Unprovoked        USA          Georgia   \n",
       "2  2018.06.09  09-Jun-2018  2018     Invalid        USA           Hawaii   \n",
       "3  2018.06.08  08-Jun-2018  2018  Unprovoked  AUSTRALIA  New South Wales   \n",
       "4  2018.06.04  04-Jun-2018  2018    Provoked     MEXICO           Colima   \n",
       "\n",
       "                         Location     Activity             Name Sex  Age  \\\n",
       "0     Oceanside, San Diego County     Paddling      Julie Wolfe   F   57   \n",
       "1  St. Simon Island, Glynn County     Standing  Adyson McNeely    F   11   \n",
       "2                    Habush, Oahu      Surfing      John Denges   M   48   \n",
       "3              Arrawarra Headland      Surfing             male   M  NaN   \n",
       "4                        La Ticla  Free diving   Gustavo Ramos    M  NaN   \n",
       "\n",
       "                                              Injury Fatal(Y/N)  \\\n",
       "0  No injury to occupant, outrigger canoe and pad...          N   \n",
       "1                         Minor injury to left thigh          N   \n",
       "2       Injury to left lower leg from surfboard skeg          N   \n",
       "3                          Minor injury to lower leg          N   \n",
       "4  Lacerations to leg & hand shark PROVOKED INCIDENT          N   \n",
       "\n",
       "            Time      Species           Investigatoror Source  originalorder  \\\n",
       "0          18h00  White shark                R. Collier, GSAF         6303.0   \n",
       "1  14h00  -15h00          NaN  K.McMurray, TrackingSharks.com         6302.0   \n",
       "2          07h45          NaN  K.McMurray, TrackingSharks.com         6301.0   \n",
       "3            NaN    2 m shark                  B. Myatt, GSAF         6300.0   \n",
       "4            NaN  Tiger shark                       A .Kipper         6299.0   \n",
       "\n",
       "  Month     Date2 Time2  \n",
       "0   jun  2018-jun    18  \n",
       "1   jun  2018-jun    14  \n",
       "2   jun  2018-jun    07  \n",
       "3   jun  2018-jun   NaN  \n",
       "4   jun  2018-jun   NaN  "
      ]
     },
     "execution_count": 113,
     "metadata": {},
     "output_type": "execute_result"
    }
   ],
   "source": [
    "df.head()"
   ]
  },
  {
   "cell_type": "code",
   "execution_count": 112,
   "metadata": {},
   "outputs": [],
   "source": [
    "#checkpoint\n",
    "df3 = df.copy()"
   ]
  },
  {
   "cell_type": "code",
   "execution_count": 114,
   "metadata": {},
   "outputs": [
    {
     "data": {
      "text/plain": [
       "2015    143\n",
       "2017    136\n",
       "2016    130\n",
       "0       129\n",
       "2011    128\n",
       "       ... \n",
       "1792      1\n",
       "1859      1\n",
       "1857      1\n",
       "1788      1\n",
       "1703      1\n",
       "Name: Year, Length: 249, dtype: int64"
      ]
     },
     "execution_count": 114,
     "metadata": {},
     "output_type": "execute_result"
    }
   ],
   "source": [
    "\n"
   ]
  },
  {
   "cell_type": "code",
   "execution_count": null,
   "metadata": {},
   "outputs": [],
   "source": [
    "#elimino columnas date,time,Casenumber,year,month"
   ]
  },
  {
   "cell_type": "code",
   "execution_count": 117,
   "metadata": {},
   "outputs": [],
   "source": [
    "df.drop(['CaseNumber','Date','Time'], axis = 1, inplace = True)"
   ]
  },
  {
   "cell_type": "code",
   "execution_count": 118,
   "metadata": {},
   "outputs": [
    {
     "name": "stdout",
     "output_type": "stream",
     "text": [
      "<class 'pandas.core.frame.DataFrame'>\n",
      "Int64Index: 6304 entries, 0 to 25722\n",
      "Data columns (total 17 columns):\n",
      " #   Column                 Non-Null Count  Dtype  \n",
      "---  ------                 --------------  -----  \n",
      " 0   Year                   6304 non-null   object \n",
      " 1   Type                   6297 non-null   object \n",
      " 2   Country                6251 non-null   object \n",
      " 3   Area                   5846 non-null   object \n",
      " 4   Location               5761 non-null   object \n",
      " 5   Activity               5757 non-null   object \n",
      " 6   Name                   6091 non-null   object \n",
      " 7   Sex                    5736 non-null   object \n",
      " 8   Age                    3470 non-null   object \n",
      " 9   Injury                 6273 non-null   object \n",
      " 10  Fatal(Y/N)             5762 non-null   object \n",
      " 11  Species                3464 non-null   object \n",
      " 12  Investigatoror Source  6284 non-null   object \n",
      " 13  originalorder          6301 non-null   float64\n",
      " 14  Month                  6304 non-null   object \n",
      " 15  Date2                  6304 non-null   object \n",
      " 16  Time2                  2380 non-null   object \n",
      "dtypes: float64(1), object(16)\n",
      "memory usage: 1.0+ MB\n"
     ]
    }
   ],
   "source": [
    "df.info()"
   ]
  },
  {
   "cell_type": "code",
   "execution_count": 119,
   "metadata": {},
   "outputs": [
    {
     "data": {
      "text/plain": [
       "Surfing                                                                                                               971\n",
       "Swimming                                                                                                              868\n",
       "Fishing                                                                                                               431\n",
       "Spearfishing                                                                                                          333\n",
       "Bathing                                                                                                               162\n",
       "                                                                                                                     ... \n",
       "Ship lay at anchor & man was working on its rudder                                                                      1\n",
       "Diving for trochus from lugger                                                                                          1\n",
       "The 6015-ton British ship Empire Avocet was torpedoed by the German submarine U-125.                                    1\n",
       "Trochus diving, but floating on surface                                                                                 1\n",
       "Commercial fishing vessel, Ev-nn, struck object & sank. Ken Crosby and  Jame & Ann Dumas adrift on makeshift raft.      1\n",
       "Name: Activity, Length: 1532, dtype: int64"
      ]
     },
     "execution_count": 119,
     "metadata": {},
     "output_type": "execute_result"
    }
   ],
   "source": [
    "##empezamos a trabjar con activity\n",
    "df['Activity'].value_counts()"
   ]
  },
  {
   "cell_type": "code",
   "execution_count": 123,
   "metadata": {},
   "outputs": [],
   "source": [
    "patron2 = [r'\\bsurfing\\b', r'\\bswimming\\b', \n",
    "           r'\\bfishing\\b', r'\\bspearfishing\\b',r'\\bbathing\\b']\n",
    "cat2 = ['surfing', 'swimming', 'fishing', 'spearfishing', 'bathing']           "
   ]
  },
  {
   "cell_type": "code",
   "execution_count": 126,
   "metadata": {},
   "outputs": [],
   "source": [
    "df['Activity2'] = df['Activity'].str.lower().replace(patron2,cat2, regex=True)"
   ]
  },
  {
   "cell_type": "code",
   "execution_count": 125,
   "metadata": {},
   "outputs": [
    {
     "data": {
      "text/plain": [
       "0    white shark\n",
       "1            NaN\n",
       "2            NaN\n",
       "3      2 m shark\n",
       "4    tiger shark\n",
       "Name: Species2, dtype: object"
      ]
     },
     "execution_count": 125,
     "metadata": {},
     "output_type": "execute_result"
    }
   ],
   "source": [
    "df['Species2'].head()#error por darle copy paste a mi note, lo dropeo alrato"
   ]
  },
  {
   "cell_type": "code",
   "execution_count": 127,
   "metadata": {},
   "outputs": [
    {
     "data": {
      "text/plain": [
       "Surfing                                                                                                               971\n",
       "Swimming                                                                                                              868\n",
       "Fishing                                                                                                               431\n",
       "Spearfishing                                                                                                          333\n",
       "Bathing                                                                                                               162\n",
       "                                                                                                                     ... \n",
       "Ship lay at anchor & man was working on its rudder                                                                      1\n",
       "Diving for trochus from lugger                                                                                          1\n",
       "The 6015-ton British ship Empire Avocet was torpedoed by the German submarine U-125.                                    1\n",
       "Trochus diving, but floating on surface                                                                                 1\n",
       "Commercial fishing vessel, Ev-nn, struck object & sank. Ken Crosby and  Jame & Ann Dumas adrift on makeshift raft.      1\n",
       "Name: Activity, Length: 1532, dtype: int64"
      ]
     },
     "execution_count": 127,
     "metadata": {},
     "output_type": "execute_result"
    }
   ],
   "source": [
    "df['Activity'].value_counts()"
   ]
  },
  {
   "cell_type": "code",
   "execution_count": 128,
   "metadata": {},
   "outputs": [
    {
     "name": "stdout",
     "output_type": "stream",
     "text": [
      "<class 'pandas.core.frame.DataFrame'>\n",
      "Int64Index: 6304 entries, 0 to 25722\n",
      "Data columns (total 19 columns):\n",
      " #   Column                 Non-Null Count  Dtype  \n",
      "---  ------                 --------------  -----  \n",
      " 0   Year                   6304 non-null   object \n",
      " 1   Type                   6297 non-null   object \n",
      " 2   Country                6251 non-null   object \n",
      " 3   Area                   5846 non-null   object \n",
      " 4   Location               5761 non-null   object \n",
      " 5   Activity               5757 non-null   object \n",
      " 6   Name                   6091 non-null   object \n",
      " 7   Sex                    5736 non-null   object \n",
      " 8   Age                    3470 non-null   object \n",
      " 9   Injury                 6273 non-null   object \n",
      " 10  Fatal(Y/N)             5762 non-null   object \n",
      " 11  Species                3464 non-null   object \n",
      " 12  Investigatoror Source  6284 non-null   object \n",
      " 13  originalorder          6301 non-null   float64\n",
      " 14  Month                  6304 non-null   object \n",
      " 15  Date2                  6304 non-null   object \n",
      " 16  Time2                  2380 non-null   object \n",
      " 17  Species2               3464 non-null   object \n",
      " 18  Activity2              5757 non-null   object \n",
      "dtypes: float64(1), object(18)\n",
      "memory usage: 1.1+ MB\n"
     ]
    }
   ],
   "source": [
    "df.info()"
   ]
  },
  {
   "cell_type": "code",
   "execution_count": 129,
   "metadata": {},
   "outputs": [
    {
     "data": {
      "text/plain": [
       "Unprovoked      4594\n",
       "Provoked         574\n",
       "Invalid          547\n",
       "Sea Disaster     239\n",
       "Boating          203\n",
       "Boat             137\n",
       "Questionable       2\n",
       "Boatomg            1\n",
       "Name: Type, dtype: int64"
      ]
     },
     "execution_count": 129,
     "metadata": {},
     "output_type": "execute_result"
    }
   ],
   "source": [
    "#trabajamos con type\n",
    "df['Type'].value_counts()"
   ]
  },
  {
   "cell_type": "code",
   "execution_count": 155,
   "metadata": {},
   "outputs": [],
   "source": [
    "dic = {'Invalid': 'Unknow', 'Sea Disaster':'Unknow', 'Boating':'Unknow',\n",
    "      'Boat': 'Unknow','Questionable': 'Unknow','Boatomg':'Unknow'}"
   ]
  },
  {
   "cell_type": "code",
   "execution_count": 156,
   "metadata": {},
   "outputs": [],
   "source": [
    "df['Type'] = df['Type'].replace(dic)"
   ]
  },
  {
   "cell_type": "code",
   "execution_count": 132,
   "metadata": {},
   "outputs": [
    {
     "name": "stdout",
     "output_type": "stream",
     "text": [
      "<class 'pandas.core.frame.DataFrame'>\n",
      "Int64Index: 6304 entries, 0 to 25722\n",
      "Data columns (total 19 columns):\n",
      " #   Column                 Non-Null Count  Dtype  \n",
      "---  ------                 --------------  -----  \n",
      " 0   Year                   6304 non-null   object \n",
      " 1   Type                   6297 non-null   object \n",
      " 2   Country                6251 non-null   object \n",
      " 3   Area                   5846 non-null   object \n",
      " 4   Location               5761 non-null   object \n",
      " 5   Activity               5757 non-null   object \n",
      " 6   Name                   6091 non-null   object \n",
      " 7   Sex                    5736 non-null   object \n",
      " 8   Age                    3470 non-null   object \n",
      " 9   Injury                 6273 non-null   object \n",
      " 10  Fatal(Y/N)             5762 non-null   object \n",
      " 11  Species                3464 non-null   object \n",
      " 12  Investigatoror Source  6284 non-null   object \n",
      " 13  originalorder          6301 non-null   float64\n",
      " 14  Month                  6304 non-null   object \n",
      " 15  Date2                  6304 non-null   object \n",
      " 16  Time2                  2380 non-null   object \n",
      " 17  Species2               3464 non-null   object \n",
      " 18  Activity2              5757 non-null   object \n",
      "dtypes: float64(1), object(18)\n",
      "memory usage: 1.1+ MB\n"
     ]
    }
   ],
   "source": [
    "df.info()"
   ]
  },
  {
   "cell_type": "code",
   "execution_count": 141,
   "metadata": {},
   "outputs": [
    {
     "data": {
      "text/plain": [
       "surfing                                                                   971\n",
       "swimming                                                                  868\n",
       "fishing                                                                   431\n",
       "spearfishing                                                              333\n",
       "bathing                                                                   162\n",
       "                                                                         ... \n",
       "retrieving bait box that had fallen overboard                               1\n",
       "anti-sabotage night dive exercise alongside destroyer (scuba diving)        1\n",
       "free diving / spearfishing, from paddleboard & floating on the surface      1\n",
       "american schooner orator capsized                                           1\n",
       "italian liner principessa mafalda sank                                      1\n",
       "Name: Activity2, Length: 1504, dtype: int64"
      ]
     },
     "execution_count": 141,
     "metadata": {},
     "output_type": "execute_result"
    }
   ],
   "source": [
    "df['Activity2'].value_counts()"
   ]
  },
  {
   "cell_type": "code",
   "execution_count": 142,
   "metadata": {},
   "outputs": [
    {
     "data": {
      "text/plain": [
       "white shark                                                                                                                          630\n",
       "unidentified shark                                                                                                                   331\n",
       "tiger shark                                                                                                                          264\n",
       "bull shark                                                                                                                           177\n",
       "invalid                                                                                                                              102\n",
       "                                                                                                                                    ... \n",
       "sandtiger shark, 4' to 5'                                                                                                              1\n",
       "650-lb shark                                                                                                                           1\n",
       "\"the fish was harpooned, dried, and presented to the sailor, who went round europe exhibiting it  it was said to be 20 feet long.      1\n",
       "1.5 m [5'] dusky shark                                                                                                                 1\n",
       "3m shark                                                                                                                               1\n",
       "Name: Species2, Length: 673, dtype: int64"
      ]
     },
     "execution_count": 142,
     "metadata": {},
     "output_type": "execute_result"
    }
   ],
   "source": [
    "df['Species2'].value_counts()"
   ]
  },
  {
   "cell_type": "code",
   "execution_count": 146,
   "metadata": {},
   "outputs": [],
   "source": [
    "df.drop(['Species2','Activity'], axis = 1, inplace = True)"
   ]
  },
  {
   "cell_type": "code",
   "execution_count": 147,
   "metadata": {},
   "outputs": [
    {
     "name": "stdout",
     "output_type": "stream",
     "text": [
      "<class 'pandas.core.frame.DataFrame'>\n",
      "Int64Index: 6304 entries, 0 to 25722\n",
      "Data columns (total 17 columns):\n",
      " #   Column                 Non-Null Count  Dtype  \n",
      "---  ------                 --------------  -----  \n",
      " 0   Year                   6304 non-null   object \n",
      " 1   Type                   6297 non-null   object \n",
      " 2   Country                6251 non-null   object \n",
      " 3   Area                   5846 non-null   object \n",
      " 4   Location               5761 non-null   object \n",
      " 5   Name                   6091 non-null   object \n",
      " 6   Sex                    5736 non-null   object \n",
      " 7   Age                    3470 non-null   object \n",
      " 8   Injury                 6273 non-null   object \n",
      " 9   Fatal(Y/N)             5762 non-null   object \n",
      " 10  Species                3464 non-null   object \n",
      " 11  Investigatoror Source  6284 non-null   object \n",
      " 12  originalorder          6301 non-null   float64\n",
      " 13  Month                  6304 non-null   object \n",
      " 14  Date2                  6304 non-null   object \n",
      " 15  Time2                  2380 non-null   object \n",
      " 16  Activity2              5757 non-null   object \n",
      "dtypes: float64(1), object(16)\n",
      "memory usage: 1.0+ MB\n"
     ]
    }
   ],
   "source": [
    "df.info()"
   ]
  },
  {
   "cell_type": "code",
   "execution_count": 158,
   "metadata": {},
   "outputs": [],
   "source": [
    "df4 = df.copy() #checkpoint"
   ]
  },
  {
   "cell_type": "code",
   "execution_count": 159,
   "metadata": {},
   "outputs": [],
   "source": [
    "df = df[['originalorder','Date2','Year','Month','Time2',\n",
    "          'Country','Area','Location','Name', 'Age',\n",
    "         'Sex','Activity2','Injury','Fatal(Y/N)','Type','Species','Type',\n",
    "         'Investigatoror Source']]"
   ]
  },
  {
   "cell_type": "code",
   "execution_count": 160,
   "metadata": {},
   "outputs": [
    {
     "data": {
      "text/html": [
       "<div>\n",
       "<style scoped>\n",
       "    .dataframe tbody tr th:only-of-type {\n",
       "        vertical-align: middle;\n",
       "    }\n",
       "\n",
       "    .dataframe tbody tr th {\n",
       "        vertical-align: top;\n",
       "    }\n",
       "\n",
       "    .dataframe thead th {\n",
       "        text-align: right;\n",
       "    }\n",
       "</style>\n",
       "<table border=\"1\" class=\"dataframe\">\n",
       "  <thead>\n",
       "    <tr style=\"text-align: right;\">\n",
       "      <th></th>\n",
       "      <th>originalorder</th>\n",
       "      <th>Date2</th>\n",
       "      <th>Year</th>\n",
       "      <th>Month</th>\n",
       "      <th>Time2</th>\n",
       "      <th>Country</th>\n",
       "      <th>Area</th>\n",
       "      <th>Location</th>\n",
       "      <th>Name</th>\n",
       "      <th>Age</th>\n",
       "      <th>Sex</th>\n",
       "      <th>Activity2</th>\n",
       "      <th>Injury</th>\n",
       "      <th>Fatal(Y/N)</th>\n",
       "      <th>Type</th>\n",
       "      <th>Species</th>\n",
       "      <th>Type</th>\n",
       "      <th>Investigatoror Source</th>\n",
       "    </tr>\n",
       "  </thead>\n",
       "  <tbody>\n",
       "    <tr>\n",
       "      <th>0</th>\n",
       "      <td>6303.0</td>\n",
       "      <td>2018-jun</td>\n",
       "      <td>2018</td>\n",
       "      <td>jun</td>\n",
       "      <td>18</td>\n",
       "      <td>USA</td>\n",
       "      <td>California</td>\n",
       "      <td>Oceanside, San Diego County</td>\n",
       "      <td>Julie Wolfe</td>\n",
       "      <td>57</td>\n",
       "      <td>F</td>\n",
       "      <td>paddling</td>\n",
       "      <td>No injury to occupant, outrigger canoe and pad...</td>\n",
       "      <td>N</td>\n",
       "      <td>Unknow</td>\n",
       "      <td>White shark</td>\n",
       "      <td>Unknow</td>\n",
       "      <td>R. Collier, GSAF</td>\n",
       "    </tr>\n",
       "    <tr>\n",
       "      <th>1</th>\n",
       "      <td>6302.0</td>\n",
       "      <td>2018-jun</td>\n",
       "      <td>2018</td>\n",
       "      <td>jun</td>\n",
       "      <td>14</td>\n",
       "      <td>USA</td>\n",
       "      <td>Georgia</td>\n",
       "      <td>St. Simon Island, Glynn County</td>\n",
       "      <td>Adyson McNeely</td>\n",
       "      <td>11</td>\n",
       "      <td>F</td>\n",
       "      <td>standing</td>\n",
       "      <td>Minor injury to left thigh</td>\n",
       "      <td>N</td>\n",
       "      <td>Unprovoked</td>\n",
       "      <td>NaN</td>\n",
       "      <td>Unprovoked</td>\n",
       "      <td>K.McMurray, TrackingSharks.com</td>\n",
       "    </tr>\n",
       "    <tr>\n",
       "      <th>2</th>\n",
       "      <td>6301.0</td>\n",
       "      <td>2018-jun</td>\n",
       "      <td>2018</td>\n",
       "      <td>jun</td>\n",
       "      <td>07</td>\n",
       "      <td>USA</td>\n",
       "      <td>Hawaii</td>\n",
       "      <td>Habush, Oahu</td>\n",
       "      <td>John Denges</td>\n",
       "      <td>48</td>\n",
       "      <td>M</td>\n",
       "      <td>surfing</td>\n",
       "      <td>Injury to left lower leg from surfboard skeg</td>\n",
       "      <td>N</td>\n",
       "      <td>Unknow</td>\n",
       "      <td>NaN</td>\n",
       "      <td>Unknow</td>\n",
       "      <td>K.McMurray, TrackingSharks.com</td>\n",
       "    </tr>\n",
       "    <tr>\n",
       "      <th>3</th>\n",
       "      <td>6300.0</td>\n",
       "      <td>2018-jun</td>\n",
       "      <td>2018</td>\n",
       "      <td>jun</td>\n",
       "      <td>NaN</td>\n",
       "      <td>AUSTRALIA</td>\n",
       "      <td>New South Wales</td>\n",
       "      <td>Arrawarra Headland</td>\n",
       "      <td>male</td>\n",
       "      <td>NaN</td>\n",
       "      <td>M</td>\n",
       "      <td>surfing</td>\n",
       "      <td>Minor injury to lower leg</td>\n",
       "      <td>N</td>\n",
       "      <td>Unprovoked</td>\n",
       "      <td>2 m shark</td>\n",
       "      <td>Unprovoked</td>\n",
       "      <td>B. Myatt, GSAF</td>\n",
       "    </tr>\n",
       "    <tr>\n",
       "      <th>4</th>\n",
       "      <td>6299.0</td>\n",
       "      <td>2018-jun</td>\n",
       "      <td>2018</td>\n",
       "      <td>jun</td>\n",
       "      <td>NaN</td>\n",
       "      <td>MEXICO</td>\n",
       "      <td>Colima</td>\n",
       "      <td>La Ticla</td>\n",
       "      <td>Gustavo Ramos</td>\n",
       "      <td>NaN</td>\n",
       "      <td>M</td>\n",
       "      <td>free diving</td>\n",
       "      <td>Lacerations to leg &amp; hand shark PROVOKED INCIDENT</td>\n",
       "      <td>N</td>\n",
       "      <td>Provoked</td>\n",
       "      <td>Tiger shark</td>\n",
       "      <td>Provoked</td>\n",
       "      <td>A .Kipper</td>\n",
       "    </tr>\n",
       "  </tbody>\n",
       "</table>\n",
       "</div>"
      ],
      "text/plain": [
       "   originalorder     Date2  Year Month Time2    Country             Area  \\\n",
       "0         6303.0  2018-jun  2018   jun    18        USA       California   \n",
       "1         6302.0  2018-jun  2018   jun    14        USA          Georgia   \n",
       "2         6301.0  2018-jun  2018   jun    07        USA           Hawaii   \n",
       "3         6300.0  2018-jun  2018   jun   NaN  AUSTRALIA  New South Wales   \n",
       "4         6299.0  2018-jun  2018   jun   NaN     MEXICO           Colima   \n",
       "\n",
       "                         Location             Name  Age Sex    Activity2  \\\n",
       "0     Oceanside, San Diego County      Julie Wolfe   57   F     paddling   \n",
       "1  St. Simon Island, Glynn County  Adyson McNeely    11   F     standing   \n",
       "2                    Habush, Oahu      John Denges   48   M      surfing   \n",
       "3              Arrawarra Headland             male  NaN   M      surfing   \n",
       "4                        La Ticla   Gustavo Ramos   NaN   M  free diving   \n",
       "\n",
       "                                              Injury Fatal(Y/N)        Type  \\\n",
       "0  No injury to occupant, outrigger canoe and pad...          N      Unknow   \n",
       "1                         Minor injury to left thigh          N  Unprovoked   \n",
       "2       Injury to left lower leg from surfboard skeg          N      Unknow   \n",
       "3                          Minor injury to lower leg          N  Unprovoked   \n",
       "4  Lacerations to leg & hand shark PROVOKED INCIDENT          N    Provoked   \n",
       "\n",
       "       Species        Type           Investigatoror Source  \n",
       "0  White shark      Unknow                R. Collier, GSAF  \n",
       "1          NaN  Unprovoked  K.McMurray, TrackingSharks.com  \n",
       "2          NaN      Unknow  K.McMurray, TrackingSharks.com  \n",
       "3    2 m shark  Unprovoked                  B. Myatt, GSAF  \n",
       "4  Tiger shark    Provoked                       A .Kipper  "
      ]
     },
     "execution_count": 160,
     "metadata": {},
     "output_type": "execute_result"
    }
   ],
   "source": [
    "df.head()"
   ]
  },
  {
   "cell_type": "code",
   "execution_count": 162,
   "metadata": {},
   "outputs": [],
   "source": [
    "df.drop(['Type'], axis = 1, inplace = True)"
   ]
  },
  {
   "cell_type": "code",
   "execution_count": 164,
   "metadata": {},
   "outputs": [],
   "source": [
    "df['Type'] = df4['Type']"
   ]
  },
  {
   "cell_type": "code",
   "execution_count": 165,
   "metadata": {},
   "outputs": [
    {
     "name": "stdout",
     "output_type": "stream",
     "text": [
      "<class 'pandas.core.frame.DataFrame'>\n",
      "Int64Index: 6304 entries, 0 to 25722\n",
      "Data columns (total 17 columns):\n",
      " #   Column                 Non-Null Count  Dtype  \n",
      "---  ------                 --------------  -----  \n",
      " 0   originalorder          6301 non-null   float64\n",
      " 1   Date2                  6304 non-null   object \n",
      " 2   Year                   6304 non-null   object \n",
      " 3   Month                  6304 non-null   object \n",
      " 4   Time2                  2380 non-null   object \n",
      " 5   Country                6251 non-null   object \n",
      " 6   Area                   5846 non-null   object \n",
      " 7   Location               5761 non-null   object \n",
      " 8   Name                   6091 non-null   object \n",
      " 9   Age                    3470 non-null   object \n",
      " 10  Sex                    5736 non-null   object \n",
      " 11  Activity2              5757 non-null   object \n",
      " 12  Injury                 6273 non-null   object \n",
      " 13  Fatal(Y/N)             5762 non-null   object \n",
      " 14  Species                3464 non-null   object \n",
      " 15  Investigatoror Source  6284 non-null   object \n",
      " 16  Type                   6297 non-null   object \n",
      "dtypes: float64(1), object(16)\n",
      "memory usage: 886.5+ KB\n"
     ]
    }
   ],
   "source": [
    "df.info()"
   ]
  },
  {
   "cell_type": "code",
   "execution_count": 169,
   "metadata": {},
   "outputs": [
    {
     "data": {
      "text/plain": [
       "0     No injury to occupant, outrigger canoe and pad...\n",
       "1                            Minor injury to left thigh\n",
       "2          Injury to left lower leg from surfboard skeg\n",
       "3                             Minor injury to lower leg\n",
       "4     Lacerations to leg & hand shark PROVOKED INCIDENT\n",
       "5                               No injury, board bitten\n",
       "6                                                 FATAL\n",
       "7               Minor injury to foot. PROVOKED INCIDENT\n",
       "8                                 Lower left leg bitten\n",
       "9                                  Minor injury to foot\n",
       "10    Minor bite to hand by captive shark. PROVOKED ...\n",
       "11                 Injuries to lower right leg and foot\n",
       "12                         Severe bite to right forearm\n",
       "13    Injured by teeth of a dead porbeagle shark he ...\n",
       "14      Shallow lacerations to finger PROVOKED INCIDENT\n",
       "15                         Minor injury, marks on board\n",
       "16                         No injury, surfboard damaged\n",
       "17                                Minor injury to ankle\n",
       "18                      No injury, shark bit scuba gear\n",
       "19                No injury, knocked off board by shark\n",
       "20                                            No injury\n",
       "21                No injury, knocked off board by shark\n",
       "22                      No injury, shark struck his leg\n",
       "23                                   5-inch cut to hand\n",
       "24                     No injury, shark bit hole in ski\n",
       "25                       Lacerations to right lower leg\n",
       "26                        Lacerations to foot and ankle\n",
       "27    Multiple severe injuries to arms and leg, leg ...\n",
       "28                            Laceration to right thigh\n",
       "29                                  Lacerations to legs\n",
       "30       No Injury. Shark swam away with the surf board\n",
       "31    Injury to ankle from marine animal trapped in ...\n",
       "32                           No injury, shark bit board\n",
       "33    2 puncture wounds to left foot, abrasion to ri...\n",
       "34                 Lacerations to left knee & lower leg\n",
       "35                         Injuries to right leg & hand\n",
       "36                               Minor injuries to legs\n",
       "37    No injury, said to have been charged by sharks...\n",
       "38                           Minor injury, ankle grazed\n",
       "39     The shark & man simply collided; neither were...\n",
       "40                       Laceratons to right leg & foot\n",
       "41    Shark rammed kayak, no injury to occupant  PRO...\n",
       "42             Puncture wounds to leff foot & lower leg\n",
       "43                     Collision / No injury, no attack\n",
       "44                  Lacerations to 4 toes of right foot\n",
       "45                               Injuries to right foot\n",
       "46    No injury no attack. This is considerd an \"enc...\n",
       "47                                Injuries to right leg\n",
       "48                          Injuries to abdomen and arm\n",
       "49                    Severe laceration to left forearm\n",
       "Name: Injury, dtype: object"
      ]
     },
     "execution_count": 169,
     "metadata": {},
     "output_type": "execute_result"
    }
   ],
   "source": [
    "#trabajando con injury\n",
    "df['Injury'].head(50)"
   ]
  },
  {
   "cell_type": "code",
   "execution_count": 168,
   "metadata": {},
   "outputs": [
    {
     "data": {
      "text/plain": [
       "FATAL                                                           802\n",
       "Survived                                                         97\n",
       "Foot bitten                                                      87\n",
       "No injury                                                        82\n",
       "Leg bitten                                                       72\n",
       "                                                               ... \n",
       "Lacerations and puncture wounds to leg and foot                   1\n",
       "Lacerations to right  hand by hooked shark PROVOKED INCIDENT      1\n",
       "No injury to occupant, canoe bitten                               1\n",
       "Feet grabbed                                                      1\n",
       "Remains recovered 1-4-1984 showed evidence of defense wounds      1\n",
       "Name: Injury, Length: 3736, dtype: int64"
      ]
     },
     "execution_count": 168,
     "metadata": {},
     "output_type": "execute_result"
    }
   ],
   "source": [
    "df['Injury'].value_counts()"
   ]
  },
  {
   "cell_type": "code",
   "execution_count": 173,
   "metadata": {},
   "outputs": [],
   "source": [
    "df['Injury'] = df['Injury'].astype(str)"
   ]
  },
  {
   "cell_type": "code",
   "execution_count": 174,
   "metadata": {},
   "outputs": [
    {
     "data": {
      "text/plain": [
       "0        no injury to occupant, outrigger canoe and pad...\n",
       "1                               minor injury to left thigh\n",
       "2             injury to left lower leg from surfboard skeg\n",
       "3                                minor injury to lower leg\n",
       "4        lacerations to leg & hand shark provoked incident\n",
       "                               ...                        \n",
       "6299                                                 fatal\n",
       "6300                                                 fatal\n",
       "25720                                                  nan\n",
       "25721                                                  nan\n",
       "25722                                                  nan\n",
       "Name: Injury, Length: 6304, dtype: object"
      ]
     },
     "execution_count": 174,
     "metadata": {},
     "output_type": "execute_result"
    }
   ],
   "source": [
    "df['Injury'].apply(lambda x: x.lower())"
   ]
  },
  {
   "cell_type": "code",
   "execution_count": 175,
   "metadata": {},
   "outputs": [],
   "source": [
    "pats = [r'.*?\\bno\\b\\s+\\binjury\\b.*',r'.*?\\bminor\\b\\s+\\binjury\\b.*',\n",
    "       r'.*?\\blacerations\\b.*', r'.*?\\binjuries\\b.*']\n",
    "categories = ['no injury', 'minor injury', 'injury', 'injuries']"
   ]
  },
  {
   "cell_type": "code",
   "execution_count": 181,
   "metadata": {},
   "outputs": [],
   "source": [
    "df['Injury2'] = df['Injury'].str.lower().replace(pats,categories, regex=True)"
   ]
  },
  {
   "cell_type": "code",
   "execution_count": 186,
   "metadata": {},
   "outputs": [
    {
     "data": {
      "text/plain": [
       "array(['no injury', 'minor injury',\n",
       "       'injury to left lower leg from surfboard skeg', ...,\n",
       "       \"fatal, body not recovered but shark was caught with the man's loincloth in its gut shortly afterwards.\",\n",
       "       'fatal, leg stripped of flesh  ',\n",
       "       'fatal, knocked overboard by tail of shark & carried off by shark '],\n",
       "      dtype=object)"
      ]
     },
     "execution_count": 186,
     "metadata": {},
     "output_type": "execute_result"
    }
   ],
   "source": [
    "df['Injury2'].unique()"
   ]
  },
  {
   "cell_type": "code",
   "execution_count": 184,
   "metadata": {},
   "outputs": [
    {
     "data": {
      "text/plain": [
       "2571"
      ]
     },
     "execution_count": 184,
     "metadata": {},
     "output_type": "execute_result"
    }
   ],
   "source": [
    "df['Injury2'].value_counts()"
   ]
  },
  {
   "cell_type": "code",
   "execution_count": 187,
   "metadata": {},
   "outputs": [
    {
     "name": "stdout",
     "output_type": "stream",
     "text": [
      "<class 'pandas.core.frame.DataFrame'>\n",
      "Int64Index: 6304 entries, 0 to 25722\n",
      "Data columns (total 18 columns):\n",
      " #   Column                 Non-Null Count  Dtype  \n",
      "---  ------                 --------------  -----  \n",
      " 0   originalorder          6301 non-null   float64\n",
      " 1   Date2                  6304 non-null   object \n",
      " 2   Year                   6304 non-null   object \n",
      " 3   Month                  6304 non-null   object \n",
      " 4   Time2                  2380 non-null   object \n",
      " 5   Country                6251 non-null   object \n",
      " 6   Area                   5846 non-null   object \n",
      " 7   Location               5761 non-null   object \n",
      " 8   Name                   6091 non-null   object \n",
      " 9   Age                    3470 non-null   object \n",
      " 10  Sex                    5736 non-null   object \n",
      " 11  Activity2              5757 non-null   object \n",
      " 12  Injury                 6304 non-null   object \n",
      " 13  Fatal(Y/N)             5762 non-null   object \n",
      " 14  Species                3464 non-null   object \n",
      " 15  Investigatoror Source  6284 non-null   object \n",
      " 16  Type                   6297 non-null   object \n",
      " 17  Injury2                6304 non-null   object \n",
      "dtypes: float64(1), object(17)\n",
      "memory usage: 935.8+ KB\n"
     ]
    }
   ],
   "source": [
    "df.info()"
   ]
  },
  {
   "cell_type": "code",
   "execution_count": 188,
   "metadata": {},
   "outputs": [],
   "source": [
    "df5 = df.copy()#checkpoint"
   ]
  },
  {
   "cell_type": "code",
   "execution_count": null,
   "metadata": {},
   "outputs": [],
   "source": [
    "#eliminamos columna injury dejamos un respaldo"
   ]
  },
  {
   "cell_type": "code",
   "execution_count": 193,
   "metadata": {},
   "outputs": [],
   "source": [
    "df.drop(['Investigatoror Source'], axis = 1, inplace = True)"
   ]
  },
  {
   "cell_type": "code",
   "execution_count": 194,
   "metadata": {},
   "outputs": [],
   "source": [
    "df.columns = ['Original Order', 'Date', 'Year', 'Month', 'Time', \n",
    "             'Country', 'Area', 'Location', 'Name', 'Age', 'Sex', \n",
    "              'Activity', 'Fatal', 'Species', 'Type', 'Injury']"
   ]
  },
  {
   "cell_type": "code",
   "execution_count": 195,
   "metadata": {},
   "outputs": [
    {
     "data": {
      "text/html": [
       "<div>\n",
       "<style scoped>\n",
       "    .dataframe tbody tr th:only-of-type {\n",
       "        vertical-align: middle;\n",
       "    }\n",
       "\n",
       "    .dataframe tbody tr th {\n",
       "        vertical-align: top;\n",
       "    }\n",
       "\n",
       "    .dataframe thead th {\n",
       "        text-align: right;\n",
       "    }\n",
       "</style>\n",
       "<table border=\"1\" class=\"dataframe\">\n",
       "  <thead>\n",
       "    <tr style=\"text-align: right;\">\n",
       "      <th></th>\n",
       "      <th>Original Order</th>\n",
       "      <th>Date</th>\n",
       "      <th>Year</th>\n",
       "      <th>Month</th>\n",
       "      <th>Time</th>\n",
       "      <th>Country</th>\n",
       "      <th>Area</th>\n",
       "      <th>Location</th>\n",
       "      <th>Name</th>\n",
       "      <th>Age</th>\n",
       "      <th>Sex</th>\n",
       "      <th>Activity</th>\n",
       "      <th>Fatal</th>\n",
       "      <th>Species</th>\n",
       "      <th>Type</th>\n",
       "      <th>Injury</th>\n",
       "    </tr>\n",
       "  </thead>\n",
       "  <tbody>\n",
       "    <tr>\n",
       "      <th>0</th>\n",
       "      <td>6303.0</td>\n",
       "      <td>2018-jun</td>\n",
       "      <td>2018</td>\n",
       "      <td>jun</td>\n",
       "      <td>18</td>\n",
       "      <td>USA</td>\n",
       "      <td>California</td>\n",
       "      <td>Oceanside, San Diego County</td>\n",
       "      <td>Julie Wolfe</td>\n",
       "      <td>57</td>\n",
       "      <td>F</td>\n",
       "      <td>paddling</td>\n",
       "      <td>N</td>\n",
       "      <td>White shark</td>\n",
       "      <td>Unknow</td>\n",
       "      <td>no injury</td>\n",
       "    </tr>\n",
       "    <tr>\n",
       "      <th>1</th>\n",
       "      <td>6302.0</td>\n",
       "      <td>2018-jun</td>\n",
       "      <td>2018</td>\n",
       "      <td>jun</td>\n",
       "      <td>14</td>\n",
       "      <td>USA</td>\n",
       "      <td>Georgia</td>\n",
       "      <td>St. Simon Island, Glynn County</td>\n",
       "      <td>Adyson McNeely</td>\n",
       "      <td>11</td>\n",
       "      <td>F</td>\n",
       "      <td>standing</td>\n",
       "      <td>N</td>\n",
       "      <td>NaN</td>\n",
       "      <td>Unprovoked</td>\n",
       "      <td>minor injury</td>\n",
       "    </tr>\n",
       "    <tr>\n",
       "      <th>2</th>\n",
       "      <td>6301.0</td>\n",
       "      <td>2018-jun</td>\n",
       "      <td>2018</td>\n",
       "      <td>jun</td>\n",
       "      <td>07</td>\n",
       "      <td>USA</td>\n",
       "      <td>Hawaii</td>\n",
       "      <td>Habush, Oahu</td>\n",
       "      <td>John Denges</td>\n",
       "      <td>48</td>\n",
       "      <td>M</td>\n",
       "      <td>surfing</td>\n",
       "      <td>N</td>\n",
       "      <td>NaN</td>\n",
       "      <td>Unknow</td>\n",
       "      <td>injury to left lower leg from surfboard skeg</td>\n",
       "    </tr>\n",
       "    <tr>\n",
       "      <th>3</th>\n",
       "      <td>6300.0</td>\n",
       "      <td>2018-jun</td>\n",
       "      <td>2018</td>\n",
       "      <td>jun</td>\n",
       "      <td>NaN</td>\n",
       "      <td>AUSTRALIA</td>\n",
       "      <td>New South Wales</td>\n",
       "      <td>Arrawarra Headland</td>\n",
       "      <td>male</td>\n",
       "      <td>NaN</td>\n",
       "      <td>M</td>\n",
       "      <td>surfing</td>\n",
       "      <td>N</td>\n",
       "      <td>2 m shark</td>\n",
       "      <td>Unprovoked</td>\n",
       "      <td>minor injury</td>\n",
       "    </tr>\n",
       "    <tr>\n",
       "      <th>4</th>\n",
       "      <td>6299.0</td>\n",
       "      <td>2018-jun</td>\n",
       "      <td>2018</td>\n",
       "      <td>jun</td>\n",
       "      <td>NaN</td>\n",
       "      <td>MEXICO</td>\n",
       "      <td>Colima</td>\n",
       "      <td>La Ticla</td>\n",
       "      <td>Gustavo Ramos</td>\n",
       "      <td>NaN</td>\n",
       "      <td>M</td>\n",
       "      <td>free diving</td>\n",
       "      <td>N</td>\n",
       "      <td>Tiger shark</td>\n",
       "      <td>Provoked</td>\n",
       "      <td>injury</td>\n",
       "    </tr>\n",
       "  </tbody>\n",
       "</table>\n",
       "</div>"
      ],
      "text/plain": [
       "   Original Order      Date  Year Month Time    Country             Area  \\\n",
       "0          6303.0  2018-jun  2018   jun   18        USA       California   \n",
       "1          6302.0  2018-jun  2018   jun   14        USA          Georgia   \n",
       "2          6301.0  2018-jun  2018   jun   07        USA           Hawaii   \n",
       "3          6300.0  2018-jun  2018   jun  NaN  AUSTRALIA  New South Wales   \n",
       "4          6299.0  2018-jun  2018   jun  NaN     MEXICO           Colima   \n",
       "\n",
       "                         Location             Name  Age Sex     Activity  \\\n",
       "0     Oceanside, San Diego County      Julie Wolfe   57   F     paddling   \n",
       "1  St. Simon Island, Glynn County  Adyson McNeely    11   F     standing   \n",
       "2                    Habush, Oahu      John Denges   48   M      surfing   \n",
       "3              Arrawarra Headland             male  NaN   M      surfing   \n",
       "4                        La Ticla   Gustavo Ramos   NaN   M  free diving   \n",
       "\n",
       "  Fatal      Species        Type                                        Injury  \n",
       "0     N  White shark      Unknow                                     no injury  \n",
       "1     N          NaN  Unprovoked                                  minor injury  \n",
       "2     N          NaN      Unknow  injury to left lower leg from surfboard skeg  \n",
       "3     N    2 m shark  Unprovoked                                  minor injury  \n",
       "4     N  Tiger shark    Provoked                                        injury  "
      ]
     },
     "execution_count": 195,
     "metadata": {},
     "output_type": "execute_result"
    }
   ],
   "source": [
    "df.head()"
   ]
  },
  {
   "cell_type": "code",
   "execution_count": 216,
   "metadata": {},
   "outputs": [
    {
     "data": {
      "image/png": "[encoded data removed]",
      "text/plain": [
       "<Figure size 432x288 with 1 Axes>"
      ]
     },
     "metadata": {
      "needs_background": "light"
     },
     "output_type": "display_data"
    }
   ],
   "source": [
    "area = df['Area'].value_counts() #trabajamos con area\n",
    "area[0:20].plot.barh()\n",
    "plt.show()\n",
    "#grafica de area"
   ]
  },
  {
   "cell_type": "code",
   "execution_count": 218,
   "metadata": {},
   "outputs": [
    {
     "data": {
      "image/png": "[encoded data removed]",
      "text/plain": [
       "<Figure size 432x288 with 1 Axes>"
      ]
     },
     "metadata": {
      "needs_background": "light"
     },
     "output_type": "display_data"
    }
   ],
   "source": [
    "loc = df['Location'].value_counts()\n",
    "loc[0:15].plot.barh()\n",
    "plt.show()\n",
    "#reparar cadena de strings"
   ]
  },
  {
   "cell_type": "code",
   "execution_count": 220,
   "metadata": {},
   "outputs": [
    {
     "data": {
      "image/png": "[encoded data removed]",
      "text/plain": [
       "<Figure size 432x288 with 1 Axes>"
      ]
     },
     "metadata": {
      "needs_background": "light"
     },
     "output_type": "display_data"
    }
   ],
   "source": [
    "country = df['Country'].value_counts()\n",
    "country[0:10].plot.barh()\n",
    "plt.show()"
   ]
  },
  {
   "cell_type": "code",
   "execution_count": 224,
   "metadata": {},
   "outputs": [
    {
     "data": {
      "text/plain": [
       "Original Order       3\n",
       "Date                 0\n",
       "Year                 0\n",
       "Month                0\n",
       "Time              3924\n",
       "Country             53\n",
       "Area               458\n",
       "Location           543\n",
       "Name               213\n",
       "Age               2834\n",
       "Sex                568\n",
       "Activity           547\n",
       "Fatal              542\n",
       "Species           2840\n",
       "Type                 7\n",
       "Injury               0\n",
       "dtype: int64"
      ]
     },
     "execution_count": 224,
     "metadata": {},
     "output_type": "execute_result"
    }
   ],
   "source": [
    "df.isna().sum()"
   ]
  },
  {
   "cell_type": "code",
   "execution_count": 225,
   "metadata": {},
   "outputs": [
    {
     "data": {
      "image/png": "[encoded data removed]",
      "text/plain": [
       "<Figure size 432x288 with 1 Axes>"
      ]
     },
     "metadata": {
      "needs_background": "light"
     },
     "output_type": "display_data"
    }
   ],
   "source": [
    "year = df['Year'].value_counts()\n",
    "year[0:20].plot.barh()\n",
    "plt.show()\n",
    "#el valor cero es desconocido"
   ]
  },
  {
   "cell_type": "code",
   "execution_count": 228,
   "metadata": {},
   "outputs": [
    {
     "data": {
      "image/png": "[encoded data removed]",
      "text/plain": [
       "<Figure size 432x288 with 1 Axes>"
      ]
     },
     "metadata": {},
     "output_type": "display_data"
    }
   ],
   "source": [
    "fatal = df['Fatal'].value_counts()\n",
    "sns.set(style = 'whitegrid')\n",
    "ax = sns.barplot(fatal.index, fatal.values)"
   ]
  },
  {
   "cell_type": "code",
   "execution_count": 233,
   "metadata": {},
   "outputs": [
    {
     "data": {
      "text/plain": [
       "17                154\n",
       "18                150\n",
       "19                142\n",
       "20                141\n",
       "16                138\n",
       "                 ... \n",
       "21, 34,24 & 35      1\n",
       "2 to 3 months       1\n",
       ">50                 1\n",
       "                    1\n",
       "9 months            1\n",
       "Name: Age, Length: 157, dtype: int64"
      ]
     },
     "execution_count": 233,
     "metadata": {},
     "output_type": "execute_result"
    }
   ],
   "source": [
    "df['Age'].value_counts()"
   ]
  },
  {
   "cell_type": "code",
   "execution_count": 239,
   "metadata": {},
   "outputs": [
    {
     "data": {
      "text/plain": [
       "22.101910828025478"
      ]
     },
     "execution_count": 239,
     "metadata": {},
     "output_type": "execute_result"
    }
   ],
   "source": [
    "age = df['Age'].value_counts()\n",
    "age.mean() "
   ]
  },
  {
   "cell_type": "code",
   "execution_count": null,
   "metadata": {},
   "outputs": [],
   "source": []
  },
  {
   "cell_type": "code",
   "execution_count": 244,
   "metadata": {},
   "outputs": [],
   "source": [
    "age = pd.Series(np.where(age>80, np.nan, age))"
   ]
  },
  {
   "cell_type": "code",
   "execution_count": 246,
   "metadata": {},
   "outputs": [
    {
     "data": {
      "text/plain": [
       "1.0     75\n",
       "2.0      8\n",
       "7.0      4\n",
       "3.0      4\n",
       "38.0     3\n",
       "28.0     3\n",
       "5.0      3\n",
       "80.0     2\n",
       "16.0     2\n",
       "4.0      2\n",
       "43.0     2\n",
       "69.0     2\n",
       "56.0     2\n",
       "13.0     2\n",
       "78.0     2\n",
       "10.0     2\n",
       "9.0      2\n",
       "35.0     2\n",
       "73.0     1\n",
       "76.0     1\n",
       "37.0     1\n",
       "52.0     1\n",
       "50.0     1\n",
       "48.0     1\n",
       "44.0     1\n",
       "42.0     1\n",
       "6.0      1\n",
       "33.0     1\n",
       "8.0      1\n",
       "30.0     1\n",
       "29.0     1\n",
       "27.0     1\n",
       "23.0     1\n",
       "22.0     1\n",
       "20.0     1\n",
       "17.0     1\n",
       "15.0     1\n",
       "14.0     1\n",
       "11.0     1\n",
       "32.0     1\n",
       "dtype: int64"
      ]
     },
     "execution_count": 246,
     "metadata": {},
     "output_type": "execute_result"
    }
   ],
   "source": [
    "age.value_counts()"
   ]
  },
  {
   "cell_type": "code",
   "execution_count": 249,
   "metadata": {},
   "outputs": [],
   "source": [
    "age = pd.Series(np.where(age == 1,np.nan, age))"
   ]
  },
  {
   "cell_type": "code",
   "execution_count": 250,
   "metadata": {},
   "outputs": [
    {
     "data": {
      "text/plain": [
       "2.0     8\n",
       "7.0     4\n",
       "3.0     4\n",
       "38.0    3\n",
       "28.0    3\n",
       "5.0     3\n",
       "80.0    2\n",
       "16.0    2\n",
       "4.0     2\n",
       "43.0    2\n",
       "69.0    2\n",
       "56.0    2\n",
       "13.0    2\n",
       "78.0    2\n",
       "10.0    2\n",
       "9.0     2\n",
       "35.0    2\n",
       "73.0    1\n",
       "76.0    1\n",
       "37.0    1\n",
       "52.0    1\n",
       "50.0    1\n",
       "48.0    1\n",
       "44.0    1\n",
       "42.0    1\n",
       "6.0     1\n",
       "33.0    1\n",
       "8.0     1\n",
       "30.0    1\n",
       "29.0    1\n",
       "27.0    1\n",
       "23.0    1\n",
       "22.0    1\n",
       "20.0    1\n",
       "17.0    1\n",
       "15.0    1\n",
       "14.0    1\n",
       "11.0    1\n",
       "32.0    1\n",
       "dtype: int64"
      ]
     },
     "execution_count": 250,
     "metadata": {},
     "output_type": "execute_result"
    }
   ],
   "source": [
    "age.value_counts()"
   ]
  },
  {
   "cell_type": "code",
   "execution_count": 254,
   "metadata": {},
   "outputs": [
    {
     "data": {
      "text/plain": [
       "<matplotlib.legend.Legend at 0x7fa198758c50>"
      ]
     },
     "execution_count": 254,
     "metadata": {},
     "output_type": "execute_result"
    },
    {
     "data": {
      "image/png": "[encoded data removed]",
      "text/plain": [
       "<Figure size 432x288 with 1 Axes>"
      ]
     },
     "metadata": {},
     "output_type": "display_data"
    }
   ],
   "source": [
    "fig, ax = plt.subplots()\n",
    "ax.hist(age, bins = 10)\n",
    "ax.set_xlabel('Age')\n",
    "ax.set_ylabel('Freq')\n",
    "plt.axvline(age.mean(), c = 'r', linestyle = '--', label = 'Promedio')\n",
    "plt.axvline(age.mean() + np.std(age), c = 'k', linestyle = '--', label = '1-desviacion')\n",
    "plt.axvline(age.mean() - np.std(age), c = 'k', linestyle = '--', label = '1-desviacion')\n",
    "ax.legend()"
   ]
  },
  {
   "cell_type": "code",
   "execution_count": 255,
   "metadata": {},
   "outputs": [
    {
     "data": {
      "text/plain": [
       "<matplotlib.legend.Legend at 0x7fa198682a90>"
      ]
     },
     "execution_count": 255,
     "metadata": {},
     "output_type": "execute_result"
    },
    {
     "data": {
      "image/png": "[encoded data removed]",
      "text/plain": [
       "<Figure size 432x288 with 1 Axes>"
      ]
     },
     "metadata": {},
     "output_type": "display_data"
    }
   ],
   "source": [
    "ax = sns.distplot(age, bins = 50, kde = False, color = 'blue')\n",
    "ax.set(xlabel = 'dn age', ylabel = 'freq')\n",
    "ax.axvline(x = age.mean(), c = 'k', linestyle = '--', label = 'media')\n",
    "ax.legend()"
   ]
  },
  {
   "cell_type": "code",
   "execution_count": 275,
   "metadata": {},
   "outputs": [
    {
     "name": "stdout",
     "output_type": "stream",
     "text": [
      "<class 'pandas.core.frame.DataFrame'>\n",
      "Int64Index: 6304 entries, 0 to 25722\n",
      "Data columns (total 16 columns):\n",
      " #   Column          Non-Null Count  Dtype  \n",
      "---  ------          --------------  -----  \n",
      " 0   Original Order  6301 non-null   float64\n",
      " 1   Date            6304 non-null   object \n",
      " 2   Year            6304 non-null   object \n",
      " 3   Month           6304 non-null   object \n",
      " 4   Time            2380 non-null   object \n",
      " 5   Country         6251 non-null   object \n",
      " 6   Area            5846 non-null   object \n",
      " 7   Location        5761 non-null   object \n",
      " 8   Name            6091 non-null   object \n",
      " 9   Age             3470 non-null   object \n",
      " 10  Sex             5736 non-null   object \n",
      " 11  Activity        5757 non-null   object \n",
      " 12  Fatal           5762 non-null   object \n",
      " 13  Species         3464 non-null   object \n",
      " 14  Type            6297 non-null   object \n",
      " 15  Injury          6304 non-null   object \n",
      "dtypes: float64(1), object(15)\n",
      "memory usage: 837.2+ KB\n"
     ]
    }
   ],
   "source": [
    "df.info()"
   ]
  },
  {
   "cell_type": "code",
   "execution_count": 267,
   "metadata": {},
   "outputs": [
    {
     "data": {
      "text/plain": [
       "          912\n",
       "jul       621\n",
       "aug       555\n",
       "sep       520\n",
       "jan       493\n",
       "jun       475\n",
       "apr       420\n",
       "oct       417\n",
       "dec       415\n",
       "mar       379\n",
       "nov       377\n",
       "may       358\n",
       "feb       356\n",
       "marmar      2\n",
       "augaug      1\n",
       "sepsep      1\n",
       "janjan      1\n",
       "novnov      1\n",
       "Name: Month, dtype: int64"
      ]
     },
     "execution_count": 267,
     "metadata": {},
     "output_type": "execute_result"
    }
   ],
   "source": [
    "month = df['Month'].value_counts() \n",
    "\n",
    "month"
   ]
  },
  {
   "cell_type": "code",
   "execution_count": 266,
   "metadata": {},
   "outputs": [
    {
     "data": {
      "text/plain": [
       "          912\n",
       "jul       621\n",
       "aug       555\n",
       "sep       520\n",
       "jan       493\n",
       "jun       475\n",
       "apr       420\n",
       "oct       417\n",
       "dec       415\n",
       "mar       379\n",
       "nov       377\n",
       "may       358\n",
       "feb       356\n",
       "marmar      2\n",
       "augaug      1\n",
       "sepsep      1\n",
       "janjan      1\n",
       "novnov      1\n",
       "Name: Month, dtype: int64"
      ]
     },
     "execution_count": 266,
     "metadata": {},
     "output_type": "execute_result"
    }
   ],
   "source": [
    "df['Month'].value_counts()"
   ]
  },
  {
   "cell_type": "code",
   "execution_count": 270,
   "metadata": {},
   "outputs": [
    {
     "data": {
      "image/png": "[encoded data removed]",
      "text/plain": [
       "<Figure size 432x288 with 1 Axes>"
      ]
     },
     "metadata": {},
     "output_type": "display_data"
    }
   ],
   "source": [
    "\n",
    "month.plot.barh()\n",
    "plt.show()\n",
    "#limpiar valores erroneos en month"
   ]
  },
  {
   "cell_type": "code",
   "execution_count": 277,
   "metadata": {},
   "outputs": [],
   "source": [
    "df = df.reset_index()"
   ]
  },
  {
   "cell_type": "code",
   "execution_count": 298,
   "metadata": {},
   "outputs": [
    {
     "name": "stdout",
     "output_type": "stream",
     "text": [
      "<class 'pandas.core.frame.DataFrame'>\n",
      "RangeIndex: 6304 entries, 0 to 6303\n",
      "Data columns (total 17 columns):\n",
      " #   Column          Non-Null Count  Dtype  \n",
      "---  ------          --------------  -----  \n",
      " 0   index           6304 non-null   int64  \n",
      " 1   Original Order  6301 non-null   float64\n",
      " 2   Date            6304 non-null   object \n",
      " 3   Year            6304 non-null   int64  \n",
      " 4   Month           6304 non-null   object \n",
      " 5   Time            2380 non-null   object \n",
      " 6   Country         6251 non-null   object \n",
      " 7   Area            5846 non-null   object \n",
      " 8   Location        5761 non-null   object \n",
      " 9   Name            6091 non-null   object \n",
      " 10  Age             3470 non-null   object \n",
      " 11  Sex             5736 non-null   object \n",
      " 12  Activity        5757 non-null   object \n",
      " 13  Fatal           5762 non-null   object \n",
      " 14  Species         3464 non-null   object \n",
      " 15  Type            6297 non-null   object \n",
      " 16  Injury          6304 non-null   object \n",
      "dtypes: float64(1), int64(2), object(14)\n",
      "memory usage: 837.4+ KB\n"
     ]
    }
   ],
   "source": [
    "df.info()"
   ]
  },
  {
   "cell_type": "code",
   "execution_count": 281,
   "metadata": {},
   "outputs": [],
   "source": [
    "df['Year'] = df['Year'].astype(int)"
   ]
  },
  {
   "cell_type": "code",
   "execution_count": 294,
   "metadata": {},
   "outputs": [
    {
     "name": "stderr",
     "output_type": "stream",
     "text": [
      "/opt/anaconda3/lib/python3.7/site-packages/ipykernel_launcher.py:1: SettingWithCopyWarning: \n",
      "A value is trying to be set on a copy of a slice from a DataFrame\n",
      "\n",
      "See the caveats in the documentation: https://pandas.pydata.org/pandas-docs/stable/user_guide/indexing.html#returning-a-view-versus-a-copy\n",
      "  \"\"\"Entry point for launching an IPython kernel.\n"
     ]
    }
   ],
   "source": [
    "df['Year'][df['Year']<1543] = df['Year'][df['Year']<1543].apply(lambda x: 1543)"
   ]
  },
  {
   "cell_type": "code",
   "execution_count": 297,
   "metadata": {},
   "outputs": [
    {
     "data": {
      "text/plain": [
       "2015    143\n",
       "2017    136\n",
       "1543    133\n",
       "2016    130\n",
       "2011    128\n",
       "       ... \n",
       "1758      1\n",
       "1786      1\n",
       "1802      1\n",
       "1810      1\n",
       "1580      1\n",
       "Name: Year, Length: 245, dtype: int64"
      ]
     },
     "execution_count": 297,
     "metadata": {},
     "output_type": "execute_result"
    }
   ],
   "source": [
    "df['Year'].value_counts()"
   ]
  },
  {
   "cell_type": "code",
   "execution_count": 356,
   "metadata": {},
   "outputs": [],
   "source": [
    "df['Time2'] = pd.Series(np.where(df['Time'] == 'nan', 14,df['Time']))"
   ]
  },
  {
   "cell_type": "code",
   "execution_count": 357,
   "metadata": {},
   "outputs": [
    {
     "data": {
      "text/plain": [
       "14      3924\n",
       "11       259\n",
       "16       240\n",
       "15       238\n",
       "14       237\n",
       "12       204\n",
       "13       200\n",
       "17       199\n",
       "10       181\n",
       "18       131\n",
       "09       123\n",
       "08        92\n",
       "07        83\n",
       "19        53\n",
       "06        39\n",
       "20        30\n",
       "05        11\n",
       "03        10\n",
       "23         8\n",
       "02         7\n",
       "01         6\n",
       "04         6\n",
       "22         5\n",
       "21         5\n",
       "1600       2\n",
       "2          2\n",
       "1500       1\n",
       "9          1\n",
       "8          1\n",
       "1300       1\n",
       "2000       1\n",
       "30         1\n",
       "0830       1\n",
       "0500       1\n",
       "00         1\n",
       "Name: Time2, dtype: int64"
      ]
     },
     "execution_count": 357,
     "metadata": {},
     "output_type": "execute_result"
    }
   ],
   "source": [
    "df['Time2'].value_counts()"
   ]
  },
  {
   "cell_type": "code",
   "execution_count": 358,
   "metadata": {},
   "outputs": [],
   "source": [
    "df['Time2'] = df['Time2'].astype(int)"
   ]
  },
  {
   "cell_type": "code",
   "execution_count": 359,
   "metadata": {},
   "outputs": [
    {
     "name": "stderr",
     "output_type": "stream",
     "text": [
      "/opt/anaconda3/lib/python3.7/site-packages/ipykernel_launcher.py:1: SettingWithCopyWarning: \n",
      "A value is trying to be set on a copy of a slice from a DataFrame\n",
      "\n",
      "See the caveats in the documentation: https://pandas.pydata.org/pandas-docs/stable/user_guide/indexing.html#returning-a-view-versus-a-copy\n",
      "  \"\"\"Entry point for launching an IPython kernel.\n"
     ]
    }
   ],
   "source": [
    "df['Time2'][df['Time2']>25] = df['Time2'][df['Time2']>25].apply(lambda x: 14)\n",
    "#llenamos con el promedio de los valores mas repetidos"
   ]
  },
  {
   "cell_type": "code",
   "execution_count": 360,
   "metadata": {},
   "outputs": [
    {
     "data": {
      "text/plain": [
       "14    4169\n",
       "11     259\n",
       "16     240\n",
       "15     238\n",
       "12     204\n",
       "13     200\n",
       "17     199\n",
       "10     181\n",
       "18     131\n",
       "9      124\n",
       "8       93\n",
       "7       83\n",
       "19      53\n",
       "6       39\n",
       "20      30\n",
       "5       11\n",
       "3       10\n",
       "2        9\n",
       "23       8\n",
       "4        6\n",
       "1        6\n",
       "21       5\n",
       "22       5\n",
       "0        1\n",
       "Name: Time2, dtype: int64"
      ]
     },
     "execution_count": 360,
     "metadata": {},
     "output_type": "execute_result"
    }
   ],
   "source": [
    "df['Time2'].value_counts()"
   ]
  },
  {
   "cell_type": "code",
   "execution_count": 362,
   "metadata": {},
   "outputs": [
    {
     "name": "stdout",
     "output_type": "stream",
     "text": [
      "<class 'pandas.core.frame.DataFrame'>\n",
      "RangeIndex: 6304 entries, 0 to 6303\n",
      "Data columns (total 18 columns):\n",
      " #   Column          Non-Null Count  Dtype  \n",
      "---  ------          --------------  -----  \n",
      " 0   index           6304 non-null   int64  \n",
      " 1   Original Order  6301 non-null   float64\n",
      " 2   Date            6304 non-null   object \n",
      " 3   Year            6304 non-null   int64  \n",
      " 4   Month           6304 non-null   object \n",
      " 5   Time            6304 non-null   object \n",
      " 6   Country         6251 non-null   object \n",
      " 7   Area            5846 non-null   object \n",
      " 8   Location        5761 non-null   object \n",
      " 9   Name            6091 non-null   object \n",
      " 10  Age             3470 non-null   object \n",
      " 11  Sex             5736 non-null   object \n",
      " 12  Activity        5757 non-null   object \n",
      " 13  Fatal           5762 non-null   object \n",
      " 14  Species         3464 non-null   object \n",
      " 15  Type            6297 non-null   object \n",
      " 16  Injury          6304 non-null   object \n",
      " 17  Time2           6304 non-null   int64  \n",
      "dtypes: float64(1), int64(3), object(14)\n",
      "memory usage: 886.6+ KB\n"
     ]
    }
   ],
   "source": [
    "df.info()"
   ]
  },
  {
   "cell_type": "code",
   "execution_count": 365,
   "metadata": {},
   "outputs": [],
   "source": [
    "df['Time2'] = df['Time2'].apply(lambda x: datetime.time(x))"
   ]
  },
  {
   "cell_type": "code",
   "execution_count": 366,
   "metadata": {},
   "outputs": [],
   "source": [
    "df['Time'] = df['Time2']\n",
    "df.drop(['Time2'], axis = 1, inplace = True)"
   ]
  },
  {
   "cell_type": "code",
   "execution_count": 367,
   "metadata": {},
   "outputs": [
    {
     "data": {
      "text/html": [
       "<div>\n",
       "<style scoped>\n",
       "    .dataframe tbody tr th:only-of-type {\n",
       "        vertical-align: middle;\n",
       "    }\n",
       "\n",
       "    .dataframe tbody tr th {\n",
       "        vertical-align: top;\n",
       "    }\n",
       "\n",
       "    .dataframe thead th {\n",
       "        text-align: right;\n",
       "    }\n",
       "</style>\n",
       "<table border=\"1\" class=\"dataframe\">\n",
       "  <thead>\n",
       "    <tr style=\"text-align: right;\">\n",
       "      <th></th>\n",
       "      <th>index</th>\n",
       "      <th>Original Order</th>\n",
       "      <th>Date</th>\n",
       "      <th>Year</th>\n",
       "      <th>Month</th>\n",
       "      <th>Time</th>\n",
       "      <th>Country</th>\n",
       "      <th>Area</th>\n",
       "      <th>Location</th>\n",
       "      <th>Name</th>\n",
       "      <th>Age</th>\n",
       "      <th>Sex</th>\n",
       "      <th>Activity</th>\n",
       "      <th>Fatal</th>\n",
       "      <th>Species</th>\n",
       "      <th>Type</th>\n",
       "      <th>Injury</th>\n",
       "    </tr>\n",
       "  </thead>\n",
       "  <tbody>\n",
       "    <tr>\n",
       "      <th>0</th>\n",
       "      <td>0</td>\n",
       "      <td>6303.0</td>\n",
       "      <td>2018-jun</td>\n",
       "      <td>2018</td>\n",
       "      <td>jun</td>\n",
       "      <td>18:00:00</td>\n",
       "      <td>USA</td>\n",
       "      <td>California</td>\n",
       "      <td>Oceanside, San Diego County</td>\n",
       "      <td>Julie Wolfe</td>\n",
       "      <td>57</td>\n",
       "      <td>F</td>\n",
       "      <td>paddling</td>\n",
       "      <td>N</td>\n",
       "      <td>White shark</td>\n",
       "      <td>Unknow</td>\n",
       "      <td>no injury</td>\n",
       "    </tr>\n",
       "    <tr>\n",
       "      <th>1</th>\n",
       "      <td>1</td>\n",
       "      <td>6302.0</td>\n",
       "      <td>2018-jun</td>\n",
       "      <td>2018</td>\n",
       "      <td>jun</td>\n",
       "      <td>14:00:00</td>\n",
       "      <td>USA</td>\n",
       "      <td>Georgia</td>\n",
       "      <td>St. Simon Island, Glynn County</td>\n",
       "      <td>Adyson McNeely</td>\n",
       "      <td>11</td>\n",
       "      <td>F</td>\n",
       "      <td>standing</td>\n",
       "      <td>N</td>\n",
       "      <td>NaN</td>\n",
       "      <td>Unprovoked</td>\n",
       "      <td>minor injury</td>\n",
       "    </tr>\n",
       "    <tr>\n",
       "      <th>2</th>\n",
       "      <td>2</td>\n",
       "      <td>6301.0</td>\n",
       "      <td>2018-jun</td>\n",
       "      <td>2018</td>\n",
       "      <td>jun</td>\n",
       "      <td>07:00:00</td>\n",
       "      <td>USA</td>\n",
       "      <td>Hawaii</td>\n",
       "      <td>Habush, Oahu</td>\n",
       "      <td>John Denges</td>\n",
       "      <td>48</td>\n",
       "      <td>M</td>\n",
       "      <td>surfing</td>\n",
       "      <td>N</td>\n",
       "      <td>NaN</td>\n",
       "      <td>Unknow</td>\n",
       "      <td>injury to left lower leg from surfboard skeg</td>\n",
       "    </tr>\n",
       "    <tr>\n",
       "      <th>3</th>\n",
       "      <td>3</td>\n",
       "      <td>6300.0</td>\n",
       "      <td>2018-jun</td>\n",
       "      <td>2018</td>\n",
       "      <td>jun</td>\n",
       "      <td>14:00:00</td>\n",
       "      <td>AUSTRALIA</td>\n",
       "      <td>New South Wales</td>\n",
       "      <td>Arrawarra Headland</td>\n",
       "      <td>male</td>\n",
       "      <td>NaN</td>\n",
       "      <td>M</td>\n",
       "      <td>surfing</td>\n",
       "      <td>N</td>\n",
       "      <td>2 m shark</td>\n",
       "      <td>Unprovoked</td>\n",
       "      <td>minor injury</td>\n",
       "    </tr>\n",
       "    <tr>\n",
       "      <th>4</th>\n",
       "      <td>4</td>\n",
       "      <td>6299.0</td>\n",
       "      <td>2018-jun</td>\n",
       "      <td>2018</td>\n",
       "      <td>jun</td>\n",
       "      <td>14:00:00</td>\n",
       "      <td>MEXICO</td>\n",
       "      <td>Colima</td>\n",
       "      <td>La Ticla</td>\n",
       "      <td>Gustavo Ramos</td>\n",
       "      <td>NaN</td>\n",
       "      <td>M</td>\n",
       "      <td>free diving</td>\n",
       "      <td>N</td>\n",
       "      <td>Tiger shark</td>\n",
       "      <td>Provoked</td>\n",
       "      <td>injury</td>\n",
       "    </tr>\n",
       "  </tbody>\n",
       "</table>\n",
       "</div>"
      ],
      "text/plain": [
       "   index  Original Order      Date  Year Month      Time    Country  \\\n",
       "0      0          6303.0  2018-jun  2018   jun  18:00:00        USA   \n",
       "1      1          6302.0  2018-jun  2018   jun  14:00:00        USA   \n",
       "2      2          6301.0  2018-jun  2018   jun  07:00:00        USA   \n",
       "3      3          6300.0  2018-jun  2018   jun  14:00:00  AUSTRALIA   \n",
       "4      4          6299.0  2018-jun  2018   jun  14:00:00     MEXICO   \n",
       "\n",
       "              Area                        Location             Name  Age Sex  \\\n",
       "0       California     Oceanside, San Diego County      Julie Wolfe   57   F   \n",
       "1          Georgia  St. Simon Island, Glynn County  Adyson McNeely    11   F   \n",
       "2           Hawaii                    Habush, Oahu      John Denges   48   M   \n",
       "3  New South Wales              Arrawarra Headland             male  NaN   M   \n",
       "4           Colima                        La Ticla   Gustavo Ramos   NaN   M   \n",
       "\n",
       "      Activity Fatal      Species        Type  \\\n",
       "0     paddling     N  White shark      Unknow   \n",
       "1     standing     N          NaN  Unprovoked   \n",
       "2      surfing     N          NaN      Unknow   \n",
       "3      surfing     N    2 m shark  Unprovoked   \n",
       "4  free diving     N  Tiger shark    Provoked   \n",
       "\n",
       "                                         Injury  \n",
       "0                                     no injury  \n",
       "1                                  minor injury  \n",
       "2  injury to left lower leg from surfboard skeg  \n",
       "3                                  minor injury  \n",
       "4                                        injury  "
      ]
     },
     "execution_count": 367,
     "metadata": {},
     "output_type": "execute_result"
    }
   ],
   "source": [
    "df.head()"
   ]
  },
  {
   "cell_type": "code",
   "execution_count": 368,
   "metadata": {},
   "outputs": [
    {
     "name": "stdout",
     "output_type": "stream",
     "text": [
      "<class 'pandas.core.frame.DataFrame'>\n",
      "RangeIndex: 6304 entries, 0 to 6303\n",
      "Data columns (total 17 columns):\n",
      " #   Column          Non-Null Count  Dtype  \n",
      "---  ------          --------------  -----  \n",
      " 0   index           6304 non-null   int64  \n",
      " 1   Original Order  6301 non-null   float64\n",
      " 2   Date            6304 non-null   object \n",
      " 3   Year            6304 non-null   int64  \n",
      " 4   Month           6304 non-null   object \n",
      " 5   Time            6304 non-null   object \n",
      " 6   Country         6251 non-null   object \n",
      " 7   Area            5846 non-null   object \n",
      " 8   Location        5761 non-null   object \n",
      " 9   Name            6091 non-null   object \n",
      " 10  Age             3470 non-null   object \n",
      " 11  Sex             5736 non-null   object \n",
      " 12  Activity        5757 non-null   object \n",
      " 13  Fatal           5762 non-null   object \n",
      " 14  Species         3464 non-null   object \n",
      " 15  Type            6297 non-null   object \n",
      " 16  Injury          6304 non-null   object \n",
      "dtypes: float64(1), int64(2), object(14)\n",
      "memory usage: 837.4+ KB\n"
     ]
    }
   ],
   "source": [
    "df.info()"
   ]
  },
  {
   "cell_type": "code",
   "execution_count": 379,
   "metadata": {},
   "outputs": [
    {
     "name": "stdout",
     "output_type": "stream",
     "text": [
      "conteo por columna Country\n",
      "\n",
      "USA                           2229\n",
      "AUSTRALIA                     1338\n",
      "SOUTH AFRICA                   579\n",
      "PAPUA NEW GUINEA               134\n",
      "NEW ZEALAND                    128\n",
      "                              ... \n",
      "ANDAMAN / NICOBAR ISLANDAS       1\n",
      "NORTH ATLANTIC OCEAN             1\n",
      "FALKLAND ISLANDS                 1\n",
      "JAVA                             1\n",
      "KUWAIT                           1\n",
      "Name: Country, Length: 211, dtype: int64\n",
      "\n",
      "conteo por columna Area\n",
      "\n",
      "Florida                    1037\n",
      "New South Wales             486\n",
      "Queensland                  311\n",
      "Hawaii                      298\n",
      "California                  290\n",
      "                           ... \n",
      "Santa Elena                   1\n",
      "Black River                   1\n",
      "Wakaya Island                 1\n",
      "Missouri                      1\n",
      "Between Somalia & Yemen       1\n",
      "Name: Area, Length: 825, dtype: int64\n",
      "\n",
      "conteo por columna Location\n",
      "\n",
      "New Smyrna Beach, Volusia County                                    163\n",
      "Daytona Beach, Volusia County                                        30\n",
      "Ponce Inlet, Volusia County                                          20\n",
      "Melbourne Beach, Brevard County                                      18\n",
      "Myrtle Beach, Horry County                                           17\n",
      "                                                                   ... \n",
      "Main Beach, Gold Coast                                                1\n",
      "Mahurangi River Mouth                                                 1\n",
      "Between False Klamath & mouth of Klamath River, Del Norte County      1\n",
      "Roe Reef off Rottnest Island                                          1\n",
      "African Reef off Geraldton                                            1\n",
      "Name: Location, Length: 4107, dtype: int64\n",
      "\n",
      "conteo por columna Name\n",
      "\n",
      "male                                                                                                               549\n",
      "female                                                                                                              97\n",
      "boy                                                                                                                 23\n",
      "2 males                                                                                                             16\n",
      "boat                                                                                                                14\n",
      "                                                                                                                  ... \n",
      "3 m skiboat Talisman, occupants Dennis Langenhoven, Philip Schoeman, Ross Lindsay, Steven Riley & Peter Schuets      1\n",
      "Jon Piatt                                                                                                            1\n",
      "Herman Hovelsrud                                                                                                     1\n",
      "David Kohler                                                                                                         1\n",
      "Mark Fleming                                                                                                         1\n",
      "Name: Name, Length: 5230, dtype: int64\n",
      "\n",
      "conteo por columna Age\n",
      "\n",
      "17                154\n",
      "18                150\n",
      "19                142\n",
      "20                141\n",
      "16                138\n",
      "                 ... \n",
      "21, 34,24 & 35      1\n",
      "2 to 3 months       1\n",
      ">50                 1\n",
      "                    1\n",
      "9 months            1\n",
      "Name: Age, Length: 157, dtype: int64\n",
      "\n",
      "conteo por columna Sex\n",
      "\n",
      "M      5093\n",
      "F       637\n",
      "M         2\n",
      "N         2\n",
      "lli       1\n",
      ".         1\n",
      "Name: Sex, dtype: int64\n",
      "\n",
      "conteo por columna Activity\n",
      "\n",
      "surfing                                                                   971\n",
      "swimming                                                                  868\n",
      "fishing                                                                   431\n",
      "spearfishing                                                              333\n",
      "bathing                                                                   162\n",
      "                                                                         ... \n",
      "retrieving bait box that had fallen overboard                               1\n",
      "anti-sabotage night dive exercise alongside destroyer (scuba diving)        1\n",
      "free diving / spearfishing, from paddleboard & floating on the surface      1\n",
      "american schooner orator capsized                                           1\n",
      "italian liner principessa mafalda sank                                      1\n",
      "Name: Activity, Length: 1504, dtype: int64\n",
      "\n",
      "conteo por columna Fatal\n",
      "\n",
      "N          4302\n",
      "Y          1388\n",
      "UNKNOWN      72\n",
      "Name: Fatal, dtype: int64\n",
      "\n",
      "conteo por columna Species\n",
      "\n",
      "White shark            630\n",
      "Unidentified shark     330\n",
      "Tiger shark            264\n",
      "Bull shark             177\n",
      "invalid                102\n",
      "                      ... \n",
      "13'10\" shark             1\n",
      "234-lb shark             1\n",
      "porbeagle shark, 7'      1\n",
      "sandtiger shark, 8'      1\n",
      "3m shark                 1\n",
      "Name: Species, Length: 674, dtype: int64\n",
      "\n",
      "conteo por columna Type\n",
      "\n",
      "Unprovoked    4594\n",
      "Unknow        1129\n",
      "Provoked       574\n",
      "Name: Type, dtype: int64\n",
      "\n",
      "conteo por columna Injury\n",
      "\n",
      "no injury                                                                                                                 804\n",
      "fatal                                                                                                                     804\n",
      "injury                                                                                                                    597\n",
      "injuries                                                                                                                  128\n",
      "minor injury                                                                                                              119\n",
      "                                                                                                                         ... \n",
      "head & torso bitten                                                                                                         1\n",
      "thought to have been taken by a shark/s. bodies not  recovered                                                              1\n",
      "severe gash to left hand above wrist, almost severing hand                                                                  1\n",
      "puncture wounds on inner thigh                                                                                              1\n",
      "lateral right thigh bitten. thought to involve a 1.2 to 1.5 m tubarão da gralha preta -  a blacktip shark, c. limbatus      1\n",
      "Name: Injury, Length: 2571, dtype: int64\n",
      "\n"
     ]
    }
   ],
   "source": [
    "for i in df.columns[6:]:\n",
    "    print(f'conteo por columna {i}\\n')\n",
    "    print(f'{df[i].value_counts()}\\n')\n",
    "    "
   ]
  },
  {
   "cell_type": "code",
   "execution_count": 380,
   "metadata": {},
   "outputs": [
    {
     "data": {
      "text/plain": [
       "array(['F', 'M', nan, 'M ', 'lli', 'N', '.'], dtype=object)"
      ]
     },
     "execution_count": 380,
     "metadata": {},
     "output_type": "execute_result"
    }
   ],
   "source": [
    "df['Sex'].unique()"
   ]
  },
  {
   "cell_type": "code",
   "execution_count": 384,
   "metadata": {},
   "outputs": [],
   "source": [
    "df['Sex'] = df['Sex'].replace({'M ':'M', 'lli': 'UNKNOW', 'N': 'M','.': 'UNKNOW'})"
   ]
  },
  {
   "cell_type": "code",
   "execution_count": 387,
   "metadata": {},
   "outputs": [],
   "source": [
    "df['Sex'] = df['Sex'].fillna('UNKNOW')"
   ]
  },
  {
   "cell_type": "code",
   "execution_count": 388,
   "metadata": {},
   "outputs": [
    {
     "data": {
      "text/plain": [
       "M         5097\n",
       "F          637\n",
       "UNKNOW     570\n",
       "Name: Sex, dtype: int64"
      ]
     },
     "execution_count": 388,
     "metadata": {},
     "output_type": "execute_result"
    }
   ],
   "source": [
    "df['Sex'].value_counts()"
   ]
  },
  {
   "cell_type": "code",
   "execution_count": 389,
   "metadata": {},
   "outputs": [
    {
     "data": {
      "text/plain": [
       "M         5097\n",
       "F          637\n",
       "UNKNOW     570\n",
       "Name: Sex, dtype: int64"
      ]
     },
     "execution_count": 389,
     "metadata": {},
     "output_type": "execute_result"
    }
   ],
   "source": [
    "df['Sex'].value_counts()"
   ]
  },
  {
   "cell_type": "code",
   "execution_count": 392,
   "metadata": {},
   "outputs": [
    {
     "data": {
      "text/html": [
       "<div>\n",
       "<style scoped>\n",
       "    .dataframe tbody tr th:only-of-type {\n",
       "        vertical-align: middle;\n",
       "    }\n",
       "\n",
       "    .dataframe tbody tr th {\n",
       "        vertical-align: top;\n",
       "    }\n",
       "\n",
       "    .dataframe thead th {\n",
       "        text-align: right;\n",
       "    }\n",
       "</style>\n",
       "<table border=\"1\" class=\"dataframe\">\n",
       "  <thead>\n",
       "    <tr style=\"text-align: right;\">\n",
       "      <th></th>\n",
       "      <th>index</th>\n",
       "      <th>Original Order</th>\n",
       "      <th>Date</th>\n",
       "      <th>Year</th>\n",
       "      <th>Month</th>\n",
       "      <th>Time</th>\n",
       "      <th>Country</th>\n",
       "      <th>Area</th>\n",
       "      <th>Location</th>\n",
       "      <th>Name</th>\n",
       "      <th>Age</th>\n",
       "      <th>Sex</th>\n",
       "      <th>Activity</th>\n",
       "      <th>Fatal</th>\n",
       "      <th>Species</th>\n",
       "      <th>Type</th>\n",
       "      <th>Injury</th>\n",
       "    </tr>\n",
       "  </thead>\n",
       "  <tbody>\n",
       "    <tr>\n",
       "      <th>0</th>\n",
       "      <td>0</td>\n",
       "      <td>6303.0</td>\n",
       "      <td>2018-jun</td>\n",
       "      <td>2018</td>\n",
       "      <td>jun</td>\n",
       "      <td>18:00:00</td>\n",
       "      <td>USA</td>\n",
       "      <td>California</td>\n",
       "      <td>Oceanside, San Diego County</td>\n",
       "      <td>Julie Wolfe</td>\n",
       "      <td>57</td>\n",
       "      <td>F</td>\n",
       "      <td>paddling</td>\n",
       "      <td>N</td>\n",
       "      <td>White shark</td>\n",
       "      <td>Unknow</td>\n",
       "      <td>no injury</td>\n",
       "    </tr>\n",
       "    <tr>\n",
       "      <th>1</th>\n",
       "      <td>1</td>\n",
       "      <td>6302.0</td>\n",
       "      <td>2018-jun</td>\n",
       "      <td>2018</td>\n",
       "      <td>jun</td>\n",
       "      <td>14:00:00</td>\n",
       "      <td>USA</td>\n",
       "      <td>Georgia</td>\n",
       "      <td>St. Simon Island, Glynn County</td>\n",
       "      <td>Adyson McNeely</td>\n",
       "      <td>11</td>\n",
       "      <td>F</td>\n",
       "      <td>standing</td>\n",
       "      <td>N</td>\n",
       "      <td>NaN</td>\n",
       "      <td>Unprovoked</td>\n",
       "      <td>minor injury</td>\n",
       "    </tr>\n",
       "    <tr>\n",
       "      <th>2</th>\n",
       "      <td>2</td>\n",
       "      <td>6301.0</td>\n",
       "      <td>2018-jun</td>\n",
       "      <td>2018</td>\n",
       "      <td>jun</td>\n",
       "      <td>07:00:00</td>\n",
       "      <td>USA</td>\n",
       "      <td>Hawaii</td>\n",
       "      <td>Habush, Oahu</td>\n",
       "      <td>John Denges</td>\n",
       "      <td>48</td>\n",
       "      <td>M</td>\n",
       "      <td>surfing</td>\n",
       "      <td>N</td>\n",
       "      <td>NaN</td>\n",
       "      <td>Unknow</td>\n",
       "      <td>injury to left lower leg from surfboard skeg</td>\n",
       "    </tr>\n",
       "    <tr>\n",
       "      <th>3</th>\n",
       "      <td>3</td>\n",
       "      <td>6300.0</td>\n",
       "      <td>2018-jun</td>\n",
       "      <td>2018</td>\n",
       "      <td>jun</td>\n",
       "      <td>14:00:00</td>\n",
       "      <td>AUSTRALIA</td>\n",
       "      <td>New South Wales</td>\n",
       "      <td>Arrawarra Headland</td>\n",
       "      <td>male</td>\n",
       "      <td>NaN</td>\n",
       "      <td>M</td>\n",
       "      <td>surfing</td>\n",
       "      <td>N</td>\n",
       "      <td>2 m shark</td>\n",
       "      <td>Unprovoked</td>\n",
       "      <td>minor injury</td>\n",
       "    </tr>\n",
       "    <tr>\n",
       "      <th>4</th>\n",
       "      <td>4</td>\n",
       "      <td>6299.0</td>\n",
       "      <td>2018-jun</td>\n",
       "      <td>2018</td>\n",
       "      <td>jun</td>\n",
       "      <td>14:00:00</td>\n",
       "      <td>MEXICO</td>\n",
       "      <td>Colima</td>\n",
       "      <td>La Ticla</td>\n",
       "      <td>Gustavo Ramos</td>\n",
       "      <td>NaN</td>\n",
       "      <td>M</td>\n",
       "      <td>free diving</td>\n",
       "      <td>N</td>\n",
       "      <td>Tiger shark</td>\n",
       "      <td>Provoked</td>\n",
       "      <td>injury</td>\n",
       "    </tr>\n",
       "  </tbody>\n",
       "</table>\n",
       "</div>"
      ],
      "text/plain": [
       "   index  Original Order      Date  Year Month      Time    Country  \\\n",
       "0      0          6303.0  2018-jun  2018   jun  18:00:00        USA   \n",
       "1      1          6302.0  2018-jun  2018   jun  14:00:00        USA   \n",
       "2      2          6301.0  2018-jun  2018   jun  07:00:00        USA   \n",
       "3      3          6300.0  2018-jun  2018   jun  14:00:00  AUSTRALIA   \n",
       "4      4          6299.0  2018-jun  2018   jun  14:00:00     MEXICO   \n",
       "\n",
       "              Area                        Location             Name  Age Sex  \\\n",
       "0       California     Oceanside, San Diego County      Julie Wolfe   57   F   \n",
       "1          Georgia  St. Simon Island, Glynn County  Adyson McNeely    11   F   \n",
       "2           Hawaii                    Habush, Oahu      John Denges   48   M   \n",
       "3  New South Wales              Arrawarra Headland             male  NaN   M   \n",
       "4           Colima                        La Ticla   Gustavo Ramos   NaN   M   \n",
       "\n",
       "      Activity Fatal      Species        Type  \\\n",
       "0     paddling     N  White shark      Unknow   \n",
       "1     standing     N          NaN  Unprovoked   \n",
       "2      surfing     N          NaN      Unknow   \n",
       "3      surfing     N    2 m shark  Unprovoked   \n",
       "4  free diving     N  Tiger shark    Provoked   \n",
       "\n",
       "                                         Injury  \n",
       "0                                     no injury  \n",
       "1                                  minor injury  \n",
       "2  injury to left lower leg from surfboard skeg  \n",
       "3                                  minor injury  \n",
       "4                                        injury  "
      ]
     },
     "execution_count": 392,
     "metadata": {},
     "output_type": "execute_result"
    }
   ],
   "source": [
    "df.head()"
   ]
  },
  {
   "cell_type": "code",
   "execution_count": 393,
   "metadata": {},
   "outputs": [
    {
     "ename": "ValueError",
     "evalue": "time data '2018-' does not match format '%Y-%b'",
     "output_type": "error",
     "traceback": [
      "\u001b[0;31m---------------------------------------------------------------------------\u001b[0m",
      "\u001b[0;31mValueError\u001b[0m                                Traceback (most recent call last)",
      "\u001b[0;32m<ipython-input-393-ca5cb83709a7>\u001b[0m in \u001b[0;36m<module>\u001b[0;34m\u001b[0m\n\u001b[0;32m----> 1\u001b[0;31m \u001b[0mdf\u001b[0m\u001b[0;34m[\u001b[0m\u001b[0;34m'Date'\u001b[0m\u001b[0;34m]\u001b[0m\u001b[0;34m.\u001b[0m\u001b[0mapply\u001b[0m\u001b[0;34m(\u001b[0m\u001b[0;32mlambda\u001b[0m \u001b[0mx\u001b[0m\u001b[0;34m:\u001b[0m \u001b[0mdatetime\u001b[0m\u001b[0;34m.\u001b[0m\u001b[0mdatetime\u001b[0m\u001b[0;34m.\u001b[0m\u001b[0mstrptime\u001b[0m\u001b[0;34m(\u001b[0m\u001b[0mx\u001b[0m\u001b[0;34m,\u001b[0m\u001b[0;34m'%Y-%b'\u001b[0m\u001b[0;34m)\u001b[0m\u001b[0;34m)\u001b[0m\u001b[0;34m\u001b[0m\u001b[0;34m\u001b[0m\u001b[0m\n\u001b[0m",
      "\u001b[0;32m/opt/anaconda3/lib/python3.7/site-packages/pandas/core/series.py\u001b[0m in \u001b[0;36mapply\u001b[0;34m(self, func, convert_dtype, args, **kwds)\u001b[0m\n\u001b[1;32m   3846\u001b[0m             \u001b[0;32melse\u001b[0m\u001b[0;34m:\u001b[0m\u001b[0;34m\u001b[0m\u001b[0;34m\u001b[0m\u001b[0m\n\u001b[1;32m   3847\u001b[0m                 \u001b[0mvalues\u001b[0m \u001b[0;34m=\u001b[0m \u001b[0mself\u001b[0m\u001b[0;34m.\u001b[0m\u001b[0mastype\u001b[0m\u001b[0;34m(\u001b[0m\u001b[0mobject\u001b[0m\u001b[0;34m)\u001b[0m\u001b[0;34m.\u001b[0m\u001b[0mvalues\u001b[0m\u001b[0;34m\u001b[0m\u001b[0;34m\u001b[0m\u001b[0m\n\u001b[0;32m-> 3848\u001b[0;31m                 \u001b[0mmapped\u001b[0m \u001b[0;34m=\u001b[0m \u001b[0mlib\u001b[0m\u001b[0;34m.\u001b[0m\u001b[0mmap_infer\u001b[0m\u001b[0;34m(\u001b[0m\u001b[0mvalues\u001b[0m\u001b[0;34m,\u001b[0m \u001b[0mf\u001b[0m\u001b[0;34m,\u001b[0m \u001b[0mconvert\u001b[0m\u001b[0;34m=\u001b[0m\u001b[0mconvert_dtype\u001b[0m\u001b[0;34m)\u001b[0m\u001b[0;34m\u001b[0m\u001b[0;34m\u001b[0m\u001b[0m\n\u001b[0m\u001b[1;32m   3849\u001b[0m \u001b[0;34m\u001b[0m\u001b[0m\n\u001b[1;32m   3850\u001b[0m         \u001b[0;32mif\u001b[0m \u001b[0mlen\u001b[0m\u001b[0;34m(\u001b[0m\u001b[0mmapped\u001b[0m\u001b[0;34m)\u001b[0m \u001b[0;32mand\u001b[0m \u001b[0misinstance\u001b[0m\u001b[0;34m(\u001b[0m\u001b[0mmapped\u001b[0m\u001b[0;34m[\u001b[0m\u001b[0;36m0\u001b[0m\u001b[0;34m]\u001b[0m\u001b[0;34m,\u001b[0m \u001b[0mSeries\u001b[0m\u001b[0;34m)\u001b[0m\u001b[0;34m:\u001b[0m\u001b[0;34m\u001b[0m\u001b[0;34m\u001b[0m\u001b[0m\n",
      "\u001b[0;32mpandas/_libs/lib.pyx\u001b[0m in \u001b[0;36mpandas._libs.lib.map_infer\u001b[0;34m()\u001b[0m\n",
      "\u001b[0;32m<ipython-input-393-ca5cb83709a7>\u001b[0m in \u001b[0;36m<lambda>\u001b[0;34m(x)\u001b[0m\n\u001b[0;32m----> 1\u001b[0;31m \u001b[0mdf\u001b[0m\u001b[0;34m[\u001b[0m\u001b[0;34m'Date'\u001b[0m\u001b[0;34m]\u001b[0m\u001b[0;34m.\u001b[0m\u001b[0mapply\u001b[0m\u001b[0;34m(\u001b[0m\u001b[0;32mlambda\u001b[0m \u001b[0mx\u001b[0m\u001b[0;34m:\u001b[0m \u001b[0mdatetime\u001b[0m\u001b[0;34m.\u001b[0m\u001b[0mdatetime\u001b[0m\u001b[0;34m.\u001b[0m\u001b[0mstrptime\u001b[0m\u001b[0;34m(\u001b[0m\u001b[0mx\u001b[0m\u001b[0;34m,\u001b[0m\u001b[0;34m'%Y-%b'\u001b[0m\u001b[0;34m)\u001b[0m\u001b[0;34m)\u001b[0m\u001b[0;34m\u001b[0m\u001b[0;34m\u001b[0m\u001b[0m\n\u001b[0m",
      "\u001b[0;32m/opt/anaconda3/lib/python3.7/_strptime.py\u001b[0m in \u001b[0;36m_strptime_datetime\u001b[0;34m(cls, data_string, format)\u001b[0m\n\u001b[1;32m    575\u001b[0m     \"\"\"Return a class cls instance based on the input string and the\n\u001b[1;32m    576\u001b[0m     format string.\"\"\"\n\u001b[0;32m--> 577\u001b[0;31m     \u001b[0mtt\u001b[0m\u001b[0;34m,\u001b[0m \u001b[0mfraction\u001b[0m\u001b[0;34m,\u001b[0m \u001b[0mgmtoff_fraction\u001b[0m \u001b[0;34m=\u001b[0m \u001b[0m_strptime\u001b[0m\u001b[0;34m(\u001b[0m\u001b[0mdata_string\u001b[0m\u001b[0;34m,\u001b[0m \u001b[0mformat\u001b[0m\u001b[0;34m)\u001b[0m\u001b[0;34m\u001b[0m\u001b[0;34m\u001b[0m\u001b[0m\n\u001b[0m\u001b[1;32m    578\u001b[0m     \u001b[0mtzname\u001b[0m\u001b[0;34m,\u001b[0m \u001b[0mgmtoff\u001b[0m \u001b[0;34m=\u001b[0m \u001b[0mtt\u001b[0m\u001b[0;34m[\u001b[0m\u001b[0;34m-\u001b[0m\u001b[0;36m2\u001b[0m\u001b[0;34m:\u001b[0m\u001b[0;34m]\u001b[0m\u001b[0;34m\u001b[0m\u001b[0;34m\u001b[0m\u001b[0m\n\u001b[1;32m    579\u001b[0m     \u001b[0margs\u001b[0m \u001b[0;34m=\u001b[0m \u001b[0mtt\u001b[0m\u001b[0;34m[\u001b[0m\u001b[0;34m:\u001b[0m\u001b[0;36m6\u001b[0m\u001b[0;34m]\u001b[0m \u001b[0;34m+\u001b[0m \u001b[0;34m(\u001b[0m\u001b[0mfraction\u001b[0m\u001b[0;34m,\u001b[0m\u001b[0;34m)\u001b[0m\u001b[0;34m\u001b[0m\u001b[0;34m\u001b[0m\u001b[0m\n",
      "\u001b[0;32m/opt/anaconda3/lib/python3.7/_strptime.py\u001b[0m in \u001b[0;36m_strptime\u001b[0;34m(data_string, format)\u001b[0m\n\u001b[1;32m    357\u001b[0m     \u001b[0;32mif\u001b[0m \u001b[0;32mnot\u001b[0m \u001b[0mfound\u001b[0m\u001b[0;34m:\u001b[0m\u001b[0;34m\u001b[0m\u001b[0;34m\u001b[0m\u001b[0m\n\u001b[1;32m    358\u001b[0m         raise ValueError(\"time data %r does not match format %r\" %\n\u001b[0;32m--> 359\u001b[0;31m                          (data_string, format))\n\u001b[0m\u001b[1;32m    360\u001b[0m     \u001b[0;32mif\u001b[0m \u001b[0mlen\u001b[0m\u001b[0;34m(\u001b[0m\u001b[0mdata_string\u001b[0m\u001b[0;34m)\u001b[0m \u001b[0;34m!=\u001b[0m \u001b[0mfound\u001b[0m\u001b[0;34m.\u001b[0m\u001b[0mend\u001b[0m\u001b[0;34m(\u001b[0m\u001b[0;34m)\u001b[0m\u001b[0;34m:\u001b[0m\u001b[0;34m\u001b[0m\u001b[0;34m\u001b[0m\u001b[0m\n\u001b[1;32m    361\u001b[0m         raise ValueError(\"unconverted data remains: %s\" %\n",
      "\u001b[0;31mValueError\u001b[0m: time data '2018-' does not match format '%Y-%b'"
     ]
    }
   ],
   "source": [
    "df['Date'].apply(lambda x: datetime.datetime.strptime(x,'%Y-%b'))"
   ]
  },
  {
   "cell_type": "code",
   "execution_count": 394,
   "metadata": {},
   "outputs": [],
   "source": [
    "df = pd.read_csv('attacks.csv', encoding = 'latin-1')"
   ]
  },
  {
   "cell_type": "code",
   "execution_count": 395,
   "metadata": {},
   "outputs": [
    {
     "data": {
      "text/plain": [
       "Index(['Case Number', 'Date', 'Year', 'Type', 'Country', 'Area', 'Location',\n",
       "       'Activity', 'Name', 'Sex ', 'Age', 'Injury', 'Fatal (Y/N)', 'Time',\n",
       "       'Species ', 'Investigator or Source', 'pdf', 'href formula', 'href',\n",
       "       'Case Number.1', 'Case Number.2', 'original order', 'Unnamed: 22',\n",
       "       'Unnamed: 23'],\n",
       "      dtype='object')"
      ]
     },
     "execution_count": 395,
     "metadata": {},
     "output_type": "execute_result"
    }
   ],
   "source": [
    "df.drop()"
   ]
  },
  {
   "cell_type": "code",
   "execution_count": 396,
   "metadata": {},
   "outputs": [],
   "source": [
    "df = df.drop(range(6301,25720), axis = 0)"
   ]
  },
  {
   "cell_type": "code",
   "execution_count": 405,
   "metadata": {},
   "outputs": [
    {
     "ename": "ValueError",
     "evalue": "unconverted data remains: .b",
     "output_type": "error",
     "traceback": [
      "\u001b[0;31m---------------------------------------------------------------------------\u001b[0m",
      "\u001b[0;31mValueError\u001b[0m                                Traceback (most recent call last)",
      "\u001b[0;32m<ipython-input-405-0245fbc6b4d2>\u001b[0m in \u001b[0;36m<module>\u001b[0;34m\u001b[0m\n\u001b[0;32m----> 1\u001b[0;31m \u001b[0mdf\u001b[0m\u001b[0;34m[\u001b[0m\u001b[0;34m'Case Number'\u001b[0m\u001b[0;34m]\u001b[0m\u001b[0;34m.\u001b[0m\u001b[0mapply\u001b[0m\u001b[0;34m(\u001b[0m\u001b[0;32mlambda\u001b[0m \u001b[0mx\u001b[0m\u001b[0;34m:\u001b[0m \u001b[0mdatetime\u001b[0m\u001b[0;34m.\u001b[0m\u001b[0mdatetime\u001b[0m\u001b[0;34m.\u001b[0m\u001b[0mstrptime\u001b[0m\u001b[0;34m(\u001b[0m\u001b[0mx\u001b[0m\u001b[0;34m,\u001b[0m\u001b[0;34m'%Y.%m.%d'\u001b[0m\u001b[0;34m)\u001b[0m\u001b[0;34m)\u001b[0m\u001b[0;34m\u001b[0m\u001b[0;34m\u001b[0m\u001b[0m\n\u001b[0m",
      "\u001b[0;32m/opt/anaconda3/lib/python3.7/site-packages/pandas/core/series.py\u001b[0m in \u001b[0;36mapply\u001b[0;34m(self, func, convert_dtype, args, **kwds)\u001b[0m\n\u001b[1;32m   3846\u001b[0m             \u001b[0;32melse\u001b[0m\u001b[0;34m:\u001b[0m\u001b[0;34m\u001b[0m\u001b[0;34m\u001b[0m\u001b[0m\n\u001b[1;32m   3847\u001b[0m                 \u001b[0mvalues\u001b[0m \u001b[0;34m=\u001b[0m \u001b[0mself\u001b[0m\u001b[0;34m.\u001b[0m\u001b[0mastype\u001b[0m\u001b[0;34m(\u001b[0m\u001b[0mobject\u001b[0m\u001b[0;34m)\u001b[0m\u001b[0;34m.\u001b[0m\u001b[0mvalues\u001b[0m\u001b[0;34m\u001b[0m\u001b[0;34m\u001b[0m\u001b[0m\n\u001b[0;32m-> 3848\u001b[0;31m                 \u001b[0mmapped\u001b[0m \u001b[0;34m=\u001b[0m \u001b[0mlib\u001b[0m\u001b[0;34m.\u001b[0m\u001b[0mmap_infer\u001b[0m\u001b[0;34m(\u001b[0m\u001b[0mvalues\u001b[0m\u001b[0;34m,\u001b[0m \u001b[0mf\u001b[0m\u001b[0;34m,\u001b[0m \u001b[0mconvert\u001b[0m\u001b[0;34m=\u001b[0m\u001b[0mconvert_dtype\u001b[0m\u001b[0;34m)\u001b[0m\u001b[0;34m\u001b[0m\u001b[0;34m\u001b[0m\u001b[0m\n\u001b[0m\u001b[1;32m   3849\u001b[0m \u001b[0;34m\u001b[0m\u001b[0m\n\u001b[1;32m   3850\u001b[0m         \u001b[0;32mif\u001b[0m \u001b[0mlen\u001b[0m\u001b[0;34m(\u001b[0m\u001b[0mmapped\u001b[0m\u001b[0;34m)\u001b[0m \u001b[0;32mand\u001b[0m \u001b[0misinstance\u001b[0m\u001b[0;34m(\u001b[0m\u001b[0mmapped\u001b[0m\u001b[0;34m[\u001b[0m\u001b[0;36m0\u001b[0m\u001b[0;34m]\u001b[0m\u001b[0;34m,\u001b[0m \u001b[0mSeries\u001b[0m\u001b[0;34m)\u001b[0m\u001b[0;34m:\u001b[0m\u001b[0;34m\u001b[0m\u001b[0;34m\u001b[0m\u001b[0m\n",
      "\u001b[0;32mpandas/_libs/lib.pyx\u001b[0m in \u001b[0;36mpandas._libs.lib.map_infer\u001b[0;34m()\u001b[0m\n",
      "\u001b[0;32m<ipython-input-405-0245fbc6b4d2>\u001b[0m in \u001b[0;36m<lambda>\u001b[0;34m(x)\u001b[0m\n\u001b[0;32m----> 1\u001b[0;31m \u001b[0mdf\u001b[0m\u001b[0;34m[\u001b[0m\u001b[0;34m'Case Number'\u001b[0m\u001b[0;34m]\u001b[0m\u001b[0;34m.\u001b[0m\u001b[0mapply\u001b[0m\u001b[0;34m(\u001b[0m\u001b[0;32mlambda\u001b[0m \u001b[0mx\u001b[0m\u001b[0;34m:\u001b[0m \u001b[0mdatetime\u001b[0m\u001b[0;34m.\u001b[0m\u001b[0mdatetime\u001b[0m\u001b[0;34m.\u001b[0m\u001b[0mstrptime\u001b[0m\u001b[0;34m(\u001b[0m\u001b[0mx\u001b[0m\u001b[0;34m,\u001b[0m\u001b[0;34m'%Y.%m.%d'\u001b[0m\u001b[0;34m)\u001b[0m\u001b[0;34m)\u001b[0m\u001b[0;34m\u001b[0m\u001b[0;34m\u001b[0m\u001b[0m\n\u001b[0m",
      "\u001b[0;32m/opt/anaconda3/lib/python3.7/_strptime.py\u001b[0m in \u001b[0;36m_strptime_datetime\u001b[0;34m(cls, data_string, format)\u001b[0m\n\u001b[1;32m    575\u001b[0m     \"\"\"Return a class cls instance based on the input string and the\n\u001b[1;32m    576\u001b[0m     format string.\"\"\"\n\u001b[0;32m--> 577\u001b[0;31m     \u001b[0mtt\u001b[0m\u001b[0;34m,\u001b[0m \u001b[0mfraction\u001b[0m\u001b[0;34m,\u001b[0m \u001b[0mgmtoff_fraction\u001b[0m \u001b[0;34m=\u001b[0m \u001b[0m_strptime\u001b[0m\u001b[0;34m(\u001b[0m\u001b[0mdata_string\u001b[0m\u001b[0;34m,\u001b[0m \u001b[0mformat\u001b[0m\u001b[0;34m)\u001b[0m\u001b[0;34m\u001b[0m\u001b[0;34m\u001b[0m\u001b[0m\n\u001b[0m\u001b[1;32m    578\u001b[0m     \u001b[0mtzname\u001b[0m\u001b[0;34m,\u001b[0m \u001b[0mgmtoff\u001b[0m \u001b[0;34m=\u001b[0m \u001b[0mtt\u001b[0m\u001b[0;34m[\u001b[0m\u001b[0;34m-\u001b[0m\u001b[0;36m2\u001b[0m\u001b[0;34m:\u001b[0m\u001b[0;34m]\u001b[0m\u001b[0;34m\u001b[0m\u001b[0;34m\u001b[0m\u001b[0m\n\u001b[1;32m    579\u001b[0m     \u001b[0margs\u001b[0m \u001b[0;34m=\u001b[0m \u001b[0mtt\u001b[0m\u001b[0;34m[\u001b[0m\u001b[0;34m:\u001b[0m\u001b[0;36m6\u001b[0m\u001b[0;34m]\u001b[0m \u001b[0;34m+\u001b[0m \u001b[0;34m(\u001b[0m\u001b[0mfraction\u001b[0m\u001b[0;34m,\u001b[0m\u001b[0;34m)\u001b[0m\u001b[0;34m\u001b[0m\u001b[0;34m\u001b[0m\u001b[0m\n",
      "\u001b[0;32m/opt/anaconda3/lib/python3.7/_strptime.py\u001b[0m in \u001b[0;36m_strptime\u001b[0;34m(data_string, format)\u001b[0m\n\u001b[1;32m    360\u001b[0m     \u001b[0;32mif\u001b[0m \u001b[0mlen\u001b[0m\u001b[0;34m(\u001b[0m\u001b[0mdata_string\u001b[0m\u001b[0;34m)\u001b[0m \u001b[0;34m!=\u001b[0m \u001b[0mfound\u001b[0m\u001b[0;34m.\u001b[0m\u001b[0mend\u001b[0m\u001b[0;34m(\u001b[0m\u001b[0;34m)\u001b[0m\u001b[0;34m:\u001b[0m\u001b[0;34m\u001b[0m\u001b[0;34m\u001b[0m\u001b[0m\n\u001b[1;32m    361\u001b[0m         raise ValueError(\"unconverted data remains: %s\" %\n\u001b[0;32m--> 362\u001b[0;31m                           data_string[found.end():])\n\u001b[0m\u001b[1;32m    363\u001b[0m \u001b[0;34m\u001b[0m\u001b[0m\n\u001b[1;32m    364\u001b[0m     \u001b[0miso_year\u001b[0m \u001b[0;34m=\u001b[0m \u001b[0myear\u001b[0m \u001b[0;34m=\u001b[0m \u001b[0;32mNone\u001b[0m\u001b[0;34m\u001b[0m\u001b[0;34m\u001b[0m\u001b[0m\n",
      "\u001b[0;31mValueError\u001b[0m: unconverted data remains: .b"
     ]
    }
   ],
   "source": [
    "df['Case Number'].apply(lambda x: datetime.datetime.strptime(x,'%Y.%m.%d'))"
   ]
  },
  {
   "cell_type": "code",
   "execution_count": 408,
   "metadata": {},
   "outputs": [
    {
     "data": {
      "text/html": [
       "<div>\n",
       "<style scoped>\n",
       "    .dataframe tbody tr th:only-of-type {\n",
       "        vertical-align: middle;\n",
       "    }\n",
       "\n",
       "    .dataframe tbody tr th {\n",
       "        vertical-align: top;\n",
       "    }\n",
       "\n",
       "    .dataframe thead th {\n",
       "        text-align: right;\n",
       "    }\n",
       "</style>\n",
       "<table border=\"1\" class=\"dataframe\">\n",
       "  <thead>\n",
       "    <tr style=\"text-align: right;\">\n",
       "      <th></th>\n",
       "      <th>Case Number</th>\n",
       "      <th>Date</th>\n",
       "      <th>Year</th>\n",
       "      <th>Type</th>\n",
       "      <th>Country</th>\n",
       "      <th>Area</th>\n",
       "      <th>Location</th>\n",
       "      <th>Activity</th>\n",
       "      <th>Name</th>\n",
       "      <th>Sex</th>\n",
       "      <th>...</th>\n",
       "      <th>Species</th>\n",
       "      <th>Investigator or Source</th>\n",
       "      <th>pdf</th>\n",
       "      <th>href formula</th>\n",
       "      <th>href</th>\n",
       "      <th>Case Number.1</th>\n",
       "      <th>Case Number.2</th>\n",
       "      <th>original order</th>\n",
       "      <th>Unnamed: 22</th>\n",
       "      <th>Unnamed: 23</th>\n",
       "    </tr>\n",
       "  </thead>\n",
       "  <tbody>\n",
       "    <tr>\n",
       "      <th>0</th>\n",
       "      <td>2018.06.25</td>\n",
       "      <td>25-Jun-2018</td>\n",
       "      <td>2018.0</td>\n",
       "      <td>Boating</td>\n",
       "      <td>USA</td>\n",
       "      <td>California</td>\n",
       "      <td>Oceanside, San Diego County</td>\n",
       "      <td>Paddling</td>\n",
       "      <td>Julie Wolfe</td>\n",
       "      <td>F</td>\n",
       "      <td>...</td>\n",
       "      <td>White shark</td>\n",
       "      <td>R. Collier, GSAF</td>\n",
       "      <td>2018.06.25-Wolfe.pdf</td>\n",
       "      <td>http://sharkattackfile.net/spreadsheets/pdf_di...</td>\n",
       "      <td>http://sharkattackfile.net/spreadsheets/pdf_di...</td>\n",
       "      <td>2018.06.25</td>\n",
       "      <td>2018.06.25</td>\n",
       "      <td>6303.0</td>\n",
       "      <td>NaN</td>\n",
       "      <td>NaN</td>\n",
       "    </tr>\n",
       "    <tr>\n",
       "      <th>1</th>\n",
       "      <td>2018.06.18</td>\n",
       "      <td>18-Jun-2018</td>\n",
       "      <td>2018.0</td>\n",
       "      <td>Unprovoked</td>\n",
       "      <td>USA</td>\n",
       "      <td>Georgia</td>\n",
       "      <td>St. Simon Island, Glynn County</td>\n",
       "      <td>Standing</td>\n",
       "      <td>Adyson McNeely</td>\n",
       "      <td>F</td>\n",
       "      <td>...</td>\n",
       "      <td>NaN</td>\n",
       "      <td>K.McMurray, TrackingSharks.com</td>\n",
       "      <td>2018.06.18-McNeely.pdf</td>\n",
       "      <td>http://sharkattackfile.net/spreadsheets/pdf_di...</td>\n",
       "      <td>http://sharkattackfile.net/spreadsheets/pdf_di...</td>\n",
       "      <td>2018.06.18</td>\n",
       "      <td>2018.06.18</td>\n",
       "      <td>6302.0</td>\n",
       "      <td>NaN</td>\n",
       "      <td>NaN</td>\n",
       "    </tr>\n",
       "    <tr>\n",
       "      <th>2</th>\n",
       "      <td>2018.06.09</td>\n",
       "      <td>09-Jun-2018</td>\n",
       "      <td>2018.0</td>\n",
       "      <td>Invalid</td>\n",
       "      <td>USA</td>\n",
       "      <td>Hawaii</td>\n",
       "      <td>Habush, Oahu</td>\n",
       "      <td>Surfing</td>\n",
       "      <td>John Denges</td>\n",
       "      <td>M</td>\n",
       "      <td>...</td>\n",
       "      <td>NaN</td>\n",
       "      <td>K.McMurray, TrackingSharks.com</td>\n",
       "      <td>2018.06.09-Denges.pdf</td>\n",
       "      <td>http://sharkattackfile.net/spreadsheets/pdf_di...</td>\n",
       "      <td>http://sharkattackfile.net/spreadsheets/pdf_di...</td>\n",
       "      <td>2018.06.09</td>\n",
       "      <td>2018.06.09</td>\n",
       "      <td>6301.0</td>\n",
       "      <td>NaN</td>\n",
       "      <td>NaN</td>\n",
       "    </tr>\n",
       "    <tr>\n",
       "      <th>3</th>\n",
       "      <td>2018.06.08</td>\n",
       "      <td>08-Jun-2018</td>\n",
       "      <td>2018.0</td>\n",
       "      <td>Unprovoked</td>\n",
       "      <td>AUSTRALIA</td>\n",
       "      <td>New South Wales</td>\n",
       "      <td>Arrawarra Headland</td>\n",
       "      <td>Surfing</td>\n",
       "      <td>male</td>\n",
       "      <td>M</td>\n",
       "      <td>...</td>\n",
       "      <td>2 m shark</td>\n",
       "      <td>B. Myatt, GSAF</td>\n",
       "      <td>2018.06.08-Arrawarra.pdf</td>\n",
       "      <td>http://sharkattackfile.net/spreadsheets/pdf_di...</td>\n",
       "      <td>http://sharkattackfile.net/spreadsheets/pdf_di...</td>\n",
       "      <td>2018.06.08</td>\n",
       "      <td>2018.06.08</td>\n",
       "      <td>6300.0</td>\n",
       "      <td>NaN</td>\n",
       "      <td>NaN</td>\n",
       "    </tr>\n",
       "    <tr>\n",
       "      <th>4</th>\n",
       "      <td>2018.06.04</td>\n",
       "      <td>04-Jun-2018</td>\n",
       "      <td>2018.0</td>\n",
       "      <td>Provoked</td>\n",
       "      <td>MEXICO</td>\n",
       "      <td>Colima</td>\n",
       "      <td>La Ticla</td>\n",
       "      <td>Free diving</td>\n",
       "      <td>Gustavo Ramos</td>\n",
       "      <td>M</td>\n",
       "      <td>...</td>\n",
       "      <td>Tiger shark, 3m</td>\n",
       "      <td>A .Kipper</td>\n",
       "      <td>2018.06.04-Ramos.pdf</td>\n",
       "      <td>http://sharkattackfile.net/spreadsheets/pdf_di...</td>\n",
       "      <td>http://sharkattackfile.net/spreadsheets/pdf_di...</td>\n",
       "      <td>2018.06.04</td>\n",
       "      <td>2018.06.04</td>\n",
       "      <td>6299.0</td>\n",
       "      <td>NaN</td>\n",
       "      <td>NaN</td>\n",
       "    </tr>\n",
       "  </tbody>\n",
       "</table>\n",
       "<p>5 rows × 24 columns</p>\n",
       "</div>"
      ],
      "text/plain": [
       "  Case Number         Date    Year        Type    Country             Area  \\\n",
       "0  2018.06.25  25-Jun-2018  2018.0     Boating        USA       California   \n",
       "1  2018.06.18  18-Jun-2018  2018.0  Unprovoked        USA          Georgia   \n",
       "2  2018.06.09  09-Jun-2018  2018.0     Invalid        USA           Hawaii   \n",
       "3  2018.06.08  08-Jun-2018  2018.0  Unprovoked  AUSTRALIA  New South Wales   \n",
       "4  2018.06.04  04-Jun-2018  2018.0    Provoked     MEXICO           Colima   \n",
       "\n",
       "                         Location     Activity             Name Sex   ...  \\\n",
       "0     Oceanside, San Diego County     Paddling      Julie Wolfe    F  ...   \n",
       "1  St. Simon Island, Glynn County     Standing  Adyson McNeely     F  ...   \n",
       "2                    Habush, Oahu      Surfing      John Denges    M  ...   \n",
       "3              Arrawarra Headland      Surfing             male    M  ...   \n",
       "4                        La Ticla  Free diving   Gustavo Ramos     M  ...   \n",
       "\n",
       "          Species           Investigator or Source                       pdf  \\\n",
       "0      White shark                R. Collier, GSAF      2018.06.25-Wolfe.pdf   \n",
       "1              NaN  K.McMurray, TrackingSharks.com    2018.06.18-McNeely.pdf   \n",
       "2              NaN  K.McMurray, TrackingSharks.com     2018.06.09-Denges.pdf   \n",
       "3        2 m shark                  B. Myatt, GSAF  2018.06.08-Arrawarra.pdf   \n",
       "4  Tiger shark, 3m                       A .Kipper      2018.06.04-Ramos.pdf   \n",
       "\n",
       "                                        href formula  \\\n",
       "0  http://sharkattackfile.net/spreadsheets/pdf_di...   \n",
       "1  http://sharkattackfile.net/spreadsheets/pdf_di...   \n",
       "2  http://sharkattackfile.net/spreadsheets/pdf_di...   \n",
       "3  http://sharkattackfile.net/spreadsheets/pdf_di...   \n",
       "4  http://sharkattackfile.net/spreadsheets/pdf_di...   \n",
       "\n",
       "                                                href Case Number.1  \\\n",
       "0  http://sharkattackfile.net/spreadsheets/pdf_di...    2018.06.25   \n",
       "1  http://sharkattackfile.net/spreadsheets/pdf_di...    2018.06.18   \n",
       "2  http://sharkattackfile.net/spreadsheets/pdf_di...    2018.06.09   \n",
       "3  http://sharkattackfile.net/spreadsheets/pdf_di...    2018.06.08   \n",
       "4  http://sharkattackfile.net/spreadsheets/pdf_di...    2018.06.04   \n",
       "\n",
       "  Case Number.2 original order Unnamed: 22 Unnamed: 23  \n",
       "0    2018.06.25         6303.0         NaN         NaN  \n",
       "1    2018.06.18         6302.0         NaN         NaN  \n",
       "2    2018.06.09         6301.0         NaN         NaN  \n",
       "3    2018.06.08         6300.0         NaN         NaN  \n",
       "4    2018.06.04         6299.0         NaN         NaN  \n",
       "\n",
       "[5 rows x 24 columns]"
      ]
     },
     "execution_count": 408,
     "metadata": {},
     "output_type": "execute_result"
    }
   ],
   "source": [
    "df.head()"
   ]
  },
  {
   "cell_type": "code",
   "execution_count": 411,
   "metadata": {},
   "outputs": [
    {
     "data": {
      "text/html": [
       "<div>\n",
       "<style scoped>\n",
       "    .dataframe tbody tr th:only-of-type {\n",
       "        vertical-align: middle;\n",
       "    }\n",
       "\n",
       "    .dataframe tbody tr th {\n",
       "        vertical-align: top;\n",
       "    }\n",
       "\n",
       "    .dataframe thead th {\n",
       "        text-align: right;\n",
       "    }\n",
       "</style>\n",
       "<table border=\"1\" class=\"dataframe\">\n",
       "  <thead>\n",
       "    <tr style=\"text-align: right;\">\n",
       "      <th></th>\n",
       "      <th>Case Number</th>\n",
       "      <th>Date</th>\n",
       "      <th>Year</th>\n",
       "      <th>Type</th>\n",
       "      <th>Country</th>\n",
       "      <th>Area</th>\n",
       "      <th>Location</th>\n",
       "      <th>Activity</th>\n",
       "      <th>Name</th>\n",
       "      <th>Sex</th>\n",
       "      <th>...</th>\n",
       "      <th>Species</th>\n",
       "      <th>Investigator or Source</th>\n",
       "      <th>pdf</th>\n",
       "      <th>href formula</th>\n",
       "      <th>href</th>\n",
       "      <th>Case Number.1</th>\n",
       "      <th>Case Number.2</th>\n",
       "      <th>original order</th>\n",
       "      <th>Unnamed: 22</th>\n",
       "      <th>Unnamed: 23</th>\n",
       "    </tr>\n",
       "  </thead>\n",
       "  <tbody>\n",
       "    <tr>\n",
       "      <th>0</th>\n",
       "      <td>2018-06-25</td>\n",
       "      <td>25-Jun-2018</td>\n",
       "      <td>2018.0</td>\n",
       "      <td>Boating</td>\n",
       "      <td>USA</td>\n",
       "      <td>California</td>\n",
       "      <td>Oceanside, San Diego County</td>\n",
       "      <td>Paddling</td>\n",
       "      <td>Julie Wolfe</td>\n",
       "      <td>F</td>\n",
       "      <td>...</td>\n",
       "      <td>White shark</td>\n",
       "      <td>R. Collier, GSAF</td>\n",
       "      <td>2018.06.25-Wolfe.pdf</td>\n",
       "      <td>http://sharkattackfile.net/spreadsheets/pdf_di...</td>\n",
       "      <td>http://sharkattackfile.net/spreadsheets/pdf_di...</td>\n",
       "      <td>2018.06.25</td>\n",
       "      <td>2018.06.25</td>\n",
       "      <td>6303.0</td>\n",
       "      <td>NaN</td>\n",
       "      <td>NaN</td>\n",
       "    </tr>\n",
       "    <tr>\n",
       "      <th>1</th>\n",
       "      <td>2018-06-18</td>\n",
       "      <td>18-Jun-2018</td>\n",
       "      <td>2018.0</td>\n",
       "      <td>Unprovoked</td>\n",
       "      <td>USA</td>\n",
       "      <td>Georgia</td>\n",
       "      <td>St. Simon Island, Glynn County</td>\n",
       "      <td>Standing</td>\n",
       "      <td>Adyson McNeely</td>\n",
       "      <td>F</td>\n",
       "      <td>...</td>\n",
       "      <td>NaN</td>\n",
       "      <td>K.McMurray, TrackingSharks.com</td>\n",
       "      <td>2018.06.18-McNeely.pdf</td>\n",
       "      <td>http://sharkattackfile.net/spreadsheets/pdf_di...</td>\n",
       "      <td>http://sharkattackfile.net/spreadsheets/pdf_di...</td>\n",
       "      <td>2018.06.18</td>\n",
       "      <td>2018.06.18</td>\n",
       "      <td>6302.0</td>\n",
       "      <td>NaN</td>\n",
       "      <td>NaN</td>\n",
       "    </tr>\n",
       "    <tr>\n",
       "      <th>2</th>\n",
       "      <td>2018-06-09</td>\n",
       "      <td>09-Jun-2018</td>\n",
       "      <td>2018.0</td>\n",
       "      <td>Invalid</td>\n",
       "      <td>USA</td>\n",
       "      <td>Hawaii</td>\n",
       "      <td>Habush, Oahu</td>\n",
       "      <td>Surfing</td>\n",
       "      <td>John Denges</td>\n",
       "      <td>M</td>\n",
       "      <td>...</td>\n",
       "      <td>NaN</td>\n",
       "      <td>K.McMurray, TrackingSharks.com</td>\n",
       "      <td>2018.06.09-Denges.pdf</td>\n",
       "      <td>http://sharkattackfile.net/spreadsheets/pdf_di...</td>\n",
       "      <td>http://sharkattackfile.net/spreadsheets/pdf_di...</td>\n",
       "      <td>2018.06.09</td>\n",
       "      <td>2018.06.09</td>\n",
       "      <td>6301.0</td>\n",
       "      <td>NaN</td>\n",
       "      <td>NaN</td>\n",
       "    </tr>\n",
       "    <tr>\n",
       "      <th>3</th>\n",
       "      <td>2018-06-08</td>\n",
       "      <td>08-Jun-2018</td>\n",
       "      <td>2018.0</td>\n",
       "      <td>Unprovoked</td>\n",
       "      <td>AUSTRALIA</td>\n",
       "      <td>New South Wales</td>\n",
       "      <td>Arrawarra Headland</td>\n",
       "      <td>Surfing</td>\n",
       "      <td>male</td>\n",
       "      <td>M</td>\n",
       "      <td>...</td>\n",
       "      <td>2 m shark</td>\n",
       "      <td>B. Myatt, GSAF</td>\n",
       "      <td>2018.06.08-Arrawarra.pdf</td>\n",
       "      <td>http://sharkattackfile.net/spreadsheets/pdf_di...</td>\n",
       "      <td>http://sharkattackfile.net/spreadsheets/pdf_di...</td>\n",
       "      <td>2018.06.08</td>\n",
       "      <td>2018.06.08</td>\n",
       "      <td>6300.0</td>\n",
       "      <td>NaN</td>\n",
       "      <td>NaN</td>\n",
       "    </tr>\n",
       "    <tr>\n",
       "      <th>4</th>\n",
       "      <td>2018-06-04</td>\n",
       "      <td>04-Jun-2018</td>\n",
       "      <td>2018.0</td>\n",
       "      <td>Provoked</td>\n",
       "      <td>MEXICO</td>\n",
       "      <td>Colima</td>\n",
       "      <td>La Ticla</td>\n",
       "      <td>Free diving</td>\n",
       "      <td>Gustavo Ramos</td>\n",
       "      <td>M</td>\n",
       "      <td>...</td>\n",
       "      <td>Tiger shark, 3m</td>\n",
       "      <td>A .Kipper</td>\n",
       "      <td>2018.06.04-Ramos.pdf</td>\n",
       "      <td>http://sharkattackfile.net/spreadsheets/pdf_di...</td>\n",
       "      <td>http://sharkattackfile.net/spreadsheets/pdf_di...</td>\n",
       "      <td>2018.06.04</td>\n",
       "      <td>2018.06.04</td>\n",
       "      <td>6299.0</td>\n",
       "      <td>NaN</td>\n",
       "      <td>NaN</td>\n",
       "    </tr>\n",
       "  </tbody>\n",
       "</table>\n",
       "<p>5 rows × 24 columns</p>\n",
       "</div>"
      ],
      "text/plain": [
       "  Case Number         Date    Year        Type    Country             Area  \\\n",
       "0  2018-06-25  25-Jun-2018  2018.0     Boating        USA       California   \n",
       "1  2018-06-18  18-Jun-2018  2018.0  Unprovoked        USA          Georgia   \n",
       "2  2018-06-09  09-Jun-2018  2018.0     Invalid        USA           Hawaii   \n",
       "3  2018-06-08  08-Jun-2018  2018.0  Unprovoked  AUSTRALIA  New South Wales   \n",
       "4  2018-06-04  04-Jun-2018  2018.0    Provoked     MEXICO           Colima   \n",
       "\n",
       "                         Location     Activity             Name Sex   ...  \\\n",
       "0     Oceanside, San Diego County     Paddling      Julie Wolfe    F  ...   \n",
       "1  St. Simon Island, Glynn County     Standing  Adyson McNeely     F  ...   \n",
       "2                    Habush, Oahu      Surfing      John Denges    M  ...   \n",
       "3              Arrawarra Headland      Surfing             male    M  ...   \n",
       "4                        La Ticla  Free diving   Gustavo Ramos     M  ...   \n",
       "\n",
       "          Species           Investigator or Source                       pdf  \\\n",
       "0      White shark                R. Collier, GSAF      2018.06.25-Wolfe.pdf   \n",
       "1              NaN  K.McMurray, TrackingSharks.com    2018.06.18-McNeely.pdf   \n",
       "2              NaN  K.McMurray, TrackingSharks.com     2018.06.09-Denges.pdf   \n",
       "3        2 m shark                  B. Myatt, GSAF  2018.06.08-Arrawarra.pdf   \n",
       "4  Tiger shark, 3m                       A .Kipper      2018.06.04-Ramos.pdf   \n",
       "\n",
       "                                        href formula  \\\n",
       "0  http://sharkattackfile.net/spreadsheets/pdf_di...   \n",
       "1  http://sharkattackfile.net/spreadsheets/pdf_di...   \n",
       "2  http://sharkattackfile.net/spreadsheets/pdf_di...   \n",
       "3  http://sharkattackfile.net/spreadsheets/pdf_di...   \n",
       "4  http://sharkattackfile.net/spreadsheets/pdf_di...   \n",
       "\n",
       "                                                href Case Number.1  \\\n",
       "0  http://sharkattackfile.net/spreadsheets/pdf_di...    2018.06.25   \n",
       "1  http://sharkattackfile.net/spreadsheets/pdf_di...    2018.06.18   \n",
       "2  http://sharkattackfile.net/spreadsheets/pdf_di...    2018.06.09   \n",
       "3  http://sharkattackfile.net/spreadsheets/pdf_di...    2018.06.08   \n",
       "4  http://sharkattackfile.net/spreadsheets/pdf_di...    2018.06.04   \n",
       "\n",
       "  Case Number.2 original order Unnamed: 22 Unnamed: 23  \n",
       "0    2018.06.25         6303.0         NaN         NaN  \n",
       "1    2018.06.18         6302.0         NaN         NaN  \n",
       "2    2018.06.09         6301.0         NaN         NaN  \n",
       "3    2018.06.08         6300.0         NaN         NaN  \n",
       "4    2018.06.04         6299.0         NaN         NaN  \n",
       "\n",
       "[5 rows x 24 columns]"
      ]
     },
     "execution_count": 411,
     "metadata": {},
     "output_type": "execute_result"
    }
   ],
   "source": [
    "df['Case Number'] = pd.to_datetime(df['Case Number'], dayfirst=True, errors='coerce')\n",
    "df.head()"
   ]
  },
  {
   "cell_type": "code",
   "execution_count": 413,
   "metadata": {},
   "outputs": [
    {
     "data": {
      "text/plain": [
       "5000          NaT\n",
       "5001   1931-11-26\n",
       "5002   1931-09-27\n",
       "5003          NaT\n",
       "5004          NaT\n",
       "5005   1931-09-02\n",
       "5006   1931-08-31\n",
       "5007   1931-08-30\n",
       "5008   1931-08-27\n",
       "5009   1931-08-25\n",
       "5010   1931-08-23\n",
       "5011   1931-08-18\n",
       "5012          NaT\n",
       "5013   1931-08-01\n",
       "5014          NaT\n",
       "5015   1931-07-15\n",
       "5016   1931-06-14\n",
       "5017   1931-06-13\n",
       "5018          NaT\n",
       "5019   1931-05-02\n",
       "Name: Case Number, dtype: datetime64[ns]"
      ]
     },
     "execution_count": 413,
     "metadata": {},
     "output_type": "execute_result"
    }
   ],
   "source": [
    "df['Case Number'][5000:5020]"
   ]
  },
  {
   "cell_type": "code",
   "execution_count": 414,
   "metadata": {},
   "outputs": [
    {
     "name": "stdout",
     "output_type": "stream",
     "text": [
      "<class 'pandas.core.frame.DataFrame'>\n",
      "Int64Index: 6304 entries, 0 to 25722\n",
      "Data columns (total 24 columns):\n",
      " #   Column                  Non-Null Count  Dtype         \n",
      "---  ------                  --------------  -----         \n",
      " 0   Case Number             3813 non-null   datetime64[ns]\n",
      " 1   Date                    6301 non-null   object        \n",
      " 2   Year                    6299 non-null   float64       \n",
      " 3   Type                    6297 non-null   object        \n",
      " 4   Country                 6251 non-null   object        \n",
      " 5   Area                    5846 non-null   object        \n",
      " 6   Location                5761 non-null   object        \n",
      " 7   Activity                5757 non-null   object        \n",
      " 8   Name                    6091 non-null   object        \n",
      " 9   Sex                     5736 non-null   object        \n",
      " 10  Age                     3470 non-null   object        \n",
      " 11  Injury                  6273 non-null   object        \n",
      " 12  Fatal (Y/N)             5762 non-null   object        \n",
      " 13  Time                    2948 non-null   object        \n",
      " 14  Species                 3464 non-null   object        \n",
      " 15  Investigator or Source  6284 non-null   object        \n",
      " 16  pdf                     6301 non-null   object        \n",
      " 17  href formula            6300 non-null   object        \n",
      " 18  href                    6301 non-null   object        \n",
      " 19  Case Number.1           6301 non-null   object        \n",
      " 20  Case Number.2           6301 non-null   object        \n",
      " 21  original order          6301 non-null   float64       \n",
      " 22  Unnamed: 22             1 non-null      object        \n",
      " 23  Unnamed: 23             2 non-null      object        \n",
      "dtypes: datetime64[ns](1), float64(2), object(21)\n",
      "memory usage: 1.2+ MB\n"
     ]
    }
   ],
   "source": [
    "df.info()"
   ]
  },
  {
   "cell_type": "code",
   "execution_count": 415,
   "metadata": {},
   "outputs": [
    {
     "name": "stdout",
     "output_type": "stream",
     "text": [
      "<class 'pandas.core.frame.DataFrame'>\n",
      "Int64Index: 6304 entries, 0 to 25722\n",
      "Data columns (total 24 columns):\n",
      " #   Column                  Non-Null Count  Dtype         \n",
      "---  ------                  --------------  -----         \n",
      " 0   Case Number             3813 non-null   datetime64[ns]\n",
      " 1   Date                    5458 non-null   datetime64[ns]\n",
      " 2   Year                    6299 non-null   float64       \n",
      " 3   Type                    6297 non-null   object        \n",
      " 4   Country                 6251 non-null   object        \n",
      " 5   Area                    5846 non-null   object        \n",
      " 6   Location                5761 non-null   object        \n",
      " 7   Activity                5757 non-null   object        \n",
      " 8   Name                    6091 non-null   object        \n",
      " 9   Sex                     5736 non-null   object        \n",
      " 10  Age                     3470 non-null   object        \n",
      " 11  Injury                  6273 non-null   object        \n",
      " 12  Fatal (Y/N)             5762 non-null   object        \n",
      " 13  Time                    2948 non-null   object        \n",
      " 14  Species                 3464 non-null   object        \n",
      " 15  Investigator or Source  6284 non-null   object        \n",
      " 16  pdf                     6301 non-null   object        \n",
      " 17  href formula            6300 non-null   object        \n",
      " 18  href                    6301 non-null   object        \n",
      " 19  Case Number.1           6301 non-null   object        \n",
      " 20  Case Number.2           6301 non-null   object        \n",
      " 21  original order          6301 non-null   float64       \n",
      " 22  Unnamed: 22             1 non-null      object        \n",
      " 23  Unnamed: 23             2 non-null      object        \n",
      "dtypes: datetime64[ns](2), float64(2), object(20)\n",
      "memory usage: 1.2+ MB\n"
     ]
    }
   ],
   "source": [
    "df['Date'] = pd.to_datetime(df['Date'], dayfirst=True, errors='coerce')\n",
    "df.info() #erroes de date solucionados"
   ]
  },
  {
   "cell_type": "code",
   "execution_count": null,
   "metadata": {},
   "outputs": [],
   "source": [
    "#activity_texts = data['Injury'].tolist()\n",
    "#wordnet_lemmatizer = WordNetLemmatizer()\n",
    "#def keep_only_letters(text):\n",
    "    #cleaned_text = ''\n",
    "    #for char in text:\n",
    "        #if (char.isalpha() or char == ' '):\n",
    "            #cleaned_text += char\n",
    "    #return cleaned_text\n",
    "#lemm_activity_texts = []\n",
    "#for text in activity_texts:\n",
    "    #text = keep_only_letters(str(text)).lower()   \n",
    "    #lemm_text = []\n",
    "    #for word in text.split():\n",
    "        #lemm_text.append(wordnet_lemmatizer.lemmatize(word))\n",
    "    #lemm_activity_texts.append(lemm_text)\n"
   ]
  },
  {
   "cell_type": "code",
   "execution_count": null,
   "metadata": {},
   "outputs": [],
   "source": [
    "#dictionary = corpora.Dictionary(lemm_activity_texts)\n",
    "#word_list = []\n",
    "#for key, value in dictionary.dfs.items():\n",
    "    #if value > 50:\n",
    "        #word_list.append(key)\n",
    "#dictionary.filter_tokens(word_list)\n",
    "#corpus = [dictionary.doc2bow(text) for text in lemm_activity_texts]\n",
    "#np.random.seed(76543)\n",
    "#lda = models.LdaModel(corpus, num_topics=20, id2word=dictionary, passes=5)\n",
    "#topics = lda.show_topics(num_topics=20, num_words=5, formatted=False)\n",
    "#for topic in topics:\n",
    "    #num = int(topic[0]) + 1\n",
    "    #print('Cause %d:' % num, end=' ')\n",
    "    #print(', '.join([pair[0] for pair in topic[1]]))"
   ]
  },
  {
   "cell_type": "code",
   "execution_count": null,
   "metadata": {},
   "outputs": [],
   "source": [
    "#from_re = [r'.*?\\bwhite\\b\\s+\\bshark\\b.*',r'.*?\\bblue\\b\\s+\\bshark\\b.*', r'.*?\\btiger\\b\\s.*',\n",
    "           #r'.*?\\bbull\\b\\s.*',r'.*?\\bshark\\b\\s+\\binvolvement\\b.*',r'.*?\\bwobbegong\\b\\s+\\bshark\\b.*',\n",
    "           #r'.*?\\bblacktip\\b\\s.*', r'.*?\\bbronze\\b\\s+\\bwhaler\\b.*', r'.*?\\bmako\\b\\s.*',r'.*?\\bnurse\\b\\s.*',\n",
    "           #r'.*?\\bhammerhead\\b\\s.*', r'.*?\\braggedtooth\\b\\s.*']\n",
    "\n",
    "\n",
    "#to_re = ['White shark', 'Blue shark', 'Tiger shark', \n",
    "         #'Bull shark', 'Not a shark', 'Wobbegong shark',\n",
    "         #'Blacktip shark','Bronze whaler shark', 'Mako shark', \n",
    "         #'Nurse shark', 'Hammerhead shark', 'Raggedtooth shark']"
   ]
  },
  {
   "cell_type": "code",
   "execution_count": null,
   "metadata": {},
   "outputs": [],
   "source": [
    "#df.Species = df.Species.str.lower().replace(from_re, to_re, regex=True)\n",
    "\n",
    "#top = df.Species.value_counts().head(7)"
   ]
  },
  {
   "cell_type": "code",
   "execution_count": null,
   "metadata": {},
   "outputs": [],
   "source": [
    "#def age_prettify(age):\n",
    "    #try:\n",
    "        #age = int(age)\n",
    "    #except ValueError:\n",
    "        #age = 0"
   ]
  },
  {
   "cell_type": "code",
   "execution_count": null,
   "metadata": {},
   "outputs": [],
   "source": [
    "#activity = df.Activity.value_counts().head(10)\n",
    "#sns.set(rc={'axes.facecolor':'w', 'figure.facecolor':'lightsage'}, font_scale=0.9)\n",
    "#activity.plot(kind='bar', figsize=(6, 3), alpha=0.9, color='turquoise', rot=45)\n",
    "#plt.xlabel('Activities')\n",
    "#plt.ylabel('Number of cases', fontsize=10)\n",
    "#plt.title('Top 10 activities most exposed to a shark attack', fontsize=12, fontweight='bold')\n",
    "#plt.grid(color='k', axis='y', alpha=0.4, lw=0.8)\n",
    "#plt.show()"
   ]
  },
  {
   "cell_type": "code",
   "execution_count": null,
   "metadata": {},
   "outputs": [],
   "source": []
  },
  {
   "cell_type": "code",
   "execution_count": null,
   "metadata": {},
   "outputs": [],
   "source": []
  },
  {
   "cell_type": "code",
   "execution_count": null,
   "metadata": {},
   "outputs": [],
   "source": []
  },
  {
   "cell_type": "code",
   "execution_count": null,
   "metadata": {},
   "outputs": [],
   "source": []
  }
 ],
 "metadata": {
  "kernelspec": {
   "display_name": "Python 3",
   "language": "python",
   "name": "python3"
  },
  "language_info": {
   "codemirror_mode": {
    "name": "ipython",
    "version": 3
   },
   "file_extension": ".py",
   "mimetype": "text/x-python",
   "name": "python",
   "nbconvert_exporter": "python",
   "pygments_lexer": "ipython3",
   "version": "3.7.6"
  }
 },
 "nbformat": 4,
 "nbformat_minor": 4
}
