{
 "cells": [
  {
   "cell_type": "markdown",
   "metadata": {},
   "source": [
    "# Working with RSS Feeds Lab\n",
    "\n",
    "Complete the following set of exercises to solidify your knowledge of parsing RSS feeds and extracting information from them."
   ]
  },
  {
   "cell_type": "code",
   "execution_count": 1,
   "metadata": {},
   "outputs": [
    {
     "name": "stdout",
     "output_type": "stream",
     "text": [
      "Requirement already satisfied: feedparser in /opt/anaconda3/lib/python3.7/site-packages (6.0.2)\n",
      "Requirement already satisfied: sgmllib3k in /opt/anaconda3/lib/python3.7/site-packages (from feedparser) (1.0.0)\n",
      "Note: you may need to restart the kernel to use updated packages.\n"
     ]
    }
   ],
   "source": [
    "pip install feedparser"
   ]
  },
  {
   "cell_type": "code",
   "execution_count": 2,
   "metadata": {},
   "outputs": [],
   "source": [
    "import feedparser\n",
    "import requests\n",
    "import xmltodict\n",
    "import re\n",
    "import pandas as pd"
   ]
  },
  {
   "cell_type": "markdown",
   "metadata": {},
   "source": [
    "### 1. Use feedparser to parse the following RSS feed URL."
   ]
  },
  {
   "cell_type": "code",
   "execution_count": 3,
   "metadata": {},
   "outputs": [],
   "source": [
    "url = 'http://feeds.feedburner.com/oreilly/radar/atom'"
   ]
  },
  {
   "cell_type": "code",
   "execution_count": 4,
   "metadata": {},
   "outputs": [],
   "source": [
    "reddit = feedparser.parse(url)\n"
   ]
  },
  {
   "cell_type": "markdown",
   "metadata": {},
   "source": [
    "### 2. Obtain a list of components (keys) that are available for this feed."
   ]
  },
  {
   "cell_type": "code",
   "execution_count": 5,
   "metadata": {},
   "outputs": [
    {
     "data": {
      "text/plain": [
       "dict_keys(['bozo', 'entries', 'feed', 'headers', 'etag', 'updated', 'updated_parsed', 'href', 'status', 'encoding', 'version', 'namespaces'])"
      ]
     },
     "execution_count": 5,
     "metadata": {},
     "output_type": "execute_result"
    }
   ],
   "source": [
    "reddit.keys()"
   ]
  },
  {
   "cell_type": "code",
   "execution_count": null,
   "metadata": {},
   "outputs": [],
   "source": []
  },
  {
   "cell_type": "markdown",
   "metadata": {},
   "source": [
    "### 3. Obtain a list of components (keys) that are available for the *feed* component of this RSS feed."
   ]
  },
  {
   "cell_type": "code",
   "execution_count": 6,
   "metadata": {},
   "outputs": [
    {
     "data": {
      "text/plain": [
       "dict_keys(['title', 'title_detail', 'links', 'link', 'subtitle', 'subtitle_detail', 'updated', 'updated_parsed', 'language', 'sy_updateperiod', 'sy_updatefrequency', 'generator_detail', 'generator', 'feedburner_info', 'geo_lat', 'geo_long', 'feedburner_emailserviceid', 'feedburner_feedburnerhostname'])"
      ]
     },
     "execution_count": 6,
     "metadata": {},
     "output_type": "execute_result"
    }
   ],
   "source": [
    "reddit.feed.keys()"
   ]
  },
  {
   "cell_type": "markdown",
   "metadata": {},
   "source": [
    "### 4. Extract and print the feed title, subtitle, author, and link."
   ]
  },
  {
   "cell_type": "code",
   "execution_count": 7,
   "metadata": {},
   "outputs": [
    {
     "name": "stdout",
     "output_type": "stream",
     "text": [
      "Radar\n",
      "Now, next, and beyond: Tracking need-to-know trends at the intersection of business and technology\n",
      "https://www.oreilly.com/radar\n",
      "Nat Torkington\n"
     ]
    }
   ],
   "source": [
    "title = reddit.feed.title\n",
    "subtitle = reddit.feed.subtitle\n",
    "link = reddit.feed.link\n",
    "author = reddit.entries[0].author\n",
    "print (f'{title}\\n{subtitle}\\n{link}\\n{author}')"
   ]
  },
  {
   "cell_type": "markdown",
   "metadata": {},
   "source": [
    "### 5. Count the number of entries that are contained in this RSS feed."
   ]
  },
  {
   "cell_type": "code",
   "execution_count": 8,
   "metadata": {},
   "outputs": [
    {
     "data": {
      "text/plain": [
       "60"
      ]
     },
     "execution_count": 8,
     "metadata": {},
     "output_type": "execute_result"
    }
   ],
   "source": [
    "len(reddit.entries)"
   ]
  },
  {
   "cell_type": "code",
   "execution_count": 9,
   "metadata": {
    "scrolled": true
   },
   "outputs": [
    {
     "data": {
      "text/plain": [
       "dict_keys(['title', 'title_detail', 'links', 'link', 'comments', 'published', 'published_parsed', 'authors', 'author', 'author_detail', 'tags', 'id', 'guidislink', 'summary', 'summary_detail', 'content', 'wfw_commentrss', 'slash_comments', 'feedburner_origlink'])"
      ]
     },
     "execution_count": 9,
     "metadata": {},
     "output_type": "execute_result"
    }
   ],
   "source": [
    "reddit.entries[0].keys()"
   ]
  },
  {
   "cell_type": "markdown",
   "metadata": {},
   "source": [
    "### 6. Obtain a list of components (keys) available for an entry.\n",
    "\n",
    "*Hint: Remember to index first before requesting the keys*"
   ]
  },
  {
   "cell_type": "code",
   "execution_count": 10,
   "metadata": {},
   "outputs": [
    {
     "name": "stdout",
     "output_type": "stream",
     "text": [
      "dict_keys(['title', 'title_detail', 'links', 'link', 'comments', 'published', 'published_parsed', 'authors', 'author', 'author_detail', 'tags', 'id', 'guidislink', 'summary', 'summary_detail', 'content', 'wfw_commentrss', 'slash_comments', 'feedburner_origlink'])\n"
     ]
    }
   ],
   "source": [
    "keys = [reddit.entries[i].keys() for i in range(len(reddit.entries))]\n",
    "print(keys[0])"
   ]
  },
  {
   "cell_type": "markdown",
   "metadata": {},
   "source": [
    "### 7. Extract a list of entry titles."
   ]
  },
  {
   "cell_type": "code",
   "execution_count": 11,
   "metadata": {},
   "outputs": [
    {
     "name": "stdout",
     "output_type": "stream",
     "text": [
      "['Four short links: 28 Oct 2020', 'Our Favorite Questions', 'Four short links: 21 Oct 2020', 'Four Short Links: 16 October 2020', 'Four short links: 14 Oct 2020']\n"
     ]
    }
   ],
   "source": [
    "ti = [reddit.entries[i].title for i in range(len(reddit.entries))]\n",
    "print(ti[:5])"
   ]
  },
  {
   "cell_type": "markdown",
   "metadata": {},
   "source": [
    "### 8. Calculate the percentage of \"Four short links\" entry titles."
   ]
  },
  {
   "cell_type": "code",
   "execution_count": 43,
   "metadata": {},
   "outputs": [],
   "source": [
    "def len_link(lista):\n",
    "    count = 0\n",
    "    for i in lista: \n",
    "        if 'Four short links' in i:\n",
    "            count +=1\n",
    "    return f' {count/len(lista)*100} %'"
   ]
  },
  {
   "cell_type": "code",
   "execution_count": 44,
   "metadata": {},
   "outputs": [
    {
     "data": {
      "text/plain": [
       "' 68.33333333333333 %'"
      ]
     },
     "execution_count": 44,
     "metadata": {},
     "output_type": "execute_result"
    }
   ],
   "source": [
    "len_link(ti)"
   ]
  },
  {
   "cell_type": "markdown",
   "metadata": {},
   "source": [
    "### 9. Create a Pandas data frame from the feed's entries."
   ]
  },
  {
   "cell_type": "code",
   "execution_count": 16,
   "metadata": {},
   "outputs": [],
   "source": [
    "import pandas as pd\n",
    "import requests\n",
    "import xmltodict"
   ]
  },
  {
   "cell_type": "code",
   "execution_count": 51,
   "metadata": {},
   "outputs": [
    {
     "data": {
      "text/plain": [
       "dict_keys(['title', 'title_detail', 'links', 'link', 'comments', 'published', 'published_parsed', 'authors', 'author', 'author_detail', 'tags', 'id', 'guidislink', 'summary', 'summary_detail', 'content', 'wfw_commentrss', 'slash_comments', 'feedburner_origlink'])"
      ]
     },
     "execution_count": 51,
     "metadata": {},
     "output_type": "execute_result"
    }
   ],
   "source": [
    "reddit.entries[0].keys()"
   ]
  },
  {
   "cell_type": "code",
   "execution_count": 53,
   "metadata": {},
   "outputs": [
    {
     "data": {
      "text/html": [
       "<div>\n",
       "<style scoped>\n",
       "    .dataframe tbody tr th:only-of-type {\n",
       "        vertical-align: middle;\n",
       "    }\n",
       "\n",
       "    .dataframe tbody tr th {\n",
       "        vertical-align: top;\n",
       "    }\n",
       "\n",
       "    .dataframe thead th {\n",
       "        text-align: right;\n",
       "    }\n",
       "</style>\n",
       "<table border=\"1\" class=\"dataframe\">\n",
       "  <thead>\n",
       "    <tr style=\"text-align: right;\">\n",
       "      <th></th>\n",
       "      <th>title</th>\n",
       "      <th>title_detail</th>\n",
       "      <th>links</th>\n",
       "      <th>link</th>\n",
       "      <th>comments</th>\n",
       "      <th>published</th>\n",
       "      <th>published_parsed</th>\n",
       "      <th>authors</th>\n",
       "      <th>author</th>\n",
       "      <th>author_detail</th>\n",
       "      <th>tags</th>\n",
       "      <th>id</th>\n",
       "      <th>guidislink</th>\n",
       "      <th>summary</th>\n",
       "      <th>summary_detail</th>\n",
       "      <th>content</th>\n",
       "      <th>wfw_commentrss</th>\n",
       "      <th>slash_comments</th>\n",
       "      <th>feedburner_origlink</th>\n",
       "    </tr>\n",
       "  </thead>\n",
       "  <tbody>\n",
       "    <tr>\n",
       "      <th>0</th>\n",
       "      <td>Four short links: 28 Oct 2020</td>\n",
       "      <td>{'type': 'text/plain', 'language': None, 'base...</td>\n",
       "      <td>[{'rel': 'alternate', 'type': 'text/html', 'hr...</td>\n",
       "      <td>http://feedproxy.google.com/~r/oreilly/radar/a...</td>\n",
       "      <td>https://www.oreilly.com/radar/four-short-links...</td>\n",
       "      <td>Wed, 28 Oct 2020 11:39:13 +0000</td>\n",
       "      <td>(2020, 10, 28, 11, 39, 13, 2, 302, 0)</td>\n",
       "      <td>[{'name': 'Nat Torkington'}]</td>\n",
       "      <td>Nat Torkington</td>\n",
       "      <td>{'name': 'Nat Torkington'}</td>\n",
       "      <td>[{'term': 'Four Short Links', 'scheme': None, ...</td>\n",
       "      <td>https://www.oreilly.com/radar/?p=13382</td>\n",
       "      <td>False</td>\n",
       "      <td>Phantom of the ADAS &amp;#8212; In this paper, we ...</td>\n",
       "      <td>{'type': 'text/html', 'language': None, 'base'...</td>\n",
       "      <td>[{'type': 'text/html', 'language': None, 'base...</td>\n",
       "      <td>https://www.oreilly.com/radar/four-short-links...</td>\n",
       "      <td>0</td>\n",
       "      <td>https://www.oreilly.com/radar/four-short-links...</td>\n",
       "    </tr>\n",
       "    <tr>\n",
       "      <th>1</th>\n",
       "      <td>Our Favorite Questions</td>\n",
       "      <td>{'type': 'text/plain', 'language': None, 'base...</td>\n",
       "      <td>[{'rel': 'alternate', 'type': 'text/html', 'hr...</td>\n",
       "      <td>http://feedproxy.google.com/~r/oreilly/radar/a...</td>\n",
       "      <td>https://www.oreilly.com/radar/our-favorite-que...</td>\n",
       "      <td>Thu, 22 Oct 2020 14:33:17 +0000</td>\n",
       "      <td>(2020, 10, 22, 14, 33, 17, 3, 296, 0)</td>\n",
       "      <td>[{'name': 'Q Ethan McCallum, Chris Butler and ...</td>\n",
       "      <td>Q Ethan McCallum, Chris Butler and Shane Glynn</td>\n",
       "      <td>{'name': 'Q Ethan McCallum, Chris Butler and S...</td>\n",
       "      <td>[{'term': 'AI &amp; ML', 'scheme': None, 'label': ...</td>\n",
       "      <td>https://www.oreilly.com/radar/?p=13374</td>\n",
       "      <td>False</td>\n",
       "      <td>&amp;#8220;On peut interroger n&amp;#8217;importe qui,...</td>\n",
       "      <td>{'type': 'text/html', 'language': None, 'base'...</td>\n",
       "      <td>[{'type': 'text/html', 'language': None, 'base...</td>\n",
       "      <td>https://www.oreilly.com/radar/our-favorite-que...</td>\n",
       "      <td>0</td>\n",
       "      <td>https://www.oreilly.com/radar/our-favorite-que...</td>\n",
       "    </tr>\n",
       "    <tr>\n",
       "      <th>2</th>\n",
       "      <td>Four short links: 21 Oct 2020</td>\n",
       "      <td>{'type': 'text/plain', 'language': None, 'base...</td>\n",
       "      <td>[{'rel': 'alternate', 'type': 'text/html', 'hr...</td>\n",
       "      <td>http://feedproxy.google.com/~r/oreilly/radar/a...</td>\n",
       "      <td>https://www.oreilly.com/radar/four-short-links...</td>\n",
       "      <td>Wed, 21 Oct 2020 11:34:42 +0000</td>\n",
       "      <td>(2020, 10, 21, 11, 34, 42, 2, 295, 0)</td>\n",
       "      <td>[{'name': 'Nat Torkington'}]</td>\n",
       "      <td>Nat Torkington</td>\n",
       "      <td>{'name': 'Nat Torkington'}</td>\n",
       "      <td>[{'term': 'Four Short Links', 'scheme': None, ...</td>\n",
       "      <td>https://www.oreilly.com/radar/?p=13376</td>\n",
       "      <td>False</td>\n",
       "      <td>Justice Department Antitrust Filing Against Go...</td>\n",
       "      <td>{'type': 'text/html', 'language': None, 'base'...</td>\n",
       "      <td>[{'type': 'text/html', 'language': None, 'base...</td>\n",
       "      <td>https://www.oreilly.com/radar/four-short-links...</td>\n",
       "      <td>0</td>\n",
       "      <td>https://www.oreilly.com/radar/four-short-links...</td>\n",
       "    </tr>\n",
       "    <tr>\n",
       "      <th>3</th>\n",
       "      <td>Four Short Links: 16 October 2020</td>\n",
       "      <td>{'type': 'text/plain', 'language': None, 'base...</td>\n",
       "      <td>[{'rel': 'alternate', 'type': 'text/html', 'hr...</td>\n",
       "      <td>http://feedproxy.google.com/~r/oreilly/radar/a...</td>\n",
       "      <td>https://www.oreilly.com/radar/four-short-links...</td>\n",
       "      <td>Fri, 16 Oct 2020 11:21:43 +0000</td>\n",
       "      <td>(2020, 10, 16, 11, 21, 43, 4, 290, 0)</td>\n",
       "      <td>[{}]</td>\n",
       "      <td></td>\n",
       "      <td>NaN</td>\n",
       "      <td>NaN</td>\n",
       "      <td>https://www.oreilly.com/radar/?p=13371</td>\n",
       "      <td>False</td>\n",
       "      <td>Automerge &amp;#8212; (Github) Data structure libr...</td>\n",
       "      <td>{'type': 'text/html', 'language': None, 'base'...</td>\n",
       "      <td>[{'type': 'text/html', 'language': None, 'base...</td>\n",
       "      <td>https://www.oreilly.com/radar/four-short-links...</td>\n",
       "      <td>0</td>\n",
       "      <td>https://www.oreilly.com/radar/four-short-links...</td>\n",
       "    </tr>\n",
       "    <tr>\n",
       "      <th>4</th>\n",
       "      <td>Four short links: 14 Oct 2020</td>\n",
       "      <td>{'type': 'text/plain', 'language': None, 'base...</td>\n",
       "      <td>[{'rel': 'alternate', 'type': 'text/html', 'hr...</td>\n",
       "      <td>http://feedproxy.google.com/~r/oreilly/radar/a...</td>\n",
       "      <td>https://www.oreilly.com/radar/four-short-links...</td>\n",
       "      <td>Wed, 14 Oct 2020 11:46:08 +0000</td>\n",
       "      <td>(2020, 10, 14, 11, 46, 8, 2, 288, 0)</td>\n",
       "      <td>[{'name': 'Nat Torkington'}]</td>\n",
       "      <td>Nat Torkington</td>\n",
       "      <td>{'name': 'Nat Torkington'}</td>\n",
       "      <td>[{'term': 'Four Short Links', 'scheme': None, ...</td>\n",
       "      <td>https://www.oreilly.com/radar/?p=13367</td>\n",
       "      <td>False</td>\n",
       "      <td>Data Organization in Spreadsheets &amp;#8212; Focu...</td>\n",
       "      <td>{'type': 'text/html', 'language': None, 'base'...</td>\n",
       "      <td>[{'type': 'text/html', 'language': None, 'base...</td>\n",
       "      <td>https://www.oreilly.com/radar/four-short-links...</td>\n",
       "      <td>0</td>\n",
       "      <td>https://www.oreilly.com/radar/four-short-links...</td>\n",
       "    </tr>\n",
       "  </tbody>\n",
       "</table>\n",
       "</div>"
      ],
      "text/plain": [
       "                               title  \\\n",
       "0      Four short links: 28 Oct 2020   \n",
       "1             Our Favorite Questions   \n",
       "2      Four short links: 21 Oct 2020   \n",
       "3  Four Short Links: 16 October 2020   \n",
       "4      Four short links: 14 Oct 2020   \n",
       "\n",
       "                                        title_detail  \\\n",
       "0  {'type': 'text/plain', 'language': None, 'base...   \n",
       "1  {'type': 'text/plain', 'language': None, 'base...   \n",
       "2  {'type': 'text/plain', 'language': None, 'base...   \n",
       "3  {'type': 'text/plain', 'language': None, 'base...   \n",
       "4  {'type': 'text/plain', 'language': None, 'base...   \n",
       "\n",
       "                                               links  \\\n",
       "0  [{'rel': 'alternate', 'type': 'text/html', 'hr...   \n",
       "1  [{'rel': 'alternate', 'type': 'text/html', 'hr...   \n",
       "2  [{'rel': 'alternate', 'type': 'text/html', 'hr...   \n",
       "3  [{'rel': 'alternate', 'type': 'text/html', 'hr...   \n",
       "4  [{'rel': 'alternate', 'type': 'text/html', 'hr...   \n",
       "\n",
       "                                                link  \\\n",
       "0  http://feedproxy.google.com/~r/oreilly/radar/a...   \n",
       "1  http://feedproxy.google.com/~r/oreilly/radar/a...   \n",
       "2  http://feedproxy.google.com/~r/oreilly/radar/a...   \n",
       "3  http://feedproxy.google.com/~r/oreilly/radar/a...   \n",
       "4  http://feedproxy.google.com/~r/oreilly/radar/a...   \n",
       "\n",
       "                                            comments  \\\n",
       "0  https://www.oreilly.com/radar/four-short-links...   \n",
       "1  https://www.oreilly.com/radar/our-favorite-que...   \n",
       "2  https://www.oreilly.com/radar/four-short-links...   \n",
       "3  https://www.oreilly.com/radar/four-short-links...   \n",
       "4  https://www.oreilly.com/radar/four-short-links...   \n",
       "\n",
       "                         published                       published_parsed  \\\n",
       "0  Wed, 28 Oct 2020 11:39:13 +0000  (2020, 10, 28, 11, 39, 13, 2, 302, 0)   \n",
       "1  Thu, 22 Oct 2020 14:33:17 +0000  (2020, 10, 22, 14, 33, 17, 3, 296, 0)   \n",
       "2  Wed, 21 Oct 2020 11:34:42 +0000  (2020, 10, 21, 11, 34, 42, 2, 295, 0)   \n",
       "3  Fri, 16 Oct 2020 11:21:43 +0000  (2020, 10, 16, 11, 21, 43, 4, 290, 0)   \n",
       "4  Wed, 14 Oct 2020 11:46:08 +0000   (2020, 10, 14, 11, 46, 8, 2, 288, 0)   \n",
       "\n",
       "                                             authors  \\\n",
       "0                       [{'name': 'Nat Torkington'}]   \n",
       "1  [{'name': 'Q Ethan McCallum, Chris Butler and ...   \n",
       "2                       [{'name': 'Nat Torkington'}]   \n",
       "3                                               [{}]   \n",
       "4                       [{'name': 'Nat Torkington'}]   \n",
       "\n",
       "                                           author  \\\n",
       "0                                  Nat Torkington   \n",
       "1  Q Ethan McCallum, Chris Butler and Shane Glynn   \n",
       "2                                  Nat Torkington   \n",
       "3                                                   \n",
       "4                                  Nat Torkington   \n",
       "\n",
       "                                       author_detail  \\\n",
       "0                         {'name': 'Nat Torkington'}   \n",
       "1  {'name': 'Q Ethan McCallum, Chris Butler and S...   \n",
       "2                         {'name': 'Nat Torkington'}   \n",
       "3                                                NaN   \n",
       "4                         {'name': 'Nat Torkington'}   \n",
       "\n",
       "                                                tags  \\\n",
       "0  [{'term': 'Four Short Links', 'scheme': None, ...   \n",
       "1  [{'term': 'AI & ML', 'scheme': None, 'label': ...   \n",
       "2  [{'term': 'Four Short Links', 'scheme': None, ...   \n",
       "3                                                NaN   \n",
       "4  [{'term': 'Four Short Links', 'scheme': None, ...   \n",
       "\n",
       "                                       id  guidislink  \\\n",
       "0  https://www.oreilly.com/radar/?p=13382       False   \n",
       "1  https://www.oreilly.com/radar/?p=13374       False   \n",
       "2  https://www.oreilly.com/radar/?p=13376       False   \n",
       "3  https://www.oreilly.com/radar/?p=13371       False   \n",
       "4  https://www.oreilly.com/radar/?p=13367       False   \n",
       "\n",
       "                                             summary  \\\n",
       "0  Phantom of the ADAS &#8212; In this paper, we ...   \n",
       "1  &#8220;On peut interroger n&#8217;importe qui,...   \n",
       "2  Justice Department Antitrust Filing Against Go...   \n",
       "3  Automerge &#8212; (Github) Data structure libr...   \n",
       "4  Data Organization in Spreadsheets &#8212; Focu...   \n",
       "\n",
       "                                      summary_detail  \\\n",
       "0  {'type': 'text/html', 'language': None, 'base'...   \n",
       "1  {'type': 'text/html', 'language': None, 'base'...   \n",
       "2  {'type': 'text/html', 'language': None, 'base'...   \n",
       "3  {'type': 'text/html', 'language': None, 'base'...   \n",
       "4  {'type': 'text/html', 'language': None, 'base'...   \n",
       "\n",
       "                                             content  \\\n",
       "0  [{'type': 'text/html', 'language': None, 'base...   \n",
       "1  [{'type': 'text/html', 'language': None, 'base...   \n",
       "2  [{'type': 'text/html', 'language': None, 'base...   \n",
       "3  [{'type': 'text/html', 'language': None, 'base...   \n",
       "4  [{'type': 'text/html', 'language': None, 'base...   \n",
       "\n",
       "                                      wfw_commentrss slash_comments  \\\n",
       "0  https://www.oreilly.com/radar/four-short-links...              0   \n",
       "1  https://www.oreilly.com/radar/our-favorite-que...              0   \n",
       "2  https://www.oreilly.com/radar/four-short-links...              0   \n",
       "3  https://www.oreilly.com/radar/four-short-links...              0   \n",
       "4  https://www.oreilly.com/radar/four-short-links...              0   \n",
       "\n",
       "                                 feedburner_origlink  \n",
       "0  https://www.oreilly.com/radar/four-short-links...  \n",
       "1  https://www.oreilly.com/radar/our-favorite-que...  \n",
       "2  https://www.oreilly.com/radar/four-short-links...  \n",
       "3  https://www.oreilly.com/radar/four-short-links...  \n",
       "4  https://www.oreilly.com/radar/four-short-links...  "
      ]
     },
     "execution_count": 53,
     "metadata": {},
     "output_type": "execute_result"
    }
   ],
   "source": [
    "import pandas as pd\n",
    " \n",
    "df = pd.DataFrame(reddit.entries)\n",
    "df.head()"
   ]
  },
  {
   "cell_type": "code",
   "execution_count": null,
   "metadata": {},
   "outputs": [],
   "source": []
  },
  {
   "cell_type": "markdown",
   "metadata": {},
   "source": [
    "### 10. Count the number of entries per author and sort them in descending order."
   ]
  },
  {
   "cell_type": "code",
   "execution_count": 115,
   "metadata": {},
   "outputs": [
    {
     "data": {
      "text/html": [
       "<div>\n",
       "<style scoped>\n",
       "    .dataframe tbody tr th:only-of-type {\n",
       "        vertical-align: middle;\n",
       "    }\n",
       "\n",
       "    .dataframe tbody tr th {\n",
       "        vertical-align: top;\n",
       "    }\n",
       "\n",
       "    .dataframe thead th {\n",
       "        text-align: right;\n",
       "    }\n",
       "</style>\n",
       "<table border=\"1\" class=\"dataframe\">\n",
       "  <thead>\n",
       "    <tr style=\"text-align: right;\">\n",
       "      <th></th>\n",
       "      <th>author</th>\n",
       "      <th>entries</th>\n",
       "    </tr>\n",
       "  </thead>\n",
       "  <tbody>\n",
       "    <tr>\n",
       "      <th>7</th>\n",
       "      <td>Nat Torkington</td>\n",
       "      <td>42</td>\n",
       "    </tr>\n",
       "    <tr>\n",
       "      <th>5</th>\n",
       "      <td>Mike Loukides</td>\n",
       "      <td>9</td>\n",
       "    </tr>\n",
       "    <tr>\n",
       "      <th>0</th>\n",
       "      <td></td>\n",
       "      <td>1</td>\n",
       "    </tr>\n",
       "    <tr>\n",
       "      <th>1</th>\n",
       "      <td>Alex Castrounis</td>\n",
       "      <td>1</td>\n",
       "    </tr>\n",
       "    <tr>\n",
       "      <th>2</th>\n",
       "      <td>Justin Norman and Mike Loukides</td>\n",
       "      <td>1</td>\n",
       "    </tr>\n",
       "    <tr>\n",
       "      <th>3</th>\n",
       "      <td>Justin Norman, Peter Skomoroch and Mike Loukides</td>\n",
       "      <td>1</td>\n",
       "    </tr>\n",
       "    <tr>\n",
       "      <th>4</th>\n",
       "      <td>Matthew Rocklin and Hugo Bowne-Anderson</td>\n",
       "      <td>1</td>\n",
       "    </tr>\n",
       "    <tr>\n",
       "      <th>6</th>\n",
       "      <td>Mike Loukides and Steve Swoyer</td>\n",
       "      <td>1</td>\n",
       "    </tr>\n",
       "    <tr>\n",
       "      <th>8</th>\n",
       "      <td>Q Ethan McCallum and Mike Loukides</td>\n",
       "      <td>1</td>\n",
       "    </tr>\n",
       "    <tr>\n",
       "      <th>9</th>\n",
       "      <td>Q Ethan McCallum, Chris Butler and Shane Glynn</td>\n",
       "      <td>1</td>\n",
       "    </tr>\n",
       "    <tr>\n",
       "      <th>10</th>\n",
       "      <td>Sarah Gold</td>\n",
       "      <td>1</td>\n",
       "    </tr>\n",
       "  </tbody>\n",
       "</table>\n",
       "</div>"
      ],
      "text/plain": [
       "                                              author  entries\n",
       "7                                     Nat Torkington       42\n",
       "5                                      Mike Loukides        9\n",
       "0                                                           1\n",
       "1                                    Alex Castrounis        1\n",
       "2                    Justin Norman and Mike Loukides        1\n",
       "3   Justin Norman, Peter Skomoroch and Mike Loukides        1\n",
       "4            Matthew Rocklin and Hugo Bowne-Anderson        1\n",
       "6                     Mike Loukides and Steve Swoyer        1\n",
       "8                 Q Ethan McCallum and Mike Loukides        1\n",
       "9     Q Ethan McCallum, Chris Butler and Shane Glynn        1\n",
       "10                                        Sarah Gold        1"
      ]
     },
     "execution_count": 115,
     "metadata": {},
     "output_type": "execute_result"
    }
   ],
   "source": [
    "authors = df.groupby('author', as_index = False).agg({'title':'count'})\n",
    "authors.columns = ['author', 'entries']\n",
    "authors.sort_values('entries', ascending=False)\n",
    "#DataFrame.groupby(by=None, axis=0, level=None, as_index=True, sort=True, \n",
    "#group_keys=True, squeeze=<object object>, observed=False, dropna=True)\n",
    "#DataFrame.agg(func=None, axis=0, *args, **kwargs)"
   ]
  },
  {
   "cell_type": "markdown",
   "metadata": {},
   "source": [
    "### 11. Add a new column to the data frame that contains the length (number of characters) of each entry title. Return a data frame that contains the title, author, and title length of each entry in descending order (longest title length at the top)."
   ]
  },
  {
   "cell_type": "code",
   "execution_count": 59,
   "metadata": {},
   "outputs": [
    {
     "data": {
      "text/html": [
       "<div>\n",
       "<style scoped>\n",
       "    .dataframe tbody tr th:only-of-type {\n",
       "        vertical-align: middle;\n",
       "    }\n",
       "\n",
       "    .dataframe tbody tr th {\n",
       "        vertical-align: top;\n",
       "    }\n",
       "\n",
       "    .dataframe thead th {\n",
       "        text-align: right;\n",
       "    }\n",
       "</style>\n",
       "<table border=\"1\" class=\"dataframe\">\n",
       "  <thead>\n",
       "    <tr style=\"text-align: right;\">\n",
       "      <th></th>\n",
       "      <th>title</th>\n",
       "      <th>author</th>\n",
       "      <th>title_length</th>\n",
       "    </tr>\n",
       "  </thead>\n",
       "  <tbody>\n",
       "    <tr>\n",
       "      <th>27</th>\n",
       "      <td>Why Best-of-Breed is a Better Choice than All-...</td>\n",
       "      <td>Matthew Rocklin and Hugo Bowne-Anderson</td>\n",
       "      <td>79</td>\n",
       "    </tr>\n",
       "    <tr>\n",
       "      <th>54</th>\n",
       "      <td>Automated Coding and the Future of Programming</td>\n",
       "      <td>Mike Loukides</td>\n",
       "      <td>46</td>\n",
       "    </tr>\n",
       "    <tr>\n",
       "      <th>5</th>\n",
       "      <td>AI Product Management After Deployment</td>\n",
       "      <td>Justin Norman and Mike Loukides</td>\n",
       "      <td>38</td>\n",
       "    </tr>\n",
       "    <tr>\n",
       "      <th>21</th>\n",
       "      <td>Radar trends to watch: September 2020</td>\n",
       "      <td>Mike Loukides</td>\n",
       "      <td>37</td>\n",
       "    </tr>\n",
       "    <tr>\n",
       "      <th>29</th>\n",
       "      <td>The Least Liked Programming Languages</td>\n",
       "      <td>Mike Loukides</td>\n",
       "      <td>37</td>\n",
       "    </tr>\n",
       "    <tr>\n",
       "      <th>10</th>\n",
       "      <td>Radar trends to watch: October 2020</td>\n",
       "      <td>Mike Loukides</td>\n",
       "      <td>35</td>\n",
       "    </tr>\n",
       "    <tr>\n",
       "      <th>12</th>\n",
       "      <td>Four short links: 25 September 2020</td>\n",
       "      <td>Nat Torkington</td>\n",
       "      <td>35</td>\n",
       "    </tr>\n",
       "    <tr>\n",
       "      <th>33</th>\n",
       "      <td>Radar trends to watch: August 2020</td>\n",
       "      <td>Mike Loukides</td>\n",
       "      <td>34</td>\n",
       "    </tr>\n",
       "    <tr>\n",
       "      <th>20</th>\n",
       "      <td>Four short links: 2 September 2020</td>\n",
       "      <td>Nat Torkington</td>\n",
       "      <td>34</td>\n",
       "    </tr>\n",
       "    <tr>\n",
       "      <th>19</th>\n",
       "      <td>Four short links: 4 September 2020</td>\n",
       "      <td>Nat Torkington</td>\n",
       "      <td>34</td>\n",
       "    </tr>\n",
       "    <tr>\n",
       "      <th>3</th>\n",
       "      <td>Four Short Links: 16 October 2020</td>\n",
       "      <td></td>\n",
       "      <td>33</td>\n",
       "    </tr>\n",
       "    <tr>\n",
       "      <th>26</th>\n",
       "      <td>Four Short Links: 19 August 2020</td>\n",
       "      <td>Nat Torkington</td>\n",
       "      <td>32</td>\n",
       "    </tr>\n",
       "    <tr>\n",
       "      <th>25</th>\n",
       "      <td>Four short links: 21 August 2020</td>\n",
       "      <td>Nat Torkington</td>\n",
       "      <td>32</td>\n",
       "    </tr>\n",
       "    <tr>\n",
       "      <th>24</th>\n",
       "      <td>Four short links: 25 August 2020</td>\n",
       "      <td>Nat Torkington</td>\n",
       "      <td>32</td>\n",
       "    </tr>\n",
       "    <tr>\n",
       "      <th>22</th>\n",
       "      <td>Four short links: 28 August 2020</td>\n",
       "      <td>Nat Torkington</td>\n",
       "      <td>32</td>\n",
       "    </tr>\n",
       "    <tr>\n",
       "      <th>28</th>\n",
       "      <td>Four short links: 14 August 2020</td>\n",
       "      <td>Nat Torkington</td>\n",
       "      <td>32</td>\n",
       "    </tr>\n",
       "    <tr>\n",
       "      <th>37</th>\n",
       "      <td>Bringing an AI Product to Market</td>\n",
       "      <td>Justin Norman, Peter Skomoroch and Mike Loukides</td>\n",
       "      <td>32</td>\n",
       "    </tr>\n",
       "    <tr>\n",
       "      <th>9</th>\n",
       "      <td>Four short links: 2 October 2020</td>\n",
       "      <td>Nat Torkington</td>\n",
       "      <td>32</td>\n",
       "    </tr>\n",
       "    <tr>\n",
       "      <th>8</th>\n",
       "      <td>Four short links: 6 October 2020</td>\n",
       "      <td>Nat Torkington</td>\n",
       "      <td>32</td>\n",
       "    </tr>\n",
       "    <tr>\n",
       "      <th>6</th>\n",
       "      <td>Four short links: 9 October 2020</td>\n",
       "      <td>Nat Torkington</td>\n",
       "      <td>32</td>\n",
       "    </tr>\n",
       "    <tr>\n",
       "      <th>32</th>\n",
       "      <td>Four short links: 5 August 2020</td>\n",
       "      <td>Nat Torkington</td>\n",
       "      <td>31</td>\n",
       "    </tr>\n",
       "    <tr>\n",
       "      <th>34</th>\n",
       "      <td>Four short links: 31 July 2020</td>\n",
       "      <td>Nat Torkington</td>\n",
       "      <td>30</td>\n",
       "    </tr>\n",
       "    <tr>\n",
       "      <th>35</th>\n",
       "      <td>Four short links: 30 July 2020</td>\n",
       "      <td>Nat Torkington</td>\n",
       "      <td>30</td>\n",
       "    </tr>\n",
       "    <tr>\n",
       "      <th>45</th>\n",
       "      <td>Four short links: 20 July 2020</td>\n",
       "      <td>Nat Torkington</td>\n",
       "      <td>30</td>\n",
       "    </tr>\n",
       "    <tr>\n",
       "      <th>46</th>\n",
       "      <td>Four short links: 17 July 2020</td>\n",
       "      <td>Nat Torkington</td>\n",
       "      <td>30</td>\n",
       "    </tr>\n",
       "    <tr>\n",
       "      <th>44</th>\n",
       "      <td>Four short links: 21 July 2020</td>\n",
       "      <td>Nat Torkington</td>\n",
       "      <td>30</td>\n",
       "    </tr>\n",
       "    <tr>\n",
       "      <th>39</th>\n",
       "      <td>Four short links: 27 July 2020</td>\n",
       "      <td>Nat Torkington</td>\n",
       "      <td>30</td>\n",
       "    </tr>\n",
       "    <tr>\n",
       "      <th>40</th>\n",
       "      <td>Four short links: 24 July 2020</td>\n",
       "      <td>Nat Torkington</td>\n",
       "      <td>30</td>\n",
       "    </tr>\n",
       "    <tr>\n",
       "      <th>36</th>\n",
       "      <td>Four short links: 29 July 2020</td>\n",
       "      <td>Nat Torkington</td>\n",
       "      <td>30</td>\n",
       "    </tr>\n",
       "    <tr>\n",
       "      <th>41</th>\n",
       "      <td>Four short links: 26 July 2020</td>\n",
       "      <td>Nat Torkington</td>\n",
       "      <td>30</td>\n",
       "    </tr>\n",
       "    <tr>\n",
       "      <th>47</th>\n",
       "      <td>Four short links: 16 July 2020</td>\n",
       "      <td>Nat Torkington</td>\n",
       "      <td>30</td>\n",
       "    </tr>\n",
       "    <tr>\n",
       "      <th>42</th>\n",
       "      <td>Four short links: 22 July 2020</td>\n",
       "      <td>Nat Torkington</td>\n",
       "      <td>30</td>\n",
       "    </tr>\n",
       "    <tr>\n",
       "      <th>48</th>\n",
       "      <td>Microservices Adoption in 2020</td>\n",
       "      <td>Mike Loukides and Steve Swoyer</td>\n",
       "      <td>30</td>\n",
       "    </tr>\n",
       "    <tr>\n",
       "      <th>49</th>\n",
       "      <td>Four short links: 15 July 2020</td>\n",
       "      <td>Nat Torkington</td>\n",
       "      <td>30</td>\n",
       "    </tr>\n",
       "    <tr>\n",
       "      <th>51</th>\n",
       "      <td>Four short links: 14 July 2020</td>\n",
       "      <td>Nat Torkington</td>\n",
       "      <td>30</td>\n",
       "    </tr>\n",
       "    <tr>\n",
       "      <th>52</th>\n",
       "      <td>Four short links: 13 July 2020</td>\n",
       "      <td>Nat Torkington</td>\n",
       "      <td>30</td>\n",
       "    </tr>\n",
       "    <tr>\n",
       "      <th>53</th>\n",
       "      <td>Four short links: 10 July 2020</td>\n",
       "      <td>Nat Torkington</td>\n",
       "      <td>30</td>\n",
       "    </tr>\n",
       "    <tr>\n",
       "      <th>55</th>\n",
       "      <td>Four short links: 9 July 2020</td>\n",
       "      <td>Nat Torkington</td>\n",
       "      <td>29</td>\n",
       "    </tr>\n",
       "    <tr>\n",
       "      <th>56</th>\n",
       "      <td>Four short links: 8 July 2020</td>\n",
       "      <td>Nat Torkington</td>\n",
       "      <td>29</td>\n",
       "    </tr>\n",
       "    <tr>\n",
       "      <th>57</th>\n",
       "      <td>Four short links: 7 July 2020</td>\n",
       "      <td>Nat Torkington</td>\n",
       "      <td>29</td>\n",
       "    </tr>\n",
       "    <tr>\n",
       "      <th>58</th>\n",
       "      <td>Four short links: 6 July 2020</td>\n",
       "      <td>Nat Torkington</td>\n",
       "      <td>29</td>\n",
       "    </tr>\n",
       "    <tr>\n",
       "      <th>0</th>\n",
       "      <td>Four short links: 28 Oct 2020</td>\n",
       "      <td>Nat Torkington</td>\n",
       "      <td>29</td>\n",
       "    </tr>\n",
       "    <tr>\n",
       "      <th>30</th>\n",
       "      <td>Four short links: 11 Aug 2020</td>\n",
       "      <td>Nat Torkington</td>\n",
       "      <td>29</td>\n",
       "    </tr>\n",
       "    <tr>\n",
       "      <th>16</th>\n",
       "      <td>Four short links: 11 Sep 2020</td>\n",
       "      <td>Nat Torkington</td>\n",
       "      <td>29</td>\n",
       "    </tr>\n",
       "    <tr>\n",
       "      <th>14</th>\n",
       "      <td>Four short links: 16 Sep 2020</td>\n",
       "      <td>Nat Torkington</td>\n",
       "      <td>29</td>\n",
       "    </tr>\n",
       "    <tr>\n",
       "      <th>2</th>\n",
       "      <td>Four short links: 21 Oct 2020</td>\n",
       "      <td>Nat Torkington</td>\n",
       "      <td>29</td>\n",
       "    </tr>\n",
       "    <tr>\n",
       "      <th>4</th>\n",
       "      <td>Four short links: 14 Oct 2020</td>\n",
       "      <td>Nat Torkington</td>\n",
       "      <td>29</td>\n",
       "    </tr>\n",
       "    <tr>\n",
       "      <th>11</th>\n",
       "      <td>Four short links: 29 Sep 2020</td>\n",
       "      <td>Nat Torkington</td>\n",
       "      <td>29</td>\n",
       "    </tr>\n",
       "    <tr>\n",
       "      <th>13</th>\n",
       "      <td>Four short links: 18 Sep 2020</td>\n",
       "      <td>Nat Torkington</td>\n",
       "      <td>29</td>\n",
       "    </tr>\n",
       "    <tr>\n",
       "      <th>59</th>\n",
       "      <td>Four short links: 3 July 2020</td>\n",
       "      <td>Nat Torkington</td>\n",
       "      <td>29</td>\n",
       "    </tr>\n",
       "    <tr>\n",
       "      <th>17</th>\n",
       "      <td>Four short links: 9 Sep 2020</td>\n",
       "      <td>Nat Torkington</td>\n",
       "      <td>28</td>\n",
       "    </tr>\n",
       "    <tr>\n",
       "      <th>31</th>\n",
       "      <td>Four short links: 7 Aug 2020</td>\n",
       "      <td>Nat Torkington</td>\n",
       "      <td>28</td>\n",
       "    </tr>\n",
       "    <tr>\n",
       "      <th>43</th>\n",
       "      <td>AI, Protests, and Justice</td>\n",
       "      <td>Mike Loukides</td>\n",
       "      <td>25</td>\n",
       "    </tr>\n",
       "    <tr>\n",
       "      <th>18</th>\n",
       "      <td>Pair Programming with AI</td>\n",
       "      <td>Mike Loukides</td>\n",
       "      <td>24</td>\n",
       "    </tr>\n",
       "    <tr>\n",
       "      <th>50</th>\n",
       "      <td>Society-Centered Design</td>\n",
       "      <td>Sarah Gold</td>\n",
       "      <td>23</td>\n",
       "    </tr>\n",
       "    <tr>\n",
       "      <th>38</th>\n",
       "      <td>Power, Harms, and Data</td>\n",
       "      <td>Mike Loukides</td>\n",
       "      <td>22</td>\n",
       "    </tr>\n",
       "    <tr>\n",
       "      <th>1</th>\n",
       "      <td>Our Favorite Questions</td>\n",
       "      <td>Q Ethan McCallum, Chris Butler and Shane Glynn</td>\n",
       "      <td>22</td>\n",
       "    </tr>\n",
       "    <tr>\n",
       "      <th>15</th>\n",
       "      <td>How to Set AI Goals</td>\n",
       "      <td>Alex Castrounis</td>\n",
       "      <td>19</td>\n",
       "    </tr>\n",
       "    <tr>\n",
       "      <th>23</th>\n",
       "      <td>An Agent of Change</td>\n",
       "      <td>Q Ethan McCallum and Mike Loukides</td>\n",
       "      <td>18</td>\n",
       "    </tr>\n",
       "    <tr>\n",
       "      <th>7</th>\n",
       "      <td>AI and Creativity</td>\n",
       "      <td>Mike Loukides</td>\n",
       "      <td>17</td>\n",
       "    </tr>\n",
       "  </tbody>\n",
       "</table>\n",
       "</div>"
      ],
      "text/plain": [
       "                                                title  \\\n",
       "27  Why Best-of-Breed is a Better Choice than All-...   \n",
       "54     Automated Coding and the Future of Programming   \n",
       "5              AI Product Management After Deployment   \n",
       "21              Radar trends to watch: September 2020   \n",
       "29              The Least Liked Programming Languages   \n",
       "10                Radar trends to watch: October 2020   \n",
       "12                Four short links: 25 September 2020   \n",
       "33                 Radar trends to watch: August 2020   \n",
       "20                 Four short links: 2 September 2020   \n",
       "19                 Four short links: 4 September 2020   \n",
       "3                   Four Short Links: 16 October 2020   \n",
       "26                   Four Short Links: 19 August 2020   \n",
       "25                   Four short links: 21 August 2020   \n",
       "24                   Four short links: 25 August 2020   \n",
       "22                   Four short links: 28 August 2020   \n",
       "28                   Four short links: 14 August 2020   \n",
       "37                   Bringing an AI Product to Market   \n",
       "9                    Four short links: 2 October 2020   \n",
       "8                    Four short links: 6 October 2020   \n",
       "6                    Four short links: 9 October 2020   \n",
       "32                    Four short links: 5 August 2020   \n",
       "34                     Four short links: 31 July 2020   \n",
       "35                     Four short links: 30 July 2020   \n",
       "45                     Four short links: 20 July 2020   \n",
       "46                     Four short links: 17 July 2020   \n",
       "44                     Four short links: 21 July 2020   \n",
       "39                     Four short links: 27 July 2020   \n",
       "40                     Four short links: 24 July 2020   \n",
       "36                     Four short links: 29 July 2020   \n",
       "41                     Four short links: 26 July 2020   \n",
       "47                     Four short links: 16 July 2020   \n",
       "42                     Four short links: 22 July 2020   \n",
       "48                     Microservices Adoption in 2020   \n",
       "49                     Four short links: 15 July 2020   \n",
       "51                     Four short links: 14 July 2020   \n",
       "52                     Four short links: 13 July 2020   \n",
       "53                     Four short links: 10 July 2020   \n",
       "55                      Four short links: 9 July 2020   \n",
       "56                      Four short links: 8 July 2020   \n",
       "57                      Four short links: 7 July 2020   \n",
       "58                      Four short links: 6 July 2020   \n",
       "0                       Four short links: 28 Oct 2020   \n",
       "30                      Four short links: 11 Aug 2020   \n",
       "16                      Four short links: 11 Sep 2020   \n",
       "14                      Four short links: 16 Sep 2020   \n",
       "2                       Four short links: 21 Oct 2020   \n",
       "4                       Four short links: 14 Oct 2020   \n",
       "11                      Four short links: 29 Sep 2020   \n",
       "13                      Four short links: 18 Sep 2020   \n",
       "59                      Four short links: 3 July 2020   \n",
       "17                       Four short links: 9 Sep 2020   \n",
       "31                       Four short links: 7 Aug 2020   \n",
       "43                          AI, Protests, and Justice   \n",
       "18                           Pair Programming with AI   \n",
       "50                            Society-Centered Design   \n",
       "38                             Power, Harms, and Data   \n",
       "1                              Our Favorite Questions   \n",
       "15                                How to Set AI Goals   \n",
       "23                                 An Agent of Change   \n",
       "7                                   AI and Creativity   \n",
       "\n",
       "                                              author  title_length  \n",
       "27           Matthew Rocklin and Hugo Bowne-Anderson            79  \n",
       "54                                     Mike Loukides            46  \n",
       "5                    Justin Norman and Mike Loukides            38  \n",
       "21                                     Mike Loukides            37  \n",
       "29                                     Mike Loukides            37  \n",
       "10                                     Mike Loukides            35  \n",
       "12                                    Nat Torkington            35  \n",
       "33                                     Mike Loukides            34  \n",
       "20                                    Nat Torkington            34  \n",
       "19                                    Nat Torkington            34  \n",
       "3                                                               33  \n",
       "26                                    Nat Torkington            32  \n",
       "25                                    Nat Torkington            32  \n",
       "24                                    Nat Torkington            32  \n",
       "22                                    Nat Torkington            32  \n",
       "28                                    Nat Torkington            32  \n",
       "37  Justin Norman, Peter Skomoroch and Mike Loukides            32  \n",
       "9                                     Nat Torkington            32  \n",
       "8                                     Nat Torkington            32  \n",
       "6                                     Nat Torkington            32  \n",
       "32                                    Nat Torkington            31  \n",
       "34                                    Nat Torkington            30  \n",
       "35                                    Nat Torkington            30  \n",
       "45                                    Nat Torkington            30  \n",
       "46                                    Nat Torkington            30  \n",
       "44                                    Nat Torkington            30  \n",
       "39                                    Nat Torkington            30  \n",
       "40                                    Nat Torkington            30  \n",
       "36                                    Nat Torkington            30  \n",
       "41                                    Nat Torkington            30  \n",
       "47                                    Nat Torkington            30  \n",
       "42                                    Nat Torkington            30  \n",
       "48                    Mike Loukides and Steve Swoyer            30  \n",
       "49                                    Nat Torkington            30  \n",
       "51                                    Nat Torkington            30  \n",
       "52                                    Nat Torkington            30  \n",
       "53                                    Nat Torkington            30  \n",
       "55                                    Nat Torkington            29  \n",
       "56                                    Nat Torkington            29  \n",
       "57                                    Nat Torkington            29  \n",
       "58                                    Nat Torkington            29  \n",
       "0                                     Nat Torkington            29  \n",
       "30                                    Nat Torkington            29  \n",
       "16                                    Nat Torkington            29  \n",
       "14                                    Nat Torkington            29  \n",
       "2                                     Nat Torkington            29  \n",
       "4                                     Nat Torkington            29  \n",
       "11                                    Nat Torkington            29  \n",
       "13                                    Nat Torkington            29  \n",
       "59                                    Nat Torkington            29  \n",
       "17                                    Nat Torkington            28  \n",
       "31                                    Nat Torkington            28  \n",
       "43                                     Mike Loukides            25  \n",
       "18                                     Mike Loukides            24  \n",
       "50                                        Sarah Gold            23  \n",
       "38                                     Mike Loukides            22  \n",
       "1     Q Ethan McCallum, Chris Butler and Shane Glynn            22  \n",
       "15                                   Alex Castrounis            19  \n",
       "23                Q Ethan McCallum and Mike Loukides            18  \n",
       "7                                      Mike Loukides            17  "
      ]
     },
     "execution_count": 59,
     "metadata": {},
     "output_type": "execute_result"
    }
   ],
   "source": [
    "df['title_length'] = df['title'].apply(lambda x: len(x))\n",
    "df[['title', 'author', 'title_length']].sort_values('title_length', ascending=False)\n"
   ]
  },
  {
   "cell_type": "markdown",
   "metadata": {},
   "source": [
    "### 12. Create a list of entry titles whose summary includes the phrase \"machine learning.\""
   ]
  },
  {
   "cell_type": "code",
   "execution_count": 105,
   "metadata": {},
   "outputs": [],
   "source": [
    "#df.head(5)"
   ]
  },
  {
   "cell_type": "code",
   "execution_count": 100,
   "metadata": {},
   "outputs": [],
   "source": [
    "lista = []"
   ]
  },
  {
   "cell_type": "code",
   "execution_count": 87,
   "metadata": {},
   "outputs": [],
   "source": [
    "df['summary'] = df['summary'].apply(lambda x: x.lower())"
   ]
  },
  {
   "cell_type": "code",
   "execution_count": 97,
   "metadata": {},
   "outputs": [
    {
     "data": {
      "text/plain": [
       "'data organization in spreadsheets &#8212; focusing on the data entry and storage aspects, this article offers practical recommendations for organizing spreadsheet data to reduce errors and ease later analyses. the basic principles are: be consistent, write dates like yyyy-mm-dd, do not leave any cells empty, put just one thing in a cell, organize the data [&#8230;]'"
      ]
     },
     "execution_count": 97,
     "metadata": {},
     "output_type": "execute_result"
    }
   ],
   "source": [
    "df['summary']"
   ]
  },
  {
   "cell_type": "code",
   "execution_count": 101,
   "metadata": {},
   "outputs": [
    {
     "name": "stdout",
     "output_type": "stream",
     "text": [
      "25 the 212 story tower that isn&#8217;t in suburban melbourne &#8212; a typo in a open street map submission becomes a surprising monolith in microsoft flight simulator. fairness in machine learning &#8212; draft text for a book on the subject. the social architecture of impactful communities &#8212; a really good set of models for communities. individuals [&#8230;]\n",
      "56 when data is messy &#8212; i love stories that illustrate the ways machine learning can draw the wrong conclusions. researchers at the university of tuebingen trained a neural net to recognize images, and then had it point out which parts of the images were the most important for its decision. when they asked it to [&#8230;]\n"
     ]
    },
    {
     "data": {
      "text/plain": [
       "['Four short links: 21 August 2020', 'Four short links: 8 July 2020']"
      ]
     },
     "execution_count": 101,
     "metadata": {},
     "output_type": "execute_result"
    }
   ],
   "source": [
    "for i,e in enumerate(df['summary']):\n",
    "    if 'machine learning' in e:\n",
    "        lista.append(df['title'][i])\n",
    "        print(i,e)\n",
    "lista\n",
    "      \n"
   ]
  },
  {
   "cell_type": "code",
   "execution_count": 103,
   "metadata": {},
   "outputs": [
    {
     "data": {
      "text/plain": [
       "True"
      ]
     },
     "execution_count": 103,
     "metadata": {},
     "output_type": "execute_result"
    }
   ],
   "source": [
    "'machine learning'  in df['summary'][25] "
   ]
  },
  {
   "cell_type": "code",
   "execution_count": 104,
   "metadata": {},
   "outputs": [
    {
     "data": {
      "text/plain": [
       "True"
      ]
     },
     "execution_count": 104,
     "metadata": {},
     "output_type": "execute_result"
    }
   ],
   "source": [
    "'machine learning'  in df['summary'][56] "
   ]
  },
  {
   "cell_type": "code",
   "execution_count": null,
   "metadata": {},
   "outputs": [],
   "source": []
  },
  {
   "cell_type": "code",
   "execution_count": null,
   "metadata": {},
   "outputs": [],
   "source": []
  }
 ],
 "metadata": {
  "kernelspec": {
   "display_name": "Python 3",
   "language": "python",
   "name": "python3"
  },
  "language_info": {
   "codemirror_mode": {
    "name": "ipython",
    "version": 3
   },
   "file_extension": ".py",
   "mimetype": "text/x-python",
   "name": "python",
   "nbconvert_exporter": "python",
   "pygments_lexer": "ipython3",
   "version": "3.7.6"
  }
 },
 "nbformat": 4,
 "nbformat_minor": 2
}
