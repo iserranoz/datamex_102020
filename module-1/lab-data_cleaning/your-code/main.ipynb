{
 "cells": [
  {
   "cell_type": "markdown",
   "metadata": {},
   "source": [
    "#### 1. Import pandas library"
   ]
  },
  {
   "cell_type": "code",
   "execution_count": 1,
   "metadata": {},
   "outputs": [],
   "source": [
    "import pandas as pd"
   ]
  },
  {
   "cell_type": "markdown",
   "metadata": {},
   "source": [
    "#### 2. Import pymysql and sqlalchemy as you have learnt in the lesson of importing/exporting data \n"
   ]
  },
  {
   "cell_type": "code",
   "execution_count": 4,
   "metadata": {},
   "outputs": [],
   "source": [
    "import pandas as pd\n",
    "import sqlalchemy as sql\n",
    "import pymysql\n",
    "pymysql.install_as_MySQLdb()"
   ]
  },
  {
   "cell_type": "markdown",
   "metadata": {},
   "source": [
    "#### 3. Create a mysql engine to set the connection to the server. Check the connection details in [this link](https://relational.fit.cvut.cz/search?tableCount%5B%5D=0-10&tableCount%5B%5D=10-30&dataType%5B%5D=Numeric&databaseSize%5B%5D=KB&databaseSize%5B%5D=MB)"
   ]
  },
  {
   "cell_type": "code",
   "execution_count": 7,
   "metadata": {},
   "outputs": [],
   "source": [
    "database_type = 'mysql'\n",
    "host='relational.fit.cvut.cz' \n",
    "user= 'guest'\n",
    "password = 'relational'\n",
    "database = 'stats'\n",
    "conn_string ='{}://{}:{}@{}/{}'.format(database_type,user,password,host,database)\n",
    "sql_conn = sql.create_engine(conn_string)"
   ]
  },
  {
   "cell_type": "markdown",
   "metadata": {},
   "source": [
    "#### 4. Import the users table "
   ]
  },
  {
   "cell_type": "code",
   "execution_count": 8,
   "metadata": {},
   "outputs": [],
   "source": [
    "query_sql = '''select * from users'''\n",
    "df_users = pd.read_sql(query_sql, sql_conn)"
   ]
  },
  {
   "cell_type": "markdown",
   "metadata": {},
   "source": [
    "#### 5. Rename Id column to userId"
   ]
  },
  {
   "cell_type": "code",
   "execution_count": 10,
   "metadata": {},
   "outputs": [
    {
     "data": {
      "text/html": [
       "<div>\n",
       "<style scoped>\n",
       "    .dataframe tbody tr th:only-of-type {\n",
       "        vertical-align: middle;\n",
       "    }\n",
       "\n",
       "    .dataframe tbody tr th {\n",
       "        vertical-align: top;\n",
       "    }\n",
       "\n",
       "    .dataframe thead th {\n",
       "        text-align: right;\n",
       "    }\n",
       "</style>\n",
       "<table border=\"1\" class=\"dataframe\">\n",
       "  <thead>\n",
       "    <tr style=\"text-align: right;\">\n",
       "      <th></th>\n",
       "      <th>Id</th>\n",
       "      <th>Reputation</th>\n",
       "      <th>CreationDate</th>\n",
       "      <th>DisplayName</th>\n",
       "      <th>LastAccessDate</th>\n",
       "      <th>WebsiteUrl</th>\n",
       "      <th>Location</th>\n",
       "      <th>AboutMe</th>\n",
       "      <th>Views</th>\n",
       "      <th>UpVotes</th>\n",
       "      <th>DownVotes</th>\n",
       "      <th>AccountId</th>\n",
       "      <th>Age</th>\n",
       "      <th>ProfileImageUrl</th>\n",
       "    </tr>\n",
       "  </thead>\n",
       "  <tbody>\n",
       "    <tr>\n",
       "      <th>0</th>\n",
       "      <td>-1</td>\n",
       "      <td>1</td>\n",
       "      <td>2010-07-19 06:55:26</td>\n",
       "      <td>Community</td>\n",
       "      <td>2010-07-19 06:55:26</td>\n",
       "      <td>http://meta.stackexchange.com/</td>\n",
       "      <td>on the server farm</td>\n",
       "      <td>&lt;p&gt;Hi, I'm not really a person.&lt;/p&gt;\\n\\n&lt;p&gt;I'm ...</td>\n",
       "      <td>0</td>\n",
       "      <td>5007</td>\n",
       "      <td>1920</td>\n",
       "      <td>-1</td>\n",
       "      <td>NaN</td>\n",
       "      <td>None</td>\n",
       "    </tr>\n",
       "    <tr>\n",
       "      <th>1</th>\n",
       "      <td>2</td>\n",
       "      <td>101</td>\n",
       "      <td>2010-07-19 14:01:36</td>\n",
       "      <td>Geoff Dalgas</td>\n",
       "      <td>2013-11-12 22:07:23</td>\n",
       "      <td>http://stackoverflow.com</td>\n",
       "      <td>Corvallis, OR</td>\n",
       "      <td>&lt;p&gt;Developer on the StackOverflow team.  Find ...</td>\n",
       "      <td>25</td>\n",
       "      <td>3</td>\n",
       "      <td>0</td>\n",
       "      <td>2</td>\n",
       "      <td>37.0</td>\n",
       "      <td>None</td>\n",
       "    </tr>\n",
       "  </tbody>\n",
       "</table>\n",
       "</div>"
      ],
      "text/plain": [
       "   Id  Reputation        CreationDate   DisplayName      LastAccessDate  \\\n",
       "0  -1           1 2010-07-19 06:55:26     Community 2010-07-19 06:55:26   \n",
       "1   2         101 2010-07-19 14:01:36  Geoff Dalgas 2013-11-12 22:07:23   \n",
       "\n",
       "                       WebsiteUrl            Location  \\\n",
       "0  http://meta.stackexchange.com/  on the server farm   \n",
       "1        http://stackoverflow.com       Corvallis, OR   \n",
       "\n",
       "                                             AboutMe  Views  UpVotes  \\\n",
       "0  <p>Hi, I'm not really a person.</p>\\n\\n<p>I'm ...      0     5007   \n",
       "1  <p>Developer on the StackOverflow team.  Find ...     25        3   \n",
       "\n",
       "   DownVotes  AccountId   Age ProfileImageUrl  \n",
       "0       1920         -1   NaN            None  \n",
       "1          0          2  37.0            None  "
      ]
     },
     "execution_count": 10,
     "metadata": {},
     "output_type": "execute_result"
    }
   ],
   "source": [
    "df_users.head(2)"
   ]
  },
  {
   "cell_type": "code",
   "execution_count": 11,
   "metadata": {},
   "outputs": [
    {
     "data": {
      "text/html": [
       "<div>\n",
       "<style scoped>\n",
       "    .dataframe tbody tr th:only-of-type {\n",
       "        vertical-align: middle;\n",
       "    }\n",
       "\n",
       "    .dataframe tbody tr th {\n",
       "        vertical-align: top;\n",
       "    }\n",
       "\n",
       "    .dataframe thead th {\n",
       "        text-align: right;\n",
       "    }\n",
       "</style>\n",
       "<table border=\"1\" class=\"dataframe\">\n",
       "  <thead>\n",
       "    <tr style=\"text-align: right;\">\n",
       "      <th></th>\n",
       "      <th>userId</th>\n",
       "      <th>Reputation</th>\n",
       "      <th>CreationDate</th>\n",
       "      <th>DisplayName</th>\n",
       "      <th>LastAccessDate</th>\n",
       "      <th>WebsiteUrl</th>\n",
       "      <th>Location</th>\n",
       "      <th>AboutMe</th>\n",
       "      <th>Views</th>\n",
       "      <th>UpVotes</th>\n",
       "      <th>DownVotes</th>\n",
       "      <th>AccountId</th>\n",
       "      <th>Age</th>\n",
       "      <th>ProfileImageUrl</th>\n",
       "    </tr>\n",
       "  </thead>\n",
       "  <tbody>\n",
       "    <tr>\n",
       "      <th>0</th>\n",
       "      <td>-1</td>\n",
       "      <td>1</td>\n",
       "      <td>2010-07-19 06:55:26</td>\n",
       "      <td>Community</td>\n",
       "      <td>2010-07-19 06:55:26</td>\n",
       "      <td>http://meta.stackexchange.com/</td>\n",
       "      <td>on the server farm</td>\n",
       "      <td>&lt;p&gt;Hi, I'm not really a person.&lt;/p&gt;\\n\\n&lt;p&gt;I'm ...</td>\n",
       "      <td>0</td>\n",
       "      <td>5007</td>\n",
       "      <td>1920</td>\n",
       "      <td>-1</td>\n",
       "      <td>NaN</td>\n",
       "      <td>None</td>\n",
       "    </tr>\n",
       "    <tr>\n",
       "      <th>1</th>\n",
       "      <td>2</td>\n",
       "      <td>101</td>\n",
       "      <td>2010-07-19 14:01:36</td>\n",
       "      <td>Geoff Dalgas</td>\n",
       "      <td>2013-11-12 22:07:23</td>\n",
       "      <td>http://stackoverflow.com</td>\n",
       "      <td>Corvallis, OR</td>\n",
       "      <td>&lt;p&gt;Developer on the StackOverflow team.  Find ...</td>\n",
       "      <td>25</td>\n",
       "      <td>3</td>\n",
       "      <td>0</td>\n",
       "      <td>2</td>\n",
       "      <td>37.0</td>\n",
       "      <td>None</td>\n",
       "    </tr>\n",
       "  </tbody>\n",
       "</table>\n",
       "</div>"
      ],
      "text/plain": [
       "   userId  Reputation        CreationDate   DisplayName      LastAccessDate  \\\n",
       "0      -1           1 2010-07-19 06:55:26     Community 2010-07-19 06:55:26   \n",
       "1       2         101 2010-07-19 14:01:36  Geoff Dalgas 2013-11-12 22:07:23   \n",
       "\n",
       "                       WebsiteUrl            Location  \\\n",
       "0  http://meta.stackexchange.com/  on the server farm   \n",
       "1        http://stackoverflow.com       Corvallis, OR   \n",
       "\n",
       "                                             AboutMe  Views  UpVotes  \\\n",
       "0  <p>Hi, I'm not really a person.</p>\\n\\n<p>I'm ...      0     5007   \n",
       "1  <p>Developer on the StackOverflow team.  Find ...     25        3   \n",
       "\n",
       "   DownVotes  AccountId   Age ProfileImageUrl  \n",
       "0       1920         -1   NaN            None  \n",
       "1          0          2  37.0            None  "
      ]
     },
     "execution_count": 11,
     "metadata": {},
     "output_type": "execute_result"
    }
   ],
   "source": [
    "df_users = df_users.rename(columns={'Id': 'userId'})\n",
    "df_users.head(2)"
   ]
  },
  {
   "cell_type": "markdown",
   "metadata": {},
   "source": [
    "#### 6. Import the posts table. "
   ]
  },
  {
   "cell_type": "code",
   "execution_count": 12,
   "metadata": {},
   "outputs": [],
   "source": [
    "query_sql2 = '''select * from posts'''\n",
    "df_posts = pd.read_sql(query_sql2, sql_conn)"
   ]
  },
  {
   "cell_type": "code",
   "execution_count": 13,
   "metadata": {},
   "outputs": [
    {
     "name": "stdout",
     "output_type": "stream",
     "text": [
      "<class 'pandas.core.frame.DataFrame'>\n",
      "RangeIndex: 91976 entries, 0 to 91975\n",
      "Data columns (total 21 columns):\n",
      " #   Column                 Non-Null Count  Dtype         \n",
      "---  ------                 --------------  -----         \n",
      " 0   Id                     91976 non-null  int64         \n",
      " 1   PostTypeId             91976 non-null  int64         \n",
      " 2   AcceptedAnswerId       14700 non-null  float64       \n",
      " 3   CreaionDate            91976 non-null  datetime64[ns]\n",
      " 4   Score                  91976 non-null  int64         \n",
      " 5   ViewCount              42921 non-null  float64       \n",
      " 6   Body                   91756 non-null  object        \n",
      " 7   OwnerUserId            90584 non-null  float64       \n",
      " 8   LasActivityDate        91976 non-null  datetime64[ns]\n",
      " 9   Title                  42921 non-null  object        \n",
      " 10  Tags                   42921 non-null  object        \n",
      " 11  AnswerCount            42921 non-null  float64       \n",
      " 12  CommentCount           91976 non-null  int64         \n",
      " 13  FavoriteCount          13246 non-null  float64       \n",
      " 14  LastEditorUserId       44611 non-null  float64       \n",
      " 15  LastEditDate           45038 non-null  datetime64[ns]\n",
      " 16  CommunityOwnedDate     2467 non-null   datetime64[ns]\n",
      " 17  ParentId               47755 non-null  float64       \n",
      " 18  ClosedDate             1610 non-null   datetime64[ns]\n",
      " 19  OwnerDisplayName       2509 non-null   object        \n",
      " 20  LastEditorDisplayName  465 non-null    object        \n",
      "dtypes: datetime64[ns](5), float64(7), int64(4), object(5)\n",
      "memory usage: 14.7+ MB\n"
     ]
    }
   ],
   "source": [
    "df_posts.info()"
   ]
  },
  {
   "cell_type": "markdown",
   "metadata": {},
   "source": [
    "#### 7. Rename Id column to postId and OwnerUserId to userId"
   ]
  },
  {
   "cell_type": "code",
   "execution_count": 14,
   "metadata": {},
   "outputs": [
    {
     "data": {
      "text/html": [
       "<div>\n",
       "<style scoped>\n",
       "    .dataframe tbody tr th:only-of-type {\n",
       "        vertical-align: middle;\n",
       "    }\n",
       "\n",
       "    .dataframe tbody tr th {\n",
       "        vertical-align: top;\n",
       "    }\n",
       "\n",
       "    .dataframe thead th {\n",
       "        text-align: right;\n",
       "    }\n",
       "</style>\n",
       "<table border=\"1\" class=\"dataframe\">\n",
       "  <thead>\n",
       "    <tr style=\"text-align: right;\">\n",
       "      <th></th>\n",
       "      <th>postId</th>\n",
       "      <th>PostTypeId</th>\n",
       "      <th>AcceptedAnswerId</th>\n",
       "      <th>CreaionDate</th>\n",
       "      <th>Score</th>\n",
       "      <th>ViewCount</th>\n",
       "      <th>Body</th>\n",
       "      <th>userId</th>\n",
       "      <th>LasActivityDate</th>\n",
       "      <th>Title</th>\n",
       "      <th>...</th>\n",
       "      <th>AnswerCount</th>\n",
       "      <th>CommentCount</th>\n",
       "      <th>FavoriteCount</th>\n",
       "      <th>LastEditorUserId</th>\n",
       "      <th>LastEditDate</th>\n",
       "      <th>CommunityOwnedDate</th>\n",
       "      <th>ParentId</th>\n",
       "      <th>ClosedDate</th>\n",
       "      <th>OwnerDisplayName</th>\n",
       "      <th>LastEditorDisplayName</th>\n",
       "    </tr>\n",
       "  </thead>\n",
       "  <tbody>\n",
       "    <tr>\n",
       "      <th>0</th>\n",
       "      <td>1</td>\n",
       "      <td>1</td>\n",
       "      <td>15.0</td>\n",
       "      <td>2010-07-19 19:12:12</td>\n",
       "      <td>23</td>\n",
       "      <td>1278.0</td>\n",
       "      <td>&lt;p&gt;How should I elicit prior distributions fro...</td>\n",
       "      <td>8.0</td>\n",
       "      <td>2010-09-15 21:08:26</td>\n",
       "      <td>Eliciting priors from experts</td>\n",
       "      <td>...</td>\n",
       "      <td>5.0</td>\n",
       "      <td>1</td>\n",
       "      <td>14.0</td>\n",
       "      <td>NaN</td>\n",
       "      <td>NaT</td>\n",
       "      <td>NaT</td>\n",
       "      <td>NaN</td>\n",
       "      <td>NaT</td>\n",
       "      <td>None</td>\n",
       "      <td>None</td>\n",
       "    </tr>\n",
       "    <tr>\n",
       "      <th>1</th>\n",
       "      <td>2</td>\n",
       "      <td>1</td>\n",
       "      <td>59.0</td>\n",
       "      <td>2010-07-19 19:12:57</td>\n",
       "      <td>22</td>\n",
       "      <td>8198.0</td>\n",
       "      <td>&lt;p&gt;In many different statistical methods there...</td>\n",
       "      <td>24.0</td>\n",
       "      <td>2012-11-12 09:21:54</td>\n",
       "      <td>What is normality?</td>\n",
       "      <td>...</td>\n",
       "      <td>7.0</td>\n",
       "      <td>1</td>\n",
       "      <td>8.0</td>\n",
       "      <td>88.0</td>\n",
       "      <td>2010-08-07 17:56:44</td>\n",
       "      <td>NaT</td>\n",
       "      <td>NaN</td>\n",
       "      <td>NaT</td>\n",
       "      <td>None</td>\n",
       "      <td>None</td>\n",
       "    </tr>\n",
       "  </tbody>\n",
       "</table>\n",
       "<p>2 rows × 21 columns</p>\n",
       "</div>"
      ],
      "text/plain": [
       "   postId  PostTypeId  AcceptedAnswerId         CreaionDate  Score  ViewCount  \\\n",
       "0       1           1              15.0 2010-07-19 19:12:12     23     1278.0   \n",
       "1       2           1              59.0 2010-07-19 19:12:57     22     8198.0   \n",
       "\n",
       "                                                Body  userId  \\\n",
       "0  <p>How should I elicit prior distributions fro...     8.0   \n",
       "1  <p>In many different statistical methods there...    24.0   \n",
       "\n",
       "      LasActivityDate                          Title  ... AnswerCount  \\\n",
       "0 2010-09-15 21:08:26  Eliciting priors from experts  ...         5.0   \n",
       "1 2012-11-12 09:21:54             What is normality?  ...         7.0   \n",
       "\n",
       "   CommentCount  FavoriteCount  LastEditorUserId        LastEditDate  \\\n",
       "0             1           14.0               NaN                 NaT   \n",
       "1             1            8.0              88.0 2010-08-07 17:56:44   \n",
       "\n",
       "  CommunityOwnedDate ParentId  ClosedDate OwnerDisplayName  \\\n",
       "0                NaT      NaN         NaT             None   \n",
       "1                NaT      NaN         NaT             None   \n",
       "\n",
       "  LastEditorDisplayName  \n",
       "0                  None  \n",
       "1                  None  \n",
       "\n",
       "[2 rows x 21 columns]"
      ]
     },
     "execution_count": 14,
     "metadata": {},
     "output_type": "execute_result"
    }
   ],
   "source": [
    "df_posts = df_posts.rename(columns={'Id': 'postId','OwnerUserId': 'userId'})\n",
    "df_posts.head(2)"
   ]
  },
  {
   "cell_type": "markdown",
   "metadata": {},
   "source": [
    "#### 8. Define new dataframes for users and posts with the following selected columns:\n",
    "    **users columns**: userId, Reputation,Views,UpVotes,DownVotes\n",
    "    **posts columns**: postId, Score,userID,ViewCount,CommentCount"
   ]
  },
  {
   "cell_type": "code",
   "execution_count": 17,
   "metadata": {},
   "outputs": [],
   "source": [
    "df_users2 = df_users[['userId','Reputation','Views', 'UpVotes','DownVotes']]\n",
    "df_posts2 = df_posts[['postId', 'Score','userId','ViewCount','CommentCount']]"
   ]
  },
  {
   "cell_type": "markdown",
   "metadata": {},
   "source": [
    "#### 8. Merge both dataframes, users and posts. \n",
    "You will need to make a [merge](https://pandas.pydata.org/pandas-docs/stable/generated/pandas.DataFrame.merge.html) of posts and users dataframes."
   ]
  },
  {
   "cell_type": "code",
   "execution_count": 20,
   "metadata": {},
   "outputs": [
    {
     "name": "stdout",
     "output_type": "stream",
     "text": [
      "<class 'pandas.core.frame.DataFrame'>\n",
      "RangeIndex: 40325 entries, 0 to 40324\n",
      "Data columns (total 5 columns):\n",
      " #   Column      Non-Null Count  Dtype\n",
      "---  ------      --------------  -----\n",
      " 0   userId      40325 non-null  int64\n",
      " 1   Reputation  40325 non-null  int64\n",
      " 2   Views       40325 non-null  int64\n",
      " 3   UpVotes     40325 non-null  int64\n",
      " 4   DownVotes   40325 non-null  int64\n",
      "dtypes: int64(5)\n",
      "memory usage: 1.5 MB\n"
     ]
    }
   ],
   "source": [
    "df_users2.info()"
   ]
  },
  {
   "cell_type": "code",
   "execution_count": 21,
   "metadata": {},
   "outputs": [
    {
     "name": "stdout",
     "output_type": "stream",
     "text": [
      "<class 'pandas.core.frame.DataFrame'>\n",
      "RangeIndex: 91976 entries, 0 to 91975\n",
      "Data columns (total 5 columns):\n",
      " #   Column        Non-Null Count  Dtype  \n",
      "---  ------        --------------  -----  \n",
      " 0   postId        91976 non-null  int64  \n",
      " 1   Score         91976 non-null  int64  \n",
      " 2   userId        90584 non-null  float64\n",
      " 3   ViewCount     42921 non-null  float64\n",
      " 4   CommentCount  91976 non-null  int64  \n",
      "dtypes: float64(2), int64(3)\n",
      "memory usage: 3.5 MB\n"
     ]
    }
   ],
   "source": [
    "df_posts2.info()"
   ]
  },
  {
   "cell_type": "code",
   "execution_count": 23,
   "metadata": {},
   "outputs": [
    {
     "name": "stdout",
     "output_type": "stream",
     "text": [
      "<class 'pandas.core.frame.DataFrame'>\n",
      "Int64Index: 90584 entries, 0 to 90583\n",
      "Data columns (total 9 columns):\n",
      " #   Column        Non-Null Count  Dtype  \n",
      "---  ------        --------------  -----  \n",
      " 0   userId        90584 non-null  int64  \n",
      " 1   Reputation    90584 non-null  int64  \n",
      " 2   Views         90584 non-null  int64  \n",
      " 3   UpVotes       90584 non-null  int64  \n",
      " 4   DownVotes     90584 non-null  int64  \n",
      " 5   postId        90584 non-null  int64  \n",
      " 6   Score         90584 non-null  int64  \n",
      " 7   ViewCount     42188 non-null  float64\n",
      " 8   CommentCount  90584 non-null  int64  \n",
      "dtypes: float64(1), int64(8)\n",
      "memory usage: 6.9 MB\n"
     ]
    }
   ],
   "source": [
    "df_m = pd.merge(df_users2,df_posts2)\n",
    "df_m.info()"
   ]
  },
  {
   "cell_type": "markdown",
   "metadata": {},
   "source": [
    "#### 9. How many missing values do you have in your merged dataframe? On which columns?"
   ]
  },
  {
   "cell_type": "code",
   "execution_count": 26,
   "metadata": {},
   "outputs": [],
   "source": [
    "columnas = df_m.columns"
   ]
  },
  {
   "cell_type": "code",
   "execution_count": 29,
   "metadata": {},
   "outputs": [
    {
     "name": "stdout",
     "output_type": "stream",
     "text": [
      "userId\n"
     ]
    }
   ],
   "source": [
    "print(columnas[0])"
   ]
  },
  {
   "cell_type": "code",
   "execution_count": 32,
   "metadata": {},
   "outputs": [
    {
     "name": "stdout",
     "output_type": "stream",
     "text": [
      "Columna: userId, Nulos: 0\n",
      "Columna: Reputation, Nulos: 0\n",
      "Columna: Views, Nulos: 0\n",
      "Columna: UpVotes, Nulos: 0\n",
      "Columna: DownVotes, Nulos: 0\n",
      "Columna: postId, Nulos: 0\n",
      "Columna: Score, Nulos: 0\n",
      "Columna: ViewCount, Nulos: 48396\n",
      "Columna: CommentCount, Nulos: 0\n"
     ]
    }
   ],
   "source": [
    "for i in columnas:\n",
    "    x = df_m[i].isna().sum()\n",
    "    print(f'Columna: {i}, Nulos: {x}')"
   ]
  },
  {
   "cell_type": "markdown",
   "metadata": {},
   "source": [
    "#### 10. You will need to make something with missing values.  Will you clean or filling them? Explain. \n",
    "**Remember** to check the results of your code before passing to the next step"
   ]
  },
  {
   "cell_type": "code",
   "execution_count": 33,
   "metadata": {},
   "outputs": [
    {
     "name": "stdout",
     "output_type": "stream",
     "text": [
      "<class 'pandas.core.frame.DataFrame'>\n",
      "Int64Index: 90584 entries, 0 to 90583\n",
      "Data columns (total 9 columns):\n",
      " #   Column        Non-Null Count  Dtype  \n",
      "---  ------        --------------  -----  \n",
      " 0   userId        90584 non-null  int64  \n",
      " 1   Reputation    90584 non-null  int64  \n",
      " 2   Views         90584 non-null  int64  \n",
      " 3   UpVotes       90584 non-null  int64  \n",
      " 4   DownVotes     90584 non-null  int64  \n",
      " 5   postId        90584 non-null  int64  \n",
      " 6   Score         90584 non-null  int64  \n",
      " 7   ViewCount     90584 non-null  float64\n",
      " 8   CommentCount  90584 non-null  int64  \n",
      "dtypes: float64(1), int64(8)\n",
      "memory usage: 6.9 MB\n"
     ]
    }
   ],
   "source": [
    "df_m['ViewCount'].fillna(df_m['ViewCount'].mean(),inplace = True)\n",
    "df_m.info()\n",
    "#if I remove all the nulls, I would lose more than half of the database.\n",
    "# I prefer to fill them with ['ViewCount'].mean"
   ]
  },
  {
   "cell_type": "markdown",
   "metadata": {},
   "source": [
    "#### 11. Adjust the data types in order to avoid future issues. Which ones should be changed? "
   ]
  },
  {
   "cell_type": "code",
   "execution_count": 34,
   "metadata": {},
   "outputs": [
    {
     "data": {
      "text/plain": [
       "userId            int64\n",
       "Reputation        int64\n",
       "Views             int64\n",
       "UpVotes           int64\n",
       "DownVotes         int64\n",
       "postId            int64\n",
       "Score             int64\n",
       "ViewCount       float64\n",
       "CommentCount      int64\n",
       "dtype: object"
      ]
     },
     "execution_count": 34,
     "metadata": {},
     "output_type": "execute_result"
    }
   ],
   "source": [
    "df_m.dtypes"
   ]
  },
  {
   "cell_type": "code",
   "execution_count": 36,
   "metadata": {},
   "outputs": [
    {
     "data": {
      "text/html": [
       "<div>\n",
       "<style scoped>\n",
       "    .dataframe tbody tr th:only-of-type {\n",
       "        vertical-align: middle;\n",
       "    }\n",
       "\n",
       "    .dataframe tbody tr th {\n",
       "        vertical-align: top;\n",
       "    }\n",
       "\n",
       "    .dataframe thead th {\n",
       "        text-align: right;\n",
       "    }\n",
       "</style>\n",
       "<table border=\"1\" class=\"dataframe\">\n",
       "  <thead>\n",
       "    <tr style=\"text-align: right;\">\n",
       "      <th></th>\n",
       "      <th>userId</th>\n",
       "      <th>Reputation</th>\n",
       "      <th>Views</th>\n",
       "      <th>UpVotes</th>\n",
       "      <th>DownVotes</th>\n",
       "      <th>postId</th>\n",
       "      <th>Score</th>\n",
       "      <th>ViewCount</th>\n",
       "      <th>CommentCount</th>\n",
       "    </tr>\n",
       "  </thead>\n",
       "  <tbody>\n",
       "    <tr>\n",
       "      <th>0</th>\n",
       "      <td>-1</td>\n",
       "      <td>1</td>\n",
       "      <td>0</td>\n",
       "      <td>5007</td>\n",
       "      <td>1920</td>\n",
       "      <td>2175</td>\n",
       "      <td>0</td>\n",
       "      <td>556.656158</td>\n",
       "      <td>0</td>\n",
       "    </tr>\n",
       "    <tr>\n",
       "      <th>1</th>\n",
       "      <td>-1</td>\n",
       "      <td>1</td>\n",
       "      <td>0</td>\n",
       "      <td>5007</td>\n",
       "      <td>1920</td>\n",
       "      <td>8576</td>\n",
       "      <td>0</td>\n",
       "      <td>556.656158</td>\n",
       "      <td>0</td>\n",
       "    </tr>\n",
       "    <tr>\n",
       "      <th>2</th>\n",
       "      <td>-1</td>\n",
       "      <td>1</td>\n",
       "      <td>0</td>\n",
       "      <td>5007</td>\n",
       "      <td>1920</td>\n",
       "      <td>8578</td>\n",
       "      <td>0</td>\n",
       "      <td>556.656158</td>\n",
       "      <td>0</td>\n",
       "    </tr>\n",
       "    <tr>\n",
       "      <th>3</th>\n",
       "      <td>-1</td>\n",
       "      <td>1</td>\n",
       "      <td>0</td>\n",
       "      <td>5007</td>\n",
       "      <td>1920</td>\n",
       "      <td>8981</td>\n",
       "      <td>0</td>\n",
       "      <td>556.656158</td>\n",
       "      <td>0</td>\n",
       "    </tr>\n",
       "    <tr>\n",
       "      <th>4</th>\n",
       "      <td>-1</td>\n",
       "      <td>1</td>\n",
       "      <td>0</td>\n",
       "      <td>5007</td>\n",
       "      <td>1920</td>\n",
       "      <td>8982</td>\n",
       "      <td>0</td>\n",
       "      <td>556.656158</td>\n",
       "      <td>0</td>\n",
       "    </tr>\n",
       "  </tbody>\n",
       "</table>\n",
       "</div>"
      ],
      "text/plain": [
       "   userId  Reputation  Views  UpVotes  DownVotes  postId  Score   ViewCount  \\\n",
       "0      -1           1      0     5007       1920    2175      0  556.656158   \n",
       "1      -1           1      0     5007       1920    8576      0  556.656158   \n",
       "2      -1           1      0     5007       1920    8578      0  556.656158   \n",
       "3      -1           1      0     5007       1920    8981      0  556.656158   \n",
       "4      -1           1      0     5007       1920    8982      0  556.656158   \n",
       "\n",
       "   CommentCount  \n",
       "0             0  \n",
       "1             0  \n",
       "2             0  \n",
       "3             0  \n",
       "4             0  "
      ]
     },
     "execution_count": 36,
     "metadata": {},
     "output_type": "execute_result"
    }
   ],
   "source": [
    "df_m.head(5)"
   ]
  },
  {
   "cell_type": "code",
   "execution_count": 37,
   "metadata": {},
   "outputs": [
    {
     "data": {
      "text/plain": [
       "userId          int64\n",
       "Reputation      int64\n",
       "Views           int64\n",
       "UpVotes         int64\n",
       "DownVotes       int64\n",
       "postId          int64\n",
       "Score           int64\n",
       "ViewCount       int64\n",
       "CommentCount    int64\n",
       "dtype: object"
      ]
     },
     "execution_count": 37,
     "metadata": {},
     "output_type": "execute_result"
    }
   ],
   "source": [
    "df_m['ViewCount'] = df_m['ViewCount'].astype('int')\n",
    "df_m.dtypes"
   ]
  },
  {
   "cell_type": "code",
   "execution_count": 39,
   "metadata": {},
   "outputs": [
    {
     "data": {
      "text/html": [
       "<div>\n",
       "<style scoped>\n",
       "    .dataframe tbody tr th:only-of-type {\n",
       "        vertical-align: middle;\n",
       "    }\n",
       "\n",
       "    .dataframe tbody tr th {\n",
       "        vertical-align: top;\n",
       "    }\n",
       "\n",
       "    .dataframe thead th {\n",
       "        text-align: right;\n",
       "    }\n",
       "</style>\n",
       "<table border=\"1\" class=\"dataframe\">\n",
       "  <thead>\n",
       "    <tr style=\"text-align: right;\">\n",
       "      <th></th>\n",
       "      <th>userId</th>\n",
       "      <th>Reputation</th>\n",
       "      <th>Views</th>\n",
       "      <th>UpVotes</th>\n",
       "      <th>DownVotes</th>\n",
       "      <th>postId</th>\n",
       "      <th>Score</th>\n",
       "      <th>ViewCount</th>\n",
       "      <th>CommentCount</th>\n",
       "    </tr>\n",
       "  </thead>\n",
       "  <tbody>\n",
       "    <tr>\n",
       "      <th>90579</th>\n",
       "      <td>55734</td>\n",
       "      <td>1</td>\n",
       "      <td>0</td>\n",
       "      <td>0</td>\n",
       "      <td>0</td>\n",
       "      <td>115352</td>\n",
       "      <td>0</td>\n",
       "      <td>16</td>\n",
       "      <td>0</td>\n",
       "    </tr>\n",
       "    <tr>\n",
       "      <th>90580</th>\n",
       "      <td>55738</td>\n",
       "      <td>11</td>\n",
       "      <td>0</td>\n",
       "      <td>0</td>\n",
       "      <td>0</td>\n",
       "      <td>115360</td>\n",
       "      <td>2</td>\n",
       "      <td>40</td>\n",
       "      <td>4</td>\n",
       "    </tr>\n",
       "    <tr>\n",
       "      <th>90581</th>\n",
       "      <td>55742</td>\n",
       "      <td>6</td>\n",
       "      <td>0</td>\n",
       "      <td>0</td>\n",
       "      <td>0</td>\n",
       "      <td>115366</td>\n",
       "      <td>1</td>\n",
       "      <td>17</td>\n",
       "      <td>0</td>\n",
       "    </tr>\n",
       "    <tr>\n",
       "      <th>90582</th>\n",
       "      <td>55744</td>\n",
       "      <td>6</td>\n",
       "      <td>1</td>\n",
       "      <td>0</td>\n",
       "      <td>0</td>\n",
       "      <td>115370</td>\n",
       "      <td>1</td>\n",
       "      <td>13</td>\n",
       "      <td>2</td>\n",
       "    </tr>\n",
       "    <tr>\n",
       "      <th>90583</th>\n",
       "      <td>55746</td>\n",
       "      <td>106</td>\n",
       "      <td>1</td>\n",
       "      <td>0</td>\n",
       "      <td>0</td>\n",
       "      <td>115376</td>\n",
       "      <td>1</td>\n",
       "      <td>5</td>\n",
       "      <td>2</td>\n",
       "    </tr>\n",
       "  </tbody>\n",
       "</table>\n",
       "</div>"
      ],
      "text/plain": [
       "       userId  Reputation  Views  UpVotes  DownVotes  postId  Score  \\\n",
       "90579   55734           1      0        0          0  115352      0   \n",
       "90580   55738          11      0        0          0  115360      2   \n",
       "90581   55742           6      0        0          0  115366      1   \n",
       "90582   55744           6      1        0          0  115370      1   \n",
       "90583   55746         106      1        0          0  115376      1   \n",
       "\n",
       "       ViewCount  CommentCount  \n",
       "90579         16             0  \n",
       "90580         40             4  \n",
       "90581         17             0  \n",
       "90582         13             2  \n",
       "90583          5             2  "
      ]
     },
     "execution_count": 39,
     "metadata": {},
     "output_type": "execute_result"
    }
   ],
   "source": [
    "df_m.tail()"
   ]
  },
  {
   "cell_type": "markdown",
   "metadata": {},
   "source": [
    "#### Bonus: Identify extreme values in your merged dataframe as you have learned in class, create a dataframe called outliers with the same columns as our data set and calculate the bounds. The values of the outliers dataframe will be the values of the merged_df that fall outside that bounds. You will need to save your outliers dataframe to a csv file on your-code folder."
   ]
  }
 ],
 "metadata": {
  "kernelspec": {
   "display_name": "Python 3",
   "language": "python",
   "name": "python3"
  },
  "language_info": {
   "codemirror_mode": {
    "name": "ipython",
    "version": 3
   },
   "file_extension": ".py",
   "mimetype": "text/x-python",
   "name": "python",
   "nbconvert_exporter": "python",
   "pygments_lexer": "ipython3",
   "version": "3.7.6"
  }
 },
 "nbformat": 4,
 "nbformat_minor": 2
}
