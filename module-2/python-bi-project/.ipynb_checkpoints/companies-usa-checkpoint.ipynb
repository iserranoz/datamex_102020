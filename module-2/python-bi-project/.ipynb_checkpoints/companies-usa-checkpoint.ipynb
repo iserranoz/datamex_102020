{
 "cells": [
  {
   "cell_type": "code",
   "execution_count": 29,
   "metadata": {},
   "outputs": [
    {
     "data": {
      "text/html": [
       "        <script type=\"text/javascript\">\n",
       "        window.PlotlyConfig = {MathJaxConfig: 'local'};\n",
       "        if (window.MathJax) {MathJax.Hub.Config({SVG: {font: \"STIX-Web\"}});}\n",
       "        if (typeof require !== 'undefined') {\n",
       "        require.undef(\"plotly\");\n",
       "        requirejs.config({\n",
       "            paths: {\n",
       "                'plotly': ['https://cdn.plot.ly/plotly-latest.min']\n",
       "            }\n",
       "        });\n",
       "        require(['plotly'], function(Plotly) {\n",
       "            window._Plotly = Plotly;\n",
       "        });\n",
       "        }\n",
       "        </script>\n",
       "        "
      ]
     },
     "metadata": {},
     "output_type": "display_data"
    }
   ],
   "source": [
    "import pandas as pd\n",
    "import numpy as np\n",
    "import matplotlib.pyplot as plt\n",
    "import seaborn as sns\n",
    "from PIL import Image\n",
    "from wordcloud import WordCloud\n",
    "import plotly.graph_objs as go\n",
    "import plotly.offline as py\n",
    "from plotly.offline import init_notebook_mode\n",
    "init_notebook_mode(connected=True)\n",
    "import dash\n",
    "import dash_core_components as dcc\n",
    "import dash_html_components as html\n",
    "from dash.dependencies import Input,Output\n",
    "import re\n",
    "import requests\n",
    "from bs4 import BeautifulSoup\n",
    "import plotly.express as px\n",
    "#importación de paquetes\n",
    "from pymongo import MongoClient\n",
    "import json\n",
    "from pandas.io.json import json_normalize"
   ]
  },
  {
   "cell_type": "markdown",
   "metadata": {},
   "source": [
    "## Trabajo con PyMongo"
   ]
  },
  {
   "cell_type": "code",
   "execution_count": null,
   "metadata": {},
   "outputs": [],
   "source": [
    "client = MongoClient('localhost')"
   ]
  },
  {
   "cell_type": "code",
   "execution_count": null,
   "metadata": {},
   "outputs": [],
   "source": [
    "print(db.client.list_database_names())"
   ]
  },
  {
   "cell_type": "code",
   "execution_count": null,
   "metadata": {},
   "outputs": [],
   "source": [
    "db = client['ironhack']\n",
    "col = db['companies']"
   ]
  },
  {
   "cell_type": "code",
   "execution_count": null,
   "metadata": {},
   "outputs": [],
   "source": [
    "print(col.count_documents({}))"
   ]
  },
  {
   "cell_type": "code",
   "execution_count": null,
   "metadata": {},
   "outputs": [],
   "source": [
    "p = col.find_one()\n",
    "type(p)"
   ]
  },
  {
   "cell_type": "code",
   "execution_count": null,
   "metadata": {},
   "outputs": [],
   "source": [
    "#list(col.find({},{'name':1}))\n",
    "oficinas = col.find({'offices':{'$not':{'$size':0}}},\n",
    "                         {'name':1,'_id':1, 'offices':1,\n",
    "                         'category_code':1,'total_money_raised':1,\n",
    "                         'number_of_employees':1,'products':1,'total_money_raised':1})"
   ]
  },
  {
   "cell_type": "code",
   "execution_count": null,
   "metadata": {},
   "outputs": [],
   "source": [
    "o = list(oficinas)\n",
    "data = pd.DataFrame(o)"
   ]
  },
  {
   "cell_type": "code",
   "execution_count": 1,
   "metadata": {},
   "outputs": [],
   "source": [
    "#excluyo de este notebook el trabajo de limpieza y normalización por la\n",
    "#amplitud del código, los datos necesarios para las visualiaciones son cargados en csv"
   ]
  },
  {
   "cell_type": "markdown",
   "metadata": {},
   "source": [
    "## visualización con dash"
   ]
  },
  {
   "cell_type": "code",
   "execution_count": 30,
   "metadata": {},
   "outputs": [],
   "source": [
    "def scraper_century():\n",
    "    estados = ['AL', 'AR', 'AZ', 'CA', 'CO', 'CT', 'DC', 'DE', 'FL', 'GA', 'HI', 'IA',\n",
    "              'ID', 'IL', 'IN', 'KS', 'KY', 'LA', 'MA', 'MD', 'ME', 'MI', 'MN', 'MO', \n",
    "               'MS', 'MT', 'NC', 'ND', 'NE', 'NH', 'NJ', 'NM', 'NV', 'NY', 'OH', 'OK', 'OR', \n",
    "               'PA', 'RI', 'SC', 'SD', 'TN', 'TX', 'UT', 'VA', 'VT', 'WA', 'WI', 'WV', 'WY']\n",
    "    links = []\n",
    "    url1= 'https://www.century21global.com/es-mx/de-uso-comercial-en-alquiler/USA/'\n",
    "    url2 = '?subtype=125&subtype=106'\n",
    "    century = pd.DataFrame(columns = ['latitud', 'longitud','state'])\n",
    "    for i in range(len(estados)):\n",
    "        x = url1 + estados[i] +url2\n",
    "        links.append(x)\n",
    "    for i in range(50):   \n",
    "        req = requests.get(links[i])\n",
    "        contenido = req.content\n",
    "        sopa = BeautifulSoup(contenido, \"lxml\")\n",
    "        l = sopa.find_all('input', {'class':'map-coordinates'})\n",
    "        o = [str(i).split(' ')[4:6] for i in l]\n",
    "        data = pd.DataFrame(o, columns = ['latitud', 'longitud'])\n",
    "        data['latitud'] = data['latitud'].apply(lambda x: x.replace('data-lat=',''))\n",
    "        data['longitud'] = data['longitud'].apply(lambda x: x.replace('data-lng=',''))\n",
    "        data['latitud'] = data['latitud'].apply(lambda x: x.replace('\"',''))\n",
    "        data['longitud'] = data['longitud'].apply(lambda x: x.replace('\"',''))\n",
    "        data['longitud'] = data['longitud'].astype(float)\n",
    "        data['latitud'] = data['latitud'].astype(float)\n",
    "        data['state'] = data['longitud'].apply(lambda x: estados[i])\n",
    "        century = pd.concat([century,data])\n",
    "    return century\n",
    "#definición de función de scraping de century 21"
   ]
  },
  {
   "cell_type": "code",
   "execution_count": 31,
   "metadata": {},
   "outputs": [],
   "source": [
    "usa = pd.read_csv('usa.csv')\n",
    "companies_usa = pd.read_csv('companies_usa.csv')\n",
    "century = scraper_century()\n",
    "#carga de data"
   ]
  },
  {
   "cell_type": "code",
   "execution_count": 32,
   "metadata": {},
   "outputs": [],
   "source": [
    "estados = list(usa['state'].unique())\n",
    "companies = list(companies_usa['category_code'].unique())\n",
    "#definición de listas que usaremos"
   ]
  },
  {
   "cell_type": "markdown",
   "metadata": {},
   "source": [
    "## dashboard 1 tipos de compañia por estados\n"
   ]
  },
  {
   "cell_type": "code",
   "execution_count": null,
   "metadata": {},
   "outputs": [],
   "source": [
    "external_styleshsheets = ['https://codeopen.io/chriddyp/pen/bWLwgP.css']\n",
    "tickFont = {'size':9,'color':'rgb(30,30,30)'}\n",
    "options = [{'label':c, 'value':c} for c in estados]"
   ]
  },
  {
   "cell_type": "code",
   "execution_count": null,
   "metadata": {},
   "outputs": [],
   "source": [
    "app = dash.Dash()\n",
    "app.title = 'prueba1'\n",
    "\n",
    "app.layout = html.Div([\n",
    "    \n",
    "    #header\n",
    "    html.H1('probando dashboard'),\n",
    "    #dropdown\n",
    "    html.Div(\n",
    "        \n",
    "        dcc.Dropdown(\n",
    "        id = 'states-picker',\n",
    "        options = options,\n",
    "        value = 'CA'),\n",
    "        \n",
    "    style = {'widht':'15%'}\n",
    "    \n",
    "    ),\n",
    "    #plot\n",
    "    dcc.Graph(\n",
    "    id = 'type companies',\n",
    "    config = {'displayModebar':False})\n",
    "    \n",
    "   \n",
    "])#end layout\n",
    "@app.callback(Output(component_id = 'type companies',component_property = 'figure'),\n",
    "             [Input(component_id = 'states-picker',component_property = 'value')])\n",
    "\n",
    "def graph_state(state):\n",
    "    j = companies_usa.category_code[companies_usa['state_code']==state].value_counts()\n",
    "    data = [go.Bar(\n",
    "       x = j.index,\n",
    "       y = j.values)]\n",
    "    fig = go.Figure(data=data)\n",
    "    return fig  \n",
    "    \n",
    "app.run_server()"
   ]
  },
  {
   "cell_type": "markdown",
   "metadata": {},
   "source": [
    "## dashboard 2 money raised por tipo de compañia"
   ]
  },
  {
   "cell_type": "code",
   "execution_count": null,
   "metadata": {},
   "outputs": [],
   "source": [
    "external_styleshsheets = ['https://codeopen.io/chriddyp/pen/bWLwgP.css']\n",
    "tickFont = {'size':9,'color':'rgb(30,30,30)'}\n",
    "options = [{'label':c, 'value':c} for c in estados]"
   ]
  },
  {
   "cell_type": "code",
   "execution_count": null,
   "metadata": {},
   "outputs": [],
   "source": [
    "app = dash.Dash()\n",
    "app.title = 'prueba2'\n",
    "\n",
    "app.layout = html.Div([\n",
    "    \n",
    "    #header\n",
    "    html.H1('probando dashboard'),\n",
    "    #dropdown\n",
    "    html.Div(\n",
    "        \n",
    "        dcc.Dropdown(\n",
    "        id = 'states-picker',\n",
    "        options = options,\n",
    "        value = 'CA'),\n",
    "        \n",
    "    style = {'widht':'15%'}\n",
    "    \n",
    "    ),\n",
    "    #plot\n",
    "    dcc.Graph(\n",
    "    id = 'type companies',\n",
    "    config = {'displayModebar':False})\n",
    "    \n",
    "   \n",
    "])#end layout\n",
    "@app.callback(Output(component_id = 'type companies',component_property = 'figure'),\n",
    "             [Input(component_id = 'states-picker',component_property = 'value')])\n",
    "\n",
    "def graph_state_pie(state):\n",
    "    y = companies_usa[['category_code','total_money']][companies_usa['state_code']==state].sort_values(by = 'total_money',ascending=False)\n",
    "    fig = px.pie(y, values=y['total_money'].head(40), names=y['category_code'].head(40), title='Total money raised for industry')\n",
    "    return fig \n",
    "    \n",
    "app.run_server()"
   ]
  },
  {
   "cell_type": "markdown",
   "metadata": {},
   "source": [
    "## dashboard 3 tipos de compañia por estados"
   ]
  },
  {
   "cell_type": "code",
   "execution_count": null,
   "metadata": {},
   "outputs": [],
   "source": [
    "external_styleshsheets = ['https://codeopen.io/chriddyp/pen/bWLwgP.css']\n",
    "tickFont = {'size':9,'color':'rgb(30,30,30)'}\n",
    "options2 = [{'label':c, 'value':c} for c in companies]"
   ]
  },
  {
   "cell_type": "code",
   "execution_count": null,
   "metadata": {},
   "outputs": [],
   "source": [
    "app = dash.Dash()\n",
    "app.title = 'prueba3'\n",
    "\n",
    "app.layout = html.Div([\n",
    "    \n",
    "    #header\n",
    "    html.H1('probando dashboard'),\n",
    "    #dropdown\n",
    "    html.Div(\n",
    "        \n",
    "        dcc.Dropdown(\n",
    "        id = 'companies-picker',\n",
    "        options = options2,\n",
    "        value = 'web'),\n",
    "        \n",
    "    style = {'widht':'15%'}\n",
    "    \n",
    "    ),\n",
    "    #plot\n",
    "    dcc.Graph(\n",
    "    id = 'type companies',\n",
    "    config = {'displayModebar':False})\n",
    "    \n",
    "   \n",
    "])#end layout\n",
    "@app.callback(Output(component_id = 'type companies',component_property = 'figure'),\n",
    "             [Input(component_id = 'companies-picker',component_property = 'value')])\n",
    "\n",
    "def graph_state_us(c):\n",
    "    data = [dict(type = 'choropleth', locations = estados, z = usa[c]\n",
    "             , locationmode = 'USA-states', text = 'numero de empresas',\n",
    "            marker = dict(line = dict(color = 'rgb(255,255,255)', width = 2) ), colorbar = dict(title = 'empresas por estado'))]\n",
    "    estetica = dict(title = 'numero de empresas de {}'.format(c), geo = dict(scope = 'usa', projection = dict(type = 'albers usa'), showlakes = True, \n",
    "                                                              lakecolor = 'rgb(100,255,255)'))\n",
    "    fig = go.Figure(data = data, layout = estetica)\n",
    "    return fig\n",
    "    \n",
    "app.run_server()"
   ]
  },
  {
   "cell_type": "markdown",
   "metadata": {},
   "source": [
    "## dashboard 4 tipos de compañia por estados"
   ]
  },
  {
   "cell_type": "code",
   "execution_count": null,
   "metadata": {},
   "outputs": [],
   "source": [
    "external_styleshsheets = ['https://codeopen.io/chriddyp/pen/bWLwgP.css']\n",
    "tickFont = {'size':9,'color':'rgb(30,30,30)'}\n",
    "options3 = [{'label':c, 'value':c} for c in companies]\n"
   ]
  },
  {
   "cell_type": "code",
   "execution_count": null,
   "metadata": {},
   "outputs": [],
   "source": [
    "app = dash.Dash()\n",
    "app.title = 'prueba4'\n",
    "\n",
    "app.layout = html.Div([\n",
    "    \n",
    "    #header\n",
    "    html.H1('probando dashboard'),\n",
    "    #dropdown\n",
    "    html.Div(\n",
    "        \n",
    "        dcc.Dropdown(\n",
    "        id = 'companies-picker',\n",
    "        options = options3,\n",
    "        value = 'web'),\n",
    "        \n",
    "    style = {'widht':'15%'}\n",
    "    \n",
    "    ),\n",
    "    #plot\n",
    "    dcc.Graph(\n",
    "    id = 'type companies',\n",
    "    config = {'displayModebar':False})\n",
    "    \n",
    "   \n",
    "])#end layout\n",
    "@app.callback(Output(component_id = 'type companies',component_property = 'figure'),\n",
    "             [Input(component_id = 'companies-picker',component_property = 'value')])\n",
    "\n",
    "def mapa_cat_state(cat):\n",
    "    g = companies_usa[companies_usa[\"category_code\"]==cat]\n",
    "    fig = px.scatter_mapbox(g, lat=\"latitude\", lon=\"longitude\", hover_name=\"city\", hover_data=[\"state_code\", \"name\"],\n",
    "                        color_discrete_sequence=[\"blue\"], zoom=3, height=300)\n",
    "    fig.update_layout(mapbox_style=\"open-street-map\")\n",
    "    fig.update_layout(margin={\"r\":0,\"t\":0,\"l\":0,\"b\":0})\n",
    "    return fig\n",
    "    \n",
    "app.run_server()"
   ]
  },
  {
   "cell_type": "code",
   "execution_count": null,
   "metadata": {},
   "outputs": [],
   "source": [
    "def mapa_cat_state(cat):\n",
    "    g = companies_usa[companies_usa[\"category_code\"]==cat]\n",
    "    fig = px.scatter_mapbox(g, lat=\"latitude\", lon=\"longitude\", hover_name=\"city\", hover_data=[\"state_code\", \"name\"],\n",
    "                        color_discrete_sequence=[\"blue\"], zoom=3, height=300)\n",
    "    fig.update_layout(mapbox_style=\"open-street-map\")\n",
    "    fig.update_layout(margin={\"r\":0,\"t\":0,\"l\":0,\"b\":0})\n",
    "    return fig"
   ]
  },
  {
   "cell_type": "markdown",
   "metadata": {},
   "source": [
    "## Dashboard Final\n"
   ]
  },
  {
   "cell_type": "code",
   "execution_count": 33,
   "metadata": {},
   "outputs": [],
   "source": [
    "external_styleshsheets = ['https://codeopen.io/chriddyp/pen/bWLwgP.css']\n",
    "tickFont = {'size':9,'color':'rgb(30,30,30)'}\n",
    "options3 = [{'label':c, 'value':c} for c in companies]\n",
    "options = [{'label':c, 'value':c} for c in estados]"
   ]
  },
  {
   "cell_type": "code",
   "execution_count": 26,
   "metadata": {},
   "outputs": [],
   "source": [
    "#external_stylesheets = [\n",
    "    #'https://codepen.io/chriddyp/pen/bWLwgP.css',\n",
    "    #{\n",
    "     #   'href': 'https://stackpath.bootstrapcdn.com/bootstrap/4.1.3/css/bootstrap.min.css',\n",
    "      #  'rel': 'stylesheet',\n",
    "       # 'integrity': 'sha384-MCw98/SFnGE8fJT3GXwEOngsV7Zt27NXFoaoApmYm81iuXoPkFOJwJ8ERdknLPMO',\n",
    "        #'crossorigin': 'anonymous'\n",
    "    #}\n",
    "#]"
   ]
  },
  {
   "cell_type": "code",
   "execution_count": 34,
   "metadata": {},
   "outputs": [
    {
     "name": "stdout",
     "output_type": "stream",
     "text": [
      "Dash is running on http://127.0.0.1:8050/\n",
      "\n",
      "Dash is running on http://127.0.0.1:8050/\n",
      "\n",
      "Dash is running on http://127.0.0.1:8050/\n",
      "\n",
      "Dash is running on http://127.0.0.1:8050/\n",
      "\n",
      "Dash is running on http://127.0.0.1:8050/\n",
      "\n",
      "Dash is running on http://127.0.0.1:8050/\n",
      "\n",
      "Dash is running on http://127.0.0.1:8050/\n",
      "\n",
      " * Serving Flask app \"__main__\" (lazy loading)\n",
      " * Environment: production\n",
      "   WARNING: This is a development server. Do not use it in a production deployment.\n",
      "   Use a production WSGI server instead.\n",
      " * Debug mode: off\n"
     ]
    },
    {
     "name": "stderr",
     "output_type": "stream",
     "text": [
      " * Running on http://127.0.0.1:8050/ (Press CTRL+C to quit)\n",
      "127.0.0.1 - - [11/Nov/2020 09:53:13] \"\u001b[37mGET / HTTP/1.1\u001b[0m\" 200 -\n",
      "127.0.0.1 - - [11/Nov/2020 09:53:14] \"\u001b[37mGET /_dash-layout HTTP/1.1\u001b[0m\" 200 -\n",
      "127.0.0.1 - - [11/Nov/2020 09:53:14] \"\u001b[37mGET /_dash-dependencies HTTP/1.1\u001b[0m\" 200 -\n",
      "127.0.0.1 - - [11/Nov/2020 09:53:15] \"\u001b[37mPOST /_dash-update-component HTTP/1.1\u001b[0m\" 200 -\n",
      "127.0.0.1 - - [11/Nov/2020 09:53:15] \"\u001b[37mPOST /_dash-update-component HTTP/1.1\u001b[0m\" 200 -\n",
      "127.0.0.1 - - [11/Nov/2020 09:53:15] \"\u001b[37mPOST /_dash-update-component HTTP/1.1\u001b[0m\" 200 -\n",
      "127.0.0.1 - - [11/Nov/2020 09:53:15] \"\u001b[37mGET /_dash-component-suites/dash_core_components/async-plotlyjs.v1_13_0m1604001894.js HTTP/1.1\u001b[0m\" 200 -\n",
      "127.0.0.1 - - [11/Nov/2020 09:53:15] \"\u001b[37mPOST /_dash-update-component HTTP/1.1\u001b[0m\" 200 -\n",
      "127.0.0.1 - - [11/Nov/2020 09:53:46] \"\u001b[37mPOST /_dash-update-component HTTP/1.1\u001b[0m\" 200 -\n",
      "127.0.0.1 - - [11/Nov/2020 09:54:55] \"\u001b[37mPOST /_dash-update-component HTTP/1.1\u001b[0m\" 200 -\n",
      "127.0.0.1 - - [11/Nov/2020 09:55:22] \"\u001b[37mPOST /_dash-update-component HTTP/1.1\u001b[0m\" 200 -\n",
      "127.0.0.1 - - [11/Nov/2020 09:55:29] \"\u001b[37mPOST /_dash-update-component HTTP/1.1\u001b[0m\" 200 -\n",
      "127.0.0.1 - - [11/Nov/2020 09:55:34] \"\u001b[37mPOST /_dash-update-component HTTP/1.1\u001b[0m\" 200 -\n",
      "127.0.0.1 - - [11/Nov/2020 09:55:54] \"\u001b[37mPOST /_dash-update-component HTTP/1.1\u001b[0m\" 200 -\n",
      "127.0.0.1 - - [11/Nov/2020 09:56:30] \"\u001b[37mPOST /_dash-update-component HTTP/1.1\u001b[0m\" 200 -\n"
     ]
    }
   ],
   "source": [
    "#llamando a dash\n",
    "app = dash.Dash(__name__,\n",
    "                external_stylesheets=external_stylesheets)\n",
    "app.title = 'Dashboard interactive'\n",
    "#inicio layout\n",
    "app.layout = html.Div([\n",
    "    \n",
    "    #header\n",
    "    html.H1('Dashboard interactive companies'),\n",
    "    #dropdown primer grafico\n",
    "    html.Div(\n",
    "        \n",
    "        dcc.Dropdown(\n",
    "        id = 'companies-picker',\n",
    "        options = options3,\n",
    "        value = 'web'),\n",
    "        \n",
    "    style = {'widht':'15%'}\n",
    "    \n",
    "    ),\n",
    "    #plot primero grafico\n",
    "    dcc.Graph(\n",
    "    id = 'type companies1',\n",
    "    config = {'displayModebar':False}),\n",
    "    \n",
    "    html.Div(\n",
    "        #dropdown segundo grafico\n",
    "        dcc.Dropdown(\n",
    "        id = 'states-picker',\n",
    "        options = options,\n",
    "        value = 'CA'),\n",
    "    style = {'widht': '15%'}),\n",
    "    #plot segundo gráfico\n",
    "    dcc.Graph(\n",
    "    id = 'type companies2',\n",
    "    config = {'displayModebar':False}),\n",
    "    #dropdown tercer grafico\n",
    "    html.Div(\n",
    "        dcc.Dropdown(\n",
    "        id = 'states-picker2',\n",
    "        options = options,\n",
    "        value = 'CA'),\n",
    "    style = {'widht': '15%'}),\n",
    "    #plot tercer grafico\n",
    "    dcc.Graph(\n",
    "    id = 'type companies3',\n",
    "    config = {'displayModebar':False}),\n",
    "    #dropdown cuarto grafico \n",
    "    html.Div(\n",
    "        \n",
    "        dcc.Dropdown(\n",
    "        id = 'states-picker3',\n",
    "        options = options,\n",
    "        value = 'CA'),\n",
    "        \n",
    "    style = {'widht':'15%'}\n",
    "    \n",
    "    ),\n",
    "    #plot cuarto grafico\n",
    "    dcc.Graph(\n",
    "    id = 'propertys',\n",
    "    config = {'displayModebar':False})\n",
    "    \n",
    "    \n",
    "  \n",
    "   \n",
    "])#fin layout\n",
    "@app.callback(Output(component_id = 'type companies1',component_property = 'figure'),\n",
    "             [Input(component_id = 'companies-picker',component_property = 'value')])\n",
    "#primer grafico de ubicaciones actuales de las empresas\n",
    "def mapa_cat_state(cat):\n",
    "    g = companies_usa[companies_usa[\"category_code\"]==cat]\n",
    "    fig = px.scatter_mapbox(g, lat=\"latitude\", lon=\"longitude\", hover_name=\"city\", hover_data=[\"state_code\", \"name\"],\n",
    "                        color_discrete_sequence=[\"blue\"], zoom=3, height=300)\n",
    "    fig.update_layout(mapbox_style=\"open-street-map\")\n",
    "    fig.update_layout(margin={\"r\":0,\"t\":0,\"l\":0,\"b\":0})\n",
    "    return fig\n",
    "\n",
    "@app.callback(Output(component_id = 'type companies2',component_property = 'figure'),\n",
    "             [Input(component_id = 'states-picker',component_property = 'value')])\n",
    "#segundo grafico de barras de tipos de compañias por estado\n",
    "def graph_state(state):\n",
    "    j = companies_usa.category_code[companies_usa['state_code']==state].value_counts()\n",
    "    data = [go.Bar(\n",
    "       x = j.index,\n",
    "       y = j.values)]\n",
    "    fig = go.Figure(data=data)\n",
    "    return fig  \n",
    "    \n",
    "@app.callback(Output(component_id = 'type companies3',component_property = 'figure'),\n",
    "             [Input(component_id = 'states-picker2',component_property = 'value')])\n",
    "#tercer gráfico de pie para total money raised por compañia y estado\n",
    "def graph_state_pie(state):\n",
    "    y = companies_usa[['category_code','total_money']][companies_usa['state_code']==state].sort_values(by = 'total_money',ascending=False)\n",
    "    fig = px.pie(y, values=y['total_money'].head(40), names=y['category_code'].head(40), title='Total money raised for industry')\n",
    "    return fig \n",
    "\n",
    "\n",
    "@app.callback(Output(component_id = 'propertys',component_property = 'figure'),\n",
    "             [Input(component_id = 'states-picker3',component_property = 'value')])\n",
    "#cuarto grafico de ubicaciones de oficinas en renta\n",
    "def mapa_state_21(state):\n",
    "    \n",
    "    g = century[century [\"state\"]==state]\n",
    "    fig = px.scatter_mapbox(g, lat=\"latitud\", lon=\"longitud\", hover_name=\"state\", hover_data=[\"latitud\", \"longitud\"],\n",
    "                        color_discrete_sequence=[\"red\"], zoom=3, height=300)\n",
    "    fig.update_layout(mapbox_style=\"open-street-map\")\n",
    "    fig.update_layout(margin={\"r\":0,\"t\":0,\"l\":0,\"b\":0})\n",
    "    return fig\n",
    "\n",
    "if __name__ == '__main__':\n",
    "    app.run_server()"
   ]
  },
  {
   "cell_type": "code",
   "execution_count": 10,
   "metadata": {},
   "outputs": [],
   "source": [
    "century.to_csv('century.csv')\n",
    "#guardando por si no carga mañana"
   ]
  },
  {
   "cell_type": "code",
   "execution_count": null,
   "metadata": {},
   "outputs": [],
   "source": []
  },
  {
   "cell_type": "code",
   "execution_count": null,
   "metadata": {},
   "outputs": [],
   "source": []
  },
  {
   "cell_type": "code",
   "execution_count": null,
   "metadata": {},
   "outputs": [],
   "source": []
  },
  {
   "cell_type": "code",
   "execution_count": null,
   "metadata": {},
   "outputs": [],
   "source": []
  },
  {
   "cell_type": "code",
   "execution_count": null,
   "metadata": {},
   "outputs": [],
   "source": []
  }
 ],
 "metadata": {
  "kernelspec": {
   "display_name": "Python 3",
   "language": "python",
   "name": "python3"
  },
  "language_info": {
   "codemirror_mode": {
    "name": "ipython",
    "version": 3
   },
   "file_extension": ".py",
   "mimetype": "text/x-python",
   "name": "python",
   "nbconvert_exporter": "python",
   "pygments_lexer": "ipython3",
   "version": "3.7.6"
  }
 },
 "nbformat": 4,
 "nbformat_minor": 4
}
