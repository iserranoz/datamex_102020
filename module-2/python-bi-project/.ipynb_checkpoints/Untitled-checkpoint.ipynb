{
 "cells": [
  {
   "cell_type": "code",
   "execution_count": null,
   "metadata": {},
   "outputs": [],
   "source": [
    "pip install pymongo\n"
   ]
  },
  {
   "cell_type": "code",
   "execution_count": 1,
   "metadata": {},
   "outputs": [],
   "source": [
    "from pymongo import MongoClient"
   ]
  },
  {
   "cell_type": "code",
   "execution_count": 3,
   "metadata": {},
   "outputs": [],
   "source": [
    "client = MongoClient('localhost')"
   ]
  },
  {
   "cell_type": "code",
   "execution_count": 10,
   "metadata": {},
   "outputs": [
    {
     "name": "stdout",
     "output_type": "stream",
     "text": [
      "['admin', 'config', 'local']\n"
     ]
    }
   ],
   "source": [
    "print(db.client.list_database_names())"
   ]
  },
  {
   "cell_type": "code",
   "execution_count": 5,
   "metadata": {},
   "outputs": [],
   "source": [
    "db = client['prueba']"
   ]
  },
  {
   "cell_type": "code",
   "execution_count": 11,
   "metadata": {},
   "outputs": [],
   "source": [
    "col = db['personas']"
   ]
  },
  {
   "cell_type": "code",
   "execution_count": 12,
   "metadata": {},
   "outputs": [
    {
     "name": "stdout",
     "output_type": "stream",
     "text": [
      "['admin', 'config', 'local']\n"
     ]
    }
   ],
   "source": [
    "print(db.client.list_database_names())"
   ]
  },
  {
   "cell_type": "code",
   "execution_count": 13,
   "metadata": {},
   "outputs": [
    {
     "data": {
      "text/plain": [
       "<pymongo.results.InsertOneResult at 0x7fe59eae1fa0>"
      ]
     },
     "execution_count": 13,
     "metadata": {},
     "output_type": "execute_result"
    }
   ],
   "source": [
    "col.insert_one({'edad':20,'nombre':'ivan','interes':'sjsjsj'})"
   ]
  },
  {
   "cell_type": "code",
   "execution_count": 14,
   "metadata": {},
   "outputs": [
    {
     "name": "stdout",
     "output_type": "stream",
     "text": [
      "1\n"
     ]
    }
   ],
   "source": [
    "print(col.count_documents({}))"
   ]
  },
  {
   "cell_type": "code",
   "execution_count": 15,
   "metadata": {},
   "outputs": [
    {
     "name": "stdout",
     "output_type": "stream",
     "text": [
      "['admin', 'config', 'local', 'prueba']\n"
     ]
    }
   ],
   "source": [
    "print(client.list_database_names())"
   ]
  },
  {
   "cell_type": "code",
   "execution_count": 16,
   "metadata": {},
   "outputs": [],
   "source": [
    "import json"
   ]
  },
  {
   "cell_type": "code",
   "execution_count": 20,
   "metadata": {},
   "outputs": [
    {
     "ename": "JSONDecodeError",
     "evalue": "Extra data: line 2 column 1 (char 11283)",
     "output_type": "error",
     "traceback": [
      "\u001b[0;31m---------------------------------------------------------------------------\u001b[0m",
      "\u001b[0;31mJSONDecodeError\u001b[0m                           Traceback (most recent call last)",
      "\u001b[0;32m<ipython-input-20-72e3f11736d5>\u001b[0m in \u001b[0;36m<module>\u001b[0;34m\u001b[0m\n\u001b[1;32m      3\u001b[0m \u001b[0;34m\u001b[0m\u001b[0m\n\u001b[1;32m      4\u001b[0m \u001b[0;32mwith\u001b[0m \u001b[0mopen\u001b[0m\u001b[0;34m(\u001b[0m\u001b[0;34m\"companies.json\"\u001b[0m\u001b[0;34m)\u001b[0m \u001b[0;32mas\u001b[0m \u001b[0mf\u001b[0m\u001b[0;34m:\u001b[0m\u001b[0;34m\u001b[0m\u001b[0;34m\u001b[0m\u001b[0m\n\u001b[0;32m----> 5\u001b[0;31m     \u001b[0mfile_data\u001b[0m \u001b[0;34m=\u001b[0m \u001b[0mjson\u001b[0m\u001b[0;34m.\u001b[0m\u001b[0mload\u001b[0m\u001b[0;34m(\u001b[0m\u001b[0mf\u001b[0m\u001b[0;34m)\u001b[0m\u001b[0;34m\u001b[0m\u001b[0;34m\u001b[0m\u001b[0m\n\u001b[0m\u001b[1;32m      6\u001b[0m \u001b[0;34m\u001b[0m\u001b[0m\n\u001b[1;32m      7\u001b[0m     \u001b[0mcollection_currency\u001b[0m\u001b[0;34m.\u001b[0m\u001b[0minsert\u001b[0m\u001b[0;34m(\u001b[0m\u001b[0mfile_data\u001b[0m\u001b[0;34m)\u001b[0m\u001b[0;34m\u001b[0m\u001b[0;34m\u001b[0m\u001b[0m\n",
      "\u001b[0;32m/opt/anaconda3/lib/python3.7/json/__init__.py\u001b[0m in \u001b[0;36mload\u001b[0;34m(fp, cls, object_hook, parse_float, parse_int, parse_constant, object_pairs_hook, **kw)\u001b[0m\n\u001b[1;32m    294\u001b[0m         \u001b[0mcls\u001b[0m\u001b[0;34m=\u001b[0m\u001b[0mcls\u001b[0m\u001b[0;34m,\u001b[0m \u001b[0mobject_hook\u001b[0m\u001b[0;34m=\u001b[0m\u001b[0mobject_hook\u001b[0m\u001b[0;34m,\u001b[0m\u001b[0;34m\u001b[0m\u001b[0;34m\u001b[0m\u001b[0m\n\u001b[1;32m    295\u001b[0m         \u001b[0mparse_float\u001b[0m\u001b[0;34m=\u001b[0m\u001b[0mparse_float\u001b[0m\u001b[0;34m,\u001b[0m \u001b[0mparse_int\u001b[0m\u001b[0;34m=\u001b[0m\u001b[0mparse_int\u001b[0m\u001b[0;34m,\u001b[0m\u001b[0;34m\u001b[0m\u001b[0;34m\u001b[0m\u001b[0m\n\u001b[0;32m--> 296\u001b[0;31m         parse_constant=parse_constant, object_pairs_hook=object_pairs_hook, **kw)\n\u001b[0m\u001b[1;32m    297\u001b[0m \u001b[0;34m\u001b[0m\u001b[0m\n\u001b[1;32m    298\u001b[0m \u001b[0;34m\u001b[0m\u001b[0m\n",
      "\u001b[0;32m/opt/anaconda3/lib/python3.7/json/__init__.py\u001b[0m in \u001b[0;36mloads\u001b[0;34m(s, encoding, cls, object_hook, parse_float, parse_int, parse_constant, object_pairs_hook, **kw)\u001b[0m\n\u001b[1;32m    346\u001b[0m             \u001b[0mparse_int\u001b[0m \u001b[0;32mis\u001b[0m \u001b[0;32mNone\u001b[0m \u001b[0;32mand\u001b[0m \u001b[0mparse_float\u001b[0m \u001b[0;32mis\u001b[0m \u001b[0;32mNone\u001b[0m \u001b[0;32mand\u001b[0m\u001b[0;34m\u001b[0m\u001b[0;34m\u001b[0m\u001b[0m\n\u001b[1;32m    347\u001b[0m             parse_constant is None and object_pairs_hook is None and not kw):\n\u001b[0;32m--> 348\u001b[0;31m         \u001b[0;32mreturn\u001b[0m \u001b[0m_default_decoder\u001b[0m\u001b[0;34m.\u001b[0m\u001b[0mdecode\u001b[0m\u001b[0;34m(\u001b[0m\u001b[0ms\u001b[0m\u001b[0;34m)\u001b[0m\u001b[0;34m\u001b[0m\u001b[0;34m\u001b[0m\u001b[0m\n\u001b[0m\u001b[1;32m    349\u001b[0m     \u001b[0;32mif\u001b[0m \u001b[0mcls\u001b[0m \u001b[0;32mis\u001b[0m \u001b[0;32mNone\u001b[0m\u001b[0;34m:\u001b[0m\u001b[0;34m\u001b[0m\u001b[0;34m\u001b[0m\u001b[0m\n\u001b[1;32m    350\u001b[0m         \u001b[0mcls\u001b[0m \u001b[0;34m=\u001b[0m \u001b[0mJSONDecoder\u001b[0m\u001b[0;34m\u001b[0m\u001b[0;34m\u001b[0m\u001b[0m\n",
      "\u001b[0;32m/opt/anaconda3/lib/python3.7/json/decoder.py\u001b[0m in \u001b[0;36mdecode\u001b[0;34m(self, s, _w)\u001b[0m\n\u001b[1;32m    338\u001b[0m         \u001b[0mend\u001b[0m \u001b[0;34m=\u001b[0m \u001b[0m_w\u001b[0m\u001b[0;34m(\u001b[0m\u001b[0ms\u001b[0m\u001b[0;34m,\u001b[0m \u001b[0mend\u001b[0m\u001b[0;34m)\u001b[0m\u001b[0;34m.\u001b[0m\u001b[0mend\u001b[0m\u001b[0;34m(\u001b[0m\u001b[0;34m)\u001b[0m\u001b[0;34m\u001b[0m\u001b[0;34m\u001b[0m\u001b[0m\n\u001b[1;32m    339\u001b[0m         \u001b[0;32mif\u001b[0m \u001b[0mend\u001b[0m \u001b[0;34m!=\u001b[0m \u001b[0mlen\u001b[0m\u001b[0;34m(\u001b[0m\u001b[0ms\u001b[0m\u001b[0;34m)\u001b[0m\u001b[0;34m:\u001b[0m\u001b[0;34m\u001b[0m\u001b[0;34m\u001b[0m\u001b[0m\n\u001b[0;32m--> 340\u001b[0;31m             \u001b[0;32mraise\u001b[0m \u001b[0mJSONDecodeError\u001b[0m\u001b[0;34m(\u001b[0m\u001b[0;34m\"Extra data\"\u001b[0m\u001b[0;34m,\u001b[0m \u001b[0ms\u001b[0m\u001b[0;34m,\u001b[0m \u001b[0mend\u001b[0m\u001b[0;34m)\u001b[0m\u001b[0;34m\u001b[0m\u001b[0;34m\u001b[0m\u001b[0m\n\u001b[0m\u001b[1;32m    341\u001b[0m         \u001b[0;32mreturn\u001b[0m \u001b[0mobj\u001b[0m\u001b[0;34m\u001b[0m\u001b[0;34m\u001b[0m\u001b[0m\n\u001b[1;32m    342\u001b[0m \u001b[0;34m\u001b[0m\u001b[0m\n",
      "\u001b[0;31mJSONDecodeError\u001b[0m: Extra data: line 2 column 1 (char 11283)"
     ]
    }
   ],
   "source": [
    "db = client[\"companies\"]\n",
    "collection_currency = db[\"companies\"]\n",
    "\n",
    "with open(\"companies.json\") as f:\n",
    "    file_data = json.load(f)\n",
    "\n",
    "    collection_currency.insert(file_data)\n",
    "    client.close()"
   ]
  },
  {
   "cell_type": "code",
   "execution_count": 40,
   "metadata": {},
   "outputs": [],
   "source": [
    "from pymongo import *\n",
    "import json\n",
    "def importacion_json():\n",
    "    \n",
    "    print (\"\\nSe conectara al Servidor de Base de Datos Local.\")\n",
    "    conexion = MongoClient('localhost') #La conexion sera local\n",
    "    #Variable de referencia de la base de datos.\n",
    "    ndb = 'prueba'\n",
    "    db = conexion[ndb] #Conexion a la db\n",
    "    #Variable de referencia a la coleccion que se usara.\n",
    "    col = \"personas\"\n",
    "    coleccion = db[col]\n",
    "    #Variable que contendra la ruta del archivo .json\n",
    "    archivo = 'companies.json'\n",
    "\n",
    "    print (\"\\nLos datos ingresados son:\")\n",
    "    print (\"Base de datos: \" + str(db))\n",
    "    print (\"Coleccion: \" + str(coleccion))\n",
    "    print (\"Ruta del archivo .json: \" + str(archivo))\n",
    "    #respuesta = raw_input(\"\\nEstos datos son correctos? (s/n): \")\n",
    "    #if respuesta == \"s\":\n",
    "    #Abriendo el archivo con la funcion open()\n",
    "    f = open(str(archivo), 'r')\n",
    "    #Recorriendo las lineas del archivo\n",
    "    for linea in f:\n",
    "    #Insertando los registros en la DB \n",
    "        dic = json.loads(linea) #Crea los diccionarios a partir del string linea\n",
    "        coleccion.insert(dic)\n",
    "    #Cerramos el archivo\n",
    "    f.close()\n",
    "    print (\"\\nSe han importado los datos exitosamente!\")\n",
    "    #else:\n",
    "        #print (\"\\nAccion Cancelada.\")"
   ]
  },
  {
   "cell_type": "code",
   "execution_count": 28,
   "metadata": {},
   "outputs": [],
   "source": [
    "import os"
   ]
  },
  {
   "cell_type": "code",
   "execution_count": 42,
   "metadata": {},
   "outputs": [
    {
     "ename": "JSONDecodeError",
     "evalue": "Expecting value: line 1 column 1 (char 0)",
     "output_type": "error",
     "traceback": [
      "\u001b[0;31m---------------------------------------------------------------------------\u001b[0m",
      "\u001b[0;31mJSONDecodeError\u001b[0m                           Traceback (most recent call last)",
      "\u001b[0;32m<ipython-input-42-abd655fc5bae>\u001b[0m in \u001b[0;36m<module>\u001b[0;34m\u001b[0m\n\u001b[0;32m----> 1\u001b[0;31m \u001b[0mdic\u001b[0m \u001b[0;34m=\u001b[0m \u001b[0mjson\u001b[0m\u001b[0;34m.\u001b[0m\u001b[0mloads\u001b[0m\u001b[0;34m(\u001b[0m\u001b[0;34m'companies.json'\u001b[0m\u001b[0;34m)\u001b[0m\u001b[0;34m\u001b[0m\u001b[0;34m\u001b[0m\u001b[0m\n\u001b[0m",
      "\u001b[0;32m/opt/anaconda3/lib/python3.7/json/__init__.py\u001b[0m in \u001b[0;36mloads\u001b[0;34m(s, encoding, cls, object_hook, parse_float, parse_int, parse_constant, object_pairs_hook, **kw)\u001b[0m\n\u001b[1;32m    346\u001b[0m             \u001b[0mparse_int\u001b[0m \u001b[0;32mis\u001b[0m \u001b[0;32mNone\u001b[0m \u001b[0;32mand\u001b[0m \u001b[0mparse_float\u001b[0m \u001b[0;32mis\u001b[0m \u001b[0;32mNone\u001b[0m \u001b[0;32mand\u001b[0m\u001b[0;34m\u001b[0m\u001b[0;34m\u001b[0m\u001b[0m\n\u001b[1;32m    347\u001b[0m             parse_constant is None and object_pairs_hook is None and not kw):\n\u001b[0;32m--> 348\u001b[0;31m         \u001b[0;32mreturn\u001b[0m \u001b[0m_default_decoder\u001b[0m\u001b[0;34m.\u001b[0m\u001b[0mdecode\u001b[0m\u001b[0;34m(\u001b[0m\u001b[0ms\u001b[0m\u001b[0;34m)\u001b[0m\u001b[0;34m\u001b[0m\u001b[0;34m\u001b[0m\u001b[0m\n\u001b[0m\u001b[1;32m    349\u001b[0m     \u001b[0;32mif\u001b[0m \u001b[0mcls\u001b[0m \u001b[0;32mis\u001b[0m \u001b[0;32mNone\u001b[0m\u001b[0;34m:\u001b[0m\u001b[0;34m\u001b[0m\u001b[0;34m\u001b[0m\u001b[0m\n\u001b[1;32m    350\u001b[0m         \u001b[0mcls\u001b[0m \u001b[0;34m=\u001b[0m \u001b[0mJSONDecoder\u001b[0m\u001b[0;34m\u001b[0m\u001b[0;34m\u001b[0m\u001b[0m\n",
      "\u001b[0;32m/opt/anaconda3/lib/python3.7/json/decoder.py\u001b[0m in \u001b[0;36mdecode\u001b[0;34m(self, s, _w)\u001b[0m\n\u001b[1;32m    335\u001b[0m \u001b[0;34m\u001b[0m\u001b[0m\n\u001b[1;32m    336\u001b[0m         \"\"\"\n\u001b[0;32m--> 337\u001b[0;31m         \u001b[0mobj\u001b[0m\u001b[0;34m,\u001b[0m \u001b[0mend\u001b[0m \u001b[0;34m=\u001b[0m \u001b[0mself\u001b[0m\u001b[0;34m.\u001b[0m\u001b[0mraw_decode\u001b[0m\u001b[0;34m(\u001b[0m\u001b[0ms\u001b[0m\u001b[0;34m,\u001b[0m \u001b[0midx\u001b[0m\u001b[0;34m=\u001b[0m\u001b[0m_w\u001b[0m\u001b[0;34m(\u001b[0m\u001b[0ms\u001b[0m\u001b[0;34m,\u001b[0m \u001b[0;36m0\u001b[0m\u001b[0;34m)\u001b[0m\u001b[0;34m.\u001b[0m\u001b[0mend\u001b[0m\u001b[0;34m(\u001b[0m\u001b[0;34m)\u001b[0m\u001b[0;34m)\u001b[0m\u001b[0;34m\u001b[0m\u001b[0;34m\u001b[0m\u001b[0m\n\u001b[0m\u001b[1;32m    338\u001b[0m         \u001b[0mend\u001b[0m \u001b[0;34m=\u001b[0m \u001b[0m_w\u001b[0m\u001b[0;34m(\u001b[0m\u001b[0ms\u001b[0m\u001b[0;34m,\u001b[0m \u001b[0mend\u001b[0m\u001b[0;34m)\u001b[0m\u001b[0;34m.\u001b[0m\u001b[0mend\u001b[0m\u001b[0;34m(\u001b[0m\u001b[0;34m)\u001b[0m\u001b[0;34m\u001b[0m\u001b[0;34m\u001b[0m\u001b[0m\n\u001b[1;32m    339\u001b[0m         \u001b[0;32mif\u001b[0m \u001b[0mend\u001b[0m \u001b[0;34m!=\u001b[0m \u001b[0mlen\u001b[0m\u001b[0;34m(\u001b[0m\u001b[0ms\u001b[0m\u001b[0;34m)\u001b[0m\u001b[0;34m:\u001b[0m\u001b[0;34m\u001b[0m\u001b[0;34m\u001b[0m\u001b[0m\n",
      "\u001b[0;32m/opt/anaconda3/lib/python3.7/json/decoder.py\u001b[0m in \u001b[0;36mraw_decode\u001b[0;34m(self, s, idx)\u001b[0m\n\u001b[1;32m    353\u001b[0m             \u001b[0mobj\u001b[0m\u001b[0;34m,\u001b[0m \u001b[0mend\u001b[0m \u001b[0;34m=\u001b[0m \u001b[0mself\u001b[0m\u001b[0;34m.\u001b[0m\u001b[0mscan_once\u001b[0m\u001b[0;34m(\u001b[0m\u001b[0ms\u001b[0m\u001b[0;34m,\u001b[0m \u001b[0midx\u001b[0m\u001b[0;34m)\u001b[0m\u001b[0;34m\u001b[0m\u001b[0;34m\u001b[0m\u001b[0m\n\u001b[1;32m    354\u001b[0m         \u001b[0;32mexcept\u001b[0m \u001b[0mStopIteration\u001b[0m \u001b[0;32mas\u001b[0m \u001b[0merr\u001b[0m\u001b[0;34m:\u001b[0m\u001b[0;34m\u001b[0m\u001b[0;34m\u001b[0m\u001b[0m\n\u001b[0;32m--> 355\u001b[0;31m             \u001b[0;32mraise\u001b[0m \u001b[0mJSONDecodeError\u001b[0m\u001b[0;34m(\u001b[0m\u001b[0;34m\"Expecting value\"\u001b[0m\u001b[0;34m,\u001b[0m \u001b[0ms\u001b[0m\u001b[0;34m,\u001b[0m \u001b[0merr\u001b[0m\u001b[0;34m.\u001b[0m\u001b[0mvalue\u001b[0m\u001b[0;34m)\u001b[0m \u001b[0;32mfrom\u001b[0m \u001b[0;32mNone\u001b[0m\u001b[0;34m\u001b[0m\u001b[0;34m\u001b[0m\u001b[0m\n\u001b[0m\u001b[1;32m    356\u001b[0m         \u001b[0;32mreturn\u001b[0m \u001b[0mobj\u001b[0m\u001b[0;34m,\u001b[0m \u001b[0mend\u001b[0m\u001b[0;34m\u001b[0m\u001b[0;34m\u001b[0m\u001b[0m\n",
      "\u001b[0;31mJSONDecodeError\u001b[0m: Expecting value: line 1 column 1 (char 0)"
     ]
    }
   ],
   "source": [
    "dic = json.loads('companies.json')"
   ]
  },
  {
   "cell_type": "code",
   "execution_count": 43,
   "metadata": {},
   "outputs": [
    {
     "name": "stdout",
     "output_type": "stream",
     "text": [
      "['admin', 'config', 'ironhack', 'local', 'prueba']\n"
     ]
    }
   ],
   "source": [
    "print(db.client.list_database_names())"
   ]
  },
  {
   "cell_type": "code",
   "execution_count": 44,
   "metadata": {},
   "outputs": [],
   "source": [
    "col = db['ironhack']"
   ]
  },
  {
   "cell_type": "code",
   "execution_count": 49,
   "metadata": {},
   "outputs": [
    {
     "name": "stdout",
     "output_type": "stream",
     "text": [
      "18801\n"
     ]
    }
   ],
   "source": [
    "print(col.count_documents({}))"
   ]
  },
  {
   "cell_type": "code",
   "execution_count": null,
   "metadata": {},
   "outputs": [],
   "source": []
  },
  {
   "cell_type": "code",
   "execution_count": null,
   "metadata": {},
   "outputs": [],
   "source": []
  },
  {
   "cell_type": "code",
   "execution_count": null,
   "metadata": {},
   "outputs": [],
   "source": []
  },
  {
   "cell_type": "code",
   "execution_count": 47,
   "metadata": {},
   "outputs": [],
   "source": [
    "db = client['ironhack']"
   ]
  },
  {
   "cell_type": "code",
   "execution_count": 48,
   "metadata": {},
   "outputs": [],
   "source": [
    "col = db['companies']"
   ]
  },
  {
   "cell_type": "code",
   "execution_count": null,
   "metadata": {},
   "outputs": [],
   "source": [
    "for i in col."
   ]
  },
  {
   "cell_type": "code",
   "execution_count": 56,
   "metadata": {},
   "outputs": [],
   "source": [
    "p = col.find_one()"
   ]
  },
  {
   "cell_type": "code",
   "execution_count": 65,
   "metadata": {},
   "outputs": [
    {
     "data": {
      "text/plain": [
       "dict"
      ]
     },
     "execution_count": 65,
     "metadata": {},
     "output_type": "execute_result"
    }
   ],
   "source": [
    "type(p)"
   ]
  },
  {
   "cell_type": "code",
   "execution_count": 66,
   "metadata": {},
   "outputs": [
    {
     "data": {
      "text/plain": [
       "pymongo.collection.Collection"
      ]
     },
     "execution_count": 66,
     "metadata": {},
     "output_type": "execute_result"
    }
   ],
   "source": [
    "type(col)"
   ]
  },
  {
   "cell_type": "code",
   "execution_count": null,
   "metadata": {},
   "outputs": [],
   "source": [
    "companies = json.load(col)"
   ]
  },
  {
   "cell_type": "code",
   "execution_count": 67,
   "metadata": {},
   "outputs": [],
   "source": [
    "import pandas as pd\n",
    "import json\n",
    "from pandas.io.json import json_normalize"
   ]
  },
  {
   "cell_type": "code",
   "execution_count": 71,
   "metadata": {},
   "outputs": [
    {
     "name": "stderr",
     "output_type": "stream",
     "text": [
      "/opt/anaconda3/lib/python3.7/site-packages/ipykernel_launcher.py:1: FutureWarning: pandas.io.json.json_normalize is deprecated, use pandas.json_normalize instead\n",
      "  \"\"\"Entry point for launching an IPython kernel.\n"
     ]
    }
   ],
   "source": [
    "r = json_normalize(p)"
   ]
  },
  {
   "cell_type": "code",
   "execution_count": 96,
   "metadata": {},
   "outputs": [
    {
     "data": {
      "text/plain": [
       "Collection(Database(MongoClient(host=['localhost:27017'], document_class=dict, tz_aware=False, connect=True), 'ironhack'), 'companies')"
      ]
     },
     "execution_count": 96,
     "metadata": {},
     "output_type": "execute_result"
    }
   ],
   "source": [
    "col"
   ]
  },
  {
   "cell_type": "code",
   "execution_count": 88,
   "metadata": {},
   "outputs": [
    {
     "data": {
      "text/plain": [
       "0    enterprise\n",
       "Name: category_code, dtype: object"
      ]
     },
     "execution_count": 88,
     "metadata": {},
     "output_type": "execute_result"
    }
   ],
   "source": [
    "r.category_code"
   ]
  },
  {
   "cell_type": "code",
   "execution_count": 89,
   "metadata": {},
   "outputs": [
    {
     "data": {
      "text/plain": [
       "0    Server Management Software\n",
       "Name: description, dtype: object"
      ]
     },
     "execution_count": 89,
     "metadata": {},
     "output_type": "execute_result"
    }
   ],
   "source": [
    "r.description"
   ]
  },
  {
   "cell_type": "code",
   "execution_count": 94,
   "metadata": {},
   "outputs": [
    {
     "data": {
      "text/html": [
       "<div>\n",
       "<style scoped>\n",
       "    .dataframe tbody tr th:only-of-type {\n",
       "        vertical-align: middle;\n",
       "    }\n",
       "\n",
       "    .dataframe tbody tr th {\n",
       "        vertical-align: top;\n",
       "    }\n",
       "\n",
       "    .dataframe thead th {\n",
       "        text-align: right;\n",
       "    }\n",
       "</style>\n",
       "<table border=\"1\" class=\"dataframe\">\n",
       "  <thead>\n",
       "    <tr style=\"text-align: right;\">\n",
       "      <th></th>\n",
       "      <th>_id</th>\n",
       "      <th>name</th>\n",
       "      <th>permalink</th>\n",
       "      <th>crunchbase_url</th>\n",
       "      <th>homepage_url</th>\n",
       "      <th>blog_url</th>\n",
       "      <th>blog_feed_url</th>\n",
       "      <th>twitter_username</th>\n",
       "      <th>category_code</th>\n",
       "      <th>number_of_employees</th>\n",
       "      <th>...</th>\n",
       "      <th>investments</th>\n",
       "      <th>acquisition</th>\n",
       "      <th>acquisitions</th>\n",
       "      <th>offices</th>\n",
       "      <th>milestones</th>\n",
       "      <th>video_embeds</th>\n",
       "      <th>screenshots</th>\n",
       "      <th>external_links</th>\n",
       "      <th>partners</th>\n",
       "      <th>image.available_sizes</th>\n",
       "    </tr>\n",
       "  </thead>\n",
       "  <tbody>\n",
       "    <tr>\n",
       "      <th>0</th>\n",
       "      <td>52cdef7c4bab8bd675297d8b</td>\n",
       "      <td>AdventNet</td>\n",
       "      <td>abc3</td>\n",
       "      <td>http://www.crunchbase.com/company/adventnet</td>\n",
       "      <td>http://adventnet.com</td>\n",
       "      <td></td>\n",
       "      <td></td>\n",
       "      <td>manageengine</td>\n",
       "      <td>enterprise</td>\n",
       "      <td>600</td>\n",
       "      <td>...</td>\n",
       "      <td>[]</td>\n",
       "      <td>None</td>\n",
       "      <td>[]</td>\n",
       "      <td>[{'description': 'Headquarters', 'address1': '...</td>\n",
       "      <td>[]</td>\n",
       "      <td>[]</td>\n",
       "      <td>[{'available_sizes': [[[150, 94], 'assets/imag...</td>\n",
       "      <td>[]</td>\n",
       "      <td>[]</td>\n",
       "      <td>[[[150, 55], assets/images/resized/0001/9732/1...</td>\n",
       "    </tr>\n",
       "  </tbody>\n",
       "</table>\n",
       "<p>1 rows × 36 columns</p>\n",
       "</div>"
      ],
      "text/plain": [
       "                        _id       name permalink  \\\n",
       "0  52cdef7c4bab8bd675297d8b  AdventNet      abc3   \n",
       "\n",
       "                                crunchbase_url          homepage_url blog_url  \\\n",
       "0  http://www.crunchbase.com/company/adventnet  http://adventnet.com            \n",
       "\n",
       "  blog_feed_url twitter_username category_code  number_of_employees  ...  \\\n",
       "0                   manageengine    enterprise                  600  ...   \n",
       "\n",
       "   investments  acquisition acquisitions  \\\n",
       "0           []         None           []   \n",
       "\n",
       "                                             offices milestones video_embeds  \\\n",
       "0  [{'description': 'Headquarters', 'address1': '...         []           []   \n",
       "\n",
       "                                         screenshots external_links partners  \\\n",
       "0  [{'available_sizes': [[[150, 94], 'assets/imag...             []       []   \n",
       "\n",
       "                               image.available_sizes  \n",
       "0  [[[150, 55], assets/images/resized/0001/9732/1...  \n",
       "\n",
       "[1 rows x 36 columns]"
      ]
     },
     "execution_count": 94,
     "metadata": {},
     "output_type": "execute_result"
    }
   ],
   "source": [
    "r"
   ]
  },
  {
   "cell_type": "code",
   "execution_count": 101,
   "metadata": {},
   "outputs": [],
   "source": [
    "doc = col.find_one({'_id':'52cdef7c4bab8bd675297d8b'})"
   ]
  },
  {
   "cell_type": "code",
   "execution_count": 102,
   "metadata": {},
   "outputs": [],
   "source": [
    "doc"
   ]
  },
  {
   "cell_type": "code",
   "execution_count": 103,
   "metadata": {},
   "outputs": [
    {
     "name": "stdout",
     "output_type": "stream",
     "text": [
      "<class 'pandas.core.frame.DataFrame'>\n",
      "RangeIndex: 1 entries, 0 to 0\n",
      "Data columns (total 36 columns):\n",
      " #   Column                 Non-Null Count  Dtype         \n",
      "---  ------                 --------------  -----         \n",
      " 0   _id                    1 non-null      object        \n",
      " 1   name                   1 non-null      object        \n",
      " 2   permalink              1 non-null      object        \n",
      " 3   crunchbase_url         1 non-null      object        \n",
      " 4   homepage_url           1 non-null      object        \n",
      " 5   blog_url               1 non-null      object        \n",
      " 6   blog_feed_url          1 non-null      object        \n",
      " 7   twitter_username       1 non-null      object        \n",
      " 8   category_code          1 non-null      object        \n",
      " 9   number_of_employees    1 non-null      int64         \n",
      " 10  founded_year           1 non-null      int64         \n",
      " 11  deadpooled_year        1 non-null      int64         \n",
      " 12  tag_list               1 non-null      object        \n",
      " 13  alias_list             1 non-null      object        \n",
      " 14  email_address          1 non-null      object        \n",
      " 15  phone_number           1 non-null      object        \n",
      " 16  description            1 non-null      object        \n",
      " 17  created_at             1 non-null      datetime64[ns]\n",
      " 18  updated_at             1 non-null      object        \n",
      " 19  overview               1 non-null      object        \n",
      " 20  products               1 non-null      object        \n",
      " 21  relationships          1 non-null      object        \n",
      " 22  competitions           1 non-null      object        \n",
      " 23  providerships          1 non-null      object        \n",
      " 24  total_money_raised     1 non-null      object        \n",
      " 25  funding_rounds         1 non-null      object        \n",
      " 26  investments            1 non-null      object        \n",
      " 27  acquisition            0 non-null      object        \n",
      " 28  acquisitions           1 non-null      object        \n",
      " 29  offices                1 non-null      object        \n",
      " 30  milestones             1 non-null      object        \n",
      " 31  video_embeds           1 non-null      object        \n",
      " 32  screenshots            1 non-null      object        \n",
      " 33  external_links         1 non-null      object        \n",
      " 34  partners               1 non-null      object        \n",
      " 35  image.available_sizes  1 non-null      object        \n",
      "dtypes: datetime64[ns](1), int64(3), object(32)\n",
      "memory usage: 416.0+ bytes\n"
     ]
    }
   ],
   "source": [
    "r.info()"
   ]
  },
  {
   "cell_type": "code",
   "execution_count": 118,
   "metadata": {},
   "outputs": [],
   "source": [
    "companies = client.companies"
   ]
  },
  {
   "cell_type": "code",
   "execution_count": 119,
   "metadata": {},
   "outputs": [
    {
     "data": {
      "text/plain": [
       "Database(MongoClient(host=['localhost:27017'], document_class=dict, tz_aware=False, connect=True), 'companies')"
      ]
     },
     "execution_count": 119,
     "metadata": {},
     "output_type": "execute_result"
    }
   ],
   "source": [
    "companies"
   ]
  },
  {
   "cell_type": "code",
   "execution_count": 121,
   "metadata": {},
   "outputs": [
    {
     "name": "stderr",
     "output_type": "stream",
     "text": [
      "/opt/anaconda3/lib/python3.7/site-packages/ipykernel_launcher.py:1: DeprecationWarning: collection_names is deprecated. Use list_collection_names instead.\n",
      "  \"\"\"Entry point for launching an IPython kernel.\n"
     ]
    },
    {
     "data": {
      "text/plain": [
       "[]"
      ]
     },
     "execution_count": 121,
     "metadata": {},
     "output_type": "execute_result"
    }
   ],
   "source": [
    "companies.collection_names()"
   ]
  },
  {
   "cell_type": "code",
   "execution_count": 126,
   "metadata": {},
   "outputs": [],
   "source": [
    "\n",
    "#\n",
    "list(col.find({},{'name':1}))"
   ]
  },
  {
   "cell_type": "code",
   "execution_count": 144,
   "metadata": {},
   "outputs": [],
   "source": [
    "oficinas = col.find({'offices':{'$not':{'$size':0}}},\n",
    "                         {'name':1,'_id':1, 'offices':1,\n",
    "                         'category_code':1,'total_money_raised':1,\n",
    "                         'number_of_employees':1,'products':1,'total_money_raised':1})"
   ]
  },
  {
   "cell_type": "code",
   "execution_count": 145,
   "metadata": {},
   "outputs": [],
   "source": [
    "o = list(oficinas)"
   ]
  },
  {
   "cell_type": "code",
   "execution_count": 253,
   "metadata": {},
   "outputs": [
    {
     "data": {
      "text/plain": [
       "13744"
      ]
     },
     "execution_count": 253,
     "metadata": {},
     "output_type": "execute_result"
    }
   ],
   "source": [
    "len(o)"
   ]
  },
  {
   "cell_type": "code",
   "execution_count": 146,
   "metadata": {},
   "outputs": [
    {
     "data": {
      "text/plain": [
       "{'_id': ObjectId('52cdef7c4bab8bd675297d8a'),\n",
       " 'name': 'Wetpaint',\n",
       " 'category_code': 'web',\n",
       " 'number_of_employees': 47,\n",
       " 'products': [{'name': 'Wikison Wetpaint', 'permalink': 'wetpaint-wiki'},\n",
       "  {'name': 'Wetpaint Social Distribution System',\n",
       "   'permalink': 'wetpaint-social-distribution-system'}],\n",
       " 'total_money_raised': '$39.8M',\n",
       " 'offices': [{'description': '',\n",
       "   'address1': '710 - 2nd Avenue',\n",
       "   'address2': 'Suite 1100',\n",
       "   'zip_code': '98104',\n",
       "   'city': 'Seattle',\n",
       "   'state_code': 'WA',\n",
       "   'country_code': 'USA',\n",
       "   'latitude': 47.603122,\n",
       "   'longitude': -122.333253},\n",
       "  {'description': '',\n",
       "   'address1': '270 Lafayette Street',\n",
       "   'address2': 'Suite 505',\n",
       "   'zip_code': '10012',\n",
       "   'city': 'New York',\n",
       "   'state_code': 'NY',\n",
       "   'country_code': 'USA',\n",
       "   'latitude': 40.7237306,\n",
       "   'longitude': -73.9964312}]}"
      ]
     },
     "execution_count": 146,
     "metadata": {},
     "output_type": "execute_result"
    }
   ],
   "source": [
    "o[1]"
   ]
  },
  {
   "cell_type": "code",
   "execution_count": 147,
   "metadata": {},
   "outputs": [],
   "source": [
    "data = pd.DataFrame(o)"
   ]
  },
  {
   "cell_type": "code",
   "execution_count": 149,
   "metadata": {},
   "outputs": [
    {
     "data": {
      "text/plain": [
       "0                                                   []\n",
       "1    [{'name': 'Wikison Wetpaint', 'permalink': 'we...\n",
       "2    [{'name': 'Zoho Office Suite', 'permalink': 'z...\n",
       "3              [{'name': 'Digg', 'permalink': 'digg'}]\n",
       "4    [{'name': 'Omnidrive', 'permalink': 'omnidrive'}]\n",
       "Name: products, dtype: object"
      ]
     },
     "execution_count": 149,
     "metadata": {},
     "output_type": "execute_result"
    }
   ],
   "source": [
    "data['products'].head()"
   ]
  },
  {
   "cell_type": "code",
   "execution_count": 150,
   "metadata": {},
   "outputs": [
    {
     "data": {
      "text/plain": [
       "_id                       0\n",
       "name                      0\n",
       "category_code           652\n",
       "number_of_employees    6277\n",
       "products                  0\n",
       "total_money_raised        0\n",
       "offices                   0\n",
       "dtype: int64"
      ]
     },
     "execution_count": 150,
     "metadata": {},
     "output_type": "execute_result"
    }
   ],
   "source": [
    "data.isna().sum()"
   ]
  },
  {
   "cell_type": "code",
   "execution_count": 151,
   "metadata": {},
   "outputs": [
    {
     "data": {
      "text/html": [
       "<div>\n",
       "<style scoped>\n",
       "    .dataframe tbody tr th:only-of-type {\n",
       "        vertical-align: middle;\n",
       "    }\n",
       "\n",
       "    .dataframe tbody tr th {\n",
       "        vertical-align: top;\n",
       "    }\n",
       "\n",
       "    .dataframe thead th {\n",
       "        text-align: right;\n",
       "    }\n",
       "</style>\n",
       "<table border=\"1\" class=\"dataframe\">\n",
       "  <thead>\n",
       "    <tr style=\"text-align: right;\">\n",
       "      <th></th>\n",
       "      <th>_id</th>\n",
       "      <th>name</th>\n",
       "      <th>category_code</th>\n",
       "      <th>number_of_employees</th>\n",
       "      <th>products</th>\n",
       "      <th>total_money_raised</th>\n",
       "      <th>offices</th>\n",
       "    </tr>\n",
       "  </thead>\n",
       "  <tbody>\n",
       "    <tr>\n",
       "      <th>0</th>\n",
       "      <td>52cdef7c4bab8bd675297d8b</td>\n",
       "      <td>AdventNet</td>\n",
       "      <td>enterprise</td>\n",
       "      <td>600.0</td>\n",
       "      <td>[]</td>\n",
       "      <td>$0</td>\n",
       "      <td>[{'description': 'Headquarters', 'address1': '...</td>\n",
       "    </tr>\n",
       "    <tr>\n",
       "      <th>1</th>\n",
       "      <td>52cdef7c4bab8bd675297d8a</td>\n",
       "      <td>Wetpaint</td>\n",
       "      <td>web</td>\n",
       "      <td>47.0</td>\n",
       "      <td>[{'name': 'Wikison Wetpaint', 'permalink': 'we...</td>\n",
       "      <td>$39.8M</td>\n",
       "      <td>[{'description': '', 'address1': '710 - 2nd Av...</td>\n",
       "    </tr>\n",
       "    <tr>\n",
       "      <th>2</th>\n",
       "      <td>52cdef7c4bab8bd675297d8c</td>\n",
       "      <td>Zoho</td>\n",
       "      <td>software</td>\n",
       "      <td>1600.0</td>\n",
       "      <td>[{'name': 'Zoho Office Suite', 'permalink': 'z...</td>\n",
       "      <td>$0</td>\n",
       "      <td>[{'description': 'Headquarters', 'address1': '...</td>\n",
       "    </tr>\n",
       "    <tr>\n",
       "      <th>3</th>\n",
       "      <td>52cdef7c4bab8bd675297d8d</td>\n",
       "      <td>Digg</td>\n",
       "      <td>news</td>\n",
       "      <td>60.0</td>\n",
       "      <td>[{'name': 'Digg', 'permalink': 'digg'}]</td>\n",
       "      <td>$45M</td>\n",
       "      <td>[{'description': None, 'address1': '135 Missis...</td>\n",
       "    </tr>\n",
       "    <tr>\n",
       "      <th>4</th>\n",
       "      <td>52cdef7c4bab8bd675297d8f</td>\n",
       "      <td>Omnidrive</td>\n",
       "      <td>network_hosting</td>\n",
       "      <td>NaN</td>\n",
       "      <td>[{'name': 'Omnidrive', 'permalink': 'omnidrive'}]</td>\n",
       "      <td>$800k</td>\n",
       "      <td>[{'description': '', 'address1': 'Suite 200', ...</td>\n",
       "    </tr>\n",
       "  </tbody>\n",
       "</table>\n",
       "</div>"
      ],
      "text/plain": [
       "                        _id       name    category_code  number_of_employees  \\\n",
       "0  52cdef7c4bab8bd675297d8b  AdventNet       enterprise                600.0   \n",
       "1  52cdef7c4bab8bd675297d8a   Wetpaint              web                 47.0   \n",
       "2  52cdef7c4bab8bd675297d8c       Zoho         software               1600.0   \n",
       "3  52cdef7c4bab8bd675297d8d       Digg             news                 60.0   \n",
       "4  52cdef7c4bab8bd675297d8f  Omnidrive  network_hosting                  NaN   \n",
       "\n",
       "                                            products total_money_raised  \\\n",
       "0                                                 []                 $0   \n",
       "1  [{'name': 'Wikison Wetpaint', 'permalink': 'we...             $39.8M   \n",
       "2  [{'name': 'Zoho Office Suite', 'permalink': 'z...                 $0   \n",
       "3            [{'name': 'Digg', 'permalink': 'digg'}]               $45M   \n",
       "4  [{'name': 'Omnidrive', 'permalink': 'omnidrive'}]              $800k   \n",
       "\n",
       "                                             offices  \n",
       "0  [{'description': 'Headquarters', 'address1': '...  \n",
       "1  [{'description': '', 'address1': '710 - 2nd Av...  \n",
       "2  [{'description': 'Headquarters', 'address1': '...  \n",
       "3  [{'description': None, 'address1': '135 Missis...  \n",
       "4  [{'description': '', 'address1': 'Suite 200', ...  "
      ]
     },
     "execution_count": 151,
     "metadata": {},
     "output_type": "execute_result"
    }
   ],
   "source": [
    "data.head()"
   ]
  },
  {
   "cell_type": "code",
   "execution_count": 153,
   "metadata": {},
   "outputs": [],
   "source": [
    "lista_n = list(data['name'])"
   ]
  },
  {
   "cell_type": "code",
   "execution_count": 154,
   "metadata": {},
   "outputs": [
    {
     "name": "stderr",
     "output_type": "stream",
     "text": [
      "/opt/anaconda3/lib/python3.7/site-packages/ipykernel_launcher.py:1: FutureWarning: pandas.io.json.json_normalize is deprecated, use pandas.json_normalize instead\n",
      "  \"\"\"Entry point for launching an IPython kernel.\n"
     ]
    }
   ],
   "source": [
    "lista_c = [json_normalize(i) for i in data['offices']]"
   ]
  },
  {
   "cell_type": "code",
   "execution_count": 252,
   "metadata": {},
   "outputs": [
    {
     "data": {
      "text/plain": [
       "13744"
      ]
     },
     "execution_count": 252,
     "metadata": {},
     "output_type": "execute_result"
    }
   ],
   "source": [
    "len(lista_n)"
   ]
  },
  {
   "cell_type": "code",
   "execution_count": 155,
   "metadata": {},
   "outputs": [],
   "source": [
    "zip_nombre_df = list(zip(lista_n,lista_c))"
   ]
  },
  {
   "cell_type": "code",
   "execution_count": 175,
   "metadata": {},
   "outputs": [
    {
     "data": {
      "text/plain": [
       "True"
      ]
     },
     "execution_count": 175,
     "metadata": {},
     "output_type": "execute_result"
    }
   ],
   "source": [
    "len(zip_nombre_df) == len(data['name'])"
   ]
  },
  {
   "cell_type": "code",
   "execution_count": 176,
   "metadata": {},
   "outputs": [
    {
     "data": {
      "text/plain": [
       "('AdventNet',\n",
       "     description          address1   address2 zip_code        city state_code  \\\n",
       " 0  Headquarters  4900 Hopyard Rd.  Suite 310    94588  Pleasanton         CA   \n",
       " \n",
       "   country_code   latitude   longitude company_name  \n",
       " 0          USA  37.692934 -121.904945    AdventNet  )"
      ]
     },
     "execution_count": 176,
     "metadata": {},
     "output_type": "execute_result"
    }
   ],
   "source": [
    "zip_nombre_df[0]"
   ]
  },
  {
   "cell_type": "code",
   "execution_count": 178,
   "metadata": {},
   "outputs": [
    {
     "name": "stdout",
     "output_type": "stream",
     "text": [
      "AdventNet     description          address1   address2 zip_code        city state_code  \\\n",
      "0  Headquarters  4900 Hopyard Rd.  Suite 310    94588  Pleasanton         CA   \n",
      "\n",
      "  country_code   latitude   longitude company_name  \n",
      "0          USA  37.692934 -121.904945    AdventNet  \n"
     ]
    }
   ],
   "source": [
    "for i,e in zip_nombre_df:\n",
    "    print(i,e)\n",
    "    break"
   ]
  },
  {
   "cell_type": "code",
   "execution_count": 192,
   "metadata": {},
   "outputs": [
    {
     "data": {
      "text/plain": [
       "13744"
      ]
     },
     "execution_count": 192,
     "metadata": {},
     "output_type": "execute_result"
    }
   ],
   "source": [
    "len(lista_c)"
   ]
  },
  {
   "cell_type": "code",
   "execution_count": 185,
   "metadata": {},
   "outputs": [],
   "source": [
    "data2 = pd.DataFrame(zip_nombre_df)"
   ]
  },
  {
   "cell_type": "code",
   "execution_count": 191,
   "metadata": {},
   "outputs": [
    {
     "name": "stdout",
     "output_type": "stream",
     "text": [
      "<class 'pandas.core.frame.DataFrame'>\n",
      "RangeIndex: 13744 entries, 0 to 13743\n",
      "Data columns (total 2 columns):\n",
      " #   Column  Non-Null Count  Dtype \n",
      "---  ------  --------------  ----- \n",
      " 0   0       13744 non-null  object\n",
      " 1   1       13744 non-null  object\n",
      "dtypes: object(2)\n",
      "memory usage: 214.9+ KB\n"
     ]
    }
   ],
   "source": [
    "data2.info()"
   ]
  },
  {
   "cell_type": "code",
   "execution_count": 172,
   "metadata": {},
   "outputs": [
    {
     "data": {
      "text/html": [
       "<div>\n",
       "<style scoped>\n",
       "    .dataframe tbody tr th:only-of-type {\n",
       "        vertical-align: middle;\n",
       "    }\n",
       "\n",
       "    .dataframe tbody tr th {\n",
       "        vertical-align: top;\n",
       "    }\n",
       "\n",
       "    .dataframe thead th {\n",
       "        text-align: right;\n",
       "    }\n",
       "</style>\n",
       "<table border=\"1\" class=\"dataframe\">\n",
       "  <thead>\n",
       "    <tr style=\"text-align: right;\">\n",
       "      <th></th>\n",
       "      <th>description</th>\n",
       "      <th>address1</th>\n",
       "      <th>address2</th>\n",
       "      <th>zip_code</th>\n",
       "      <th>city</th>\n",
       "      <th>state_code</th>\n",
       "      <th>country_code</th>\n",
       "      <th>latitude</th>\n",
       "      <th>longitude</th>\n",
       "      <th>company_name</th>\n",
       "    </tr>\n",
       "  </thead>\n",
       "  <tbody>\n",
       "    <tr>\n",
       "      <th>0</th>\n",
       "      <td></td>\n",
       "      <td></td>\n",
       "      <td></td>\n",
       "      <td></td>\n",
       "      <td>Birmingham</td>\n",
       "      <td>AL</td>\n",
       "      <td>USA</td>\n",
       "      <td>33.518885</td>\n",
       "      <td>-86.816068</td>\n",
       "      <td>EnteGreat Solutions</td>\n",
       "    </tr>\n",
       "  </tbody>\n",
       "</table>\n",
       "</div>"
      ],
      "text/plain": [
       "  description address1 address2 zip_code        city state_code country_code  \\\n",
       "0                                         Birmingham         AL          USA   \n",
       "\n",
       "    latitude  longitude         company_name  \n",
       "0  33.518885 -86.816068  EnteGreat Solutions  "
      ]
     },
     "execution_count": 172,
     "metadata": {},
     "output_type": "execute_result"
    }
   ],
   "source": [
    "item"
   ]
  },
  {
   "cell_type": "code",
   "execution_count": 193,
   "metadata": {},
   "outputs": [
    {
     "data": {
      "text/html": [
       "<div>\n",
       "<style scoped>\n",
       "    .dataframe tbody tr th:only-of-type {\n",
       "        vertical-align: middle;\n",
       "    }\n",
       "\n",
       "    .dataframe tbody tr th {\n",
       "        vertical-align: top;\n",
       "    }\n",
       "\n",
       "    .dataframe thead th {\n",
       "        text-align: right;\n",
       "    }\n",
       "</style>\n",
       "<table border=\"1\" class=\"dataframe\">\n",
       "  <thead>\n",
       "    <tr style=\"text-align: right;\">\n",
       "      <th></th>\n",
       "      <th>0</th>\n",
       "      <th>1</th>\n",
       "    </tr>\n",
       "  </thead>\n",
       "  <tbody>\n",
       "    <tr>\n",
       "      <th>0</th>\n",
       "      <td>AdventNet</td>\n",
       "      <td>description          address1   address2 z...</td>\n",
       "    </tr>\n",
       "    <tr>\n",
       "      <th>1</th>\n",
       "      <td>Wetpaint</td>\n",
       "      <td>description              address1    address...</td>\n",
       "    </tr>\n",
       "    <tr>\n",
       "      <th>2</th>\n",
       "      <td>Zoho</td>\n",
       "      <td>description         address1   address2 zi...</td>\n",
       "    </tr>\n",
       "    <tr>\n",
       "      <th>3</th>\n",
       "      <td>Digg</td>\n",
       "      <td>description            address1 address2 zip...</td>\n",
       "    </tr>\n",
       "    <tr>\n",
       "      <th>4</th>\n",
       "      <td>Omnidrive</td>\n",
       "      <td>description   address1         address2 zip_...</td>\n",
       "    </tr>\n",
       "    <tr>\n",
       "      <th>...</th>\n",
       "      <td>...</td>\n",
       "      <td>...</td>\n",
       "    </tr>\n",
       "    <tr>\n",
       "      <th>13739</th>\n",
       "      <td>Oriact</td>\n",
       "      <td>description       address1 address2 zip_code...</td>\n",
       "    </tr>\n",
       "    <tr>\n",
       "      <th>13740</th>\n",
       "      <td>Adhunk</td>\n",
       "      <td>description               address1     ad...</td>\n",
       "    </tr>\n",
       "    <tr>\n",
       "      <th>13741</th>\n",
       "      <td>AfterLogic</td>\n",
       "      <td>description       address1 address2 zip_code...</td>\n",
       "    </tr>\n",
       "    <tr>\n",
       "      <th>13742</th>\n",
       "      <td>EnteGreat</td>\n",
       "      <td>description                       address1  ...</td>\n",
       "    </tr>\n",
       "    <tr>\n",
       "      <th>13743</th>\n",
       "      <td>EnteGreat Solutions</td>\n",
       "      <td>description address1 address2 zip_code      ...</td>\n",
       "    </tr>\n",
       "  </tbody>\n",
       "</table>\n",
       "<p>13744 rows × 2 columns</p>\n",
       "</div>"
      ],
      "text/plain": [
       "                         0                                                  1\n",
       "0                AdventNet      description          address1   address2 z...\n",
       "1                 Wetpaint    description              address1    address...\n",
       "2                     Zoho      description         address1   address2 zi...\n",
       "3                     Digg    description            address1 address2 zip...\n",
       "4                Omnidrive    description   address1         address2 zip_...\n",
       "...                    ...                                                ...\n",
       "13739               Oriact    description       address1 address2 zip_code...\n",
       "13740               Adhunk       description               address1     ad...\n",
       "13741           AfterLogic    description       address1 address2 zip_code...\n",
       "13742            EnteGreat    description                       address1  ...\n",
       "13743  EnteGreat Solutions    description address1 address2 zip_code      ...\n",
       "\n",
       "[13744 rows x 2 columns]"
      ]
     },
     "execution_count": 193,
     "metadata": {},
     "output_type": "execute_result"
    }
   ],
   "source": [
    "data"
   ]
  },
  {
   "cell_type": "code",
   "execution_count": 199,
   "metadata": {},
   "outputs": [
    {
     "data": {
      "text/plain": [
       "0    AdventNet\n",
       "Name: company_name, dtype: object"
      ]
     },
     "execution_count": 199,
     "metadata": {},
     "output_type": "execute_result"
    }
   ],
   "source": [
    "lista_c[0]['company_name']"
   ]
  },
  {
   "cell_type": "code",
   "execution_count": 200,
   "metadata": {},
   "outputs": [],
   "source": [
    "data3 = lista_c[0]"
   ]
  },
  {
   "cell_type": "code",
   "execution_count": 201,
   "metadata": {},
   "outputs": [
    {
     "data": {
      "text/html": [
       "<div>\n",
       "<style scoped>\n",
       "    .dataframe tbody tr th:only-of-type {\n",
       "        vertical-align: middle;\n",
       "    }\n",
       "\n",
       "    .dataframe tbody tr th {\n",
       "        vertical-align: top;\n",
       "    }\n",
       "\n",
       "    .dataframe thead th {\n",
       "        text-align: right;\n",
       "    }\n",
       "</style>\n",
       "<table border=\"1\" class=\"dataframe\">\n",
       "  <thead>\n",
       "    <tr style=\"text-align: right;\">\n",
       "      <th></th>\n",
       "      <th>description</th>\n",
       "      <th>address1</th>\n",
       "      <th>address2</th>\n",
       "      <th>zip_code</th>\n",
       "      <th>city</th>\n",
       "      <th>state_code</th>\n",
       "      <th>country_code</th>\n",
       "      <th>latitude</th>\n",
       "      <th>longitude</th>\n",
       "      <th>company_name</th>\n",
       "    </tr>\n",
       "  </thead>\n",
       "  <tbody>\n",
       "    <tr>\n",
       "      <th>0</th>\n",
       "      <td>Headquarters</td>\n",
       "      <td>4900 Hopyard Rd.</td>\n",
       "      <td>Suite 310</td>\n",
       "      <td>94588</td>\n",
       "      <td>Pleasanton</td>\n",
       "      <td>CA</td>\n",
       "      <td>USA</td>\n",
       "      <td>37.692934</td>\n",
       "      <td>-121.904945</td>\n",
       "      <td>AdventNet</td>\n",
       "    </tr>\n",
       "  </tbody>\n",
       "</table>\n",
       "</div>"
      ],
      "text/plain": [
       "    description          address1   address2 zip_code        city state_code  \\\n",
       "0  Headquarters  4900 Hopyard Rd.  Suite 310    94588  Pleasanton         CA   \n",
       "\n",
       "  country_code   latitude   longitude company_name  \n",
       "0          USA  37.692934 -121.904945    AdventNet  "
      ]
     },
     "execution_count": 201,
     "metadata": {},
     "output_type": "execute_result"
    }
   ],
   "source": [
    "data3"
   ]
  },
  {
   "cell_type": "code",
   "execution_count": 208,
   "metadata": {},
   "outputs": [],
   "source": [
    "for i in range(len(lista_c)):\n",
    "    data3 = pd.concat([data3,lista_c[i]], axis = 0)"
   ]
  },
  {
   "cell_type": "code",
   "execution_count": 206,
   "metadata": {},
   "outputs": [],
   "source": [
    "data3 = pd.concat([data3,lista_c[1]], axis = 0)"
   ]
  },
  {
   "cell_type": "code",
   "execution_count": 214,
   "metadata": {},
   "outputs": [
    {
     "data": {
      "text/plain": [
       "Google                      67\n",
       "OCLC                        32\n",
       "Buongiorno                  25\n",
       "The Orchard                 25\n",
       "Duane Morris LLP            24\n",
       "                            ..\n",
       "Sabrix                       1\n",
       "Metacafe                     1\n",
       "LingusTV                     1\n",
       "Realtime Applications        1\n",
       "Teresis Media Management     1\n",
       "Name: company_name, Length: 13123, dtype: int64"
      ]
     },
     "execution_count": 214,
     "metadata": {},
     "output_type": "execute_result"
    }
   ],
   "source": [
    "data3['company_name'].value_counts()"
   ]
  },
  {
   "cell_type": "code",
   "execution_count": 213,
   "metadata": {},
   "outputs": [
    {
     "name": "stdout",
     "output_type": "stream",
     "text": [
      "<class 'pandas.core.frame.DataFrame'>\n",
      "Int64Index: 16709 entries, 0 to 0\n",
      "Data columns (total 10 columns):\n",
      " #   Column        Non-Null Count  Dtype  \n",
      "---  ------        --------------  -----  \n",
      " 0   description   14914 non-null  object \n",
      " 1   address1      16492 non-null  object \n",
      " 2   address2      16306 non-null  object \n",
      " 3   zip_code      16500 non-null  object \n",
      " 4   city          16609 non-null  object \n",
      " 5   state_code    10041 non-null  object \n",
      " 6   country_code  16709 non-null  object \n",
      " 7   latitude      10838 non-null  float64\n",
      " 8   longitude     10838 non-null  float64\n",
      " 9   company_name  16709 non-null  object \n",
      "dtypes: float64(2), object(8)\n",
      "memory usage: 1.4+ MB\n"
     ]
    }
   ],
   "source": [
    "data3.info()"
   ]
  },
  {
   "cell_type": "code",
   "execution_count": 218,
   "metadata": {},
   "outputs": [
    {
     "data": {
      "text/plain": [
       "web                 2812\n",
       "software            2387\n",
       "games_video          839\n",
       "mobile               821\n",
       "advertising          794\n",
       "other                730\n",
       "enterprise           654\n",
       "consulting           540\n",
       "ecommerce            534\n",
       "network_hosting      510\n",
       "public_relations     429\n",
       "hardware             345\n",
       "biotech              338\n",
       "search               287\n",
       "cleantech            273\n",
       "semiconductor        150\n",
       "security             147\n",
       "analytics             65\n",
       "finance               49\n",
       "social                46\n",
       "news                  45\n",
       "education             32\n",
       "music                 32\n",
       "messaging             30\n",
       "travel                25\n",
       "medical               25\n",
       "health                23\n",
       "photo_video           21\n",
       "legal                 21\n",
       "manufacturing         19\n",
       "sports                12\n",
       "fashion               10\n",
       "automotive             9\n",
       "real_estate            9\n",
       "hospitality            8\n",
       "transportation         7\n",
       "nanotech               5\n",
       "design                 4\n",
       "nonprofit              3\n",
       "local                  1\n",
       "government             1\n",
       "Name: category_code, dtype: int64"
      ]
     },
     "execution_count": 218,
     "metadata": {},
     "output_type": "execute_result"
    }
   ],
   "source": [
    "data['category_code'].value_counts()"
   ]
  },
  {
   "cell_type": "code",
   "execution_count": 220,
   "metadata": {},
   "outputs": [
    {
     "name": "stdout",
     "output_type": "stream",
     "text": [
      "<class 'pandas.core.frame.DataFrame'>\n",
      "Int64Index: 16709 entries, 0 to 0\n",
      "Data columns (total 10 columns):\n",
      " #   Column        Non-Null Count  Dtype  \n",
      "---  ------        --------------  -----  \n",
      " 0   description   14914 non-null  object \n",
      " 1   address1      16492 non-null  object \n",
      " 2   address2      16306 non-null  object \n",
      " 3   zip_code      16500 non-null  object \n",
      " 4   city          16609 non-null  object \n",
      " 5   state_code    10041 non-null  object \n",
      " 6   country_code  16709 non-null  object \n",
      " 7   latitude      10838 non-null  float64\n",
      " 8   longitude     10838 non-null  float64\n",
      " 9   company_name  16709 non-null  object \n",
      "dtypes: float64(2), object(8)\n",
      "memory usage: 1.4+ MB\n"
     ]
    }
   ],
   "source": [
    "data3"
   ]
  },
  {
   "cell_type": "code",
   "execution_count": 222,
   "metadata": {},
   "outputs": [
    {
     "name": "stdout",
     "output_type": "stream",
     "text": [
      "<class 'pandas.core.frame.DataFrame'>\n",
      "RangeIndex: 13744 entries, 0 to 13743\n",
      "Data columns (total 8 columns):\n",
      " #   Column               Non-Null Count  Dtype  \n",
      "---  ------               --------------  -----  \n",
      " 0   _id                  13744 non-null  object \n",
      " 1   name                 13744 non-null  object \n",
      " 2   category_code        13092 non-null  object \n",
      " 3   number_of_employees  7467 non-null   float64\n",
      " 4   products             13744 non-null  object \n",
      " 5   total_money_raised   13744 non-null  object \n",
      " 6   offices              13744 non-null  object \n",
      " 7   Name                 13744 non-null  object \n",
      "dtypes: float64(1), object(7)\n",
      "memory usage: 859.1+ KB\n"
     ]
    }
   ],
   "source": [
    "data.info(\n",
    ")"
   ]
  },
  {
   "cell_type": "code",
   "execution_count": 225,
   "metadata": {},
   "outputs": [],
   "source": [
    "comp  =data3.set_index('company_name')"
   ]
  },
  {
   "cell_type": "code",
   "execution_count": 227,
   "metadata": {},
   "outputs": [
    {
     "data": {
      "text/html": [
       "<div>\n",
       "<style scoped>\n",
       "    .dataframe tbody tr th:only-of-type {\n",
       "        vertical-align: middle;\n",
       "    }\n",
       "\n",
       "    .dataframe tbody tr th {\n",
       "        vertical-align: top;\n",
       "    }\n",
       "\n",
       "    .dataframe thead th {\n",
       "        text-align: right;\n",
       "    }\n",
       "</style>\n",
       "<table border=\"1\" class=\"dataframe\">\n",
       "  <thead>\n",
       "    <tr style=\"text-align: right;\">\n",
       "      <th></th>\n",
       "      <th>description</th>\n",
       "      <th>address1</th>\n",
       "      <th>address2</th>\n",
       "      <th>zip_code</th>\n",
       "      <th>city</th>\n",
       "      <th>state_code</th>\n",
       "      <th>country_code</th>\n",
       "      <th>latitude</th>\n",
       "      <th>longitude</th>\n",
       "    </tr>\n",
       "    <tr>\n",
       "      <th>company_name</th>\n",
       "      <th></th>\n",
       "      <th></th>\n",
       "      <th></th>\n",
       "      <th></th>\n",
       "      <th></th>\n",
       "      <th></th>\n",
       "      <th></th>\n",
       "      <th></th>\n",
       "      <th></th>\n",
       "    </tr>\n",
       "  </thead>\n",
       "  <tbody>\n",
       "    <tr>\n",
       "      <th>AdventNet</th>\n",
       "      <td>Headquarters</td>\n",
       "      <td>4900 Hopyard Rd.</td>\n",
       "      <td>Suite 310</td>\n",
       "      <td>94588</td>\n",
       "      <td>Pleasanton</td>\n",
       "      <td>CA</td>\n",
       "      <td>USA</td>\n",
       "      <td>37.692934</td>\n",
       "      <td>-121.904945</td>\n",
       "    </tr>\n",
       "    <tr>\n",
       "      <th>AdventNet</th>\n",
       "      <td>Headquarters</td>\n",
       "      <td>4900 Hopyard Rd.</td>\n",
       "      <td>Suite 310</td>\n",
       "      <td>94588</td>\n",
       "      <td>Pleasanton</td>\n",
       "      <td>CA</td>\n",
       "      <td>USA</td>\n",
       "      <td>37.692934</td>\n",
       "      <td>-121.904945</td>\n",
       "    </tr>\n",
       "    <tr>\n",
       "      <th>Wetpaint</th>\n",
       "      <td></td>\n",
       "      <td>710 - 2nd Avenue</td>\n",
       "      <td>Suite 1100</td>\n",
       "      <td>98104</td>\n",
       "      <td>Seattle</td>\n",
       "      <td>WA</td>\n",
       "      <td>USA</td>\n",
       "      <td>47.603122</td>\n",
       "      <td>-122.333253</td>\n",
       "    </tr>\n",
       "    <tr>\n",
       "      <th>Wetpaint</th>\n",
       "      <td></td>\n",
       "      <td>270 Lafayette Street</td>\n",
       "      <td>Suite 505</td>\n",
       "      <td>10012</td>\n",
       "      <td>New York</td>\n",
       "      <td>NY</td>\n",
       "      <td>USA</td>\n",
       "      <td>40.723731</td>\n",
       "      <td>-73.996431</td>\n",
       "    </tr>\n",
       "    <tr>\n",
       "      <th>AdventNet</th>\n",
       "      <td>Headquarters</td>\n",
       "      <td>4900 Hopyard Rd.</td>\n",
       "      <td>Suite 310</td>\n",
       "      <td>94588</td>\n",
       "      <td>Pleasanton</td>\n",
       "      <td>CA</td>\n",
       "      <td>USA</td>\n",
       "      <td>37.692934</td>\n",
       "      <td>-121.904945</td>\n",
       "    </tr>\n",
       "    <tr>\n",
       "      <th>...</th>\n",
       "      <td>...</td>\n",
       "      <td>...</td>\n",
       "      <td>...</td>\n",
       "      <td>...</td>\n",
       "      <td>...</td>\n",
       "      <td>...</td>\n",
       "      <td>...</td>\n",
       "      <td>...</td>\n",
       "      <td>...</td>\n",
       "    </tr>\n",
       "    <tr>\n",
       "      <th>Oriact</th>\n",
       "      <td></td>\n",
       "      <td>LÃ¤rchenweg 7</td>\n",
       "      <td></td>\n",
       "      <td>6403</td>\n",
       "      <td>KÃ¼ssnacht</td>\n",
       "      <td>None</td>\n",
       "      <td>CHE</td>\n",
       "      <td>47.088219</td>\n",
       "      <td>8.437163</td>\n",
       "    </tr>\n",
       "    <tr>\n",
       "      <th>Adhunk</th>\n",
       "      <td>Indian Office</td>\n",
       "      <td>Near Tube Well(south)</td>\n",
       "      <td>Patel Nagar</td>\n",
       "      <td>334003</td>\n",
       "      <td>Bikaner</td>\n",
       "      <td>None</td>\n",
       "      <td>IND</td>\n",
       "      <td>NaN</td>\n",
       "      <td>NaN</td>\n",
       "    </tr>\n",
       "    <tr>\n",
       "      <th>AfterLogic</th>\n",
       "      <td>Livingston</td>\n",
       "      <td>P.O. Box 2096</td>\n",
       "      <td></td>\n",
       "      <td>07039</td>\n",
       "      <td>Livingston</td>\n",
       "      <td>NJ</td>\n",
       "      <td>USA</td>\n",
       "      <td>40.793024</td>\n",
       "      <td>-74.323554</td>\n",
       "    </tr>\n",
       "    <tr>\n",
       "      <th>EnteGreat</th>\n",
       "      <td></td>\n",
       "      <td>1900 International Park Drive</td>\n",
       "      <td>Suite 200</td>\n",
       "      <td>35243-4204</td>\n",
       "      <td>Birmingham</td>\n",
       "      <td>AL</td>\n",
       "      <td>USA</td>\n",
       "      <td>33.407786</td>\n",
       "      <td>-86.761302</td>\n",
       "    </tr>\n",
       "    <tr>\n",
       "      <th>EnteGreat Solutions</th>\n",
       "      <td></td>\n",
       "      <td></td>\n",
       "      <td></td>\n",
       "      <td></td>\n",
       "      <td>Birmingham</td>\n",
       "      <td>AL</td>\n",
       "      <td>USA</td>\n",
       "      <td>33.518885</td>\n",
       "      <td>-86.816068</td>\n",
       "    </tr>\n",
       "  </tbody>\n",
       "</table>\n",
       "<p>16709 rows × 9 columns</p>\n",
       "</div>"
      ],
      "text/plain": [
       "                       description                       address1  \\\n",
       "company_name                                                        \n",
       "AdventNet             Headquarters               4900 Hopyard Rd.   \n",
       "AdventNet             Headquarters               4900 Hopyard Rd.   \n",
       "Wetpaint                                         710 - 2nd Avenue   \n",
       "Wetpaint                                     270 Lafayette Street   \n",
       "AdventNet             Headquarters               4900 Hopyard Rd.   \n",
       "...                            ...                            ...   \n",
       "Oriact                                              LÃ¤rchenweg 7   \n",
       "Adhunk               Indian Office          Near Tube Well(south)   \n",
       "AfterLogic              Livingston                  P.O. Box 2096   \n",
       "EnteGreat                           1900 International Park Drive   \n",
       "EnteGreat Solutions                                                 \n",
       "\n",
       "                        address2    zip_code        city state_code  \\\n",
       "company_name                                                          \n",
       "AdventNet              Suite 310       94588  Pleasanton         CA   \n",
       "AdventNet              Suite 310       94588  Pleasanton         CA   \n",
       "Wetpaint              Suite 1100       98104     Seattle         WA   \n",
       "Wetpaint               Suite 505       10012    New York         NY   \n",
       "AdventNet              Suite 310       94588  Pleasanton         CA   \n",
       "...                          ...         ...         ...        ...   \n",
       "Oriact                                  6403  KÃ¼ssnacht       None   \n",
       "Adhunk               Patel Nagar      334003     Bikaner       None   \n",
       "AfterLogic                             07039  Livingston         NJ   \n",
       "EnteGreat              Suite 200  35243-4204  Birmingham         AL   \n",
       "EnteGreat Solutions                           Birmingham         AL   \n",
       "\n",
       "                    country_code   latitude   longitude  \n",
       "company_name                                             \n",
       "AdventNet                    USA  37.692934 -121.904945  \n",
       "AdventNet                    USA  37.692934 -121.904945  \n",
       "Wetpaint                     USA  47.603122 -122.333253  \n",
       "Wetpaint                     USA  40.723731  -73.996431  \n",
       "AdventNet                    USA  37.692934 -121.904945  \n",
       "...                          ...        ...         ...  \n",
       "Oriact                       CHE  47.088219    8.437163  \n",
       "Adhunk                       IND        NaN         NaN  \n",
       "AfterLogic                   USA  40.793024  -74.323554  \n",
       "EnteGreat                    USA  33.407786  -86.761302  \n",
       "EnteGreat Solutions          USA  33.518885  -86.816068  \n",
       "\n",
       "[16709 rows x 9 columns]"
      ]
     },
     "execution_count": 227,
     "metadata": {},
     "output_type": "execute_result"
    }
   ],
   "source": [
    "comp\n",
    "#bueno"
   ]
  },
  {
   "cell_type": "code",
   "execution_count": 234,
   "metadata": {},
   "outputs": [
    {
     "name": "stdout",
     "output_type": "stream",
     "text": [
      "<class 'pandas.core.frame.DataFrame'>\n",
      "Index: 16709 entries, AdventNet to EnteGreat Solutions\n",
      "Data columns (total 9 columns):\n",
      " #   Column        Non-Null Count  Dtype  \n",
      "---  ------        --------------  -----  \n",
      " 0   description   14914 non-null  object \n",
      " 1   address1      16492 non-null  object \n",
      " 2   address2      16306 non-null  object \n",
      " 3   zip_code      16500 non-null  object \n",
      " 4   city          16609 non-null  object \n",
      " 5   state_code    10041 non-null  object \n",
      " 6   country_code  16709 non-null  object \n",
      " 7   latitude      10838 non-null  float64\n",
      " 8   longitude     10838 non-null  float64\n",
      "dtypes: float64(2), object(7)\n",
      "memory usage: 1.3+ MB\n"
     ]
    }
   ],
   "source": [
    "comp.info()"
   ]
  },
  {
   "cell_type": "code",
   "execution_count": 236,
   "metadata": {},
   "outputs": [],
   "source": [
    "data.drop(columns = ['_id','products','offices'], axis = 0, inplace = True)\n"
   ]
  },
  {
   "cell_type": "code",
   "execution_count": 239,
   "metadata": {},
   "outputs": [],
   "source": [
    "data['company_name'] = data['name']"
   ]
  },
  {
   "cell_type": "code",
   "execution_count": 242,
   "metadata": {},
   "outputs": [],
   "source": [
    "final = pd.merge(comp,data, on = 'company_name')"
   ]
  },
  {
   "cell_type": "code",
   "execution_count": 244,
   "metadata": {},
   "outputs": [],
   "source": [
    "final  =final.set_index('company_name')"
   ]
  },
  {
   "cell_type": "code",
   "execution_count": 246,
   "metadata": {},
   "outputs": [],
   "source": [
    "final.reset_index(inplace=True)"
   ]
  },
  {
   "cell_type": "code",
   "execution_count": 247,
   "metadata": {},
   "outputs": [
    {
     "name": "stdout",
     "output_type": "stream",
     "text": [
      "<class 'pandas.core.frame.DataFrame'>\n",
      "RangeIndex: 18221 entries, 0 to 18220\n",
      "Data columns (total 14 columns):\n",
      " #   Column               Non-Null Count  Dtype  \n",
      "---  ------               --------------  -----  \n",
      " 0   company_name         18221 non-null  object \n",
      " 1   description          16418 non-null  object \n",
      " 2   address1             18002 non-null  object \n",
      " 3   address2             17816 non-null  object \n",
      " 4   zip_code             18010 non-null  object \n",
      " 5   city                 18121 non-null  object \n",
      " 6   state_code           10947 non-null  object \n",
      " 7   country_code         18221 non-null  object \n",
      " 8   latitude             11798 non-null  float64\n",
      " 9   longitude            11798 non-null  float64\n",
      " 10  name                 18221 non-null  object \n",
      " 11  category_code        17459 non-null  object \n",
      " 12  number_of_employees  10625 non-null  float64\n",
      " 13  total_money_raised   18221 non-null  object \n",
      "dtypes: float64(3), object(11)\n",
      "memory usage: 1.9+ MB\n"
     ]
    }
   ],
   "source": [
    "final.info()"
   ]
  },
  {
   "cell_type": "code",
   "execution_count": 248,
   "metadata": {},
   "outputs": [],
   "source": [
    "final.drop(columns = ['description','zip_code'], axis = 0, inplace = True)\n"
   ]
  },
  {
   "cell_type": "code",
   "execution_count": 250,
   "metadata": {},
   "outputs": [
    {
     "data": {
      "text/html": [
       "<div>\n",
       "<style scoped>\n",
       "    .dataframe tbody tr th:only-of-type {\n",
       "        vertical-align: middle;\n",
       "    }\n",
       "\n",
       "    .dataframe tbody tr th {\n",
       "        vertical-align: top;\n",
       "    }\n",
       "\n",
       "    .dataframe thead th {\n",
       "        text-align: right;\n",
       "    }\n",
       "</style>\n",
       "<table border=\"1\" class=\"dataframe\">\n",
       "  <thead>\n",
       "    <tr style=\"text-align: right;\">\n",
       "      <th></th>\n",
       "      <th>company_name</th>\n",
       "      <th>address1</th>\n",
       "      <th>address2</th>\n",
       "      <th>city</th>\n",
       "      <th>state_code</th>\n",
       "      <th>country_code</th>\n",
       "      <th>latitude</th>\n",
       "      <th>longitude</th>\n",
       "      <th>name</th>\n",
       "      <th>category_code</th>\n",
       "      <th>number_of_employees</th>\n",
       "      <th>total_money_raised</th>\n",
       "    </tr>\n",
       "  </thead>\n",
       "  <tbody>\n",
       "    <tr>\n",
       "      <th>10</th>\n",
       "      <td>Geni</td>\n",
       "      <td>9229 W. Sunset Blvd.</td>\n",
       "      <td></td>\n",
       "      <td>West Hollywood</td>\n",
       "      <td>CA</td>\n",
       "      <td>USA</td>\n",
       "      <td>34.090368</td>\n",
       "      <td>-118.393064</td>\n",
       "      <td>Geni</td>\n",
       "      <td>web</td>\n",
       "      <td>18.0</td>\n",
       "      <td>$16.5M</td>\n",
       "    </tr>\n",
       "    <tr>\n",
       "      <th>11</th>\n",
       "      <td>Flektor</td>\n",
       "      <td>8536 National Blvd, Suite A</td>\n",
       "      <td>None</td>\n",
       "      <td>Culver City</td>\n",
       "      <td>CA</td>\n",
       "      <td>USA</td>\n",
       "      <td>34.025958</td>\n",
       "      <td>-118.379768</td>\n",
       "      <td>Flektor</td>\n",
       "      <td>games_video</td>\n",
       "      <td>NaN</td>\n",
       "      <td>$0</td>\n",
       "    </tr>\n",
       "    <tr>\n",
       "      <th>12</th>\n",
       "      <td>Postini</td>\n",
       "      <td>959 Skyway Road, Suite 200</td>\n",
       "      <td>None</td>\n",
       "      <td>San Carlos</td>\n",
       "      <td>CA</td>\n",
       "      <td>USA</td>\n",
       "      <td>37.506885</td>\n",
       "      <td>-122.247573</td>\n",
       "      <td>Postini</td>\n",
       "      <td>web</td>\n",
       "      <td>NaN</td>\n",
       "      <td>$0</td>\n",
       "    </tr>\n",
       "    <tr>\n",
       "      <th>13</th>\n",
       "      <td>Fox Interactive Media</td>\n",
       "      <td>407 N Maple Dr</td>\n",
       "      <td></td>\n",
       "      <td>Beverly Hills</td>\n",
       "      <td>CA</td>\n",
       "      <td>USA</td>\n",
       "      <td>34.076179</td>\n",
       "      <td>-118.394170</td>\n",
       "      <td>Fox Interactive Media</td>\n",
       "      <td>web</td>\n",
       "      <td>0.0</td>\n",
       "      <td>$0</td>\n",
       "    </tr>\n",
       "    <tr>\n",
       "      <th>14</th>\n",
       "      <td>Gizmoz</td>\n",
       "      <td>None</td>\n",
       "      <td>None</td>\n",
       "      <td>Menlo Park</td>\n",
       "      <td>CA</td>\n",
       "      <td>USA</td>\n",
       "      <td>37.484130</td>\n",
       "      <td>-122.169472</td>\n",
       "      <td>Gizmoz</td>\n",
       "      <td>web</td>\n",
       "      <td>NaN</td>\n",
       "      <td>$18.1M</td>\n",
       "    </tr>\n",
       "    <tr>\n",
       "      <th>15</th>\n",
       "      <td>Scribd</td>\n",
       "      <td>539 Bryant Street</td>\n",
       "      <td></td>\n",
       "      <td>San Francisco</td>\n",
       "      <td>CA</td>\n",
       "      <td>USA</td>\n",
       "      <td>37.789634</td>\n",
       "      <td>-122.404052</td>\n",
       "      <td>Scribd</td>\n",
       "      <td>news</td>\n",
       "      <td>50.0</td>\n",
       "      <td>$25.8M</td>\n",
       "    </tr>\n",
       "    <tr>\n",
       "      <th>16</th>\n",
       "      <td>Slacker</td>\n",
       "      <td>16935 W. Bernardo Dr. Suite 101</td>\n",
       "      <td></td>\n",
       "      <td>San Diego</td>\n",
       "      <td>CA</td>\n",
       "      <td>USA</td>\n",
       "      <td>33.022176</td>\n",
       "      <td>-117.081406</td>\n",
       "      <td>Slacker</td>\n",
       "      <td>music</td>\n",
       "      <td>NaN</td>\n",
       "      <td>$73.1M</td>\n",
       "    </tr>\n",
       "    <tr>\n",
       "      <th>17</th>\n",
       "      <td>Lala</td>\n",
       "      <td>209 Hamilton Ave</td>\n",
       "      <td>Suite #200</td>\n",
       "      <td>Palo Alto</td>\n",
       "      <td>CA</td>\n",
       "      <td>USA</td>\n",
       "      <td>37.451151</td>\n",
       "      <td>-122.154369</td>\n",
       "      <td>Lala</td>\n",
       "      <td>games_video</td>\n",
       "      <td>NaN</td>\n",
       "      <td>$44.2M</td>\n",
       "    </tr>\n",
       "    <tr>\n",
       "      <th>18</th>\n",
       "      <td>StumbleUpon</td>\n",
       "      <td></td>\n",
       "      <td></td>\n",
       "      <td>San Francisco</td>\n",
       "      <td>CA</td>\n",
       "      <td>USA</td>\n",
       "      <td>37.775196</td>\n",
       "      <td>-122.419204</td>\n",
       "      <td>StumbleUpon</td>\n",
       "      <td>web</td>\n",
       "      <td>NaN</td>\n",
       "      <td>$18.5M</td>\n",
       "    </tr>\n",
       "    <tr>\n",
       "      <th>19</th>\n",
       "      <td>StumbleUpon</td>\n",
       "      <td></td>\n",
       "      <td></td>\n",
       "      <td>New York City</td>\n",
       "      <td>NY</td>\n",
       "      <td>USA</td>\n",
       "      <td>NaN</td>\n",
       "      <td>NaN</td>\n",
       "      <td>StumbleUpon</td>\n",
       "      <td>web</td>\n",
       "      <td>NaN</td>\n",
       "      <td>$18.5M</td>\n",
       "    </tr>\n",
       "  </tbody>\n",
       "</table>\n",
       "</div>"
      ],
      "text/plain": [
       "             company_name                         address1    address2  \\\n",
       "10                   Geni             9229 W. Sunset Blvd.               \n",
       "11                Flektor      8536 National Blvd, Suite A        None   \n",
       "12                Postini       959 Skyway Road, Suite 200        None   \n",
       "13  Fox Interactive Media                   407 N Maple Dr               \n",
       "14                 Gizmoz                             None        None   \n",
       "15                 Scribd                539 Bryant Street               \n",
       "16                Slacker  16935 W. Bernardo Dr. Suite 101               \n",
       "17                   Lala                 209 Hamilton Ave  Suite #200   \n",
       "18            StumbleUpon                                                \n",
       "19            StumbleUpon                                                \n",
       "\n",
       "              city state_code country_code   latitude   longitude  \\\n",
       "10  West Hollywood         CA          USA  34.090368 -118.393064   \n",
       "11     Culver City         CA          USA  34.025958 -118.379768   \n",
       "12      San Carlos         CA          USA  37.506885 -122.247573   \n",
       "13   Beverly Hills         CA          USA  34.076179 -118.394170   \n",
       "14      Menlo Park         CA          USA  37.484130 -122.169472   \n",
       "15   San Francisco         CA          USA  37.789634 -122.404052   \n",
       "16       San Diego         CA          USA  33.022176 -117.081406   \n",
       "17       Palo Alto         CA          USA  37.451151 -122.154369   \n",
       "18   San Francisco         CA          USA  37.775196 -122.419204   \n",
       "19   New York City         NY          USA        NaN         NaN   \n",
       "\n",
       "                     name category_code  number_of_employees  \\\n",
       "10                   Geni           web                 18.0   \n",
       "11                Flektor   games_video                  NaN   \n",
       "12                Postini           web                  NaN   \n",
       "13  Fox Interactive Media           web                  0.0   \n",
       "14                 Gizmoz           web                  NaN   \n",
       "15                 Scribd          news                 50.0   \n",
       "16                Slacker         music                  NaN   \n",
       "17                   Lala   games_video                  NaN   \n",
       "18            StumbleUpon           web                  NaN   \n",
       "19            StumbleUpon           web                  NaN   \n",
       "\n",
       "   total_money_raised  \n",
       "10             $16.5M  \n",
       "11                 $0  \n",
       "12                 $0  \n",
       "13                 $0  \n",
       "14             $18.1M  \n",
       "15             $25.8M  \n",
       "16             $73.1M  \n",
       "17             $44.2M  \n",
       "18             $18.5M  \n",
       "19             $18.5M  "
      ]
     },
     "execution_count": 250,
     "metadata": {},
     "output_type": "execute_result"
    }
   ],
   "source": [
    "final[10:20]"
   ]
  },
  {
   "cell_type": "code",
   "execution_count": 255,
   "metadata": {},
   "outputs": [
    {
     "data": {
      "text/html": [
       "<div>\n",
       "<style scoped>\n",
       "    .dataframe tbody tr th:only-of-type {\n",
       "        vertical-align: middle;\n",
       "    }\n",
       "\n",
       "    .dataframe tbody tr th {\n",
       "        vertical-align: top;\n",
       "    }\n",
       "\n",
       "    .dataframe thead th {\n",
       "        text-align: right;\n",
       "    }\n",
       "</style>\n",
       "<table border=\"1\" class=\"dataframe\">\n",
       "  <thead>\n",
       "    <tr style=\"text-align: right;\">\n",
       "      <th></th>\n",
       "      <th>company_name</th>\n",
       "      <th>address1</th>\n",
       "      <th>address2</th>\n",
       "      <th>city</th>\n",
       "      <th>state_code</th>\n",
       "      <th>country_code</th>\n",
       "      <th>latitude</th>\n",
       "      <th>longitude</th>\n",
       "      <th>name</th>\n",
       "      <th>category_code</th>\n",
       "      <th>number_of_employees</th>\n",
       "      <th>total_money_raised</th>\n",
       "    </tr>\n",
       "  </thead>\n",
       "  <tbody>\n",
       "    <tr>\n",
       "      <th>158</th>\n",
       "      <td>Google</td>\n",
       "      <td>1600 Amphitheatre Parkway</td>\n",
       "      <td></td>\n",
       "      <td>Mountain View</td>\n",
       "      <td>CA</td>\n",
       "      <td>USA</td>\n",
       "      <td>37.421972</td>\n",
       "      <td>-122.084143</td>\n",
       "      <td>Google</td>\n",
       "      <td>search</td>\n",
       "      <td>28000.0</td>\n",
       "      <td>$555M</td>\n",
       "    </tr>\n",
       "    <tr>\n",
       "      <th>159</th>\n",
       "      <td>Google</td>\n",
       "      <td>112 S. Main St.</td>\n",
       "      <td>2nd Floor</td>\n",
       "      <td>Ann Arbor</td>\n",
       "      <td>MI</td>\n",
       "      <td>USA</td>\n",
       "      <td>42.280988</td>\n",
       "      <td>-83.748882</td>\n",
       "      <td>Google</td>\n",
       "      <td>search</td>\n",
       "      <td>28000.0</td>\n",
       "      <td>$555M</td>\n",
       "    </tr>\n",
       "    <tr>\n",
       "      <th>160</th>\n",
       "      <td>Google</td>\n",
       "      <td>10 10th Street NE</td>\n",
       "      <td>Suite 600</td>\n",
       "      <td>Atlanta</td>\n",
       "      <td>GA</td>\n",
       "      <td>USA</td>\n",
       "      <td>33.781466</td>\n",
       "      <td>-84.387519</td>\n",
       "      <td>Google</td>\n",
       "      <td>search</td>\n",
       "      <td>28000.0</td>\n",
       "      <td>$555M</td>\n",
       "    </tr>\n",
       "    <tr>\n",
       "      <th>161</th>\n",
       "      <td>Google</td>\n",
       "      <td>Plaza 7000</td>\n",
       "      <td>7000 North MoPac Expressway, 2nd Floor</td>\n",
       "      <td>Austin</td>\n",
       "      <td>TX</td>\n",
       "      <td>USA</td>\n",
       "      <td>30.351416</td>\n",
       "      <td>-97.751382</td>\n",
       "      <td>Google</td>\n",
       "      <td>search</td>\n",
       "      <td>28000.0</td>\n",
       "      <td>$555M</td>\n",
       "    </tr>\n",
       "    <tr>\n",
       "      <th>162</th>\n",
       "      <td>Google</td>\n",
       "      <td>2590 Pearl Street</td>\n",
       "      <td>Suite 100</td>\n",
       "      <td>Boulder</td>\n",
       "      <td>CO</td>\n",
       "      <td>USA</td>\n",
       "      <td>40.021416</td>\n",
       "      <td>-105.260931</td>\n",
       "      <td>Google</td>\n",
       "      <td>search</td>\n",
       "      <td>28000.0</td>\n",
       "      <td>$555M</td>\n",
       "    </tr>\n",
       "    <tr>\n",
       "      <th>...</th>\n",
       "      <td>...</td>\n",
       "      <td>...</td>\n",
       "      <td>...</td>\n",
       "      <td>...</td>\n",
       "      <td>...</td>\n",
       "      <td>...</td>\n",
       "      <td>...</td>\n",
       "      <td>...</td>\n",
       "      <td>...</td>\n",
       "      <td>...</td>\n",
       "      <td>...</td>\n",
       "      <td>...</td>\n",
       "    </tr>\n",
       "    <tr>\n",
       "      <th>220</th>\n",
       "      <td>Google</td>\n",
       "      <td>Blvd. Manuel Avila Camacho #36</td>\n",
       "      <td>Torre Esmeralda 2, Piso 12, Lomas de Chapultepec</td>\n",
       "      <td>Mexico</td>\n",
       "      <td>None</td>\n",
       "      <td>MEX</td>\n",
       "      <td>19.507519</td>\n",
       "      <td>-99.030156</td>\n",
       "      <td>Google</td>\n",
       "      <td>search</td>\n",
       "      <td>28000.0</td>\n",
       "      <td>$555M</td>\n",
       "    </tr>\n",
       "    <tr>\n",
       "      <th>221</th>\n",
       "      <td>Google</td>\n",
       "      <td>Building 30, MATAM, Advanced Technology Center</td>\n",
       "      <td>PO Box 15096</td>\n",
       "      <td>Haifa</td>\n",
       "      <td>None</td>\n",
       "      <td>ISR</td>\n",
       "      <td>NaN</td>\n",
       "      <td>NaN</td>\n",
       "      <td>Google</td>\n",
       "      <td>search</td>\n",
       "      <td>28000.0</td>\n",
       "      <td>$555M</td>\n",
       "    </tr>\n",
       "    <tr>\n",
       "      <th>222</th>\n",
       "      <td>Google</td>\n",
       "      <td>Levinstein Tower</td>\n",
       "      <td>23 Menachem Begin Road</td>\n",
       "      <td>Tel-Aviv</td>\n",
       "      <td>None</td>\n",
       "      <td>ISR</td>\n",
       "      <td>NaN</td>\n",
       "      <td>NaN</td>\n",
       "      <td>Google</td>\n",
       "      <td>search</td>\n",
       "      <td>28000.0</td>\n",
       "      <td>$555M</td>\n",
       "    </tr>\n",
       "    <tr>\n",
       "      <th>223</th>\n",
       "      <td>Google</td>\n",
       "      <td>Kanyon Ofis Binasi Kat. 6</td>\n",
       "      <td>Buyukdere Cad. No. 185</td>\n",
       "      <td>Istanbul</td>\n",
       "      <td>None</td>\n",
       "      <td>TUR</td>\n",
       "      <td>NaN</td>\n",
       "      <td>NaN</td>\n",
       "      <td>Google</td>\n",
       "      <td>search</td>\n",
       "      <td>28000.0</td>\n",
       "      <td>$555M</td>\n",
       "    </tr>\n",
       "    <tr>\n",
       "      <th>224</th>\n",
       "      <td>Google</td>\n",
       "      <td>First Floor, Building No 17</td>\n",
       "      <td>Dubai Internet City</td>\n",
       "      <td>Dubai</td>\n",
       "      <td>None</td>\n",
       "      <td>ARE</td>\n",
       "      <td>NaN</td>\n",
       "      <td>NaN</td>\n",
       "      <td>Google</td>\n",
       "      <td>search</td>\n",
       "      <td>28000.0</td>\n",
       "      <td>$555M</td>\n",
       "    </tr>\n",
       "  </tbody>\n",
       "</table>\n",
       "<p>67 rows × 12 columns</p>\n",
       "</div>"
      ],
      "text/plain": [
       "    company_name                                        address1  \\\n",
       "158       Google                       1600 Amphitheatre Parkway   \n",
       "159       Google                                 112 S. Main St.   \n",
       "160       Google                               10 10th Street NE   \n",
       "161       Google                                      Plaza 7000   \n",
       "162       Google                               2590 Pearl Street   \n",
       "..           ...                                             ...   \n",
       "220       Google                  Blvd. Manuel Avila Camacho #36   \n",
       "221       Google  Building 30, MATAM, Advanced Technology Center   \n",
       "222       Google                                Levinstein Tower   \n",
       "223       Google                       Kanyon Ofis Binasi Kat. 6   \n",
       "224       Google                     First Floor, Building No 17   \n",
       "\n",
       "                                             address2           city  \\\n",
       "158                                                    Mountain View   \n",
       "159                                         2nd Floor      Ann Arbor   \n",
       "160                                         Suite 600        Atlanta   \n",
       "161            7000 North MoPac Expressway, 2nd Floor         Austin   \n",
       "162                                         Suite 100        Boulder   \n",
       "..                                                ...            ...   \n",
       "220  Torre Esmeralda 2, Piso 12, Lomas de Chapultepec         Mexico   \n",
       "221                                      PO Box 15096          Haifa   \n",
       "222                            23 Menachem Begin Road       Tel-Aviv   \n",
       "223                            Buyukdere Cad. No. 185       Istanbul   \n",
       "224                               Dubai Internet City          Dubai   \n",
       "\n",
       "    state_code country_code   latitude   longitude    name category_code  \\\n",
       "158         CA          USA  37.421972 -122.084143  Google        search   \n",
       "159         MI          USA  42.280988  -83.748882  Google        search   \n",
       "160         GA          USA  33.781466  -84.387519  Google        search   \n",
       "161         TX          USA  30.351416  -97.751382  Google        search   \n",
       "162         CO          USA  40.021416 -105.260931  Google        search   \n",
       "..         ...          ...        ...         ...     ...           ...   \n",
       "220       None          MEX  19.507519  -99.030156  Google        search   \n",
       "221       None          ISR        NaN         NaN  Google        search   \n",
       "222       None          ISR        NaN         NaN  Google        search   \n",
       "223       None          TUR        NaN         NaN  Google        search   \n",
       "224       None          ARE        NaN         NaN  Google        search   \n",
       "\n",
       "     number_of_employees total_money_raised  \n",
       "158              28000.0              $555M  \n",
       "159              28000.0              $555M  \n",
       "160              28000.0              $555M  \n",
       "161              28000.0              $555M  \n",
       "162              28000.0              $555M  \n",
       "..                   ...                ...  \n",
       "220              28000.0              $555M  \n",
       "221              28000.0              $555M  \n",
       "222              28000.0              $555M  \n",
       "223              28000.0              $555M  \n",
       "224              28000.0              $555M  \n",
       "\n",
       "[67 rows x 12 columns]"
      ]
     },
     "execution_count": 255,
     "metadata": {},
     "output_type": "execute_result"
    }
   ],
   "source": [
    "final[final['company_name']=='Google']"
   ]
  },
  {
   "cell_type": "code",
   "execution_count": 256,
   "metadata": {},
   "outputs": [
    {
     "data": {
      "text/plain": [
       "web                 3371\n",
       "software            3309\n",
       "mobile              1209\n",
       "advertising         1137\n",
       "games_video         1040\n",
       "other               1013\n",
       "enterprise           938\n",
       "consulting           774\n",
       "ecommerce            679\n",
       "network_hosting      637\n",
       "public_relations     573\n",
       "hardware             484\n",
       "search               419\n",
       "biotech              375\n",
       "cleantech            339\n",
       "security             205\n",
       "semiconductor        197\n",
       "analytics            109\n",
       "finance               72\n",
       "social                68\n",
       "news                  65\n",
       "music                 51\n",
       "messaging             47\n",
       "legal                 47\n",
       "education             45\n",
       "photo_video           35\n",
       "travel                35\n",
       "health                34\n",
       "medical               27\n",
       "transportation        26\n",
       "manufacturing         22\n",
       "hospitality           16\n",
       "sports                13\n",
       "fashion               12\n",
       "automotive            11\n",
       "real_estate            9\n",
       "design                 6\n",
       "nanotech               5\n",
       "nonprofit              3\n",
       "local                  1\n",
       "government             1\n",
       "Name: category_code, dtype: int64"
      ]
     },
     "execution_count": 256,
     "metadata": {},
     "output_type": "execute_result"
    }
   ],
   "source": [
    "final['category_code'].value_counts()"
   ]
  },
  {
   "cell_type": "code",
   "execution_count": 266,
   "metadata": {},
   "outputs": [
    {
     "data": {
      "text/plain": [
       "False    15916\n",
       "True      2305\n",
       "dtype: int64"
      ]
     },
     "execution_count": 266,
     "metadata": {},
     "output_type": "execute_result"
    }
   ],
   "source": [
    "final.duplicated().value_counts()"
   ]
  },
  {
   "cell_type": "code",
   "execution_count": 269,
   "metadata": {},
   "outputs": [],
   "source": [
    "final.drop_duplicates(inplace = True)"
   ]
  },
  {
   "cell_type": "code",
   "execution_count": 270,
   "metadata": {},
   "outputs": [
    {
     "name": "stdout",
     "output_type": "stream",
     "text": [
      "<class 'pandas.core.frame.DataFrame'>\n",
      "Int64Index: 15916 entries, 0 to 18220\n",
      "Data columns (total 12 columns):\n",
      " #   Column               Non-Null Count  Dtype  \n",
      "---  ------               --------------  -----  \n",
      " 0   company_name         15916 non-null  object \n",
      " 1   address1             15700 non-null  object \n",
      " 2   address2             15514 non-null  object \n",
      " 3   city                 15816 non-null  object \n",
      " 4   state_code           9572 non-null   object \n",
      " 5   country_code         15916 non-null  object \n",
      " 6   latitude             10349 non-null  float64\n",
      " 7   longitude            10349 non-null  float64\n",
      " 8   name                 15916 non-null  object \n",
      " 9   category_code        15219 non-null  object \n",
      " 10  number_of_employees  9097 non-null   float64\n",
      " 11  total_money_raised   15916 non-null  object \n",
      "dtypes: float64(3), object(9)\n",
      "memory usage: 1.6+ MB\n"
     ]
    }
   ],
   "source": [
    "final.info()"
   ]
  },
  {
   "cell_type": "code",
   "execution_count": 271,
   "metadata": {},
   "outputs": [],
   "source": [
    "final.to_csv('companies_an.csv')"
   ]
  },
  {
   "cell_type": "code",
   "execution_count": null,
   "metadata": {},
   "outputs": [],
   "source": []
  },
  {
   "cell_type": "code",
   "execution_count": null,
   "metadata": {},
   "outputs": [],
   "source": []
  }
 ],
 "metadata": {
  "kernelspec": {
   "display_name": "Python 3",
   "language": "python",
   "name": "python3"
  },
  "language_info": {
   "codemirror_mode": {
    "name": "ipython",
    "version": 3
   },
   "file_extension": ".py",
   "mimetype": "text/x-python",
   "name": "python",
   "nbconvert_exporter": "python",
   "pygments_lexer": "ipython3",
   "version": "3.7.6"
  }
 },
 "nbformat": 4,
 "nbformat_minor": 4
}
